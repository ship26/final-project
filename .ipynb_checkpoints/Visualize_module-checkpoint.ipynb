{
 "cells": [
  {
   "cell_type": "code",
   "execution_count": 72,
   "id": "658287e9",
   "metadata": {},
   "outputs": [],
   "source": [
    "# requirements\n",
    "import schedule\n",
    "from datetime import datetime, timedelta \n",
    "import import_ipynb\n",
    "import numpy as np\n",
    "import pandas as pd\n",
    "from data_crawl_module import Crawler\n",
    "from SC_module import SentimentClassifier as sc\n",
    "import matplotlib.pyplot as plt"
   ]
  },
  {
   "cell_type": "code",
   "execution_count": 1,
   "id": "6839a7d9",
   "metadata": {},
   "outputs": [
    {
     "ename": "NameError",
     "evalue": "name 'datetime' is not defined",
     "output_type": "error",
     "traceback": [
      "\u001b[1;31m---------------------------------------------------------------------------\u001b[0m",
      "\u001b[1;31mNameError\u001b[0m                                 Traceback (most recent call last)",
      "\u001b[1;32m~\\AppData\\Local\\Temp/ipykernel_20200/3052468330.py\u001b[0m in \u001b[0;36m<module>\u001b[1;34m\u001b[0m\n\u001b[1;32m----> 1\u001b[1;33m \u001b[1;32mclass\u001b[0m \u001b[0mEmotional_info\u001b[0m\u001b[1;33m:\u001b[0m\u001b[1;33m\u001b[0m\u001b[1;33m\u001b[0m\u001b[0m\n\u001b[0m\u001b[0;32m      2\u001b[0m     \u001b[0mtoday\u001b[0m \u001b[1;33m=\u001b[0m \u001b[0mstr\u001b[0m\u001b[1;33m(\u001b[0m\u001b[0mdatetime\u001b[0m\u001b[1;33m.\u001b[0m\u001b[0mnow\u001b[0m\u001b[1;33m(\u001b[0m\u001b[1;33m)\u001b[0m\u001b[1;33m)\u001b[0m\u001b[1;33m[\u001b[0m\u001b[1;33m:\u001b[0m\u001b[1;36m10\u001b[0m\u001b[1;33m]\u001b[0m\u001b[1;33m\u001b[0m\u001b[1;33m\u001b[0m\u001b[0m\n\u001b[0;32m      3\u001b[0m \u001b[1;33m\u001b[0m\u001b[0m\n\u001b[0;32m      4\u001b[0m     \u001b[1;32mdef\u001b[0m \u001b[0m__init__\u001b[0m\u001b[1;33m(\u001b[0m\u001b[0mself\u001b[0m\u001b[1;33m,\u001b[0m \u001b[0mDataFrame\u001b[0m\u001b[1;33m)\u001b[0m\u001b[1;33m:\u001b[0m\u001b[1;33m\u001b[0m\u001b[1;33m\u001b[0m\u001b[0m\n\u001b[0;32m      5\u001b[0m         \u001b[0mself\u001b[0m\u001b[1;33m.\u001b[0m\u001b[0mDataFrame\u001b[0m \u001b[1;33m=\u001b[0m \u001b[0mDataFrame\u001b[0m\u001b[1;33m\u001b[0m\u001b[1;33m\u001b[0m\u001b[0m\n",
      "\u001b[1;32m~\\AppData\\Local\\Temp/ipykernel_20200/3052468330.py\u001b[0m in \u001b[0;36mEmotional_info\u001b[1;34m()\u001b[0m\n\u001b[0;32m      1\u001b[0m \u001b[1;32mclass\u001b[0m \u001b[0mEmotional_info\u001b[0m\u001b[1;33m:\u001b[0m\u001b[1;33m\u001b[0m\u001b[1;33m\u001b[0m\u001b[0m\n\u001b[1;32m----> 2\u001b[1;33m     \u001b[0mtoday\u001b[0m \u001b[1;33m=\u001b[0m \u001b[0mstr\u001b[0m\u001b[1;33m(\u001b[0m\u001b[0mdatetime\u001b[0m\u001b[1;33m.\u001b[0m\u001b[0mnow\u001b[0m\u001b[1;33m(\u001b[0m\u001b[1;33m)\u001b[0m\u001b[1;33m)\u001b[0m\u001b[1;33m[\u001b[0m\u001b[1;33m:\u001b[0m\u001b[1;36m10\u001b[0m\u001b[1;33m]\u001b[0m\u001b[1;33m\u001b[0m\u001b[1;33m\u001b[0m\u001b[0m\n\u001b[0m\u001b[0;32m      3\u001b[0m \u001b[1;33m\u001b[0m\u001b[0m\n\u001b[0;32m      4\u001b[0m     \u001b[1;32mdef\u001b[0m \u001b[0m__init__\u001b[0m\u001b[1;33m(\u001b[0m\u001b[0mself\u001b[0m\u001b[1;33m,\u001b[0m \u001b[0mDataFrame\u001b[0m\u001b[1;33m)\u001b[0m\u001b[1;33m:\u001b[0m\u001b[1;33m\u001b[0m\u001b[1;33m\u001b[0m\u001b[0m\n\u001b[0;32m      5\u001b[0m         \u001b[0mself\u001b[0m\u001b[1;33m.\u001b[0m\u001b[0mDataFrame\u001b[0m \u001b[1;33m=\u001b[0m \u001b[0mDataFrame\u001b[0m\u001b[1;33m\u001b[0m\u001b[1;33m\u001b[0m\u001b[0m\n",
      "\u001b[1;31mNameError\u001b[0m: name 'datetime' is not defined"
     ]
    }
   ],
   "source": [
    "class Emotional_info:\n",
    "    today = str(datetime.now())[:10]\n",
    "    \n",
    "    def __init__(self, DataFrame):\n",
    "        self.DataFrame = DataFrame\n",
    "                \n",
    "    def ratio(self):\n",
    "        DataFrame = self.DataFrame\n",
    "        plt.show()\n",
    "        \n",
    "        ratio_lab0 = len(DataFrame[DataFrame['emotion']==\"부정\"]) / len(DataFrame) * 100\n",
    "        ratio_lab1 = len(DataFrame[DataFrame['emotion']==\"긍정\"]) / len(DataFrame) * 100\n",
    "        ratio_lab2 = len(DataFrame[DataFrame['emotion']==\"중립\"]) / len(DataFrame) * 100\n",
    "        \n",
    "        ratio = [ratio_lab0,ratio_lab1,ratio_lab2]\n",
    "        labels = ['Negative', 'Positive', 'Neutral']\n",
    "        explode = [0, 0, 0]\n",
    "        colors = ['#ffc000', '#ff9999','#8fd9b6']\n",
    "        wedgeprops={'width': 0.7, 'edgecolor': 'w', 'linewidth': 5}\n",
    "        plt.pie(ratio, labels=labels, autopct='%.1f%%', explode=explode, counterclock=False,shadow=True, colors=colors, wedgeprops=wedgeprops)\n",
    "        #plt.title(\"Today's emotional ratio\")\n",
    "        #plt.show()\n",
    "        \n",
    "        # save img and stop function runnning.\n",
    "        return plt.savefig(f'daily_news/all/pie_graph.PNG')\n",
    "    \n",
    "\n",
    "    def bar(self):\n",
    "        DataFrame = self.DataFrame\n",
    "        plt.show()\n",
    "        \n",
    "        labels = ['Negative', 'Positive', 'Neutral']\n",
    "        values = [len(DataFrame[DataFrame['emotion']==\"부정\"]), len(DataFrame[DataFrame['emotion']==\"긍정\"]), len(DataFrame[DataFrame['emotion']==\"중립\"])]\n",
    "        colors = ['#ffc000', '#ff9999','#8fd9b6']\n",
    "        plt.bar(labels, values, color=colors, edgecolor='black')\n",
    "        plt.xticks(labels)\n",
    "        #plt.title(\"Today's emotional count\")\n",
    "        #plt.show()\n",
    "            \n",
    "        # save img and stop function runnning.\n",
    "        return plt.savefig(f'daily_news/all/bar_graph.PNG')\n",
    "        \n",
    "    def stock_ratio(self, stock_cd):\n",
    "        DataFrame = self.DataFrame\n",
    "        \n",
    "        ratio_lab0 = len(DataFrame[DataFrame['emotion']==\"부정\"]) / len(DataFrame) * 100\n",
    "        ratio_lab1 = len(DataFrame[DataFrame['emotion']==\"긍정\"]) / len(DataFrame) * 100\n",
    "        ratio_lab2 = len(DataFrame[DataFrame['emotion']==\"중립\"]) / len(DataFrame) * 100\n",
    "        \n",
    "        ratio = [ratio_lab0,ratio_lab1,ratio_lab2]\n",
    "        labels = ['Negative', 'Positive', 'Neutral']\n",
    "        explode = [0, 0, 0]\n",
    "        colors = ['#ffc000', '#ff9999','#8fd9b6']\n",
    "        wedgeprops={'width': 0.7, 'edgecolor': 'w', 'linewidth': 5}\n",
    "        plt.pie(ratio, labels=labels, autopct='%.1f%%', explode=explode, counterclock=False,shadow=True, colors=colors, wedgeprops=wedgeprops)\n",
    "        #plt.title(f\"{stock_cd}'s emotional ratio\")\n",
    "        plt.show()\n",
    "        \n",
    "        # save img and stop function runnning.\n",
    "        return plt.savefig(f'img/{stock_cd}_ratio.png')\n",
    "    \n",
    "\n",
    "    def stock_bar(self, stock_cd):\n",
    "        DataFrame = self.DataFrame\n",
    "        \n",
    "        labels = ['Negative', 'Positive', 'Neutral']\n",
    "        values = [len(DataFrame[DataFrame['emotion']==\"부정\"]), len(DataFrame[DataFrame['emotion']==\"긍정\"]), len(DataFrame[DataFrame['emotion']==\"중립\"])]\n",
    "        colors = ['#ffc000', '#ff9999','#8fd9b6']\n",
    "        plt.bar(labels, values, color=colors, edgecolor='black')\n",
    "        plt.xticks(labels)\n",
    "        #plt.title(f\"{stock_cd}'s emotional count\")\n",
    "        plt.show()\n",
    "            \n",
    "        # save img and stop function runnning.\n",
    "        return plt.savefig(f'img/{stock_cd}_count.png')\n",
    "    "
   ]
  },
  {
   "cell_type": "code",
   "execution_count": null,
   "id": "ee379140",
   "metadata": {},
   "outputs": [],
   "source": []
  }
 ],
 "metadata": {
  "kernelspec": {
   "display_name": "Python 3 (ipykernel)",
   "language": "python",
   "name": "python3"
  },
  "language_info": {
   "codemirror_mode": {
    "name": "ipython",
    "version": 3
   },
   "file_extension": ".py",
   "mimetype": "text/x-python",
   "name": "python",
   "nbconvert_exporter": "python",
   "pygments_lexer": "ipython3",
   "version": "3.9.7"
  }
 },
 "nbformat": 4,
 "nbformat_minor": 5
}
