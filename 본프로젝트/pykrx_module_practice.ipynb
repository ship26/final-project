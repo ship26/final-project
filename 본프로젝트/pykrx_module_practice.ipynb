{
 "cells": [
  {
   "cell_type": "code",
   "execution_count": 2,
   "id": "192ec01e",
   "metadata": {},
   "outputs": [
    {
     "name": "stdout",
     "output_type": "stream",
     "text": [
      "Collecting pykrx\n",
      "  Downloading pykrx-1.0.37-py3-none-any.whl (97 kB)\n",
      "     ---------------------------------------- 97.0/97.0 kB 5.4 MB/s eta 0:00:00\n",
      "Collecting datetime\n",
      "  Downloading DateTime-4.5-py2.py3-none-any.whl (52 kB)\n",
      "     ---------------------------------------- 52.0/52.0 kB ? eta 0:00:00\n",
      "Requirement already satisfied: requests in c:\\users\\yusinn\\anaconda3\\lib\\site-packages (from pykrx) (2.18.4)\n",
      "Requirement already satisfied: numpy in c:\\users\\yusinn\\anaconda3\\lib\\site-packages (from pykrx) (1.19.5)\n",
      "Requirement already satisfied: pandas in c:\\users\\yusinn\\anaconda3\\lib\\site-packages (from pykrx) (1.3.4)\n",
      "Collecting deprecated\n",
      "  Downloading Deprecated-1.2.13-py2.py3-none-any.whl (9.6 kB)\n",
      "Requirement already satisfied: xlrd in c:\\users\\yusinn\\anaconda3\\lib\\site-packages (from pykrx) (2.0.1)\n",
      "Requirement already satisfied: zope.interface in c:\\users\\yusinn\\anaconda3\\lib\\site-packages (from datetime->pykrx) (5.4.0)\n",
      "Requirement already satisfied: pytz in c:\\users\\yusinn\\anaconda3\\lib\\site-packages (from datetime->pykrx) (2021.3)\n",
      "Requirement already satisfied: wrapt<2,>=1.10 in c:\\users\\yusinn\\anaconda3\\lib\\site-packages (from deprecated->pykrx) (1.12.1)\n",
      "Requirement already satisfied: python-dateutil>=2.7.3 in c:\\users\\yusinn\\anaconda3\\lib\\site-packages (from pandas->pykrx) (2.8.2)\n",
      "Requirement already satisfied: idna<2.7,>=2.5 in c:\\users\\yusinn\\anaconda3\\lib\\site-packages (from requests->pykrx) (2.6)\n",
      "Requirement already satisfied: urllib3<1.23,>=1.21.1 in c:\\users\\yusinn\\anaconda3\\lib\\site-packages (from requests->pykrx) (1.22)\n",
      "Requirement already satisfied: certifi>=2017.4.17 in c:\\users\\yusinn\\anaconda3\\lib\\site-packages (from requests->pykrx) (2021.10.8)\n",
      "Requirement already satisfied: chardet<3.1.0,>=3.0.2 in c:\\users\\yusinn\\anaconda3\\lib\\site-packages (from requests->pykrx) (3.0.4)\n",
      "Requirement already satisfied: six>=1.5 in c:\\users\\yusinn\\anaconda3\\lib\\site-packages (from python-dateutil>=2.7.3->pandas->pykrx) (1.15.0)\n",
      "Requirement already satisfied: setuptools in c:\\users\\yusinn\\anaconda3\\lib\\site-packages (from zope.interface->datetime->pykrx) (58.0.4)\n",
      "Installing collected packages: deprecated, datetime, pykrx\n",
      "Successfully installed datetime-4.5 deprecated-1.2.13 pykrx-1.0.37\n"
     ]
    }
   ],
   "source": [
    "! pip install pykrx"
   ]
  },
  {
   "cell_type": "code",
   "execution_count": 6,
   "id": "270d9b7f",
   "metadata": {
    "scrolled": true
   },
   "outputs": [],
   "source": [
    "from pykrx import stock"
   ]
  },
  {
   "cell_type": "markdown",
   "id": "fc3189e4",
   "metadata": {},
   "source": [
    "# 코스피 정보"
   ]
  },
  {
   "cell_type": "code",
   "execution_count": 8,
   "id": "7d5a9c06",
   "metadata": {},
   "outputs": [
    {
     "name": "stdout",
     "output_type": "stream",
     "text": [
      "1001 코스피\n",
      "1002 코스피 대형주\n",
      "1003 코스피 중형주\n",
      "1004 코스피 소형주\n",
      "1005 음식료품\n",
      "1006 섬유의복\n",
      "1007 종이목재\n",
      "1008 화학\n",
      "1009 의약품\n",
      "1010 비금속광물\n",
      "1011 철강금속\n",
      "1012 기계\n",
      "1013 전기전자\n",
      "1014 의료정밀\n",
      "1015 운수장비\n",
      "1016 유통업\n",
      "1017 전기가스업\n",
      "1018 건설업\n",
      "1019 운수창고업\n",
      "1020 통신업\n",
      "1021 금융업\n",
      "1022 \n",
      "1024 증권\n",
      "1025 보험\n",
      "1026 서비스업\n",
      "1027 제조업\n",
      "1028 코스피 200\n",
      "1034 코스피 100\n",
      "1035 코스피 50\n",
      "1150 코스피 200 커뮤니케이션서비스\n",
      "1151 코스피 200 건설\n",
      "1152 코스피 200 중공업\n",
      "1153 코스피 200 철강/소재\n",
      "1154 코스피 200 에너지/화학\n",
      "1155 코스피 200 정보기술\n",
      "1156 코스피 200 금융\n",
      "1157 코스피 200 생활소비재\n",
      "1158 코스피 200 경기소비재\n",
      "1159 코스피 200 산업재\n",
      "1160 코스피 200 헬스케어\n",
      "1167 코스피 200 중소형주\n",
      "1182 코스피 200 초대형제외 지수\n",
      "1224 코스피 200 비중상한 30%\n",
      "1227 코스피 200 비중상한 25%\n",
      "1232 코스피 200 비중상한 20%\n",
      "1244 코스피200제외 코스피지수\n",
      "1894 코스피 200 TOP 10\n"
     ]
    }
   ],
   "source": [
    "for ticker in stock.get_index_ticker_list():\n",
    "    print(ticker, stock.get_index_ticker_name(ticker))"
   ]
  },
  {
   "cell_type": "code",
   "execution_count": 2,
   "id": "78acf30f",
   "metadata": {
    "scrolled": true
   },
   "outputs": [
    {
     "name": "stdout",
     "output_type": "stream",
     "text": [
      "코스피              시가       고가       저가       종가        거래량           거래대금  \\\n",
      "날짜                                                                         \n",
      "2022-07-14  2316.41  2338.29  2307.69  2322.32  349137973  6539856912394   \n",
      "2022-07-15  2335.12  2337.30  2293.45  2330.98  319675148  7383211368831   \n",
      "2022-07-18  2350.48  2376.50  2344.12  2375.25  324357054  7104661030882   \n",
      "2022-07-19  2367.52  2372.74  2359.59  2370.97  339377650  6556190576633   \n",
      "2022-07-20  2406.29  2410.06  2382.65  2386.85  333329038  7434803856736   \n",
      "2022-07-21  2387.91  2411.96  2387.91  2409.16  295624147  6309070850975   \n",
      "2022-07-22  2405.37  2417.91  2391.48  2393.14  381596729  6973850591019   \n",
      "2022-07-25  2385.65  2412.47  2385.65  2403.69  323090645  5959859115833   \n",
      "2022-07-26  2397.27  2415.39  2395.17  2412.96  415671406  6240741372242   \n",
      "2022-07-27  2412.52  2415.53  2396.19  2415.53  333587637  7049802775578   \n",
      "\n",
      "코스피                   상장시가총액  \n",
      "날짜                            \n",
      "2022-07-14  1829593431864512  \n",
      "2022-07-15  1837255296447759  \n",
      "2022-07-18  1873107660090225  \n",
      "2022-07-19  1869397059664922  \n",
      "2022-07-20  1881643042748411  \n",
      "2022-07-21  1899062118323927  \n",
      "2022-07-22  1886496918197095  \n",
      "2022-07-25  1894263511279219  \n",
      "2022-07-26  1901214430487026  \n",
      "2022-07-27  1903522364034007  \n"
     ]
    }
   ],
   "source": [
    "KOSPI = stock.get_index_ohlcv(\"20200101\", \"20220727\", \"1001\")\n",
    "print(KOSPI.tail(10))"
   ]
  },
  {
   "cell_type": "markdown",
   "id": "1489de02",
   "metadata": {},
   "source": [
    "# 코스닥 정보"
   ]
  },
  {
   "cell_type": "code",
   "execution_count": 3,
   "id": "3d560abf",
   "metadata": {},
   "outputs": [
    {
     "name": "stdout",
     "output_type": "stream",
     "text": [
      "2001 코스닥\n",
      "2002 코스닥 대형주\n",
      "2003 코스닥 중형주\n",
      "2004 코스닥 소형주\n",
      "2012 기타서비스\n",
      "2015 코스닥 IT\n",
      "2024 제조업\n",
      "2026 건설\n",
      "2027 유통\n",
      "2029 운송\n",
      "2031 금융\n",
      "2037 오락·문화\n",
      "2041 통신방송서비스\n",
      "2042 IT S/W & SVC\n",
      "2043 IT H/W\n",
      "2056 음식료·담배\n",
      "2058 섬유·의류\n",
      "2062 종이·목재\n",
      "2063 출판·매체복제\n",
      "2065 화학\n",
      "2066 제약\n",
      "2067 비금속\n",
      "2068 금속\n",
      "2070 기계·장비\n",
      "2072 일반전기전자\n",
      "2074 의료·정밀기기\n",
      "2075 운송장비·부품\n",
      "2077 기타제조\n",
      "2151 통신서비스\n",
      "2152 방송서비스\n",
      "2153 인터넷\n",
      "2154 디지털컨텐츠\n",
      "2155 소프트웨어\n",
      "2156 컴퓨터서비스\n",
      "2157 통신장비\n",
      "2158 정보기기\n",
      "2159 반도체\n",
      "2160 IT부품\n",
      "2181 코스닥 우량기업부\n",
      "2182 코스닥 벤처기업부\n",
      "2183 코스닥 중견기업부\n",
      "2184 코스닥 기술성장기업부\n",
      "2203 코스닥 150\n",
      "2212 코스닥 150 소재\n",
      "2213 코스닥 150 산업재\n",
      "2214 코스닥 150 필수소비재\n",
      "2215 코스닥 150 자유소비재\n",
      "2216 코스닥 150 정보기술\n",
      "2217 코스닥 150 헬스케어\n",
      "2218 코스닥 150 커뮤니케이션서비스\n"
     ]
    }
   ],
   "source": [
    "# ticker_list 받아올 때 기본값이 KOSPI기 때문에 바꿔줌\n",
    "\n",
    "kosdaq_tickers = stock.get_index_ticker_list(market='KOSDAQ')\n",
    "for ticker in kosdaq_tickers:\n",
    "    print(ticker, stock.get_index_ticker_name(ticker))"
   ]
  },
  {
   "cell_type": "code",
   "execution_count": 5,
   "id": "b696d911",
   "metadata": {},
   "outputs": [
    {
     "name": "stdout",
     "output_type": "stream",
     "text": [
      "코스닥             시가      고가      저가      종가        거래량           거래대금  \\\n",
      "날짜                                                                     \n",
      "2022-07-14  762.54  768.13  757.99  766.08  823119558  6300322486021   \n",
      "2022-07-15  768.41  769.29  754.33  762.39  850289830  6235060961124   \n",
      "2022-07-18  770.29  776.72  766.89  776.72  720021009  5831126906358   \n",
      "2022-07-19  773.73  782.33  771.69  782.33  743423519  6177791655721   \n",
      "2022-07-20  792.94  795.92  788.02  790.72  939573292  7152741980281   \n",
      "2022-07-21  792.95  795.67  790.97  795.15  937754661  6900705345692   \n",
      "2022-07-22  796.58  800.65  789.73  789.75  892760423  6130997020762   \n",
      "2022-07-25  787.71  791.25  783.78  789.69  871219511  5494818208643   \n",
      "2022-07-26  788.76  791.01  786.46  789.93  841385906  5373789744343   \n",
      "2022-07-27  789.61  795.81  788.29  795.70  678540939  5162361436354   \n",
      "\n",
      "코스닥                  상장시가총액  \n",
      "날짜                           \n",
      "2022-07-14  334610536948123  \n",
      "2022-07-15  342387086112776  \n",
      "2022-07-18  349013967985744  \n",
      "2022-07-19  351550342875987  \n",
      "2022-07-20  355312983095515  \n",
      "2022-07-21  357733545683863  \n",
      "2022-07-22  355384475657580  \n",
      "2022-07-25  355144878350457  \n",
      "2022-07-26  355173673947398  \n",
      "2022-07-27  357673315428518  \n"
     ]
    }
   ],
   "source": [
    "KOSDAQ = stock.get_index_ohlcv(\"20200101\", \"20220727\", \"2001\")\n",
    "print(KOSDAQ.tail(10))\n",
    "\n",
    "# 등락률 = (오늘 - 어제) / 어제 * 100 "
   ]
  },
  {
   "cell_type": "markdown",
   "id": "ec7ee740",
   "metadata": {},
   "source": [
    "# 부록. 날짜 표현하기"
   ]
  },
  {
   "cell_type": "code",
   "execution_count": null,
   "id": "94bc48fb",
   "metadata": {},
   "outputs": [],
   "source": [
    "import datetime\n",
    "from datetime import timedelta,datetime\n",
    "from pytz import timezone\n",
    "\n",
    "formatting = '%Y-%m-%d'\n",
    "\n",
    "today = datetime.now(timezone('Asia/Seoul'))\n",
    "str_now = datetime.strftime(today,formatting)\n",
    "today_yymmdd = str_now.split('-')\n",
    "\n",
    "td = \"\"\n",
    "for _ in today_yymmdd:\n",
    "    td += _\n",
    "\n",
    "yesterday = today - timedelta(1)\n",
    "str_yesterday = datetime.strftime(yesterday,formatting)\n",
    "yesterday_yymmdd = str_yesterday.split('-')\n",
    "\n",
    "yd = \"\"\n",
    "for _ in yesterday_yymmdd:\n",
    "    yd += _\n",
    "\n",
    "print(yd,td)"
   ]
  },
  {
   "cell_type": "code",
   "execution_count": null,
   "id": "7d63591c",
   "metadata": {},
   "outputs": [],
   "source": []
  }
 ],
 "metadata": {
  "kernelspec": {
   "display_name": "Python 3 (ipykernel)",
   "language": "python",
   "name": "python3"
  },
  "language_info": {
   "codemirror_mode": {
    "name": "ipython",
    "version": 3
   },
   "file_extension": ".py",
   "mimetype": "text/x-python",
   "name": "python",
   "nbconvert_exporter": "python",
   "pygments_lexer": "ipython3",
   "version": "3.9.7"
  }
 },
 "nbformat": 4,
 "nbformat_minor": 5
}
