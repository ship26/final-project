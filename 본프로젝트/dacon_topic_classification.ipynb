{
 "cells": [
  {
   "cell_type": "code",
   "execution_count": null,
   "id": "71d4e394",
   "metadata": {},
   "outputs": [],
   "source": []
  },
  {
   "cell_type": "code",
   "execution_count": 1,
   "id": "bd8a55fe",
   "metadata": {},
   "outputs": [
    {
     "name": "stdout",
     "output_type": "stream",
     "text": [
      "Python 3.8.12\r\n"
     ]
    }
   ],
   "source": [
    "!python --version"
   ]
  },
  {
   "cell_type": "code",
   "execution_count": null,
   "id": "ced6dedf",
   "metadata": {},
   "outputs": [],
   "source": [
    "! pip list"
   ]
  },
  {
   "cell_type": "code",
   "execution_count": 1,
   "id": "e798ef7b",
   "metadata": {},
   "outputs": [
    {
     "name": "stdout",
     "output_type": "stream",
     "text": [
      "\u001b[33mWARNING: Ignoring invalid distribution -kenizers (/home/ubuntu/anaconda3/envs/python3/lib/python3.8/site-packages)\u001b[0m\u001b[33m\n",
      "\u001b[0m\u001b[33mWARNING: Ignoring invalid distribution -ransformers (/home/ubuntu/anaconda3/envs/python3/lib/python3.8/site-packages)\u001b[0m\u001b[33m\n",
      "\u001b[0m\u001b[33mWARNING: Ignoring invalid distribution -okenizers (/home/ubuntu/anaconda3/envs/python3/lib/python3.8/site-packages)\u001b[0m\u001b[33m\n",
      "\u001b[0m\u001b[33mWARNING: Ignoring invalid distribution -kenizers (/home/ubuntu/anaconda3/envs/python3/lib/python3.8/site-packages)\u001b[0m\u001b[33m\n",
      "\u001b[0m\u001b[33mWARNING: Ignoring invalid distribution - (/home/ubuntu/anaconda3/envs/python3/lib/python3.8/site-packages)\u001b[0m\u001b[33m\n",
      "\u001b[0m\u001b[33mWARNING: Ignoring invalid distribution -eras (/home/ubuntu/anaconda3/envs/python3/lib/python3.8/site-packages)\u001b[0m\u001b[33m\n",
      "\u001b[0m\u001b[33mWARNING: Ignoring invalid distribution -entencepiece (/home/ubuntu/anaconda3/envs/python3/lib/python3.8/site-packages)\u001b[0m\u001b[33m\n",
      "\u001b[0m\u001b[33mWARNING: Ignoring invalid distribution -ensorflow (/home/ubuntu/anaconda3/envs/python3/lib/python3.8/site-packages)\u001b[0m\u001b[33m\n",
      "\u001b[0m\u001b[33mWARNING: Ignoring invalid distribution -kenizers (/home/ubuntu/anaconda3/envs/python3/lib/python3.8/site-packages)\u001b[0m\u001b[33m\n",
      "\u001b[0m\u001b[33mWARNING: Ignoring invalid distribution -ransformers (/home/ubuntu/anaconda3/envs/python3/lib/python3.8/site-packages)\u001b[0m\u001b[33m\n",
      "\u001b[0m\u001b[33mWARNING: Ignoring invalid distribution -okenizers (/home/ubuntu/anaconda3/envs/python3/lib/python3.8/site-packages)\u001b[0m\u001b[33m\n",
      "\u001b[0m\u001b[33mWARNING: Ignoring invalid distribution -kenizers (/home/ubuntu/anaconda3/envs/python3/lib/python3.8/site-packages)\u001b[0m\u001b[33m\n",
      "\u001b[0m\u001b[33mWARNING: Ignoring invalid distribution - (/home/ubuntu/anaconda3/envs/python3/lib/python3.8/site-packages)\u001b[0m\u001b[33m\n",
      "\u001b[0m\u001b[33mWARNING: Ignoring invalid distribution -eras (/home/ubuntu/anaconda3/envs/python3/lib/python3.8/site-packages)\u001b[0m\u001b[33m\n",
      "\u001b[0m\u001b[33mWARNING: Ignoring invalid distribution -entencepiece (/home/ubuntu/anaconda3/envs/python3/lib/python3.8/site-packages)\u001b[0m\u001b[33m\n",
      "\u001b[0m\u001b[33mWARNING: Ignoring invalid distribution -ensorflow (/home/ubuntu/anaconda3/envs/python3/lib/python3.8/site-packages)\u001b[0m\u001b[33m\n",
      "\u001b[0mRequirement already satisfied: mxnet in /home/ubuntu/anaconda3/envs/python3/lib/python3.8/site-packages (1.9.1)\n",
      "Requirement already satisfied: numpy<2.0.0,>1.16.0 in /home/ubuntu/anaconda3/envs/python3/lib/python3.8/site-packages (from mxnet) (1.20.3)\n",
      "Requirement already satisfied: requests<3,>=2.20.0 in /home/ubuntu/anaconda3/envs/python3/lib/python3.8/site-packages (from mxnet) (2.26.0)\n",
      "Requirement already satisfied: graphviz<0.9.0,>=0.8.1 in /home/ubuntu/anaconda3/envs/python3/lib/python3.8/site-packages (from mxnet) (0.8.4)\n",
      "Requirement already satisfied: charset-normalizer~=2.0.0 in /home/ubuntu/anaconda3/envs/python3/lib/python3.8/site-packages (from requests<3,>=2.20.0->mxnet) (2.0.8)\n",
      "Requirement already satisfied: idna<4,>=2.5 in /home/ubuntu/anaconda3/envs/python3/lib/python3.8/site-packages (from requests<3,>=2.20.0->mxnet) (3.1)\n",
      "Requirement already satisfied: certifi>=2017.4.17 in /home/ubuntu/anaconda3/envs/python3/lib/python3.8/site-packages (from requests<3,>=2.20.0->mxnet) (2022.5.18.1)\n",
      "Requirement already satisfied: urllib3<1.27,>=1.21.1 in /home/ubuntu/anaconda3/envs/python3/lib/python3.8/site-packages (from requests<3,>=2.20.0->mxnet) (1.26.7)\n",
      "\u001b[33mWARNING: Ignoring invalid distribution -kenizers (/home/ubuntu/anaconda3/envs/python3/lib/python3.8/site-packages)\u001b[0m\u001b[33m\n",
      "\u001b[0m\u001b[33mWARNING: Ignoring invalid distribution -ransformers (/home/ubuntu/anaconda3/envs/python3/lib/python3.8/site-packages)\u001b[0m\u001b[33m\n",
      "\u001b[0m\u001b[33mWARNING: Ignoring invalid distribution -okenizers (/home/ubuntu/anaconda3/envs/python3/lib/python3.8/site-packages)\u001b[0m\u001b[33m\n",
      "\u001b[0m\u001b[33mWARNING: Ignoring invalid distribution -kenizers (/home/ubuntu/anaconda3/envs/python3/lib/python3.8/site-packages)\u001b[0m\u001b[33m\n",
      "\u001b[0m\u001b[33mWARNING: Ignoring invalid distribution - (/home/ubuntu/anaconda3/envs/python3/lib/python3.8/site-packages)\u001b[0m\u001b[33m\n",
      "\u001b[0m\u001b[33mWARNING: Ignoring invalid distribution -eras (/home/ubuntu/anaconda3/envs/python3/lib/python3.8/site-packages)\u001b[0m\u001b[33m\n",
      "\u001b[0m\u001b[33mWARNING: Ignoring invalid distribution -entencepiece (/home/ubuntu/anaconda3/envs/python3/lib/python3.8/site-packages)\u001b[0m\u001b[33m\n",
      "\u001b[0m\u001b[33mWARNING: Ignoring invalid distribution -ensorflow (/home/ubuntu/anaconda3/envs/python3/lib/python3.8/site-packages)\u001b[0m\u001b[33m\n",
      "\u001b[0m\u001b[33mWARNING: Ignoring invalid distribution -kenizers (/home/ubuntu/anaconda3/envs/python3/lib/python3.8/site-packages)\u001b[0m\u001b[33m\n",
      "\u001b[0m\u001b[33mWARNING: Ignoring invalid distribution -ransformers (/home/ubuntu/anaconda3/envs/python3/lib/python3.8/site-packages)\u001b[0m\u001b[33m\n",
      "\u001b[0m\u001b[33mWARNING: Ignoring invalid distribution -okenizers (/home/ubuntu/anaconda3/envs/python3/lib/python3.8/site-packages)\u001b[0m\u001b[33m\n",
      "\u001b[0m\u001b[33mWARNING: Ignoring invalid distribution -kenizers (/home/ubuntu/anaconda3/envs/python3/lib/python3.8/site-packages)\u001b[0m\u001b[33m\n",
      "\u001b[0m\u001b[33mWARNING: Ignoring invalid distribution - (/home/ubuntu/anaconda3/envs/python3/lib/python3.8/site-packages)\u001b[0m\u001b[33m\n",
      "\u001b[0m\u001b[33mWARNING: Ignoring invalid distribution -eras (/home/ubuntu/anaconda3/envs/python3/lib/python3.8/site-packages)\u001b[0m\u001b[33m\n",
      "\u001b[0m\u001b[33mWARNING: Ignoring invalid distribution -entencepiece (/home/ubuntu/anaconda3/envs/python3/lib/python3.8/site-packages)\u001b[0m\u001b[33m\n",
      "\u001b[0m\u001b[33mWARNING: Ignoring invalid distribution -ensorflow (/home/ubuntu/anaconda3/envs/python3/lib/python3.8/site-packages)\u001b[0m\u001b[33m\n",
      "\u001b[0m\u001b[33mWARNING: Ignoring invalid distribution -kenizers (/home/ubuntu/anaconda3/envs/python3/lib/python3.8/site-packages)\u001b[0m\u001b[33m\n",
      "\u001b[0m\u001b[33mWARNING: Ignoring invalid distribution -ransformers (/home/ubuntu/anaconda3/envs/python3/lib/python3.8/site-packages)\u001b[0m\u001b[33m\n",
      "\u001b[0m\u001b[33mWARNING: Ignoring invalid distribution -okenizers (/home/ubuntu/anaconda3/envs/python3/lib/python3.8/site-packages)\u001b[0m\u001b[33m\n",
      "\u001b[0m\u001b[33mWARNING: Ignoring invalid distribution -kenizers (/home/ubuntu/anaconda3/envs/python3/lib/python3.8/site-packages)\u001b[0m\u001b[33m\n",
      "\u001b[0m\u001b[33mWARNING: Ignoring invalid distribution - (/home/ubuntu/anaconda3/envs/python3/lib/python3.8/site-packages)\u001b[0m\u001b[33m\n",
      "\u001b[0m\u001b[33mWARNING: Ignoring invalid distribution -eras (/home/ubuntu/anaconda3/envs/python3/lib/python3.8/site-packages)\u001b[0m\u001b[33m\n",
      "\u001b[0m\u001b[33mWARNING: Ignoring invalid distribution -entencepiece (/home/ubuntu/anaconda3/envs/python3/lib/python3.8/site-packages)\u001b[0m\u001b[33m\n",
      "\u001b[0m\u001b[33mWARNING: Ignoring invalid distribution -ensorflow (/home/ubuntu/anaconda3/envs/python3/lib/python3.8/site-packages)\u001b[0m\u001b[33m\n",
      "\u001b[0m\u001b[33mWARNING: Ignoring invalid distribution -kenizers (/home/ubuntu/anaconda3/envs/python3/lib/python3.8/site-packages)\u001b[0m\u001b[33m\n",
      "\u001b[0m\u001b[33mWARNING: Ignoring invalid distribution -ransformers (/home/ubuntu/anaconda3/envs/python3/lib/python3.8/site-packages)\u001b[0m\u001b[33m\n",
      "\u001b[0m\u001b[33mWARNING: Ignoring invalid distribution -okenizers (/home/ubuntu/anaconda3/envs/python3/lib/python3.8/site-packages)\u001b[0m\u001b[33m\n",
      "\u001b[0m\u001b[33mWARNING: Ignoring invalid distribution -kenizers (/home/ubuntu/anaconda3/envs/python3/lib/python3.8/site-packages)\u001b[0m\u001b[33m\n",
      "\u001b[0m\u001b[33mWARNING: Ignoring invalid distribution - (/home/ubuntu/anaconda3/envs/python3/lib/python3.8/site-packages)\u001b[0m\u001b[33m\n",
      "\u001b[0m\u001b[33mWARNING: Ignoring invalid distribution -eras (/home/ubuntu/anaconda3/envs/python3/lib/python3.8/site-packages)\u001b[0m\u001b[33m\n",
      "\u001b[0m\u001b[33mWARNING: Ignoring invalid distribution -entencepiece (/home/ubuntu/anaconda3/envs/python3/lib/python3.8/site-packages)\u001b[0m\u001b[33m\n",
      "\u001b[0m\u001b[33mWARNING: Ignoring invalid distribution -ensorflow (/home/ubuntu/anaconda3/envs/python3/lib/python3.8/site-packages)\u001b[0m\u001b[33m\n",
      "\u001b[0m\u001b[33mWARNING: Ignoring invalid distribution -kenizers (/home/ubuntu/anaconda3/envs/python3/lib/python3.8/site-packages)\u001b[0m\u001b[33m\n",
      "\u001b[0m\u001b[33mWARNING: Ignoring invalid distribution -ransformers (/home/ubuntu/anaconda3/envs/python3/lib/python3.8/site-packages)\u001b[0m\u001b[33m\n",
      "\u001b[0m\u001b[33mWARNING: Ignoring invalid distribution -okenizers (/home/ubuntu/anaconda3/envs/python3/lib/python3.8/site-packages)\u001b[0m\u001b[33m\n",
      "\u001b[0m\u001b[33mWARNING: Ignoring invalid distribution -kenizers (/home/ubuntu/anaconda3/envs/python3/lib/python3.8/site-packages)\u001b[0m\u001b[33m\n",
      "\u001b[0m\u001b[33mWARNING: Ignoring invalid distribution - (/home/ubuntu/anaconda3/envs/python3/lib/python3.8/site-packages)\u001b[0m\u001b[33m\n",
      "\u001b[0m\u001b[33mWARNING: Ignoring invalid distribution -eras (/home/ubuntu/anaconda3/envs/python3/lib/python3.8/site-packages)\u001b[0m\u001b[33m\n",
      "\u001b[0m\u001b[33mWARNING: Ignoring invalid distribution -entencepiece (/home/ubuntu/anaconda3/envs/python3/lib/python3.8/site-packages)\u001b[0m\u001b[33m\n",
      "\u001b[0m\u001b[33mWARNING: Ignoring invalid distribution -ensorflow (/home/ubuntu/anaconda3/envs/python3/lib/python3.8/site-packages)\u001b[0m\u001b[33m\n",
      "\u001b[0m\u001b[33mWARNING: Ignoring invalid distribution -kenizers (/home/ubuntu/anaconda3/envs/python3/lib/python3.8/site-packages)\u001b[0m\u001b[33m\n"
     ]
    },
    {
     "name": "stdout",
     "output_type": "stream",
     "text": [
      "\u001b[0m\u001b[33mWARNING: Ignoring invalid distribution -ransformers (/home/ubuntu/anaconda3/envs/python3/lib/python3.8/site-packages)\u001b[0m\u001b[33m\n",
      "\u001b[0m\u001b[33mWARNING: Ignoring invalid distribution -okenizers (/home/ubuntu/anaconda3/envs/python3/lib/python3.8/site-packages)\u001b[0m\u001b[33m\n",
      "\u001b[0m\u001b[33mWARNING: Ignoring invalid distribution -kenizers (/home/ubuntu/anaconda3/envs/python3/lib/python3.8/site-packages)\u001b[0m\u001b[33m\n",
      "\u001b[0m\u001b[33mWARNING: Ignoring invalid distribution - (/home/ubuntu/anaconda3/envs/python3/lib/python3.8/site-packages)\u001b[0m\u001b[33m\n",
      "\u001b[0m\u001b[33mWARNING: Ignoring invalid distribution -eras (/home/ubuntu/anaconda3/envs/python3/lib/python3.8/site-packages)\u001b[0m\u001b[33m\n",
      "\u001b[0m\u001b[33mWARNING: Ignoring invalid distribution -entencepiece (/home/ubuntu/anaconda3/envs/python3/lib/python3.8/site-packages)\u001b[0m\u001b[33m\n",
      "\u001b[0m\u001b[33mWARNING: Ignoring invalid distribution -ensorflow (/home/ubuntu/anaconda3/envs/python3/lib/python3.8/site-packages)\u001b[0m\u001b[33m\n",
      "\u001b[0mRequirement already satisfied: gluonnlp in /home/ubuntu/anaconda3/envs/python3/lib/python3.8/site-packages (0.10.0)\n",
      "Requirement already satisfied: pandas in /home/ubuntu/anaconda3/envs/python3/lib/python3.8/site-packages (1.3.4)\n",
      "Requirement already satisfied: tqdm in /home/ubuntu/anaconda3/envs/python3/lib/python3.8/site-packages (4.62.3)\n",
      "Requirement already satisfied: packaging in /home/ubuntu/anaconda3/envs/python3/lib/python3.8/site-packages (from gluonnlp) (21.3)\n",
      "Requirement already satisfied: numpy>=1.16.0 in /home/ubuntu/anaconda3/envs/python3/lib/python3.8/site-packages (from gluonnlp) (1.20.3)\n",
      "Requirement already satisfied: cython in /home/ubuntu/anaconda3/envs/python3/lib/python3.8/site-packages (from gluonnlp) (0.29.24)\n",
      "Requirement already satisfied: python-dateutil>=2.7.3 in /home/ubuntu/anaconda3/envs/python3/lib/python3.8/site-packages (from pandas) (2.8.2)\n",
      "Requirement already satisfied: pytz>=2017.3 in /home/ubuntu/anaconda3/envs/python3/lib/python3.8/site-packages (from pandas) (2021.3)\n",
      "Requirement already satisfied: six>=1.5 in /home/ubuntu/anaconda3/envs/python3/lib/python3.8/site-packages (from python-dateutil>=2.7.3->pandas) (1.16.0)\n",
      "Requirement already satisfied: pyparsing!=3.0.5,>=2.0.2 in /home/ubuntu/anaconda3/envs/python3/lib/python3.8/site-packages (from packaging->gluonnlp) (3.0.6)\n",
      "\u001b[33mWARNING: Ignoring invalid distribution -kenizers (/home/ubuntu/anaconda3/envs/python3/lib/python3.8/site-packages)\u001b[0m\u001b[33m\n",
      "\u001b[0m\u001b[33mWARNING: Ignoring invalid distribution -ransformers (/home/ubuntu/anaconda3/envs/python3/lib/python3.8/site-packages)\u001b[0m\u001b[33m\n",
      "\u001b[0m\u001b[33mWARNING: Ignoring invalid distribution -okenizers (/home/ubuntu/anaconda3/envs/python3/lib/python3.8/site-packages)\u001b[0m\u001b[33m\n",
      "\u001b[0m\u001b[33mWARNING: Ignoring invalid distribution -kenizers (/home/ubuntu/anaconda3/envs/python3/lib/python3.8/site-packages)\u001b[0m\u001b[33m\n",
      "\u001b[0m\u001b[33mWARNING: Ignoring invalid distribution - (/home/ubuntu/anaconda3/envs/python3/lib/python3.8/site-packages)\u001b[0m\u001b[33m\n",
      "\u001b[0m\u001b[33mWARNING: Ignoring invalid distribution -eras (/home/ubuntu/anaconda3/envs/python3/lib/python3.8/site-packages)\u001b[0m\u001b[33m\n",
      "\u001b[0m\u001b[33mWARNING: Ignoring invalid distribution -entencepiece (/home/ubuntu/anaconda3/envs/python3/lib/python3.8/site-packages)\u001b[0m\u001b[33m\n",
      "\u001b[0m\u001b[33mWARNING: Ignoring invalid distribution -ensorflow (/home/ubuntu/anaconda3/envs/python3/lib/python3.8/site-packages)\u001b[0m\u001b[33m\n",
      "\u001b[0m\u001b[33mWARNING: Ignoring invalid distribution -kenizers (/home/ubuntu/anaconda3/envs/python3/lib/python3.8/site-packages)\u001b[0m\u001b[33m\n",
      "\u001b[0m\u001b[33mWARNING: Ignoring invalid distribution -ransformers (/home/ubuntu/anaconda3/envs/python3/lib/python3.8/site-packages)\u001b[0m\u001b[33m\n",
      "\u001b[0m\u001b[33mWARNING: Ignoring invalid distribution -okenizers (/home/ubuntu/anaconda3/envs/python3/lib/python3.8/site-packages)\u001b[0m\u001b[33m\n",
      "\u001b[0m\u001b[33mWARNING: Ignoring invalid distribution -kenizers (/home/ubuntu/anaconda3/envs/python3/lib/python3.8/site-packages)\u001b[0m\u001b[33m\n",
      "\u001b[0m\u001b[33mWARNING: Ignoring invalid distribution - (/home/ubuntu/anaconda3/envs/python3/lib/python3.8/site-packages)\u001b[0m\u001b[33m\n",
      "\u001b[0m\u001b[33mWARNING: Ignoring invalid distribution -eras (/home/ubuntu/anaconda3/envs/python3/lib/python3.8/site-packages)\u001b[0m\u001b[33m\n",
      "\u001b[0m\u001b[33mWARNING: Ignoring invalid distribution -entencepiece (/home/ubuntu/anaconda3/envs/python3/lib/python3.8/site-packages)\u001b[0m\u001b[33m\n",
      "\u001b[0m\u001b[33mWARNING: Ignoring invalid distribution -ensorflow (/home/ubuntu/anaconda3/envs/python3/lib/python3.8/site-packages)\u001b[0m\u001b[33m\n",
      "\u001b[0m\u001b[33mWARNING: Ignoring invalid distribution -kenizers (/home/ubuntu/anaconda3/envs/python3/lib/python3.8/site-packages)\u001b[0m\u001b[33m\n",
      "\u001b[0m\u001b[33mWARNING: Ignoring invalid distribution -ransformers (/home/ubuntu/anaconda3/envs/python3/lib/python3.8/site-packages)\u001b[0m\u001b[33m\n",
      "\u001b[0m\u001b[33mWARNING: Ignoring invalid distribution -okenizers (/home/ubuntu/anaconda3/envs/python3/lib/python3.8/site-packages)\u001b[0m\u001b[33m\n",
      "\u001b[0m\u001b[33mWARNING: Ignoring invalid distribution -kenizers (/home/ubuntu/anaconda3/envs/python3/lib/python3.8/site-packages)\u001b[0m\u001b[33m\n",
      "\u001b[0m\u001b[33mWARNING: Ignoring invalid distribution - (/home/ubuntu/anaconda3/envs/python3/lib/python3.8/site-packages)\u001b[0m\u001b[33m\n",
      "\u001b[0m\u001b[33mWARNING: Ignoring invalid distribution -eras (/home/ubuntu/anaconda3/envs/python3/lib/python3.8/site-packages)\u001b[0m\u001b[33m\n",
      "\u001b[0m\u001b[33mWARNING: Ignoring invalid distribution -entencepiece (/home/ubuntu/anaconda3/envs/python3/lib/python3.8/site-packages)\u001b[0m\u001b[33m\n",
      "\u001b[0m\u001b[33mWARNING: Ignoring invalid distribution -ensorflow (/home/ubuntu/anaconda3/envs/python3/lib/python3.8/site-packages)\u001b[0m\u001b[33m\n",
      "\u001b[0m\u001b[33mWARNING: Ignoring invalid distribution -kenizers (/home/ubuntu/anaconda3/envs/python3/lib/python3.8/site-packages)\u001b[0m\u001b[33m\n",
      "\u001b[0m\u001b[33mWARNING: Ignoring invalid distribution -ransformers (/home/ubuntu/anaconda3/envs/python3/lib/python3.8/site-packages)\u001b[0m\u001b[33m\n",
      "\u001b[0m\u001b[33mWARNING: Ignoring invalid distribution -okenizers (/home/ubuntu/anaconda3/envs/python3/lib/python3.8/site-packages)\u001b[0m\u001b[33m\n",
      "\u001b[0m\u001b[33mWARNING: Ignoring invalid distribution -kenizers (/home/ubuntu/anaconda3/envs/python3/lib/python3.8/site-packages)\u001b[0m\u001b[33m\n",
      "\u001b[0m\u001b[33mWARNING: Ignoring invalid distribution - (/home/ubuntu/anaconda3/envs/python3/lib/python3.8/site-packages)\u001b[0m\u001b[33m\n",
      "\u001b[0m\u001b[33mWARNING: Ignoring invalid distribution -eras (/home/ubuntu/anaconda3/envs/python3/lib/python3.8/site-packages)\u001b[0m\u001b[33m\n",
      "\u001b[0m\u001b[33mWARNING: Ignoring invalid distribution -entencepiece (/home/ubuntu/anaconda3/envs/python3/lib/python3.8/site-packages)\u001b[0m\u001b[33m\n",
      "\u001b[0m\u001b[33mWARNING: Ignoring invalid distribution -ensorflow (/home/ubuntu/anaconda3/envs/python3/lib/python3.8/site-packages)\u001b[0m\u001b[33m\n",
      "\u001b[0m\u001b[33mWARNING: Ignoring invalid distribution -kenizers (/home/ubuntu/anaconda3/envs/python3/lib/python3.8/site-packages)\u001b[0m\u001b[33m\n",
      "\u001b[0m\u001b[33mWARNING: Ignoring invalid distribution -ransformers (/home/ubuntu/anaconda3/envs/python3/lib/python3.8/site-packages)\u001b[0m\u001b[33m\n",
      "\u001b[0m\u001b[33mWARNING: Ignoring invalid distribution -okenizers (/home/ubuntu/anaconda3/envs/python3/lib/python3.8/site-packages)\u001b[0m\u001b[33m\n",
      "\u001b[0m\u001b[33mWARNING: Ignoring invalid distribution -kenizers (/home/ubuntu/anaconda3/envs/python3/lib/python3.8/site-packages)\u001b[0m\u001b[33m\n",
      "\u001b[0m\u001b[33mWARNING: Ignoring invalid distribution - (/home/ubuntu/anaconda3/envs/python3/lib/python3.8/site-packages)\u001b[0m\u001b[33m\n",
      "\u001b[0m\u001b[33mWARNING: Ignoring invalid distribution -eras (/home/ubuntu/anaconda3/envs/python3/lib/python3.8/site-packages)\u001b[0m\u001b[33m\n",
      "\u001b[0m\u001b[33mWARNING: Ignoring invalid distribution -entencepiece (/home/ubuntu/anaconda3/envs/python3/lib/python3.8/site-packages)\u001b[0m\u001b[33m\n",
      "\u001b[0m\u001b[33mWARNING: Ignoring invalid distribution -ensorflow (/home/ubuntu/anaconda3/envs/python3/lib/python3.8/site-packages)\u001b[0m\u001b[33m\n",
      "\u001b[0m\u001b[33mWARNING: Ignoring invalid distribution -kenizers (/home/ubuntu/anaconda3/envs/python3/lib/python3.8/site-packages)\u001b[0m\u001b[33m\n",
      "\u001b[0m\u001b[33mWARNING: Ignoring invalid distribution -ransformers (/home/ubuntu/anaconda3/envs/python3/lib/python3.8/site-packages)\u001b[0m\u001b[33m\n",
      "\u001b[0m\u001b[33mWARNING: Ignoring invalid distribution -okenizers (/home/ubuntu/anaconda3/envs/python3/lib/python3.8/site-packages)\u001b[0m\u001b[33m\n",
      "\u001b[0m\u001b[33mWARNING: Ignoring invalid distribution -kenizers (/home/ubuntu/anaconda3/envs/python3/lib/python3.8/site-packages)\u001b[0m\u001b[33m\n",
      "\u001b[0m\u001b[33mWARNING: Ignoring invalid distribution - (/home/ubuntu/anaconda3/envs/python3/lib/python3.8/site-packages)\u001b[0m\u001b[33m\n",
      "\u001b[0m\u001b[33mWARNING: Ignoring invalid distribution -eras (/home/ubuntu/anaconda3/envs/python3/lib/python3.8/site-packages)\u001b[0m\u001b[33m\n",
      "\u001b[0m\u001b[33mWARNING: Ignoring invalid distribution -entencepiece (/home/ubuntu/anaconda3/envs/python3/lib/python3.8/site-packages)\u001b[0m\u001b[33m\n",
      "\u001b[0m\u001b[33mWARNING: Ignoring invalid distribution -ensorflow (/home/ubuntu/anaconda3/envs/python3/lib/python3.8/site-packages)\u001b[0m\u001b[33m\n",
      "\u001b[0mRequirement already satisfied: sentencepiece in /home/ubuntu/anaconda3/envs/python3/lib/python3.8/site-packages (0.1.91)\n",
      "\u001b[33mWARNING: Ignoring invalid distribution -kenizers (/home/ubuntu/anaconda3/envs/python3/lib/python3.8/site-packages)\u001b[0m\u001b[33m\n",
      "\u001b[0m\u001b[33mWARNING: Ignoring invalid distribution -ransformers (/home/ubuntu/anaconda3/envs/python3/lib/python3.8/site-packages)\u001b[0m\u001b[33m\n",
      "\u001b[0m\u001b[33mWARNING: Ignoring invalid distribution -okenizers (/home/ubuntu/anaconda3/envs/python3/lib/python3.8/site-packages)\u001b[0m\u001b[33m\n",
      "\u001b[0m\u001b[33mWARNING: Ignoring invalid distribution -kenizers (/home/ubuntu/anaconda3/envs/python3/lib/python3.8/site-packages)\u001b[0m\u001b[33m\n",
      "\u001b[0m\u001b[33mWARNING: Ignoring invalid distribution - (/home/ubuntu/anaconda3/envs/python3/lib/python3.8/site-packages)\u001b[0m\u001b[33m\n",
      "\u001b[0m\u001b[33mWARNING: Ignoring invalid distribution -eras (/home/ubuntu/anaconda3/envs/python3/lib/python3.8/site-packages)\u001b[0m\u001b[33m\n",
      "\u001b[0m\u001b[33mWARNING: Ignoring invalid distribution -entencepiece (/home/ubuntu/anaconda3/envs/python3/lib/python3.8/site-packages)\u001b[0m\u001b[33m\n",
      "\u001b[0m\u001b[33mWARNING: Ignoring invalid distribution -ensorflow (/home/ubuntu/anaconda3/envs/python3/lib/python3.8/site-packages)\u001b[0m\u001b[33m\n"
     ]
    },
    {
     "name": "stdout",
     "output_type": "stream",
     "text": [
      "\u001b[0m\u001b[33mWARNING: Ignoring invalid distribution -kenizers (/home/ubuntu/anaconda3/envs/python3/lib/python3.8/site-packages)\u001b[0m\u001b[33m\n",
      "\u001b[0m\u001b[33mWARNING: Ignoring invalid distribution -ransformers (/home/ubuntu/anaconda3/envs/python3/lib/python3.8/site-packages)\u001b[0m\u001b[33m\n",
      "\u001b[0m\u001b[33mWARNING: Ignoring invalid distribution -okenizers (/home/ubuntu/anaconda3/envs/python3/lib/python3.8/site-packages)\u001b[0m\u001b[33m\n",
      "\u001b[0m\u001b[33mWARNING: Ignoring invalid distribution -kenizers (/home/ubuntu/anaconda3/envs/python3/lib/python3.8/site-packages)\u001b[0m\u001b[33m\n",
      "\u001b[0m\u001b[33mWARNING: Ignoring invalid distribution - (/home/ubuntu/anaconda3/envs/python3/lib/python3.8/site-packages)\u001b[0m\u001b[33m\n",
      "\u001b[0m\u001b[33mWARNING: Ignoring invalid distribution -eras (/home/ubuntu/anaconda3/envs/python3/lib/python3.8/site-packages)\u001b[0m\u001b[33m\n",
      "\u001b[0m\u001b[33mWARNING: Ignoring invalid distribution -entencepiece (/home/ubuntu/anaconda3/envs/python3/lib/python3.8/site-packages)\u001b[0m\u001b[33m\n",
      "\u001b[0m\u001b[33mWARNING: Ignoring invalid distribution -ensorflow (/home/ubuntu/anaconda3/envs/python3/lib/python3.8/site-packages)\u001b[0m\u001b[33m\n",
      "\u001b[0m\u001b[33mWARNING: Ignoring invalid distribution -kenizers (/home/ubuntu/anaconda3/envs/python3/lib/python3.8/site-packages)\u001b[0m\u001b[33m\n",
      "\u001b[0m\u001b[33mWARNING: Ignoring invalid distribution -ransformers (/home/ubuntu/anaconda3/envs/python3/lib/python3.8/site-packages)\u001b[0m\u001b[33m\n",
      "\u001b[0m\u001b[33mWARNING: Ignoring invalid distribution -okenizers (/home/ubuntu/anaconda3/envs/python3/lib/python3.8/site-packages)\u001b[0m\u001b[33m\n",
      "\u001b[0m\u001b[33mWARNING: Ignoring invalid distribution -kenizers (/home/ubuntu/anaconda3/envs/python3/lib/python3.8/site-packages)\u001b[0m\u001b[33m\n",
      "\u001b[0m\u001b[33mWARNING: Ignoring invalid distribution - (/home/ubuntu/anaconda3/envs/python3/lib/python3.8/site-packages)\u001b[0m\u001b[33m\n",
      "\u001b[0m\u001b[33mWARNING: Ignoring invalid distribution -eras (/home/ubuntu/anaconda3/envs/python3/lib/python3.8/site-packages)\u001b[0m\u001b[33m\n",
      "\u001b[0m\u001b[33mWARNING: Ignoring invalid distribution -entencepiece (/home/ubuntu/anaconda3/envs/python3/lib/python3.8/site-packages)\u001b[0m\u001b[33m\n",
      "\u001b[0m\u001b[33mWARNING: Ignoring invalid distribution -ensorflow (/home/ubuntu/anaconda3/envs/python3/lib/python3.8/site-packages)\u001b[0m\u001b[33m\n",
      "\u001b[0m\u001b[33mWARNING: Ignoring invalid distribution -kenizers (/home/ubuntu/anaconda3/envs/python3/lib/python3.8/site-packages)\u001b[0m\u001b[33m\n",
      "\u001b[0m\u001b[33mWARNING: Ignoring invalid distribution -ransformers (/home/ubuntu/anaconda3/envs/python3/lib/python3.8/site-packages)\u001b[0m\u001b[33m\n",
      "\u001b[0m\u001b[33mWARNING: Ignoring invalid distribution -okenizers (/home/ubuntu/anaconda3/envs/python3/lib/python3.8/site-packages)\u001b[0m\u001b[33m\n",
      "\u001b[0m\u001b[33mWARNING: Ignoring invalid distribution -kenizers (/home/ubuntu/anaconda3/envs/python3/lib/python3.8/site-packages)\u001b[0m\u001b[33m\n",
      "\u001b[0m\u001b[33mWARNING: Ignoring invalid distribution - (/home/ubuntu/anaconda3/envs/python3/lib/python3.8/site-packages)\u001b[0m\u001b[33m\n",
      "\u001b[0m\u001b[33mWARNING: Ignoring invalid distribution -eras (/home/ubuntu/anaconda3/envs/python3/lib/python3.8/site-packages)\u001b[0m\u001b[33m\n",
      "\u001b[0m\u001b[33mWARNING: Ignoring invalid distribution -entencepiece (/home/ubuntu/anaconda3/envs/python3/lib/python3.8/site-packages)\u001b[0m\u001b[33m\n",
      "\u001b[0m\u001b[33mWARNING: Ignoring invalid distribution -ensorflow (/home/ubuntu/anaconda3/envs/python3/lib/python3.8/site-packages)\u001b[0m\u001b[33m\n",
      "\u001b[0m\u001b[33mWARNING: Ignoring invalid distribution -kenizers (/home/ubuntu/anaconda3/envs/python3/lib/python3.8/site-packages)\u001b[0m\u001b[33m\n",
      "\u001b[0m\u001b[33mWARNING: Ignoring invalid distribution -ransformers (/home/ubuntu/anaconda3/envs/python3/lib/python3.8/site-packages)\u001b[0m\u001b[33m\n",
      "\u001b[0m\u001b[33mWARNING: Ignoring invalid distribution -okenizers (/home/ubuntu/anaconda3/envs/python3/lib/python3.8/site-packages)\u001b[0m\u001b[33m\n",
      "\u001b[0m\u001b[33mWARNING: Ignoring invalid distribution -kenizers (/home/ubuntu/anaconda3/envs/python3/lib/python3.8/site-packages)\u001b[0m\u001b[33m\n",
      "\u001b[0m\u001b[33mWARNING: Ignoring invalid distribution - (/home/ubuntu/anaconda3/envs/python3/lib/python3.8/site-packages)\u001b[0m\u001b[33m\n",
      "\u001b[0m\u001b[33mWARNING: Ignoring invalid distribution -eras (/home/ubuntu/anaconda3/envs/python3/lib/python3.8/site-packages)\u001b[0m\u001b[33m\n",
      "\u001b[0m\u001b[33mWARNING: Ignoring invalid distribution -entencepiece (/home/ubuntu/anaconda3/envs/python3/lib/python3.8/site-packages)\u001b[0m\u001b[33m\n",
      "\u001b[0m\u001b[33mWARNING: Ignoring invalid distribution -ensorflow (/home/ubuntu/anaconda3/envs/python3/lib/python3.8/site-packages)\u001b[0m\u001b[33m\n",
      "\u001b[0m\u001b[33mWARNING: Ignoring invalid distribution -kenizers (/home/ubuntu/anaconda3/envs/python3/lib/python3.8/site-packages)\u001b[0m\u001b[33m\n",
      "\u001b[0m\u001b[33mWARNING: Ignoring invalid distribution -ransformers (/home/ubuntu/anaconda3/envs/python3/lib/python3.8/site-packages)\u001b[0m\u001b[33m\n",
      "\u001b[0m\u001b[33mWARNING: Ignoring invalid distribution -okenizers (/home/ubuntu/anaconda3/envs/python3/lib/python3.8/site-packages)\u001b[0m\u001b[33m\n",
      "\u001b[0m\u001b[33mWARNING: Ignoring invalid distribution -kenizers (/home/ubuntu/anaconda3/envs/python3/lib/python3.8/site-packages)\u001b[0m\u001b[33m\n",
      "\u001b[0m\u001b[33mWARNING: Ignoring invalid distribution - (/home/ubuntu/anaconda3/envs/python3/lib/python3.8/site-packages)\u001b[0m\u001b[33m\n",
      "\u001b[0m\u001b[33mWARNING: Ignoring invalid distribution -eras (/home/ubuntu/anaconda3/envs/python3/lib/python3.8/site-packages)\u001b[0m\u001b[33m\n",
      "\u001b[0m\u001b[33mWARNING: Ignoring invalid distribution -entencepiece (/home/ubuntu/anaconda3/envs/python3/lib/python3.8/site-packages)\u001b[0m\u001b[33m\n",
      "\u001b[0m\u001b[33mWARNING: Ignoring invalid distribution -ensorflow (/home/ubuntu/anaconda3/envs/python3/lib/python3.8/site-packages)\u001b[0m\u001b[33m\n",
      "\u001b[0mCollecting transformers==3\n",
      "  Downloading transformers-3.0.0-py3-none-any.whl (754 kB)\n",
      "\u001b[2K     \u001b[90m━━━━━━━━━━━━━━━━━━━━━━━━━━━━━━━━━━━━━━\u001b[0m \u001b[32m754.6/754.6 kB\u001b[0m \u001b[31m41.7 MB/s\u001b[0m eta \u001b[36m0:00:00\u001b[0m\n",
      "\u001b[?25hRequirement already satisfied: numpy in /home/ubuntu/anaconda3/envs/python3/lib/python3.8/site-packages (from transformers==3) (1.20.3)\n",
      "Collecting tokenizers==0.8.0-rc4\n",
      "  Downloading tokenizers-0.8.0rc4-cp38-cp38-manylinux1_x86_64.whl (3.0 MB)\n",
      "\u001b[2K     \u001b[90m━━━━━━━━━━━━━━━━━━━━━━━━━━━━━━━━━━━━━━━━\u001b[0m \u001b[32m3.0/3.0 MB\u001b[0m \u001b[31m102.3 MB/s\u001b[0m eta \u001b[36m0:00:00\u001b[0m\n",
      "\u001b[?25hRequirement already satisfied: tqdm>=4.27 in /home/ubuntu/anaconda3/envs/python3/lib/python3.8/site-packages (from transformers==3) (4.62.3)\n",
      "Requirement already satisfied: regex!=2019.12.17 in /home/ubuntu/anaconda3/envs/python3/lib/python3.8/site-packages (from transformers==3) (2021.11.10)\n",
      "Requirement already satisfied: filelock in /home/ubuntu/anaconda3/envs/python3/lib/python3.8/site-packages (from transformers==3) (3.4.0)\n",
      "Requirement already satisfied: sentencepiece in /home/ubuntu/anaconda3/envs/python3/lib/python3.8/site-packages (from transformers==3) (0.1.91)\n",
      "Requirement already satisfied: packaging in /home/ubuntu/anaconda3/envs/python3/lib/python3.8/site-packages (from transformers==3) (21.3)\n",
      "Requirement already satisfied: requests in /home/ubuntu/anaconda3/envs/python3/lib/python3.8/site-packages (from transformers==3) (2.26.0)\n",
      "Requirement already satisfied: sacremoses in /home/ubuntu/anaconda3/envs/python3/lib/python3.8/site-packages (from transformers==3) (0.0.53)\n",
      "Requirement already satisfied: pyparsing!=3.0.5,>=2.0.2 in /home/ubuntu/anaconda3/envs/python3/lib/python3.8/site-packages (from packaging->transformers==3) (3.0.6)\n",
      "Requirement already satisfied: charset-normalizer~=2.0.0 in /home/ubuntu/anaconda3/envs/python3/lib/python3.8/site-packages (from requests->transformers==3) (2.0.8)\n",
      "Requirement already satisfied: idna<4,>=2.5 in /home/ubuntu/anaconda3/envs/python3/lib/python3.8/site-packages (from requests->transformers==3) (3.1)\n",
      "Requirement already satisfied: urllib3<1.27,>=1.21.1 in /home/ubuntu/anaconda3/envs/python3/lib/python3.8/site-packages (from requests->transformers==3) (1.26.7)\n",
      "Requirement already satisfied: certifi>=2017.4.17 in /home/ubuntu/anaconda3/envs/python3/lib/python3.8/site-packages (from requests->transformers==3) (2022.5.18.1)\n",
      "Requirement already satisfied: click in /home/ubuntu/anaconda3/envs/python3/lib/python3.8/site-packages (from sacremoses->transformers==3) (7.1.2)\n",
      "Requirement already satisfied: joblib in /home/ubuntu/anaconda3/envs/python3/lib/python3.8/site-packages (from sacremoses->transformers==3) (1.1.0)\n",
      "Requirement already satisfied: six in /home/ubuntu/anaconda3/envs/python3/lib/python3.8/site-packages (from sacremoses->transformers==3) (1.16.0)\n",
      "\u001b[33mWARNING: Ignoring invalid distribution -kenizers (/home/ubuntu/anaconda3/envs/python3/lib/python3.8/site-packages)\u001b[0m\u001b[33m\n",
      "\u001b[0m\u001b[33mWARNING: Ignoring invalid distribution -ransformers (/home/ubuntu/anaconda3/envs/python3/lib/python3.8/site-packages)\u001b[0m\u001b[33m\n",
      "\u001b[0m\u001b[33mWARNING: Ignoring invalid distribution -okenizers (/home/ubuntu/anaconda3/envs/python3/lib/python3.8/site-packages)\u001b[0m\u001b[33m\n",
      "\u001b[0m\u001b[33mWARNING: Ignoring invalid distribution -kenizers (/home/ubuntu/anaconda3/envs/python3/lib/python3.8/site-packages)\u001b[0m\u001b[33m\n",
      "\u001b[0m\u001b[33mWARNING: Ignoring invalid distribution - (/home/ubuntu/anaconda3/envs/python3/lib/python3.8/site-packages)\u001b[0m\u001b[33m\n",
      "\u001b[0m\u001b[33mWARNING: Ignoring invalid distribution -eras (/home/ubuntu/anaconda3/envs/python3/lib/python3.8/site-packages)\u001b[0m\u001b[33m\n"
     ]
    },
    {
     "name": "stdout",
     "output_type": "stream",
     "text": [
      "\u001b[0m\u001b[33mWARNING: Ignoring invalid distribution -entencepiece (/home/ubuntu/anaconda3/envs/python3/lib/python3.8/site-packages)\u001b[0m\u001b[33m\n",
      "\u001b[0m\u001b[33mWARNING: Ignoring invalid distribution -ensorflow (/home/ubuntu/anaconda3/envs/python3/lib/python3.8/site-packages)\u001b[0m\u001b[33m\n",
      "\u001b[0mInstalling collected packages: tokenizers, transformers\n",
      "  Attempting uninstall: tokenizers\n",
      "\u001b[33m    WARNING: Ignoring invalid distribution -kenizers (/home/ubuntu/anaconda3/envs/python3/lib/python3.8/site-packages)\u001b[0m\u001b[33m\n",
      "\u001b[0m\u001b[33m    WARNING: Ignoring invalid distribution -ransformers (/home/ubuntu/anaconda3/envs/python3/lib/python3.8/site-packages)\u001b[0m\u001b[33m\n",
      "\u001b[0m\u001b[33m    WARNING: Ignoring invalid distribution -okenizers (/home/ubuntu/anaconda3/envs/python3/lib/python3.8/site-packages)\u001b[0m\u001b[33m\n",
      "\u001b[0m\u001b[33m    WARNING: Ignoring invalid distribution -kenizers (/home/ubuntu/anaconda3/envs/python3/lib/python3.8/site-packages)\u001b[0m\u001b[33m\n",
      "\u001b[0m\u001b[33m    WARNING: Ignoring invalid distribution - (/home/ubuntu/anaconda3/envs/python3/lib/python3.8/site-packages)\u001b[0m\u001b[33m\n",
      "\u001b[0m\u001b[33m    WARNING: Ignoring invalid distribution -eras (/home/ubuntu/anaconda3/envs/python3/lib/python3.8/site-packages)\u001b[0m\u001b[33m\n",
      "\u001b[0m\u001b[33m    WARNING: Ignoring invalid distribution -entencepiece (/home/ubuntu/anaconda3/envs/python3/lib/python3.8/site-packages)\u001b[0m\u001b[33m\n",
      "\u001b[0m\u001b[33m    WARNING: Ignoring invalid distribution -ensorflow (/home/ubuntu/anaconda3/envs/python3/lib/python3.8/site-packages)\u001b[0m\u001b[33m\n",
      "\u001b[0m    Found existing installation: tokenizers 0.12.1\n",
      "    Uninstalling tokenizers-0.12.1:\n",
      "      Successfully uninstalled tokenizers-0.12.1\n",
      "  Attempting uninstall: transformers\n",
      "\u001b[33m    WARNING: Ignoring invalid distribution -kenizers (/home/ubuntu/anaconda3/envs/python3/lib/python3.8/site-packages)\u001b[0m\u001b[33m\n",
      "\u001b[0m\u001b[33m    WARNING: Ignoring invalid distribution -ransformers (/home/ubuntu/anaconda3/envs/python3/lib/python3.8/site-packages)\u001b[0m\u001b[33m\n",
      "\u001b[0m\u001b[33m    WARNING: Ignoring invalid distribution -okenizers (/home/ubuntu/anaconda3/envs/python3/lib/python3.8/site-packages)\u001b[0m\u001b[33m\n",
      "\u001b[0m\u001b[33m    WARNING: Ignoring invalid distribution -kenizers (/home/ubuntu/anaconda3/envs/python3/lib/python3.8/site-packages)\u001b[0m\u001b[33m\n",
      "\u001b[0m\u001b[33m    WARNING: Ignoring invalid distribution - (/home/ubuntu/anaconda3/envs/python3/lib/python3.8/site-packages)\u001b[0m\u001b[33m\n",
      "\u001b[0m\u001b[33m    WARNING: Ignoring invalid distribution -eras (/home/ubuntu/anaconda3/envs/python3/lib/python3.8/site-packages)\u001b[0m\u001b[33m\n",
      "\u001b[0m\u001b[33m    WARNING: Ignoring invalid distribution -entencepiece (/home/ubuntu/anaconda3/envs/python3/lib/python3.8/site-packages)\u001b[0m\u001b[33m\n",
      "\u001b[0m\u001b[33m    WARNING: Ignoring invalid distribution -ensorflow (/home/ubuntu/anaconda3/envs/python3/lib/python3.8/site-packages)\u001b[0m\u001b[33m\n",
      "\u001b[0m    Found existing installation: transformers 4.20.1\n",
      "    Uninstalling transformers-4.20.1:\n",
      "      Successfully uninstalled transformers-4.20.1\n",
      "\u001b[33mWARNING: Ignoring invalid distribution -kenizers (/home/ubuntu/anaconda3/envs/python3/lib/python3.8/site-packages)\u001b[0m\u001b[33m\n",
      "\u001b[0m\u001b[33mWARNING: Ignoring invalid distribution -ransformers (/home/ubuntu/anaconda3/envs/python3/lib/python3.8/site-packages)\u001b[0m\u001b[33m\n",
      "\u001b[0m\u001b[33mWARNING: Ignoring invalid distribution -okenizers (/home/ubuntu/anaconda3/envs/python3/lib/python3.8/site-packages)\u001b[0m\u001b[33m\n",
      "\u001b[0m\u001b[33mWARNING: Ignoring invalid distribution -kenizers (/home/ubuntu/anaconda3/envs/python3/lib/python3.8/site-packages)\u001b[0m\u001b[33m\n",
      "\u001b[0m\u001b[33mWARNING: Ignoring invalid distribution - (/home/ubuntu/anaconda3/envs/python3/lib/python3.8/site-packages)\u001b[0m\u001b[33m\n",
      "\u001b[0m\u001b[33mWARNING: Ignoring invalid distribution -eras (/home/ubuntu/anaconda3/envs/python3/lib/python3.8/site-packages)\u001b[0m\u001b[33m\n",
      "\u001b[0m\u001b[33mWARNING: Ignoring invalid distribution -entencepiece (/home/ubuntu/anaconda3/envs/python3/lib/python3.8/site-packages)\u001b[0m\u001b[33m\n",
      "\u001b[0m\u001b[33mWARNING: Ignoring invalid distribution -ensorflow (/home/ubuntu/anaconda3/envs/python3/lib/python3.8/site-packages)\u001b[0m\u001b[33m\n",
      "\u001b[0m\u001b[33mWARNING: Ignoring invalid distribution -kenizers (/home/ubuntu/anaconda3/envs/python3/lib/python3.8/site-packages)\u001b[0m\u001b[33m\n",
      "\u001b[0m\u001b[33mWARNING: Ignoring invalid distribution -ransformers (/home/ubuntu/anaconda3/envs/python3/lib/python3.8/site-packages)\u001b[0m\u001b[33m\n",
      "\u001b[0m\u001b[33mWARNING: Ignoring invalid distribution -okenizers (/home/ubuntu/anaconda3/envs/python3/lib/python3.8/site-packages)\u001b[0m\u001b[33m\n",
      "\u001b[0m\u001b[33mWARNING: Ignoring invalid distribution -kenizers (/home/ubuntu/anaconda3/envs/python3/lib/python3.8/site-packages)\u001b[0m\u001b[33m\n",
      "\u001b[0m\u001b[33mWARNING: Ignoring invalid distribution - (/home/ubuntu/anaconda3/envs/python3/lib/python3.8/site-packages)\u001b[0m\u001b[33m\n",
      "\u001b[0m\u001b[33mWARNING: Ignoring invalid distribution -eras (/home/ubuntu/anaconda3/envs/python3/lib/python3.8/site-packages)\u001b[0m\u001b[33m\n",
      "\u001b[0m\u001b[33mWARNING: Ignoring invalid distribution -entencepiece (/home/ubuntu/anaconda3/envs/python3/lib/python3.8/site-packages)\u001b[0m\u001b[33m\n",
      "\u001b[0m\u001b[33mWARNING: Ignoring invalid distribution -ensorflow (/home/ubuntu/anaconda3/envs/python3/lib/python3.8/site-packages)\u001b[0m\u001b[33m\n",
      "\u001b[0m\u001b[31mERROR: pip's dependency resolver does not currently take into account all the packages that are installed. This behaviour is the source of the following dependency conflicts.\n",
      "kobert 0.2.3 requires transformers>=4.8.1, but you have transformers 3.0.0 which is incompatible.\u001b[0m\u001b[31m\n",
      "\u001b[0mSuccessfully installed tokenizers-0.8.0rc4 transformers-3.0.0\n",
      "\u001b[33mWARNING: Ignoring invalid distribution -kenizers (/home/ubuntu/anaconda3/envs/python3/lib/python3.8/site-packages)\u001b[0m\u001b[33m\n",
      "\u001b[0m\u001b[33mWARNING: Ignoring invalid distribution -ransformers (/home/ubuntu/anaconda3/envs/python3/lib/python3.8/site-packages)\u001b[0m\u001b[33m\n",
      "\u001b[0m\u001b[33mWARNING: Ignoring invalid distribution -okenizers (/home/ubuntu/anaconda3/envs/python3/lib/python3.8/site-packages)\u001b[0m\u001b[33m\n",
      "\u001b[0m\u001b[33mWARNING: Ignoring invalid distribution -kenizers (/home/ubuntu/anaconda3/envs/python3/lib/python3.8/site-packages)\u001b[0m\u001b[33m\n",
      "\u001b[0m\u001b[33mWARNING: Ignoring invalid distribution - (/home/ubuntu/anaconda3/envs/python3/lib/python3.8/site-packages)\u001b[0m\u001b[33m\n",
      "\u001b[0m\u001b[33mWARNING: Ignoring invalid distribution -eras (/home/ubuntu/anaconda3/envs/python3/lib/python3.8/site-packages)\u001b[0m\u001b[33m\n",
      "\u001b[0m\u001b[33mWARNING: Ignoring invalid distribution -entencepiece (/home/ubuntu/anaconda3/envs/python3/lib/python3.8/site-packages)\u001b[0m\u001b[33m\n",
      "\u001b[0m\u001b[33mWARNING: Ignoring invalid distribution -ensorflow (/home/ubuntu/anaconda3/envs/python3/lib/python3.8/site-packages)\u001b[0m\u001b[33m\n",
      "\u001b[0m\u001b[33mWARNING: Ignoring invalid distribution -kenizers (/home/ubuntu/anaconda3/envs/python3/lib/python3.8/site-packages)\u001b[0m\u001b[33m\n",
      "\u001b[0m\u001b[33mWARNING: Ignoring invalid distribution -ransformers (/home/ubuntu/anaconda3/envs/python3/lib/python3.8/site-packages)\u001b[0m\u001b[33m\n",
      "\u001b[0m\u001b[33mWARNING: Ignoring invalid distribution -okenizers (/home/ubuntu/anaconda3/envs/python3/lib/python3.8/site-packages)\u001b[0m\u001b[33m\n",
      "\u001b[0m\u001b[33mWARNING: Ignoring invalid distribution -kenizers (/home/ubuntu/anaconda3/envs/python3/lib/python3.8/site-packages)\u001b[0m\u001b[33m\n",
      "\u001b[0m\u001b[33mWARNING: Ignoring invalid distribution - (/home/ubuntu/anaconda3/envs/python3/lib/python3.8/site-packages)\u001b[0m\u001b[33m\n",
      "\u001b[0m\u001b[33mWARNING: Ignoring invalid distribution -eras (/home/ubuntu/anaconda3/envs/python3/lib/python3.8/site-packages)\u001b[0m\u001b[33m\n",
      "\u001b[0m\u001b[33mWARNING: Ignoring invalid distribution -entencepiece (/home/ubuntu/anaconda3/envs/python3/lib/python3.8/site-packages)\u001b[0m\u001b[33m\n",
      "\u001b[0m\u001b[33mWARNING: Ignoring invalid distribution -ensorflow (/home/ubuntu/anaconda3/envs/python3/lib/python3.8/site-packages)\u001b[0m\u001b[33m\n",
      "\u001b[0m\u001b[33mWARNING: Ignoring invalid distribution -kenizers (/home/ubuntu/anaconda3/envs/python3/lib/python3.8/site-packages)\u001b[0m\u001b[33m\n",
      "\u001b[0m\u001b[33mWARNING: Ignoring invalid distribution -ransformers (/home/ubuntu/anaconda3/envs/python3/lib/python3.8/site-packages)\u001b[0m\u001b[33m\n",
      "\u001b[0m\u001b[33mWARNING: Ignoring invalid distribution -okenizers (/home/ubuntu/anaconda3/envs/python3/lib/python3.8/site-packages)\u001b[0m\u001b[33m\n",
      "\u001b[0m\u001b[33mWARNING: Ignoring invalid distribution -kenizers (/home/ubuntu/anaconda3/envs/python3/lib/python3.8/site-packages)\u001b[0m\u001b[33m\n",
      "\u001b[0m\u001b[33mWARNING: Ignoring invalid distribution - (/home/ubuntu/anaconda3/envs/python3/lib/python3.8/site-packages)\u001b[0m\u001b[33m\n",
      "\u001b[0m\u001b[33mWARNING: Ignoring invalid distribution -eras (/home/ubuntu/anaconda3/envs/python3/lib/python3.8/site-packages)\u001b[0m\u001b[33m\n",
      "\u001b[0m\u001b[33mWARNING: Ignoring invalid distribution -entencepiece (/home/ubuntu/anaconda3/envs/python3/lib/python3.8/site-packages)\u001b[0m\u001b[33m\n",
      "\u001b[0m\u001b[33mWARNING: Ignoring invalid distribution -ensorflow (/home/ubuntu/anaconda3/envs/python3/lib/python3.8/site-packages)\u001b[0m\u001b[33m\n"
     ]
    },
    {
     "name": "stdout",
     "output_type": "stream",
     "text": [
      "\u001b[0m\u001b[33mWARNING: Ignoring invalid distribution -kenizers (/home/ubuntu/anaconda3/envs/python3/lib/python3.8/site-packages)\u001b[0m\u001b[33m\n",
      "\u001b[0m\u001b[33mWARNING: Ignoring invalid distribution -ransformers (/home/ubuntu/anaconda3/envs/python3/lib/python3.8/site-packages)\u001b[0m\u001b[33m\n",
      "\u001b[0m\u001b[33mWARNING: Ignoring invalid distribution -okenizers (/home/ubuntu/anaconda3/envs/python3/lib/python3.8/site-packages)\u001b[0m\u001b[33m\n",
      "\u001b[0m\u001b[33mWARNING: Ignoring invalid distribution -kenizers (/home/ubuntu/anaconda3/envs/python3/lib/python3.8/site-packages)\u001b[0m\u001b[33m\n",
      "\u001b[0m\u001b[33mWARNING: Ignoring invalid distribution - (/home/ubuntu/anaconda3/envs/python3/lib/python3.8/site-packages)\u001b[0m\u001b[33m\n",
      "\u001b[0m\u001b[33mWARNING: Ignoring invalid distribution -eras (/home/ubuntu/anaconda3/envs/python3/lib/python3.8/site-packages)\u001b[0m\u001b[33m\n",
      "\u001b[0m\u001b[33mWARNING: Ignoring invalid distribution -entencepiece (/home/ubuntu/anaconda3/envs/python3/lib/python3.8/site-packages)\u001b[0m\u001b[33m\n",
      "\u001b[0m\u001b[33mWARNING: Ignoring invalid distribution -ensorflow (/home/ubuntu/anaconda3/envs/python3/lib/python3.8/site-packages)\u001b[0m\u001b[33m\n",
      "\u001b[0m\u001b[33mWARNING: Ignoring invalid distribution -kenizers (/home/ubuntu/anaconda3/envs/python3/lib/python3.8/site-packages)\u001b[0m\u001b[33m\n",
      "\u001b[0m\u001b[33mWARNING: Ignoring invalid distribution -ransformers (/home/ubuntu/anaconda3/envs/python3/lib/python3.8/site-packages)\u001b[0m\u001b[33m\n",
      "\u001b[0m\u001b[33mWARNING: Ignoring invalid distribution -okenizers (/home/ubuntu/anaconda3/envs/python3/lib/python3.8/site-packages)\u001b[0m\u001b[33m\n",
      "\u001b[0m\u001b[33mWARNING: Ignoring invalid distribution -kenizers (/home/ubuntu/anaconda3/envs/python3/lib/python3.8/site-packages)\u001b[0m\u001b[33m\n",
      "\u001b[0m\u001b[33mWARNING: Ignoring invalid distribution - (/home/ubuntu/anaconda3/envs/python3/lib/python3.8/site-packages)\u001b[0m\u001b[33m\n",
      "\u001b[0m\u001b[33mWARNING: Ignoring invalid distribution -eras (/home/ubuntu/anaconda3/envs/python3/lib/python3.8/site-packages)\u001b[0m\u001b[33m\n",
      "\u001b[0m\u001b[33mWARNING: Ignoring invalid distribution -entencepiece (/home/ubuntu/anaconda3/envs/python3/lib/python3.8/site-packages)\u001b[0m\u001b[33m\n",
      "\u001b[0m\u001b[33mWARNING: Ignoring invalid distribution -ensorflow (/home/ubuntu/anaconda3/envs/python3/lib/python3.8/site-packages)\u001b[0m\u001b[33m\n",
      "\u001b[0mRequirement already satisfied: torch in /home/ubuntu/anaconda3/envs/python3/lib/python3.8/site-packages (1.12.0)\n",
      "Requirement already satisfied: typing-extensions in /home/ubuntu/anaconda3/envs/python3/lib/python3.8/site-packages (from torch) (4.0.0)\n",
      "\u001b[33mWARNING: Ignoring invalid distribution -kenizers (/home/ubuntu/anaconda3/envs/python3/lib/python3.8/site-packages)\u001b[0m\u001b[33m\n",
      "\u001b[0m\u001b[33mWARNING: Ignoring invalid distribution -ransformers (/home/ubuntu/anaconda3/envs/python3/lib/python3.8/site-packages)\u001b[0m\u001b[33m\n",
      "\u001b[0m\u001b[33mWARNING: Ignoring invalid distribution -okenizers (/home/ubuntu/anaconda3/envs/python3/lib/python3.8/site-packages)\u001b[0m\u001b[33m\n",
      "\u001b[0m\u001b[33mWARNING: Ignoring invalid distribution -kenizers (/home/ubuntu/anaconda3/envs/python3/lib/python3.8/site-packages)\u001b[0m\u001b[33m\n",
      "\u001b[0m\u001b[33mWARNING: Ignoring invalid distribution - (/home/ubuntu/anaconda3/envs/python3/lib/python3.8/site-packages)\u001b[0m\u001b[33m\n",
      "\u001b[0m\u001b[33mWARNING: Ignoring invalid distribution -eras (/home/ubuntu/anaconda3/envs/python3/lib/python3.8/site-packages)\u001b[0m\u001b[33m\n",
      "\u001b[0m\u001b[33mWARNING: Ignoring invalid distribution -entencepiece (/home/ubuntu/anaconda3/envs/python3/lib/python3.8/site-packages)\u001b[0m\u001b[33m\n",
      "\u001b[0m\u001b[33mWARNING: Ignoring invalid distribution -ensorflow (/home/ubuntu/anaconda3/envs/python3/lib/python3.8/site-packages)\u001b[0m\u001b[33m\n",
      "\u001b[0m\u001b[33mWARNING: Ignoring invalid distribution -kenizers (/home/ubuntu/anaconda3/envs/python3/lib/python3.8/site-packages)\u001b[0m\u001b[33m\n",
      "\u001b[0m\u001b[33mWARNING: Ignoring invalid distribution -ransformers (/home/ubuntu/anaconda3/envs/python3/lib/python3.8/site-packages)\u001b[0m\u001b[33m\n",
      "\u001b[0m\u001b[33mWARNING: Ignoring invalid distribution -okenizers (/home/ubuntu/anaconda3/envs/python3/lib/python3.8/site-packages)\u001b[0m\u001b[33m\n",
      "\u001b[0m\u001b[33mWARNING: Ignoring invalid distribution -kenizers (/home/ubuntu/anaconda3/envs/python3/lib/python3.8/site-packages)\u001b[0m\u001b[33m\n",
      "\u001b[0m\u001b[33mWARNING: Ignoring invalid distribution - (/home/ubuntu/anaconda3/envs/python3/lib/python3.8/site-packages)\u001b[0m\u001b[33m\n",
      "\u001b[0m\u001b[33mWARNING: Ignoring invalid distribution -eras (/home/ubuntu/anaconda3/envs/python3/lib/python3.8/site-packages)\u001b[0m\u001b[33m\n",
      "\u001b[0m\u001b[33mWARNING: Ignoring invalid distribution -entencepiece (/home/ubuntu/anaconda3/envs/python3/lib/python3.8/site-packages)\u001b[0m\u001b[33m\n",
      "\u001b[0m\u001b[33mWARNING: Ignoring invalid distribution -ensorflow (/home/ubuntu/anaconda3/envs/python3/lib/python3.8/site-packages)\u001b[0m\u001b[33m\n",
      "\u001b[0m\u001b[33mWARNING: Ignoring invalid distribution -kenizers (/home/ubuntu/anaconda3/envs/python3/lib/python3.8/site-packages)\u001b[0m\u001b[33m\n",
      "\u001b[0m\u001b[33mWARNING: Ignoring invalid distribution -ransformers (/home/ubuntu/anaconda3/envs/python3/lib/python3.8/site-packages)\u001b[0m\u001b[33m\n",
      "\u001b[0m\u001b[33mWARNING: Ignoring invalid distribution -okenizers (/home/ubuntu/anaconda3/envs/python3/lib/python3.8/site-packages)\u001b[0m\u001b[33m\n",
      "\u001b[0m\u001b[33mWARNING: Ignoring invalid distribution -kenizers (/home/ubuntu/anaconda3/envs/python3/lib/python3.8/site-packages)\u001b[0m\u001b[33m\n",
      "\u001b[0m\u001b[33mWARNING: Ignoring invalid distribution - (/home/ubuntu/anaconda3/envs/python3/lib/python3.8/site-packages)\u001b[0m\u001b[33m\n",
      "\u001b[0m\u001b[33mWARNING: Ignoring invalid distribution -eras (/home/ubuntu/anaconda3/envs/python3/lib/python3.8/site-packages)\u001b[0m\u001b[33m\n",
      "\u001b[0m\u001b[33mWARNING: Ignoring invalid distribution -entencepiece (/home/ubuntu/anaconda3/envs/python3/lib/python3.8/site-packages)\u001b[0m\u001b[33m\n",
      "\u001b[0m\u001b[33mWARNING: Ignoring invalid distribution -ensorflow (/home/ubuntu/anaconda3/envs/python3/lib/python3.8/site-packages)\u001b[0m\u001b[33m\n",
      "\u001b[0m\u001b[33mWARNING: Ignoring invalid distribution -kenizers (/home/ubuntu/anaconda3/envs/python3/lib/python3.8/site-packages)\u001b[0m\u001b[33m\n",
      "\u001b[0m\u001b[33mWARNING: Ignoring invalid distribution -ransformers (/home/ubuntu/anaconda3/envs/python3/lib/python3.8/site-packages)\u001b[0m\u001b[33m\n",
      "\u001b[0m\u001b[33mWARNING: Ignoring invalid distribution -okenizers (/home/ubuntu/anaconda3/envs/python3/lib/python3.8/site-packages)\u001b[0m\u001b[33m\n",
      "\u001b[0m\u001b[33mWARNING: Ignoring invalid distribution -kenizers (/home/ubuntu/anaconda3/envs/python3/lib/python3.8/site-packages)\u001b[0m\u001b[33m\n",
      "\u001b[0m\u001b[33mWARNING: Ignoring invalid distribution - (/home/ubuntu/anaconda3/envs/python3/lib/python3.8/site-packages)\u001b[0m\u001b[33m\n",
      "\u001b[0m\u001b[33mWARNING: Ignoring invalid distribution -eras (/home/ubuntu/anaconda3/envs/python3/lib/python3.8/site-packages)\u001b[0m\u001b[33m\n",
      "\u001b[0m\u001b[33mWARNING: Ignoring invalid distribution -entencepiece (/home/ubuntu/anaconda3/envs/python3/lib/python3.8/site-packages)\u001b[0m\u001b[33m\n",
      "\u001b[0m\u001b[33mWARNING: Ignoring invalid distribution -ensorflow (/home/ubuntu/anaconda3/envs/python3/lib/python3.8/site-packages)\u001b[0m\u001b[33m\n",
      "\u001b[0m\u001b[33mWARNING: Ignoring invalid distribution -kenizers (/home/ubuntu/anaconda3/envs/python3/lib/python3.8/site-packages)\u001b[0m\u001b[33m\n",
      "\u001b[0m\u001b[33mWARNING: Ignoring invalid distribution -ransformers (/home/ubuntu/anaconda3/envs/python3/lib/python3.8/site-packages)\u001b[0m\u001b[33m\n",
      "\u001b[0m\u001b[33mWARNING: Ignoring invalid distribution -okenizers (/home/ubuntu/anaconda3/envs/python3/lib/python3.8/site-packages)\u001b[0m\u001b[33m\n",
      "\u001b[0m\u001b[33mWARNING: Ignoring invalid distribution -kenizers (/home/ubuntu/anaconda3/envs/python3/lib/python3.8/site-packages)\u001b[0m\u001b[33m\n",
      "\u001b[0m\u001b[33mWARNING: Ignoring invalid distribution - (/home/ubuntu/anaconda3/envs/python3/lib/python3.8/site-packages)\u001b[0m\u001b[33m\n",
      "\u001b[0m\u001b[33mWARNING: Ignoring invalid distribution -eras (/home/ubuntu/anaconda3/envs/python3/lib/python3.8/site-packages)\u001b[0m\u001b[33m\n",
      "\u001b[0m\u001b[33mWARNING: Ignoring invalid distribution -entencepiece (/home/ubuntu/anaconda3/envs/python3/lib/python3.8/site-packages)\u001b[0m\u001b[33m\n",
      "\u001b[0m\u001b[33mWARNING: Ignoring invalid distribution -ensorflow (/home/ubuntu/anaconda3/envs/python3/lib/python3.8/site-packages)\u001b[0m\u001b[33m\n",
      "\u001b[0m\u001b[33mWARNING: Ignoring invalid distribution -kenizers (/home/ubuntu/anaconda3/envs/python3/lib/python3.8/site-packages)\u001b[0m\u001b[33m\n",
      "\u001b[0m\u001b[33mWARNING: Ignoring invalid distribution -ransformers (/home/ubuntu/anaconda3/envs/python3/lib/python3.8/site-packages)\u001b[0m\u001b[33m\n",
      "\u001b[0m\u001b[33mWARNING: Ignoring invalid distribution -okenizers (/home/ubuntu/anaconda3/envs/python3/lib/python3.8/site-packages)\u001b[0m\u001b[33m\n",
      "\u001b[0m\u001b[33mWARNING: Ignoring invalid distribution -kenizers (/home/ubuntu/anaconda3/envs/python3/lib/python3.8/site-packages)\u001b[0m\u001b[33m\n",
      "\u001b[0m\u001b[33mWARNING: Ignoring invalid distribution - (/home/ubuntu/anaconda3/envs/python3/lib/python3.8/site-packages)\u001b[0m\u001b[33m\n",
      "\u001b[0m\u001b[33mWARNING: Ignoring invalid distribution -eras (/home/ubuntu/anaconda3/envs/python3/lib/python3.8/site-packages)\u001b[0m\u001b[33m\n",
      "\u001b[0m\u001b[33mWARNING: Ignoring invalid distribution -entencepiece (/home/ubuntu/anaconda3/envs/python3/lib/python3.8/site-packages)\u001b[0m\u001b[33m\n",
      "\u001b[0m\u001b[33mWARNING: Ignoring invalid distribution -ensorflow (/home/ubuntu/anaconda3/envs/python3/lib/python3.8/site-packages)\u001b[0m\u001b[33m\n",
      "\u001b[0mCollecting git+https://****@github.com/SKTBrain/KoBERT.git@master\n",
      "  Cloning https://****@github.com/SKTBrain/KoBERT.git (to revision master) to /tmp/pip-req-build-beno2xob\n",
      "  Running command git clone --filter=blob:none --quiet 'https://****@github.com/SKTBrain/KoBERT.git' /tmp/pip-req-build-beno2xob\n"
     ]
    },
    {
     "name": "stdout",
     "output_type": "stream",
     "text": [
      "  Resolved https://****@github.com/SKTBrain/KoBERT.git to commit e1f2f37055e7460d8427f6912579c0162cb69831\n",
      "  Preparing metadata (setup.py) ... \u001b[?25ldone\n",
      "\u001b[?25hRequirement already satisfied: boto3 in /home/ubuntu/anaconda3/envs/python3/lib/python3.8/site-packages (from kobert==0.2.3) (1.23.8)\n",
      "Requirement already satisfied: gluonnlp>=0.6.0 in /home/ubuntu/anaconda3/envs/python3/lib/python3.8/site-packages (from kobert==0.2.3) (0.10.0)\n",
      "Requirement already satisfied: mxnet>=1.4.0 in /home/ubuntu/anaconda3/envs/python3/lib/python3.8/site-packages (from kobert==0.2.3) (1.9.1)\n",
      "Requirement already satisfied: onnxruntime==1.8.0 in /home/ubuntu/anaconda3/envs/python3/lib/python3.8/site-packages (from kobert==0.2.3) (1.8.0)\n",
      "Requirement already satisfied: sentencepiece>=0.1.6 in /home/ubuntu/anaconda3/envs/python3/lib/python3.8/site-packages (from kobert==0.2.3) (0.1.91)\n",
      "Requirement already satisfied: torch>=1.7.0 in /home/ubuntu/anaconda3/envs/python3/lib/python3.8/site-packages (from kobert==0.2.3) (1.12.0)\n",
      "Collecting transformers>=4.8.1\n",
      "  Using cached transformers-4.20.1-py3-none-any.whl (4.4 MB)\n",
      "Requirement already satisfied: protobuf in /home/ubuntu/anaconda3/envs/python3/lib/python3.8/site-packages (from onnxruntime==1.8.0->kobert==0.2.3) (3.19.1)\n",
      "Requirement already satisfied: numpy>=1.16.6 in /home/ubuntu/anaconda3/envs/python3/lib/python3.8/site-packages (from onnxruntime==1.8.0->kobert==0.2.3) (1.20.3)\n",
      "Requirement already satisfied: flatbuffers in /home/ubuntu/anaconda3/envs/python3/lib/python3.8/site-packages (from onnxruntime==1.8.0->kobert==0.2.3) (1.12)\n",
      "Requirement already satisfied: cython in /home/ubuntu/anaconda3/envs/python3/lib/python3.8/site-packages (from gluonnlp>=0.6.0->kobert==0.2.3) (0.29.24)\n",
      "Requirement already satisfied: packaging in /home/ubuntu/anaconda3/envs/python3/lib/python3.8/site-packages (from gluonnlp>=0.6.0->kobert==0.2.3) (21.3)\n",
      "Requirement already satisfied: graphviz<0.9.0,>=0.8.1 in /home/ubuntu/anaconda3/envs/python3/lib/python3.8/site-packages (from mxnet>=1.4.0->kobert==0.2.3) (0.8.4)\n",
      "Requirement already satisfied: requests<3,>=2.20.0 in /home/ubuntu/anaconda3/envs/python3/lib/python3.8/site-packages (from mxnet>=1.4.0->kobert==0.2.3) (2.26.0)\n",
      "Requirement already satisfied: typing-extensions in /home/ubuntu/anaconda3/envs/python3/lib/python3.8/site-packages (from torch>=1.7.0->kobert==0.2.3) (4.0.0)\n",
      "Requirement already satisfied: huggingface-hub<1.0,>=0.1.0 in /home/ubuntu/anaconda3/envs/python3/lib/python3.8/site-packages (from transformers>=4.8.1->kobert==0.2.3) (0.8.1)\n",
      "Collecting tokenizers!=0.11.3,<0.13,>=0.11.1\n",
      "  Using cached tokenizers-0.12.1-cp38-cp38-manylinux_2_12_x86_64.manylinux2010_x86_64.whl (6.6 MB)\n",
      "Requirement already satisfied: pyyaml>=5.1 in /home/ubuntu/anaconda3/envs/python3/lib/python3.8/site-packages (from transformers>=4.8.1->kobert==0.2.3) (6.0)\n",
      "Requirement already satisfied: filelock in /home/ubuntu/anaconda3/envs/python3/lib/python3.8/site-packages (from transformers>=4.8.1->kobert==0.2.3) (3.4.0)\n",
      "Requirement already satisfied: tqdm>=4.27 in /home/ubuntu/anaconda3/envs/python3/lib/python3.8/site-packages (from transformers>=4.8.1->kobert==0.2.3) (4.62.3)\n",
      "Requirement already satisfied: regex!=2019.12.17 in /home/ubuntu/anaconda3/envs/python3/lib/python3.8/site-packages (from transformers>=4.8.1->kobert==0.2.3) (2021.11.10)\n",
      "Requirement already satisfied: botocore<1.27.0,>=1.26.8 in /home/ubuntu/anaconda3/envs/python3/lib/python3.8/site-packages (from boto3->kobert==0.2.3) (1.26.8)\n",
      "Requirement already satisfied: jmespath<2.0.0,>=0.7.1 in /home/ubuntu/anaconda3/envs/python3/lib/python3.8/site-packages (from boto3->kobert==0.2.3) (0.10.0)\n",
      "Requirement already satisfied: s3transfer<0.6.0,>=0.5.0 in /home/ubuntu/anaconda3/envs/python3/lib/python3.8/site-packages (from boto3->kobert==0.2.3) (0.5.2)\n",
      "Requirement already satisfied: urllib3<1.27,>=1.25.4 in /home/ubuntu/anaconda3/envs/python3/lib/python3.8/site-packages (from botocore<1.27.0,>=1.26.8->boto3->kobert==0.2.3) (1.26.7)\n",
      "Requirement already satisfied: python-dateutil<3.0.0,>=2.1 in /home/ubuntu/anaconda3/envs/python3/lib/python3.8/site-packages (from botocore<1.27.0,>=1.26.8->boto3->kobert==0.2.3) (2.8.2)\n",
      "Requirement already satisfied: pyparsing!=3.0.5,>=2.0.2 in /home/ubuntu/anaconda3/envs/python3/lib/python3.8/site-packages (from packaging->gluonnlp>=0.6.0->kobert==0.2.3) (3.0.6)\n",
      "Requirement already satisfied: charset-normalizer~=2.0.0 in /home/ubuntu/anaconda3/envs/python3/lib/python3.8/site-packages (from requests<3,>=2.20.0->mxnet>=1.4.0->kobert==0.2.3) (2.0.8)\n",
      "Requirement already satisfied: idna<4,>=2.5 in /home/ubuntu/anaconda3/envs/python3/lib/python3.8/site-packages (from requests<3,>=2.20.0->mxnet>=1.4.0->kobert==0.2.3) (3.1)\n",
      "Requirement already satisfied: certifi>=2017.4.17 in /home/ubuntu/anaconda3/envs/python3/lib/python3.8/site-packages (from requests<3,>=2.20.0->mxnet>=1.4.0->kobert==0.2.3) (2022.5.18.1)\n",
      "Requirement already satisfied: six>=1.5 in /home/ubuntu/anaconda3/envs/python3/lib/python3.8/site-packages (from python-dateutil<3.0.0,>=2.1->botocore<1.27.0,>=1.26.8->boto3->kobert==0.2.3) (1.16.0)\n",
      "\u001b[33mWARNING: Ignoring invalid distribution -kenizers (/home/ubuntu/anaconda3/envs/python3/lib/python3.8/site-packages)\u001b[0m\u001b[33m\n",
      "\u001b[0m\u001b[33mWARNING: Ignoring invalid distribution -ransformers (/home/ubuntu/anaconda3/envs/python3/lib/python3.8/site-packages)\u001b[0m\u001b[33m\n",
      "\u001b[0m\u001b[33mWARNING: Ignoring invalid distribution -okenizers (/home/ubuntu/anaconda3/envs/python3/lib/python3.8/site-packages)\u001b[0m\u001b[33m\n",
      "\u001b[0m\u001b[33mWARNING: Ignoring invalid distribution -kenizers (/home/ubuntu/anaconda3/envs/python3/lib/python3.8/site-packages)\u001b[0m\u001b[33m\n",
      "\u001b[0m\u001b[33mWARNING: Ignoring invalid distribution - (/home/ubuntu/anaconda3/envs/python3/lib/python3.8/site-packages)\u001b[0m\u001b[33m\n",
      "\u001b[0m\u001b[33mWARNING: Ignoring invalid distribution -eras (/home/ubuntu/anaconda3/envs/python3/lib/python3.8/site-packages)\u001b[0m\u001b[33m\n",
      "\u001b[0m\u001b[33mWARNING: Ignoring invalid distribution -entencepiece (/home/ubuntu/anaconda3/envs/python3/lib/python3.8/site-packages)\u001b[0m\u001b[33m\n",
      "\u001b[0m\u001b[33mWARNING: Ignoring invalid distribution -ensorflow (/home/ubuntu/anaconda3/envs/python3/lib/python3.8/site-packages)\u001b[0m\u001b[33m\n",
      "\u001b[0mInstalling collected packages: tokenizers, transformers\n",
      "  Attempting uninstall: tokenizers\n",
      "\u001b[33m    WARNING: Ignoring invalid distribution -kenizers (/home/ubuntu/anaconda3/envs/python3/lib/python3.8/site-packages)\u001b[0m\u001b[33m\n",
      "\u001b[0m\u001b[33m    WARNING: Ignoring invalid distribution -ransformers (/home/ubuntu/anaconda3/envs/python3/lib/python3.8/site-packages)\u001b[0m\u001b[33m\n",
      "\u001b[0m\u001b[33m    WARNING: Ignoring invalid distribution -okenizers (/home/ubuntu/anaconda3/envs/python3/lib/python3.8/site-packages)\u001b[0m\u001b[33m\n",
      "\u001b[0m\u001b[33m    WARNING: Ignoring invalid distribution -kenizers (/home/ubuntu/anaconda3/envs/python3/lib/python3.8/site-packages)\u001b[0m\u001b[33m\n",
      "\u001b[0m\u001b[33m    WARNING: Ignoring invalid distribution - (/home/ubuntu/anaconda3/envs/python3/lib/python3.8/site-packages)\u001b[0m\u001b[33m\n",
      "\u001b[0m\u001b[33m    WARNING: Ignoring invalid distribution -eras (/home/ubuntu/anaconda3/envs/python3/lib/python3.8/site-packages)\u001b[0m\u001b[33m\n",
      "\u001b[0m\u001b[33m    WARNING: Ignoring invalid distribution -entencepiece (/home/ubuntu/anaconda3/envs/python3/lib/python3.8/site-packages)\u001b[0m\u001b[33m\n",
      "\u001b[0m\u001b[33m    WARNING: Ignoring invalid distribution -ensorflow (/home/ubuntu/anaconda3/envs/python3/lib/python3.8/site-packages)\u001b[0m\u001b[33m\n",
      "\u001b[0m    Found existing installation: tokenizers 0.8.0rc4\n",
      "    Uninstalling tokenizers-0.8.0rc4:\n",
      "      Successfully uninstalled tokenizers-0.8.0rc4\n",
      "  Attempting uninstall: transformers\n",
      "\u001b[33m    WARNING: Ignoring invalid distribution -kenizers (/home/ubuntu/anaconda3/envs/python3/lib/python3.8/site-packages)\u001b[0m\u001b[33m\n",
      "\u001b[0m\u001b[33m    WARNING: Ignoring invalid distribution -ransformers (/home/ubuntu/anaconda3/envs/python3/lib/python3.8/site-packages)\u001b[0m\u001b[33m\n",
      "\u001b[0m\u001b[33m    WARNING: Ignoring invalid distribution -okenizers (/home/ubuntu/anaconda3/envs/python3/lib/python3.8/site-packages)\u001b[0m\u001b[33m\n",
      "\u001b[0m\u001b[33m    WARNING: Ignoring invalid distribution -kenizers (/home/ubuntu/anaconda3/envs/python3/lib/python3.8/site-packages)\u001b[0m\u001b[33m\n",
      "\u001b[0m\u001b[33m    WARNING: Ignoring invalid distribution - (/home/ubuntu/anaconda3/envs/python3/lib/python3.8/site-packages)\u001b[0m\u001b[33m\n",
      "\u001b[0m\u001b[33m    WARNING: Ignoring invalid distribution -eras (/home/ubuntu/anaconda3/envs/python3/lib/python3.8/site-packages)\u001b[0m\u001b[33m\n",
      "\u001b[0m\u001b[33m    WARNING: Ignoring invalid distribution -entencepiece (/home/ubuntu/anaconda3/envs/python3/lib/python3.8/site-packages)\u001b[0m\u001b[33m\n",
      "\u001b[0m\u001b[33m    WARNING: Ignoring invalid distribution -ensorflow (/home/ubuntu/anaconda3/envs/python3/lib/python3.8/site-packages)\u001b[0m\u001b[33m\n",
      "\u001b[0m    Found existing installation: transformers 3.0.0\n"
     ]
    },
    {
     "name": "stdout",
     "output_type": "stream",
     "text": [
      "    Uninstalling transformers-3.0.0:\n",
      "      Successfully uninstalled transformers-3.0.0\n",
      "\u001b[33mWARNING: Ignoring invalid distribution -kenizers (/home/ubuntu/anaconda3/envs/python3/lib/python3.8/site-packages)\u001b[0m\u001b[33m\n",
      "\u001b[0m\u001b[33mWARNING: Ignoring invalid distribution -ransformers (/home/ubuntu/anaconda3/envs/python3/lib/python3.8/site-packages)\u001b[0m\u001b[33m\n",
      "\u001b[0m\u001b[33mWARNING: Ignoring invalid distribution -okenizers (/home/ubuntu/anaconda3/envs/python3/lib/python3.8/site-packages)\u001b[0m\u001b[33m\n",
      "\u001b[0m\u001b[33mWARNING: Ignoring invalid distribution -kenizers (/home/ubuntu/anaconda3/envs/python3/lib/python3.8/site-packages)\u001b[0m\u001b[33m\n",
      "\u001b[0m\u001b[33mWARNING: Ignoring invalid distribution - (/home/ubuntu/anaconda3/envs/python3/lib/python3.8/site-packages)\u001b[0m\u001b[33m\n",
      "\u001b[0m\u001b[33mWARNING: Ignoring invalid distribution -eras (/home/ubuntu/anaconda3/envs/python3/lib/python3.8/site-packages)\u001b[0m\u001b[33m\n",
      "\u001b[0m\u001b[33mWARNING: Ignoring invalid distribution -entencepiece (/home/ubuntu/anaconda3/envs/python3/lib/python3.8/site-packages)\u001b[0m\u001b[33m\n",
      "\u001b[0m\u001b[33mWARNING: Ignoring invalid distribution -ensorflow (/home/ubuntu/anaconda3/envs/python3/lib/python3.8/site-packages)\u001b[0m\u001b[33m\n",
      "\u001b[0m\u001b[33mWARNING: Ignoring invalid distribution -kenizers (/home/ubuntu/anaconda3/envs/python3/lib/python3.8/site-packages)\u001b[0m\u001b[33m\n",
      "\u001b[0m\u001b[33mWARNING: Ignoring invalid distribution -ransformers (/home/ubuntu/anaconda3/envs/python3/lib/python3.8/site-packages)\u001b[0m\u001b[33m\n",
      "\u001b[0m\u001b[33mWARNING: Ignoring invalid distribution -okenizers (/home/ubuntu/anaconda3/envs/python3/lib/python3.8/site-packages)\u001b[0m\u001b[33m\n",
      "\u001b[0m\u001b[33mWARNING: Ignoring invalid distribution -kenizers (/home/ubuntu/anaconda3/envs/python3/lib/python3.8/site-packages)\u001b[0m\u001b[33m\n",
      "\u001b[0m\u001b[33mWARNING: Ignoring invalid distribution - (/home/ubuntu/anaconda3/envs/python3/lib/python3.8/site-packages)\u001b[0m\u001b[33m\n",
      "\u001b[0m\u001b[33mWARNING: Ignoring invalid distribution -eras (/home/ubuntu/anaconda3/envs/python3/lib/python3.8/site-packages)\u001b[0m\u001b[33m\n",
      "\u001b[0m\u001b[33mWARNING: Ignoring invalid distribution -entencepiece (/home/ubuntu/anaconda3/envs/python3/lib/python3.8/site-packages)\u001b[0m\u001b[33m\n",
      "\u001b[0m\u001b[33mWARNING: Ignoring invalid distribution -ensorflow (/home/ubuntu/anaconda3/envs/python3/lib/python3.8/site-packages)\u001b[0m\u001b[33m\n",
      "\u001b[0mSuccessfully installed tokenizers-0.12.1 transformers-4.20.1\n",
      "\u001b[33mWARNING: Ignoring invalid distribution -kenizers (/home/ubuntu/anaconda3/envs/python3/lib/python3.8/site-packages)\u001b[0m\u001b[33m\n",
      "\u001b[0m\u001b[33mWARNING: Ignoring invalid distribution -ransformers (/home/ubuntu/anaconda3/envs/python3/lib/python3.8/site-packages)\u001b[0m\u001b[33m\n",
      "\u001b[0m\u001b[33mWARNING: Ignoring invalid distribution -okenizers (/home/ubuntu/anaconda3/envs/python3/lib/python3.8/site-packages)\u001b[0m\u001b[33m\n",
      "\u001b[0m\u001b[33mWARNING: Ignoring invalid distribution -kenizers (/home/ubuntu/anaconda3/envs/python3/lib/python3.8/site-packages)\u001b[0m\u001b[33m\n",
      "\u001b[0m\u001b[33mWARNING: Ignoring invalid distribution - (/home/ubuntu/anaconda3/envs/python3/lib/python3.8/site-packages)\u001b[0m\u001b[33m\n",
      "\u001b[0m\u001b[33mWARNING: Ignoring invalid distribution -eras (/home/ubuntu/anaconda3/envs/python3/lib/python3.8/site-packages)\u001b[0m\u001b[33m\n",
      "\u001b[0m\u001b[33mWARNING: Ignoring invalid distribution -entencepiece (/home/ubuntu/anaconda3/envs/python3/lib/python3.8/site-packages)\u001b[0m\u001b[33m\n",
      "\u001b[0m\u001b[33mWARNING: Ignoring invalid distribution -ensorflow (/home/ubuntu/anaconda3/envs/python3/lib/python3.8/site-packages)\u001b[0m\u001b[33m\n",
      "\u001b[0m\u001b[33mWARNING: Ignoring invalid distribution -kenizers (/home/ubuntu/anaconda3/envs/python3/lib/python3.8/site-packages)\u001b[0m\u001b[33m\n",
      "\u001b[0m\u001b[33mWARNING: Ignoring invalid distribution -ransformers (/home/ubuntu/anaconda3/envs/python3/lib/python3.8/site-packages)\u001b[0m\u001b[33m\n",
      "\u001b[0m\u001b[33mWARNING: Ignoring invalid distribution -okenizers (/home/ubuntu/anaconda3/envs/python3/lib/python3.8/site-packages)\u001b[0m\u001b[33m\n",
      "\u001b[0m\u001b[33mWARNING: Ignoring invalid distribution -kenizers (/home/ubuntu/anaconda3/envs/python3/lib/python3.8/site-packages)\u001b[0m\u001b[33m\n",
      "\u001b[0m\u001b[33mWARNING: Ignoring invalid distribution - (/home/ubuntu/anaconda3/envs/python3/lib/python3.8/site-packages)\u001b[0m\u001b[33m\n",
      "\u001b[0m\u001b[33mWARNING: Ignoring invalid distribution -eras (/home/ubuntu/anaconda3/envs/python3/lib/python3.8/site-packages)\u001b[0m\u001b[33m\n",
      "\u001b[0m\u001b[33mWARNING: Ignoring invalid distribution -entencepiece (/home/ubuntu/anaconda3/envs/python3/lib/python3.8/site-packages)\u001b[0m\u001b[33m\n",
      "\u001b[0m\u001b[33mWARNING: Ignoring invalid distribution -ensorflow (/home/ubuntu/anaconda3/envs/python3/lib/python3.8/site-packages)\u001b[0m\u001b[33m\n",
      "\u001b[0m\u001b[33mWARNING: Ignoring invalid distribution -kenizers (/home/ubuntu/anaconda3/envs/python3/lib/python3.8/site-packages)\u001b[0m\u001b[33m\n",
      "\u001b[0m\u001b[33mWARNING: Ignoring invalid distribution -ransformers (/home/ubuntu/anaconda3/envs/python3/lib/python3.8/site-packages)\u001b[0m\u001b[33m\n",
      "\u001b[0m\u001b[33mWARNING: Ignoring invalid distribution -okenizers (/home/ubuntu/anaconda3/envs/python3/lib/python3.8/site-packages)\u001b[0m\u001b[33m\n",
      "\u001b[0m\u001b[33mWARNING: Ignoring invalid distribution -kenizers (/home/ubuntu/anaconda3/envs/python3/lib/python3.8/site-packages)\u001b[0m\u001b[33m\n",
      "\u001b[0m\u001b[33mWARNING: Ignoring invalid distribution - (/home/ubuntu/anaconda3/envs/python3/lib/python3.8/site-packages)\u001b[0m\u001b[33m\n",
      "\u001b[0m\u001b[33mWARNING: Ignoring invalid distribution -eras (/home/ubuntu/anaconda3/envs/python3/lib/python3.8/site-packages)\u001b[0m\u001b[33m\n",
      "\u001b[0m\u001b[33mWARNING: Ignoring invalid distribution -entencepiece (/home/ubuntu/anaconda3/envs/python3/lib/python3.8/site-packages)\u001b[0m\u001b[33m\n",
      "\u001b[0m\u001b[33mWARNING: Ignoring invalid distribution -ensorflow (/home/ubuntu/anaconda3/envs/python3/lib/python3.8/site-packages)\u001b[0m\u001b[33m\n",
      "\u001b[0m"
     ]
    }
   ],
   "source": [
    "!pip install mxnet\n",
    "!pip install gluonnlp pandas tqdm\n",
    "!pip install sentencepiece\n",
    "!pip install transformers==3 # 최신 버전으로 설치하면 \"Input: must be Tensor, not str\" 라는 에러 발생\n",
    "!pip install torch\n",
    "\n",
    "!pip install git+https://git@github.com/SKTBrain/KoBERT.git@master\n",
    "\n"
   ]
  },
  {
   "cell_type": "code",
   "execution_count": 2,
   "id": "501640ec",
   "metadata": {},
   "outputs": [
    {
     "name": "stderr",
     "output_type": "stream",
     "text": [
      "/home/ubuntu/anaconda3/envs/python3/lib/python3.8/site-packages/requests/__init__.py:89: RequestsDependencyWarning: urllib3 (1.26.10) or chardet (3.0.4) doesn't match a supported version!\n",
      "  warnings.warn(\"urllib3 ({}) or chardet ({}) doesn't match a supported \"\n"
     ]
    }
   ],
   "source": [
    "import os\n",
    "import torch\n",
    "from torch import nn\n",
    "import torch.nn.functional as F\n",
    "import torch.optim as optim\n",
    "from torch.utils.data import Dataset, DataLoader\n",
    "import gluonnlp as nlp\n",
    "import numpy as np\n",
    "import pandas as pd\n",
    "from tqdm import tqdm, tqdm_notebook\n",
    "\n",
    "from kobert.utils import get_tokenizer\n",
    "from kobert.pytorch_kobert import get_pytorch_kobert_model\n",
    "\n",
    "from transformers import AdamW\n",
    "from transformers.optimization import get_cosine_schedule_with_warmup"
   ]
  },
  {
   "cell_type": "code",
   "execution_count": 2,
   "id": "fc93da7e",
   "metadata": {},
   "outputs": [],
   "source": [
    "import pandas as pd\n",
    "train_data = pd.read_csv(\"data/train_data.csv\")\n",
    "test_data = pd.read_csv(\"data/test_data.csv\")\n",
    "submission = pd.read_csv(\"data/sample_submission.csv\")"
   ]
  },
  {
   "cell_type": "code",
   "execution_count": 3,
   "id": "b98b2822",
   "metadata": {},
   "outputs": [],
   "source": [
    "test_label =  [0 for i in range(len(test_data))]\n",
    "test_data['label'] = test_label"
   ]
  },
  {
   "cell_type": "code",
   "execution_count": 4,
   "id": "2e262f2b",
   "metadata": {},
   "outputs": [
    {
     "data": {
      "text/html": [
       "<div>\n",
       "<style scoped>\n",
       "    .dataframe tbody tr th:only-of-type {\n",
       "        vertical-align: middle;\n",
       "    }\n",
       "\n",
       "    .dataframe tbody tr th {\n",
       "        vertical-align: top;\n",
       "    }\n",
       "\n",
       "    .dataframe thead th {\n",
       "        text-align: right;\n",
       "    }\n",
       "</style>\n",
       "<table border=\"1\" class=\"dataframe\">\n",
       "  <thead>\n",
       "    <tr style=\"text-align: right;\">\n",
       "      <th></th>\n",
       "      <th>title</th>\n",
       "      <th>label</th>\n",
       "    </tr>\n",
       "  </thead>\n",
       "  <tbody>\n",
       "    <tr>\n",
       "      <th>0</th>\n",
       "      <td>유튜브 내달 2일까지 크리에이터 지원 공간 운영</td>\n",
       "      <td>0</td>\n",
       "    </tr>\n",
       "    <tr>\n",
       "      <th>1</th>\n",
       "      <td>어버이날 맑다가 흐려져…남부지방 옅은 황사</td>\n",
       "      <td>0</td>\n",
       "    </tr>\n",
       "    <tr>\n",
       "      <th>2</th>\n",
       "      <td>내년부터 국가RD 평가 때 논문건수는 반영 않는다</td>\n",
       "      <td>0</td>\n",
       "    </tr>\n",
       "    <tr>\n",
       "      <th>3</th>\n",
       "      <td>김명자 신임 과총 회장 원로와 젊은 과학자 지혜 모을 것</td>\n",
       "      <td>0</td>\n",
       "    </tr>\n",
       "    <tr>\n",
       "      <th>4</th>\n",
       "      <td>회색인간 작가 김동식 양심고백 등 새 소설집 2권 출간</td>\n",
       "      <td>0</td>\n",
       "    </tr>\n",
       "  </tbody>\n",
       "</table>\n",
       "</div>"
      ],
      "text/plain": [
       "                             title  label\n",
       "0       유튜브 내달 2일까지 크리에이터 지원 공간 운영      0\n",
       "1          어버이날 맑다가 흐려져…남부지방 옅은 황사      0\n",
       "2      내년부터 국가RD 평가 때 논문건수는 반영 않는다      0\n",
       "3  김명자 신임 과총 회장 원로와 젊은 과학자 지혜 모을 것      0\n",
       "4   회색인간 작가 김동식 양심고백 등 새 소설집 2권 출간      0"
      ]
     },
     "execution_count": 4,
     "metadata": {},
     "output_type": "execute_result"
    }
   ],
   "source": [
    "del test_data['index']\n",
    "test_data.head()"
   ]
  },
  {
   "cell_type": "code",
   "execution_count": 5,
   "id": "5d95988e",
   "metadata": {},
   "outputs": [
    {
     "data": {
      "text/html": [
       "<div>\n",
       "<style scoped>\n",
       "    .dataframe tbody tr th:only-of-type {\n",
       "        vertical-align: middle;\n",
       "    }\n",
       "\n",
       "    .dataframe tbody tr th {\n",
       "        vertical-align: top;\n",
       "    }\n",
       "\n",
       "    .dataframe thead th {\n",
       "        text-align: right;\n",
       "    }\n",
       "</style>\n",
       "<table border=\"1\" class=\"dataframe\">\n",
       "  <thead>\n",
       "    <tr style=\"text-align: right;\">\n",
       "      <th></th>\n",
       "      <th>title</th>\n",
       "      <th>topic_idx</th>\n",
       "    </tr>\n",
       "  </thead>\n",
       "  <tbody>\n",
       "    <tr>\n",
       "      <th>0</th>\n",
       "      <td>인천→핀란드 항공기 결항…휴가철 여행객 분통</td>\n",
       "      <td>4</td>\n",
       "    </tr>\n",
       "    <tr>\n",
       "      <th>1</th>\n",
       "      <td>실리콘밸리 넘어서겠다…구글 15조원 들여 美전역 거점화</td>\n",
       "      <td>4</td>\n",
       "    </tr>\n",
       "    <tr>\n",
       "      <th>2</th>\n",
       "      <td>이란 외무 긴장완화 해결책은 미국이 경제전쟁 멈추는 것</td>\n",
       "      <td>4</td>\n",
       "    </tr>\n",
       "    <tr>\n",
       "      <th>3</th>\n",
       "      <td>NYT 클린턴 측근韓기업 특수관계 조명…공과 사 맞물려종합</td>\n",
       "      <td>4</td>\n",
       "    </tr>\n",
       "    <tr>\n",
       "      <th>4</th>\n",
       "      <td>시진핑 트럼프에 중미 무역협상 조속 타결 희망</td>\n",
       "      <td>4</td>\n",
       "    </tr>\n",
       "  </tbody>\n",
       "</table>\n",
       "</div>"
      ],
      "text/plain": [
       "                              title  topic_idx\n",
       "0          인천→핀란드 항공기 결항…휴가철 여행객 분통          4\n",
       "1    실리콘밸리 넘어서겠다…구글 15조원 들여 美전역 거점화          4\n",
       "2    이란 외무 긴장완화 해결책은 미국이 경제전쟁 멈추는 것          4\n",
       "3  NYT 클린턴 측근韓기업 특수관계 조명…공과 사 맞물려종합          4\n",
       "4         시진핑 트럼프에 중미 무역협상 조속 타결 희망          4"
      ]
     },
     "execution_count": 5,
     "metadata": {},
     "output_type": "execute_result"
    }
   ],
   "source": [
    "del train_data['index']\n",
    "train_data.head()"
   ]
  },
  {
   "cell_type": "code",
   "execution_count": 6,
   "id": "1ff587ca",
   "metadata": {},
   "outputs": [
    {
     "name": "stdout",
     "output_type": "stream",
     "text": [
      "45654\n",
      "9131\n"
     ]
    }
   ],
   "source": [
    "print(len(train_data))\n",
    "print(len(test_data))"
   ]
  },
  {
   "cell_type": "code",
   "execution_count": 7,
   "id": "5933fa49",
   "metadata": {},
   "outputs": [],
   "source": [
    "def plot_graphs(history, string):\n",
    "    plt.plot(history.history[string])\n",
    "    plt.plot(history.history['val_'+string], '')\n",
    "    plt.xlabel(\"Epochs\")\n",
    "    plt.ylabel(string)\n",
    "    plt.legend([string, 'val_'+string])\n",
    "    plt.show()"
   ]
  },
  {
   "cell_type": "code",
   "execution_count": 8,
   "id": "2d401a1d",
   "metadata": {},
   "outputs": [],
   "source": [
    "#random seed 고정\n",
    "np.random.seed(125)"
   ]
  },
  {
   "cell_type": "markdown",
   "id": "cd4c1ebd",
   "metadata": {},
   "source": [
    "# Training"
   ]
  },
  {
   "cell_type": "code",
   "execution_count": 10,
   "id": "e4c62b02",
   "metadata": {},
   "outputs": [
    {
     "name": "stdout",
     "output_type": "stream",
     "text": [
      "/home/lab07/0707/dacon_topic_classificate/.cache/kobert_v1.zip[██████████████████████████████████████████████████]\n",
      "/home/lab07/0707/dacon_topic_classificate/.cache/kobert_news_wiki_ko_cased-1087f8699e.spiece[██████████████████████████████████████████████████]\n"
     ]
    }
   ],
   "source": [
    "bertmodel, vocab = get_pytorch_kobert_model()"
   ]
  },
  {
   "cell_type": "code",
   "execution_count": 11,
   "id": "a7148d8a",
   "metadata": {},
   "outputs": [
    {
     "data": {
      "text/plain": [
       "{0: 0, 1: 1, 2: 2, 3: 3, 4: 4, 5: 5, 6: 6}"
      ]
     },
     "execution_count": 11,
     "metadata": {},
     "output_type": "execute_result"
    }
   ],
   "source": [
    "from sklearn.preprocessing import LabelEncoder\n",
    "encoder = LabelEncoder()\n",
    "encoder.fit(train_data['topic_idx'])\n",
    "train_data['topic_idx'] = encoder.transform(train_data['topic_idx'])\n",
    "train_data.head()\n",
    "\n",
    "# 매핑\n",
    "mapping = dict(zip(range(len(encoder.classes_)), encoder.classes_))\n",
    "mapping"
   ]
  },
  {
   "cell_type": "code",
   "execution_count": 12,
   "id": "065900d4",
   "metadata": {},
   "outputs": [
    {
     "name": "stdout",
     "output_type": "stream",
     "text": [
      "[['인천→핀란드 항공기 결항…휴가철 여행객 분통', 4], ['실리콘밸리 넘어서겠다…구글 15조원 들여 美전역 거점화', 4], ['이란 외무 긴장완화 해결책은 미국이 경제전쟁 멈추는 것', 4], ['NYT 클린턴 측근韓기업 특수관계 조명…공과 사 맞물려종합', 4], ['시진핑 트럼프에 중미 무역협상 조속 타결 희망', 4], ['팔레스타인 가자지구서 16세 소년 이스라엘군 총격에 사망', 4], ['인도 48년 만에 파키스탄 공습…테러 캠프 폭격종합2보', 4], ['美대선 TV토론 음담패설 만회실패 트럼프…사과 대신 빌클린턴 공격해 역효과', 4], ['푸틴 한반도 상황 진전 위한 방안 김정은 위원장과 논의', 4], ['특검 면죄부 받은 트럼프 스캔들 보도 언론 맹공…국민의 적', 4]]\n"
     ]
    }
   ],
   "source": [
    "lst=[list(train_data.iloc[i]) for i in range(len(train_data))]\n",
    "print(lst[:10])"
   ]
  },
  {
   "cell_type": "code",
   "execution_count": 13,
   "id": "36a71543",
   "metadata": {},
   "outputs": [],
   "source": [
    "#value error가 발생하여 list 형식으로 변경해주었다."
   ]
  },
  {
   "cell_type": "code",
   "execution_count": 14,
   "id": "f6daf2bd",
   "metadata": {},
   "outputs": [
    {
     "name": "stdout",
     "output_type": "stream",
     "text": [
      "[['유튜브 내달 2일까지 크리에이터 지원 공간 운영', 0], ['어버이날 맑다가 흐려져…남부지방 옅은 황사', 0], ['내년부터 국가RD 평가 때 논문건수는 반영 않는다', 0], ['김명자 신임 과총 회장 원로와 젊은 과학자 지혜 모을 것', 0], ['회색인간 작가 김동식 양심고백 등 새 소설집 2권 출간', 0], ['야외서 생방송 하세요…액션캠 전용 요금제 잇따라', 0], ['월드컵 태극전사 16강 전초기지 레오강 입성종합', 0], ['미세먼지 속 출근길', 0], ['왓츠앱稅 230원에 성난 레바논 민심…총리사퇴로 이어져종합2보', 0], ['베트남 경제 고성장 지속…2분기 GDP 6.71% 성장', 0]]\n"
     ]
    }
   ],
   "source": [
    "test_data = [list(test_data.iloc[i]) for i in range(len(test_data))]\n",
    "print(test_data[:10])"
   ]
  },
  {
   "cell_type": "code",
   "execution_count": 15,
   "id": "b3aa704a",
   "metadata": {},
   "outputs": [
    {
     "name": "stdout",
     "output_type": "stream",
     "text": [
      "using cached model. /home/lab07/0707/dacon_topic_classificate/.cache/kobert_news_wiki_ko_cased-1087f8699e.spiece\n"
     ]
    }
   ],
   "source": [
    "# 기본 Bert tokenizer 사용\n",
    "tokenizer = get_tokenizer()\n",
    "tok = nlp.data.BERTSPTokenizer(tokenizer, vocab, lower=False)\n",
    "\n",
    "class BERTDataset(Dataset):\n",
    "    def __init__(self, dataset, sent_idx, label_idx, bert_tokenizer, max_len,\n",
    "                 pad, pair):\n",
    "        transform = nlp.data.BERTSentenceTransform(\n",
    "            bert_tokenizer, max_seq_length=max_len, pad=pad, pair=pair) \n",
    "\n",
    "        self.sentences = [transform([i[sent_idx]]) for i in dataset]\n",
    "        self.labels = [np.int32(i[label_idx]) for i in dataset]\n",
    "\n",
    "    def __getitem__(self, i):\n",
    "        return (self.sentences[i] + (self.labels[i], ))\n",
    "\n",
    "    def __len__(self):\n",
    "        return (len(self.labels))"
   ]
  },
  {
   "cell_type": "code",
   "execution_count": 16,
   "id": "8658e974",
   "metadata": {},
   "outputs": [],
   "source": [
    "# Setting parameters\n",
    "max_len = 64 # 해당 길이를 초과하는 단어에 대해선 bert가 학습하지 않음\n",
    "batch_size = 64  \n",
    "warmup_ratio = 0.1\n",
    "num_epochs = 5 \n",
    "max_grad_norm = 1\n",
    "log_interval = 20 \n",
    "learning_rate = 5e-5"
   ]
  },
  {
   "cell_type": "code",
   "execution_count": 17,
   "id": "8e2ff52e",
   "metadata": {},
   "outputs": [
    {
     "name": "stdout",
     "output_type": "stream",
     "text": [
      "train shape is: 36523\n",
      "valid shape is: 9131\n"
     ]
    }
   ],
   "source": [
    "# Train / Valid set 분리\n",
    "from sklearn.model_selection import train_test_split\n",
    "train, valid = train_test_split(lst, test_size=0.2, random_state=42)\n",
    "print(\"train shape is:\", len(train))\n",
    "print(\"valid shape is:\", len(valid))"
   ]
  },
  {
   "cell_type": "code",
   "execution_count": 18,
   "id": "a0757072",
   "metadata": {},
   "outputs": [],
   "source": [
    "data_train = BERTDataset(train, 0, 1, tok, max_len, True, False)\n",
    "data_valid = BERTDataset(valid, 0, 1, tok, max_len, True, False)"
   ]
  },
  {
   "cell_type": "code",
   "execution_count": 19,
   "id": "b77839dc",
   "metadata": {},
   "outputs": [
    {
     "name": "stderr",
     "output_type": "stream",
     "text": [
      "/home/ubuntu/anaconda3/envs/python3/lib/python3.8/site-packages/torch/utils/data/dataloader.py:557: UserWarning: This DataLoader will create 5 worker processes in total. Our suggested max number of worker in current system is 4, which is smaller than what this DataLoader is going to create. Please be aware that excessive worker creation might get DataLoader running slow or even freeze, lower the worker number to avoid potential slowness/freeze if necessary.\n",
      "  warnings.warn(_create_warning_msg(\n"
     ]
    }
   ],
   "source": [
    "# pytorch용 DataLoader 사용\n",
    "train_dataloader = torch.utils.data.DataLoader(data_train, batch_size=batch_size, num_workers=5)\n",
    "valid_dataloader = torch.utils.data.DataLoader(data_valid, batch_size=batch_size, num_workers=5)"
   ]
  },
  {
   "cell_type": "code",
   "execution_count": 20,
   "id": "f73e42b7",
   "metadata": {},
   "outputs": [],
   "source": [
    "class BERTClassifier(nn.Module):\n",
    "    def __init__(self,\n",
    "                 bert,\n",
    "                 hidden_size = 768,\n",
    "                 num_classes = 7, # softmax 사용 <- binary일 경우는 2\n",
    "                 dr_rate=None,\n",
    "                 params=None):\n",
    "        super(BERTClassifier, self).__init__()\n",
    "        self.bert = bert\n",
    "        self.dr_rate = dr_rate\n",
    "                 \n",
    "        self.classifier = nn.Linear(hidden_size , num_classes)\n",
    "        if dr_rate:\n",
    "            self.dropout = nn.Dropout(p=dr_rate)\n",
    "    \n",
    "    def gen_attention_mask(self, token_ids, valid_length):\n",
    "        attention_mask = torch.zeros_like(token_ids)\n",
    "        for i, v in enumerate(valid_length):\n",
    "            attention_mask[i][:v] = 1\n",
    "        return attention_mask.float()\n",
    "\n",
    "    def forward(self, token_ids, valid_length, segment_ids):\n",
    "        attention_mask = self.gen_attention_mask(token_ids, valid_length)\n",
    "        \n",
    "        _, pooler = self.bert(input_ids = token_ids, token_type_ids = segment_ids.long(), attention_mask = attention_mask.float().to(token_ids.device))\n",
    "        if self.dr_rate:\n",
    "            out = self.dropout(pooler)\n",
    "        return self.classifier(out)"
   ]
  },
  {
   "cell_type": "code",
   "execution_count": 21,
   "id": "c1b873ec",
   "metadata": {},
   "outputs": [],
   "source": [
    "model = BERTClassifier(bertmodel, dr_rate=0.5).cuda()"
   ]
  },
  {
   "cell_type": "code",
   "execution_count": 22,
   "id": "aa67ceec",
   "metadata": {},
   "outputs": [],
   "source": [
    "# Prepare optimizer and schedule (linear warmup and decay)\n",
    "no_decay = ['bias', 'LayerNorm.weight']\n",
    "optimizer_grouped_parameters = [\n",
    "    {'params': [p for n, p in model.named_parameters() if not any(nd in n for nd in no_decay)], 'weight_decay': 0.01},\n",
    "    {'params': [p for n, p in model.named_parameters() if any(nd in n for nd in no_decay)], 'weight_decay': 0.0}\n",
    "]"
   ]
  },
  {
   "cell_type": "code",
   "execution_count": 23,
   "id": "1b80b8c6",
   "metadata": {},
   "outputs": [
    {
     "name": "stderr",
     "output_type": "stream",
     "text": [
      "/home/ubuntu/anaconda3/envs/python3/lib/python3.8/site-packages/transformers/optimization.py:306: FutureWarning: This implementation of AdamW is deprecated and will be removed in a future version. Use the PyTorch implementation torch.optim.AdamW instead, or set `no_deprecation_warning=True` to disable this warning\n",
      "  warnings.warn(\n"
     ]
    }
   ],
   "source": [
    "# 옵티마이저 선언\n",
    "optimizer = AdamW(optimizer_grouped_parameters, lr=learning_rate)\n",
    "loss_fn = nn.CrossEntropyLoss()"
   ]
  },
  {
   "cell_type": "code",
   "execution_count": 24,
   "id": "2edb9c79",
   "metadata": {},
   "outputs": [],
   "source": [
    "t_total = len(train_dataloader) * num_epochs\n",
    "warmup_step = int(t_total * warmup_ratio)"
   ]
  },
  {
   "cell_type": "code",
   "execution_count": 25,
   "id": "73ba2ab7",
   "metadata": {},
   "outputs": [],
   "source": [
    "scheduler = get_cosine_schedule_with_warmup(optimizer, num_warmup_steps=warmup_step, num_training_steps=t_total)"
   ]
  },
  {
   "cell_type": "code",
   "execution_count": 26,
   "id": "2cfc89cd",
   "metadata": {},
   "outputs": [],
   "source": [
    "# 학습 평가 지표인 accuracy 계산 -> 얼마나 타겟값을 많이 맞추었는가\n",
    "def calc_accuracy(X,Y):\n",
    "    max_vals, max_indices = torch.max(X, 1)\n",
    "    train_acc = (max_indices == Y).sum().data.cpu().numpy()/max_indices.size()[0]\n",
    "    return train_acc"
   ]
  },
  {
   "cell_type": "code",
   "execution_count": 27,
   "id": "f479752e",
   "metadata": {},
   "outputs": [
    {
     "name": "stdout",
     "output_type": "stream",
     "text": [
      " ====================== epoch 1 ======================\n"
     ]
    },
    {
     "name": "stderr",
     "output_type": "stream",
     "text": [
      "/tmp/ipykernel_11105/2973875419.py:7: TqdmDeprecationWarning: This function will be removed in tqdm==5.0.0\n",
      "Please use `tqdm.notebook.tqdm` instead of `tqdm.tqdm_notebook`\n",
      "  for batch_id, (token_ids, valid_length, segment_ids, label) in enumerate(tqdm_notebook(train_dataloader)):\n"
     ]
    },
    {
     "data": {
      "application/vnd.jupyter.widget-view+json": {
       "model_id": "de67d23381184bd9815164176dcdb9c8",
       "version_major": 2,
       "version_minor": 0
      },
      "text/plain": [
       "  0%|          | 0/571 [00:00<?, ?it/s]"
      ]
     },
     "metadata": {},
     "output_type": "display_data"
    },
    {
     "name": "stdout",
     "output_type": "stream",
     "text": [
      "Iteration   1 | Train Loss  2.0837 | Classifier Accuracy 0.06\n",
      "Iteration  21 | Train Loss  1.9553 | Classifier Accuracy 0.14\n",
      "Iteration  41 | Train Loss  1.9427 | Classifier Accuracy 0.16\n",
      "Iteration  61 | Train Loss  1.7865 | Classifier Accuracy 0.21\n",
      "Iteration  81 | Train Loss  1.4182 | Classifier Accuracy 0.30\n",
      "Iteration 101 | Train Loss  1.1112 | Classifier Accuracy 0.39\n",
      "Iteration 121 | Train Loss  0.8438 | Classifier Accuracy 0.46\n",
      "Iteration 141 | Train Loss  0.6912 | Classifier Accuracy 0.51\n",
      "Iteration 161 | Train Loss  0.6666 | Classifier Accuracy 0.55\n",
      "Iteration 181 | Train Loss  0.5342 | Classifier Accuracy 0.58\n",
      "Iteration 201 | Train Loss  0.5510 | Classifier Accuracy 0.61\n",
      "Iteration 221 | Train Loss  0.4762 | Classifier Accuracy 0.63\n",
      "Iteration 241 | Train Loss  0.4556 | Classifier Accuracy 0.65\n",
      "Iteration 261 | Train Loss  0.3927 | Classifier Accuracy 0.67\n",
      "Iteration 281 | Train Loss  0.3884 | Classifier Accuracy 0.68\n",
      "Iteration 301 | Train Loss  0.3876 | Classifier Accuracy 0.69\n",
      "Iteration 321 | Train Loss  0.2584 | Classifier Accuracy 0.70\n",
      "Iteration 341 | Train Loss  0.3103 | Classifier Accuracy 0.71\n",
      "Iteration 361 | Train Loss  0.5654 | Classifier Accuracy 0.72\n",
      "Iteration 381 | Train Loss  0.5860 | Classifier Accuracy 0.73\n",
      "Iteration 401 | Train Loss  0.2616 | Classifier Accuracy 0.74\n",
      "Iteration 421 | Train Loss  0.6439 | Classifier Accuracy 0.74\n",
      "Iteration 441 | Train Loss  0.3567 | Classifier Accuracy 0.75\n",
      "Iteration 461 | Train Loss  0.4695 | Classifier Accuracy 0.75\n",
      "Iteration 481 | Train Loss  0.4933 | Classifier Accuracy 0.76\n",
      "Iteration 501 | Train Loss  0.2948 | Classifier Accuracy 0.76\n",
      "Iteration 521 | Train Loss  0.2427 | Classifier Accuracy 0.77\n",
      "Iteration 541 | Train Loss  0.3673 | Classifier Accuracy 0.77\n",
      "Iteration 561 | Train Loss  0.2976 | Classifier Accuracy 0.77\n",
      "epoch 1 train acc 0.7747812130900501\n"
     ]
    },
    {
     "name": "stderr",
     "output_type": "stream",
     "text": [
      "/tmp/ipykernel_11105/2973875419.py:26: TqdmDeprecationWarning: This function will be removed in tqdm==5.0.0\n",
      "Please use `tqdm.notebook.tqdm` instead of `tqdm.tqdm_notebook`\n",
      "  for batch_id, (token_ids, valid_length, segment_ids, label) in enumerate(tqdm_notebook(valid_dataloader)):\n"
     ]
    },
    {
     "data": {
      "application/vnd.jupyter.widget-view+json": {
       "model_id": "baa4bf1e59954087902ae52f2be8894b",
       "version_major": 2,
       "version_minor": 0
      },
      "text/plain": [
       "  0%|          | 0/143 [00:00<?, ?it/s]"
      ]
     },
     "metadata": {},
     "output_type": "display_data"
    },
    {
     "name": "stdout",
     "output_type": "stream",
     "text": [
      "epoch 1 valid acc 0.8796501463652626\n",
      " ====================== epoch 2 ======================\n"
     ]
    },
    {
     "data": {
      "application/vnd.jupyter.widget-view+json": {
       "model_id": "56d87b81540d4dd8bdbbafd6e827cbd5",
       "version_major": 2,
       "version_minor": 0
      },
      "text/plain": [
       "  0%|          | 0/571 [00:00<?, ?it/s]"
      ]
     },
     "metadata": {},
     "output_type": "display_data"
    },
    {
     "name": "stdout",
     "output_type": "stream",
     "text": [
      "Iteration   1 | Train Loss  0.4002 | Classifier Accuracy 0.89\n",
      "Iteration  21 | Train Loss  0.3534 | Classifier Accuracy 0.86\n",
      "Iteration  41 | Train Loss  0.5275 | Classifier Accuracy 0.86\n",
      "Iteration  61 | Train Loss  0.2374 | Classifier Accuracy 0.87\n",
      "Iteration  81 | Train Loss  0.4221 | Classifier Accuracy 0.87\n",
      "Iteration 101 | Train Loss  0.3458 | Classifier Accuracy 0.87\n",
      "Iteration 121 | Train Loss  0.4641 | Classifier Accuracy 0.87\n",
      "Iteration 141 | Train Loss  0.4945 | Classifier Accuracy 0.87\n",
      "Iteration 161 | Train Loss  0.4075 | Classifier Accuracy 0.87\n",
      "Iteration 181 | Train Loss  0.2230 | Classifier Accuracy 0.88\n",
      "Iteration 201 | Train Loss  0.5427 | Classifier Accuracy 0.88\n",
      "Iteration 221 | Train Loss  0.2319 | Classifier Accuracy 0.88\n",
      "Iteration 241 | Train Loss  0.2651 | Classifier Accuracy 0.88\n",
      "Iteration 261 | Train Loss  0.2720 | Classifier Accuracy 0.88\n",
      "Iteration 281 | Train Loss  0.2723 | Classifier Accuracy 0.88\n",
      "Iteration 301 | Train Loss  0.1926 | Classifier Accuracy 0.88\n",
      "Iteration 321 | Train Loss  0.1407 | Classifier Accuracy 0.89\n",
      "Iteration 341 | Train Loss  0.2172 | Classifier Accuracy 0.89\n",
      "Iteration 361 | Train Loss  0.3250 | Classifier Accuracy 0.89\n",
      "Iteration 381 | Train Loss  0.2728 | Classifier Accuracy 0.89\n",
      "Iteration 401 | Train Loss  0.1167 | Classifier Accuracy 0.89\n",
      "Iteration 421 | Train Loss  0.3400 | Classifier Accuracy 0.89\n",
      "Iteration 441 | Train Loss  0.2376 | Classifier Accuracy 0.89\n",
      "Iteration 461 | Train Loss  0.2603 | Classifier Accuracy 0.89\n",
      "Iteration 481 | Train Loss  0.3124 | Classifier Accuracy 0.89\n",
      "Iteration 501 | Train Loss  0.2399 | Classifier Accuracy 0.89\n",
      "Iteration 521 | Train Loss  0.1400 | Classifier Accuracy 0.89\n",
      "Iteration 541 | Train Loss  0.2079 | Classifier Accuracy 0.90\n",
      "Iteration 561 | Train Loss  0.1280 | Classifier Accuracy 0.90\n",
      "epoch 2 train acc 0.8957166639514519\n"
     ]
    },
    {
     "data": {
      "application/vnd.jupyter.widget-view+json": {
       "model_id": "3231ddbfd65d464d82f97b96f76edb79",
       "version_major": 2,
       "version_minor": 0
      },
      "text/plain": [
       "  0%|          | 0/143 [00:00<?, ?it/s]"
      ]
     },
     "metadata": {},
     "output_type": "display_data"
    },
    {
     "name": "stdout",
     "output_type": "stream",
     "text": [
      "epoch 2 valid acc 0.8833626402667101\n",
      " ====================== epoch 3 ======================\n"
     ]
    },
    {
     "data": {
      "application/vnd.jupyter.widget-view+json": {
       "model_id": "852d00312e5b4f00bcdbe55bbed7317b",
       "version_major": 2,
       "version_minor": 0
      },
      "text/plain": [
       "  0%|          | 0/571 [00:00<?, ?it/s]"
      ]
     },
     "metadata": {},
     "output_type": "display_data"
    },
    {
     "name": "stdout",
     "output_type": "stream",
     "text": [
      "Iteration   1 | Train Loss  0.2293 | Classifier Accuracy 0.89\n",
      "Iteration  21 | Train Loss  0.2434 | Classifier Accuracy 0.91\n",
      "Iteration  41 | Train Loss  0.4766 | Classifier Accuracy 0.91\n",
      "Iteration  61 | Train Loss  0.0959 | Classifier Accuracy 0.91\n",
      "Iteration  81 | Train Loss  0.2573 | Classifier Accuracy 0.92\n",
      "Iteration 101 | Train Loss  0.2177 | Classifier Accuracy 0.92\n",
      "Iteration 121 | Train Loss  0.2970 | Classifier Accuracy 0.92\n",
      "Iteration 141 | Train Loss  0.2763 | Classifier Accuracy 0.92\n",
      "Iteration 161 | Train Loss  0.2804 | Classifier Accuracy 0.92\n",
      "Iteration 181 | Train Loss  0.1461 | Classifier Accuracy 0.92\n",
      "Iteration 201 | Train Loss  0.3047 | Classifier Accuracy 0.92\n",
      "Iteration 221 | Train Loss  0.1130 | Classifier Accuracy 0.92\n",
      "Iteration 241 | Train Loss  0.2708 | Classifier Accuracy 0.92\n",
      "Iteration 261 | Train Loss  0.1286 | Classifier Accuracy 0.92\n",
      "Iteration 281 | Train Loss  0.1885 | Classifier Accuracy 0.92\n",
      "Iteration 301 | Train Loss  0.1660 | Classifier Accuracy 0.92\n",
      "Iteration 321 | Train Loss  0.1328 | Classifier Accuracy 0.92\n",
      "Iteration 341 | Train Loss  0.1385 | Classifier Accuracy 0.92\n",
      "Iteration 361 | Train Loss  0.3709 | Classifier Accuracy 0.92\n",
      "Iteration 381 | Train Loss  0.2699 | Classifier Accuracy 0.92\n",
      "Iteration 401 | Train Loss  0.0506 | Classifier Accuracy 0.93\n",
      "Iteration 421 | Train Loss  0.0894 | Classifier Accuracy 0.93\n",
      "Iteration 441 | Train Loss  0.1943 | Classifier Accuracy 0.93\n",
      "Iteration 461 | Train Loss  0.2153 | Classifier Accuracy 0.93\n",
      "Iteration 481 | Train Loss  0.1558 | Classifier Accuracy 0.93\n",
      "Iteration 501 | Train Loss  0.1443 | Classifier Accuracy 0.93\n",
      "Iteration 521 | Train Loss  0.0816 | Classifier Accuracy 0.93\n",
      "Iteration 541 | Train Loss  0.2514 | Classifier Accuracy 0.93\n",
      "Iteration 561 | Train Loss  0.1470 | Classifier Accuracy 0.93\n",
      "epoch 3 train acc 0.930701569054698\n"
     ]
    },
    {
     "data": {
      "application/vnd.jupyter.widget-view+json": {
       "model_id": "18c934a99b42418b8b848ef7f956aa0d",
       "version_major": 2,
       "version_minor": 0
      },
      "text/plain": [
       "  0%|          | 0/143 [00:00<?, ?it/s]"
      ]
     },
     "metadata": {},
     "output_type": "display_data"
    },
    {
     "name": "stdout",
     "output_type": "stream",
     "text": [
      "epoch 3 valid acc 0.8906275410635875\n",
      " ====================== epoch 4 ======================\n"
     ]
    },
    {
     "data": {
      "application/vnd.jupyter.widget-view+json": {
       "model_id": "36611a4ec4e946e58a73ad086691bd35",
       "version_major": 2,
       "version_minor": 0
      },
      "text/plain": [
       "  0%|          | 0/571 [00:00<?, ?it/s]"
      ]
     },
     "metadata": {},
     "output_type": "display_data"
    },
    {
     "name": "stdout",
     "output_type": "stream",
     "text": [
      "Iteration   1 | Train Loss  0.1433 | Classifier Accuracy 0.94\n",
      "Iteration  21 | Train Loss  0.1224 | Classifier Accuracy 0.94\n",
      "Iteration  41 | Train Loss  0.3499 | Classifier Accuracy 0.95\n",
      "Iteration  61 | Train Loss  0.0672 | Classifier Accuracy 0.95\n",
      "Iteration  81 | Train Loss  0.1393 | Classifier Accuracy 0.95\n",
      "Iteration 101 | Train Loss  0.0884 | Classifier Accuracy 0.95\n",
      "Iteration 121 | Train Loss  0.2079 | Classifier Accuracy 0.95\n",
      "Iteration 141 | Train Loss  0.1697 | Classifier Accuracy 0.95\n",
      "Iteration 161 | Train Loss  0.1383 | Classifier Accuracy 0.95\n",
      "Iteration 181 | Train Loss  0.0842 | Classifier Accuracy 0.95\n",
      "Iteration 201 | Train Loss  0.1481 | Classifier Accuracy 0.95\n",
      "Iteration 221 | Train Loss  0.1117 | Classifier Accuracy 0.95\n",
      "Iteration 241 | Train Loss  0.1773 | Classifier Accuracy 0.95\n",
      "Iteration 261 | Train Loss  0.0862 | Classifier Accuracy 0.95\n",
      "Iteration 281 | Train Loss  0.0613 | Classifier Accuracy 0.95\n",
      "Iteration 301 | Train Loss  0.0994 | Classifier Accuracy 0.95\n",
      "Iteration 321 | Train Loss  0.0502 | Classifier Accuracy 0.95\n",
      "Iteration 341 | Train Loss  0.0703 | Classifier Accuracy 0.95\n",
      "Iteration 361 | Train Loss  0.1368 | Classifier Accuracy 0.95\n",
      "Iteration 381 | Train Loss  0.1165 | Classifier Accuracy 0.95\n",
      "Iteration 401 | Train Loss  0.0200 | Classifier Accuracy 0.95\n",
      "Iteration 421 | Train Loss  0.0710 | Classifier Accuracy 0.95\n",
      "Iteration 441 | Train Loss  0.0861 | Classifier Accuracy 0.96\n",
      "Iteration 461 | Train Loss  0.1104 | Classifier Accuracy 0.96\n",
      "Iteration 481 | Train Loss  0.1091 | Classifier Accuracy 0.96\n",
      "Iteration 501 | Train Loss  0.1071 | Classifier Accuracy 0.96\n",
      "Iteration 521 | Train Loss  0.0642 | Classifier Accuracy 0.96\n",
      "Iteration 541 | Train Loss  0.1276 | Classifier Accuracy 0.96\n",
      "Iteration 561 | Train Loss  0.0320 | Classifier Accuracy 0.96\n",
      "epoch 4 train acc 0.9575592850160877\n"
     ]
    },
    {
     "data": {
      "application/vnd.jupyter.widget-view+json": {
       "model_id": "dc2be059a0aa4ed9b66c2d377c974e1b",
       "version_major": 2,
       "version_minor": 0
      },
      "text/plain": [
       "  0%|          | 0/143 [00:00<?, ?it/s]"
      ]
     },
     "metadata": {},
     "output_type": "display_data"
    },
    {
     "name": "stdout",
     "output_type": "stream",
     "text": [
      "epoch 4 valid acc 0.8911230484631647\n",
      " ====================== epoch 5 ======================\n"
     ]
    },
    {
     "data": {
      "application/vnd.jupyter.widget-view+json": {
       "model_id": "f67c9f5d838849b890aeea2f2c22387f",
       "version_major": 2,
       "version_minor": 0
      },
      "text/plain": [
       "  0%|          | 0/571 [00:00<?, ?it/s]"
      ]
     },
     "metadata": {},
     "output_type": "display_data"
    },
    {
     "name": "stdout",
     "output_type": "stream",
     "text": [
      "Iteration   1 | Train Loss  0.0769 | Classifier Accuracy 0.97\n",
      "Iteration  21 | Train Loss  0.0862 | Classifier Accuracy 0.97\n",
      "Iteration  41 | Train Loss  0.1711 | Classifier Accuracy 0.97\n",
      "Iteration  61 | Train Loss  0.0349 | Classifier Accuracy 0.97\n",
      "Iteration  81 | Train Loss  0.0834 | Classifier Accuracy 0.97\n",
      "Iteration 101 | Train Loss  0.0222 | Classifier Accuracy 0.97\n",
      "Iteration 121 | Train Loss  0.2436 | Classifier Accuracy 0.97\n",
      "Iteration 141 | Train Loss  0.1069 | Classifier Accuracy 0.97\n",
      "Iteration 161 | Train Loss  0.0539 | Classifier Accuracy 0.97\n",
      "Iteration 181 | Train Loss  0.1284 | Classifier Accuracy 0.97\n",
      "Iteration 201 | Train Loss  0.1621 | Classifier Accuracy 0.97\n",
      "Iteration 221 | Train Loss  0.0397 | Classifier Accuracy 0.97\n",
      "Iteration 241 | Train Loss  0.1451 | Classifier Accuracy 0.97\n",
      "Iteration 261 | Train Loss  0.0467 | Classifier Accuracy 0.97\n",
      "Iteration 281 | Train Loss  0.0295 | Classifier Accuracy 0.97\n",
      "Iteration 301 | Train Loss  0.0541 | Classifier Accuracy 0.97\n",
      "Iteration 321 | Train Loss  0.0193 | Classifier Accuracy 0.97\n",
      "Iteration 341 | Train Loss  0.0352 | Classifier Accuracy 0.97\n",
      "Iteration 361 | Train Loss  0.0654 | Classifier Accuracy 0.97\n",
      "Iteration 381 | Train Loss  0.0484 | Classifier Accuracy 0.97\n",
      "Iteration 401 | Train Loss  0.0158 | Classifier Accuracy 0.97\n",
      "Iteration 421 | Train Loss  0.0156 | Classifier Accuracy 0.97\n",
      "Iteration 441 | Train Loss  0.0403 | Classifier Accuracy 0.97\n",
      "Iteration 461 | Train Loss  0.0948 | Classifier Accuracy 0.97\n",
      "Iteration 481 | Train Loss  0.0451 | Classifier Accuracy 0.97\n",
      "Iteration 501 | Train Loss  0.0611 | Classifier Accuracy 0.97\n",
      "Iteration 521 | Train Loss  0.0284 | Classifier Accuracy 0.97\n",
      "Iteration 541 | Train Loss  0.0570 | Classifier Accuracy 0.97\n",
      "Iteration 561 | Train Loss  0.0271 | Classifier Accuracy 0.97\n",
      "epoch 5 train acc 0.9729647344520018\n"
     ]
    },
    {
     "data": {
      "application/vnd.jupyter.widget-view+json": {
       "model_id": "ba2ff3874f0e4a79b2e69f86f1897e65",
       "version_major": 2,
       "version_minor": 0
      },
      "text/plain": [
       "  0%|          | 0/143 [00:00<?, ?it/s]"
      ]
     },
     "metadata": {},
     "output_type": "display_data"
    },
    {
     "name": "stdout",
     "output_type": "stream",
     "text": [
      "epoch 5 valid acc 0.8896466905187836\n"
     ]
    }
   ],
   "source": [
    "# 모델 학습 시작\n",
    "for e in range(num_epochs):\n",
    "    print(f' ====================== epoch %d ======================' % (e+1) )\n",
    "    train_acc = 0.0\n",
    "    test_acc = 0.0\n",
    "    model.train()\n",
    "    for batch_id, (token_ids, valid_length, segment_ids, label) in enumerate(tqdm_notebook(train_dataloader)):\n",
    "        optimizer.zero_grad()\n",
    "        token_ids = token_ids.long().cuda()\n",
    "        segment_ids = segment_ids.long().cuda()\n",
    "        valid_length= valid_length\n",
    "        label = label.long().cuda()\n",
    "        out = model(token_ids, valid_length, segment_ids)\n",
    "        loss = loss_fn(out, label)\n",
    "        loss.backward()\n",
    "        torch.nn.utils.clip_grad_norm_(model.parameters(), max_grad_norm) # gradient clipping\n",
    "        optimizer.step()\n",
    "        scheduler.step()  # Update learning rate schedule\n",
    "        train_acc += calc_accuracy(out, label)\n",
    "        if batch_id % log_interval == 0:\n",
    "            print(f'Iteration %3.d | Train Loss  %.4f | Classifier Accuracy %2.2f' % (batch_id+1, loss.data.cpu().numpy(), train_acc / (batch_id+1)))\n",
    "    print(\"epoch {} train acc {}\".format(e+1, train_acc / (batch_id+1)))\n",
    "\n",
    "    model.eval() # 평가 모드로 변경\n",
    "\n",
    "    for batch_id, (token_ids, valid_length, segment_ids, label) in enumerate(tqdm_notebook(valid_dataloader)):\n",
    "        token_ids = token_ids.long().cuda()\n",
    "        segment_ids = segment_ids.long().cuda()\n",
    "        valid_length= valid_length\n",
    "        label = label.long().cuda()\n",
    "        out = model(token_ids, valid_length, segment_ids)\n",
    "        test_acc += calc_accuracy(out, label)\n",
    "    print(\"epoch {} valid acc {}\".format(e+1, test_acc / (batch_id+1)))"
   ]
  },
  {
   "cell_type": "markdown",
   "id": "36b70acd",
   "metadata": {},
   "source": [
    "# 추론"
   ]
  },
  {
   "cell_type": "code",
   "execution_count": 28,
   "id": "45b2a08c",
   "metadata": {},
   "outputs": [],
   "source": [
    "data_test = BERTDataset(test_data, 0, 1, tok, max_len, True, False)\n",
    "test_dataloader = torch.utils.data.DataLoader(data_test, batch_size=batch_size, num_workers=5)"
   ]
  },
  {
   "cell_type": "code",
   "execution_count": 29,
   "id": "036a5f79",
   "metadata": {},
   "outputs": [
    {
     "name": "stderr",
     "output_type": "stream",
     "text": [
      "/tmp/ipykernel_11105/2741568512.py:3: TqdmDeprecationWarning: This function will be removed in tqdm==5.0.0\n",
      "Please use `tqdm.notebook.tqdm` instead of `tqdm.tqdm_notebook`\n",
      "  for batch_id, (token_ids, valid_length, segment_ids, label) in enumerate(tqdm_notebook(test_dataloader)):\n"
     ]
    },
    {
     "data": {
      "application/vnd.jupyter.widget-view+json": {
       "model_id": "c72fc83c4df54d889b117a6663d78dc9",
       "version_major": 2,
       "version_minor": 0
      },
      "text/plain": [
       "  0%|          | 0/143 [00:00<?, ?it/s]"
      ]
     },
     "metadata": {},
     "output_type": "display_data"
    }
   ],
   "source": [
    "predictions =[]\n",
    "with torch.no_grad():\n",
    "  for batch_id, (token_ids, valid_length, segment_ids, label) in enumerate(tqdm_notebook(test_dataloader)):\n",
    "    token_ids = token_ids.long().cuda()\n",
    "    segment_ids = segment_ids.long().cuda()\n",
    "    valid_length= valid_length\n",
    "    label = label.long().cuda()\n",
    "    out = model(token_ids, valid_length, segment_ids)\n",
    "    _, max_indices = torch.max(out, 1)\n",
    "\n",
    "    predictions.extend(max_indices.squeeze(0).detach().cpu().numpy())"
   ]
  },
  {
   "cell_type": "code",
   "execution_count": 30,
   "id": "1eb5f2bc",
   "metadata": {},
   "outputs": [
    {
     "name": "stdout",
     "output_type": "stream",
     "text": [
      "[2, 3, 2, 0, 3, 0, 5, 3, 4, 4, 4, 6, 4, 5, 6, 1, 6, 2, 4, 4, 4, 4, 4, 0, 0, 3, 6, 0, 5, 2, 3, 1, 4, 5, 2, 4, 5, 4, 6, 5, 5, 5, 5, 3, 0, 5, 3, 6, 1, 6, 0, 4, 6, 4, 5, 1, 4, 6, 3, 3, 4, 4, 4, 5, 3, 1, 5, 5, 2, 0, 3, 4, 3, 3, 0, 5, 1, 0, 1, 2, 6, 1, 5, 4, 6, 5, 4, 1, 6, 1, 5, 5, 4, 4, 4, 1, 6, 4, 1, 1, 5, 5, 4, 4, 5, 4, 3, 2, 0, 3, 2, 2, 2, 4, 3, 5, 3, 6, 2, 4, 5, 0, 6, 0, 2, 1, 5, 4, 0, 4, 0, 2, 6, 6, 4, 2, 6, 2, 1, 0, 5, 2, 3, 3, 4, 4, 1, 2, 3, 2, 6, 0, 1, 6, 4, 3, 5, 2, 0, 6, 1, 2, 3, 5, 5, 3, 6, 1, 1, 4, 1, 2, 2, 1, 3, 4, 2, 3, 6, 2, 5, 1, 5, 1, 5, 1, 2, 0, 3, 5, 2, 1, 0, 4, 6, 2, 6, 1, 3, 0, 1, 5, 4, 6, 5, 3, 5, 5, 5, 1, 1, 1, 3, 0, 1, 0, 4, 0, 6, 2, 4, 3, 5, 1, 0, 5, 0, 3, 4, 1, 6, 6, 3, 6, 4, 4, 5, 2, 2, 1, 5, 5, 1, 4, 0, 4, 5, 6, 6, 4, 4, 5, 1, 5, 5, 4, 5, 4, 2, 4, 5, 4, 0, 3, 3, 2, 0, 2, 5, 5, 4, 1, 0, 3, 6, 0, 3, 6, 5, 4, 6, 4, 4, 4, 4, 6, 4, 2, 3, 2, 2, 2, 5, 4, 5, 6, 4, 2, 2, 1, 6, 6, 0, 4, 6, 6, 3, 2, 1, 6, 5, 2, 5, 1, 0, 0, 3, 5, 0, 6, 5, 4, 1, 2, 2, 2, 1, 0, 4, 5, 0, 2, 4, 1, 6, 1, 0, 1, 4, 3, 3, 5, 1, 3, 3, 1, 4, 1, 4, 1, 1, 4, 4, 4, 0, 3, 5, 3, 1, 4, 2, 0, 4, 1, 4, 0, 0, 2, 6, 5, 0, 0, 6, 2, 6, 3, 6, 6, 5, 4, 4, 1, 2, 6, 2, 0, 1, 3, 5, 4, 3, 4, 0, 4, 4, 6, 5, 0, 6, 5, 4, 6, 3, 4, 5, 4, 4, 6, 0, 5, 5, 3, 5, 2, 5, 6, 5, 1, 5, 3, 5, 5, 4, 6, 6, 6, 6, 5, 4, 1, 6, 1, 4, 3, 5, 3, 5, 6, 6, 6, 1, 1, 5, 3, 6, 2, 3, 3, 3, 6, 1, 3, 1, 1, 0, 1, 5, 4, 2, 3, 5, 2, 3, 1, 1, 6, 1, 5, 6, 0, 1, 2, 3, 5, 5, 4, 5, 1, 0, 0, 5, 3, 1, 6, 6, 0, 4, 6, 2, 5, 4, 2, 6, 3, 5, 6, 6, 4, 6, 6, 4, 0, 5, 1, 2, 2, 2, 0, 0, 1, 1, 1, 6, 3, 6, 0, 1, 1, 6, 2, 1, 1, 1, 0, 6, 2, 6, 6, 2, 3, 1, 1, 1, 5, 1, 6, 0, 5, 6, 1, 1, 4, 6, 0, 4, 0, 1, 5, 6, 5, 6, 5, 1, 6, 1, 6, 6, 5, 3, 5, 1, 6, 2, 5, 0, 5, 2, 4, 1, 2, 4, 1, 6, 6, 1, 1, 2, 5, 4, 1, 4, 5, 3, 2, 3, 5, 6, 2, 5, 0, 3, 1, 4, 4, 2, 2, 4, 6, 2, 6, 0, 1, 5, 0, 4, 4, 4, 1, 2, 4, 3, 5, 0, 2, 6, 1, 1, 4, 6, 0, 6, 5, 6, 4, 1, 3, 4, 5, 0, 5, 6, 1, 6, 4, 5, 5, 4, 6, 2, 3, 6, 3, 1, 1, 4, 1, 3, 6, 1, 1, 4, 4, 1, 3, 5, 4, 0, 5, 4, 1, 4, 5, 2, 4, 0, 2, 0, 3, 4, 2, 0, 6, 4, 0, 6, 4, 1, 5, 4, 5, 0, 0, 5, 1, 6, 1, 4, 3, 3, 5, 4, 4, 5, 4, 2, 0, 4, 0, 5, 2, 3, 6, 5, 6, 6, 0, 0, 2, 4, 3, 2, 6, 3, 1, 3, 0, 3, 5, 5, 6, 6, 0, 4, 4, 1, 0, 6, 4, 1, 6, 4, 6, 4, 5, 2, 5, 0, 5, 6, 2, 0, 2, 6, 5, 5, 6, 6, 6, 0, 3, 3, 1, 0, 5, 5, 6, 6, 6, 4, 4, 4, 5, 0, 0, 3, 0, 4, 3, 2, 6, 3, 4, 1, 3, 6, 1, 3, 6, 1, 3, 4, 3, 6, 3, 3, 4, 5, 2, 4, 0, 4, 1, 1, 6, 6, 4, 2, 4, 6, 0, 2, 5, 4, 6, 6, 6, 1, 3, 5, 5, 5, 0, 3, 3, 3, 6, 3, 4, 3, 3, 5, 2, 1, 0, 4, 6, 2, 4, 2, 1, 0, 3, 5, 5, 2, 4, 4, 2, 0, 4, 2, 4, 3, 3, 5, 2, 5, 0, 6, 4, 6, 6, 2, 3, 4, 0, 4, 3, 1, 1, 2, 0, 0, 3, 1, 2, 4, 1, 1, 0, 3, 4, 0, 0, 4, 6, 1, 2, 3, 2, 1, 5, 1, 0, 6, 3, 0, 4, 0, 0, 3, 0, 1, 6, 1, 6, 6, 5, 4, 1, 0, 4, 4, 6, 5, 5, 1, 3, 6, 1, 6, 5, 2, 5, 6, 1, 4, 3, 0, 2, 0, 1, 2, 6, 0, 5, 5, 1, 5, 5, 6, 5, 6, 5, 0, 3, 4, 1, 0, 4, 3, 4, 4, 1, 4, 5, 6, 4, 3, 6, 0, 4, 4, 3, 6, 6, 3, 3, 4, 0, 6, 6, 5, 0, 0, 3, 1, 4, 6, 5, 4, 1, 5, 5, 3, 6, 6, 5, 6, 3, 6, 2, 3, 4, 2, 4, 5, 0, 1, 5, 1, 0, 6, 3, 4, 4, 1, 5, 6, 0, 2, 1, 0, 6, 2, 6, 6, 5, 5, 5, 0, 2, 5, 4, 2, 6, 0, 5, 3, 3, 5, 6, 4, 3, 4, 4, 6, 0, 6, 1, 5, 4, 5, 0, 2, 0, 6, 2, 6, 1, 0, 0, 6, 4, 4, 4, 5, 4, 4, 6, 0, 5, 6, 6, 5, 2, 2, 5, 5, 6, 2, 5, 2, 4, 6, 6, 3, 6, 2, 5, 5, 1, 5, 1, 6, 1, 3, 3, 2, 4, 4, 4, 4, 2, 2, 2, 6, 0, 6, 0, 2, 0, 2, 4, 4, 2, 2, 4, 3, 5, 1, 3, 4, 6, 6, 2, 3, 5, 6, 4, 5, 2, 0, 3, 6, 5, 4, 1, 6, 2, 6, 5, 5, 6, 2, 3, 6, 4, 4, 6, 5, 0, 1, 3, 4, 4, 0, 4, 4, 5, 4, 1, 6, 6, 4, 4, 1, 0, 1, 4, 3, 2, 2, 2, 5, 0, 6, 1, 3, 5, 6, 4, 5, 0, 4, 5, 4, 5, 1, 2, 4, 3, 4, 2, 4, 2, 5, 6, 5, 0, 6, 6, 4, 1, 5, 5, 4, 5, 6, 6, 1, 0, 3, 6, 1, 4, 6, 2, 1, 6, 5, 4, 1, 6, 3, 1, 0, 0, 6, 4, 1, 5, 1, 1, 6, 5, 0, 5, 6, 4, 0, 6, 2, 3, 5, 4, 4, 4, 1, 4, 3, 3, 5, 6, 1, 6, 2, 5, 6, 2, 2, 5, 3, 2, 4, 5, 5, 3, 6, 1, 2, 1, 6, 3, 1, 2, 6, 6, 6, 6, 5, 4, 3, 3, 5, 5, 6, 1, 1, 1, 6, 5, 3, 0, 1, 1, 4, 4, 0, 5, 0, 3, 5, 0, 4, 1, 4, 5, 3, 5, 3, 4, 1, 2, 3, 3, 3, 3, 4, 0, 2, 1, 1, 3, 4, 1, 5, 5, 0, 5, 0, 3, 4, 4, 4, 4, 5, 0, 0, 2, 0, 5, 2, 4, 4, 4, 2, 5, 1, 1, 5, 2, 4, 3, 1, 2, 1, 3, 3, 2, 6, 2, 5, 6, 4, 6, 2, 4, 4, 1, 1, 1, 6, 1, 5, 0, 2, 3, 5, 0, 4, 4, 0, 0, 1, 1, 4, 0, 0, 6, 0, 2, 0, 5, 6, 2, 4, 2, 0, 6, 6, 1, 5, 2, 4, 2, 0, 0, 1, 6, 0, 5, 2, 3, 5, 1, 0, 4, 5, 5, 4, 5, 4, 0, 4, 1, 5, 0, 4, 0, 1, 3, 0, 4, 6, 0, 4, 0, 6, 1, 6, 4, 5, 1, 6, 4, 4, 3, 6, 0, 5, 3, 6, 5, 3, 4, 4, 1, 1, 5, 3, 3, 3, 5, 1, 0, 1, 1, 1, 5, 1, 0, 2, 4, 0, 4, 6, 6, 6, 2, 5, 6, 2, 5, 0, 0, 4, 3, 3, 4, 5, 1, 4, 4, 4, 3, 4, 4, 6, 4, 4, 5, 3, 1, 6, 0, 1, 2, 5, 4, 4, 1, 4, 2, 6, 5, 4, 0, 1, 2, 4, 6, 1, 1, 0, 1, 4, 2, 6, 4, 1, 4, 5, 3, 3, 3, 1, 6, 4, 0, 3, 4, 6, 5, 6, 3, 5, 3, 6, 3, 4, 2, 6, 0, 5, 3, 3, 3, 6, 4, 2, 4, 4, 5, 4, 6, 1, 1, 5, 6, 6, 6, 2, 3, 6, 2, 4, 4, 5, 5, 4, 0, 0, 3, 4, 1, 4, 2, 5, 2, 6, 1, 2, 5, 3, 1, 4, 5, 0, 6, 6, 4, 1, 6, 0, 1, 4, 5, 5, 2, 6, 3, 0, 5, 5, 2, 6, 6, 1, 5, 2, 5, 6, 6, 5, 1, 6, 5, 4, 0, 1, 3, 0, 6, 1, 0, 5, 6, 1, 3, 1, 2, 2, 6, 0, 3, 3, 1, 6, 2, 4, 6, 6, 4, 4, 3, 2, 0, 2, 6, 0, 6, 0, 4, 0, 5, 6, 6, 5, 3, 0, 5, 6, 0, 5, 0, 2, 1, 5, 4, 4, 4, 5, 3, 6, 1, 2, 4, 1, 0, 0, 4, 0, 0, 5, 3, 2, 5, 0, 3, 0, 2, 1, 4, 3, 0, 1, 3, 6, 4, 0, 4, 5, 1, 3, 3, 5, 4, 2, 5, 4, 0, 6, 4, 0, 1, 5, 5, 0, 4, 3, 1, 1, 0, 6, 5, 5, 3, 4, 6, 3, 5, 2, 0, 1, 6, 6, 6, 2, 5, 1, 2, 0, 4, 3, 4, 2, 1, 1, 3, 4, 5, 0, 0, 1, 6, 0, 6, 3, 0, 1, 4, 1, 0, 6, 4, 5, 5, 3, 2, 4, 0, 1, 4, 6, 2, 3, 5, 6, 2, 2, 0, 5, 5, 4, 6, 6, 5, 6, 3, 1, 4, 4, 2, 5, 1, 6, 4, 2, 2, 6, 3, 3, 4, 5, 6, 4, 5, 6, 5, 4, 4, 6, 5, 6, 4, 0, 4, 6, 3, 4, 6, 4, 2, 6, 5, 4, 1, 0, 4, 2, 1, 6, 4, 1, 5, 6, 6, 3, 4, 3, 2, 5, 6, 6, 0, 3, 1, 6, 2, 5, 4, 4, 4, 5, 3, 2, 1, 0, 3, 5, 4, 4, 3, 5, 5, 4, 1, 3, 3, 5, 2, 5, 3, 5, 3, 1, 4, 1, 1, 4, 1, 5, 5, 5, 5, 4, 5, 1, 0, 5, 5, 2, 0, 4, 6, 3, 3, 0, 6, 5, 3, 6, 2, 4, 6, 4, 6, 0, 6, 1, 5, 2, 5, 3, 0, 6, 4, 0, 5, 6, 1, 2, 2, 6, 0, 3, 2, 4, 1, 0, 5, 6, 6, 6, 3, 5, 6, 5, 6, 5, 6, 6, 4, 3, 0, 2, 1, 1, 5, 1, 0, 0, 2, 6, 6, 2, 0, 2, 3, 4, 2, 0, 5, 6, 5, 2, 4, 4, 5, 0, 3, 0, 6, 6, 6, 4, 3, 4, 5, 6, 4, 6, 1, 2, 3, 1, 3, 2, 3, 5, 6, 5, 2, 4, 6, 2, 1, 2, 5, 4, 6, 5, 4, 0, 6, 5, 5, 4, 2, 1, 5, 0, 3, 4, 6, 2, 6, 0, 4, 5, 6, 5, 4, 1, 6, 2, 4, 0, 5, 2, 2, 6, 1, 1, 4, 4, 6, 0, 1, 4, 1, 4, 1, 6, 6, 6, 6, 6, 2, 6, 2, 5, 1, 0, 6, 3, 1, 6, 6, 4, 2, 0, 5, 0, 0, 4, 0, 6, 4, 0, 1, 1, 6, 4, 1, 4, 1, 3, 0, 5, 5, 5, 3, 4, 0, 3, 2, 4, 5, 6, 2, 5, 5, 2, 6, 6, 0, 5, 3, 1, 0, 5, 1, 6, 4, 3, 3, 4, 3, 5, 2, 4, 4, 3, 2, 6, 5, 4, 4, 6, 3, 4, 5, 2, 0, 2, 5, 1, 2, 6, 6, 4, 0, 6, 2, 2, 5, 0, 5, 4, 1, 3, 1, 5, 3, 3, 3, 4, 5, 0, 1, 6, 4, 5, 0, 6, 0, 5, 6, 5, 4, 5, 3, 0, 1, 6, 0, 2, 4, 5, 3, 4, 1, 3, 5, 5, 0, 5, 5, 5, 0, 4, 6, 3, 0, 5, 5, 5, 5, 2, 4, 3, 3, 3, 0, 6, 2, 2, 1, 2, 4, 5, 4, 3, 1, 2, 1, 2, 1, 1, 5, 4, 2, 1, 0, 4, 6, 4, 6, 3, 4, 1, 4, 4, 1, 1, 3, 2, 6, 2, 4, 6, 5, 1, 1, 6, 4, 1, 4, 4, 6, 4, 6, 4, 2, 6, 2, 4, 0, 5, 0, 0, 3, 6, 6, 1, 6, 4, 2, 3, 5, 5, 6, 1, 5, 5, 4, 4, 4, 4, 1, 0, 3, 3, 4, 1, 6, 4, 6, 1, 1, 5, 0, 0, 0, 5, 0, 3, 6, 5, 6, 2, 1, 1, 4, 4, 1, 6, 2, 0, 2, 3, 2, 6, 1, 3, 0, 0, 5, 1, 5, 6, 3, 0, 5, 4, 1, 3, 5, 1, 5, 5, 0, 4, 4, 2, 6, 4, 0, 1, 6, 5, 2, 2, 4, 5, 1, 3, 3, 5, 0, 3, 1, 6, 3, 0, 6, 6, 6, 4, 0, 4, 1, 6, 5, 1, 6, 3, 6, 1, 4, 6, 3, 4, 5, 4, 2, 2, 6, 4, 1, 1, 6, 0, 4, 4, 4, 2, 5, 1, 4, 4, 2, 3, 5, 6, 0, 1, 3, 5, 5, 6, 4, 3, 1, 2, 4, 5, 6, 0, 2, 0, 5, 4, 4, 1, 2, 4, 1, 5, 4, 6, 2, 6, 1, 4, 3, 6, 6, 2, 4, 1, 1, 5, 4, 2, 1, 1, 4, 4, 4, 2, 6, 0, 2, 4, 3, 4, 2, 1, 0, 1, 5, 6, 1, 5, 1, 3, 1, 2, 6, 6, 4, 6, 5, 0, 5, 5, 3, 1, 0, 5, 5, 6, 6, 4, 0, 6, 1, 4, 0, 2, 4, 4, 5, 6, 3, 4, 3, 5, 3, 6, 4, 1, 4, 5, 4, 4, 1, 5, 4, 5, 6, 5, 1, 6, 4, 3, 5, 4, 6, 0, 3, 4, 5, 1, 2, 5, 3, 1, 4, 6, 0, 1, 1, 5, 3, 4, 2, 4, 5, 1, 6, 0, 0, 6, 4, 1, 0, 6, 4, 2, 5, 5, 3, 0, 1, 6, 4, 1, 1, 4, 4, 4, 5, 1, 1, 6, 3, 2, 0, 1, 6, 6, 0, 3, 5, 5, 3, 1, 5, 4, 2, 3, 4, 0, 4, 5, 6, 1, 5, 3, 2, 4, 4, 6, 1, 2, 4, 6, 3, 4, 1, 5, 1, 5, 3, 0, 0, 5, 6, 6, 6, 6, 3, 4, 4, 3, 2, 3, 4, 5, 4, 3, 1, 2, 6, 1, 2, 4, 1, 2, 4, 6, 5, 5, 4, 1, 0, 5, 0, 0, 6, 4, 1, 0, 0, 2, 3, 1, 2, 6, 1, 2, 2, 4, 6, 3, 6, 1, 6, 4, 5, 6, 4, 3, 3, 6, 5, 2, 0, 1, 5, 3, 3, 5, 6, 5, 2, 1, 1, 5, 2, 4, 3, 3, 5, 4, 0, 5, 5, 1, 4, 4, 6, 4, 3, 5, 4, 5, 1, 4, 5, 1, 0, 1, 0, 6, 4, 0, 6, 1, 3, 0, 4, 0, 6, 6, 3, 5, 2, 5, 2, 4, 4, 0, 6, 1, 1, 4, 4, 6, 5, 3, 0, 3, 5, 4, 5, 4, 3, 1, 5, 0, 2, 1, 5, 4, 2, 1, 4, 4, 3, 6, 5, 4, 4, 2, 4, 1, 0, 5, 4, 5, 4, 4, 1, 6, 6, 3, 4, 4, 0, 5, 6, 6, 5, 1, 1, 4, 5, 1, 3, 4, 1, 3, 5, 4, 2, 4, 1, 0, 4, 3, 2, 2, 3, 6, 1, 1, 1, 6, 6, 4, 4, 4, 6, 3, 4, 4, 6, 6, 3, 5, 6, 1, 0, 2, 4, 4, 3, 3, 2, 4, 3, 4, 1, 6, 3, 2, 5, 4, 4, 4, 6, 0, 4, 0, 1, 5, 5, 6, 5, 1, 3, 0, 1, 6, 1, 6, 3, 6, 2, 4, 1, 3, 1, 4, 4, 6, 1, 1, 3, 4, 3, 4, 3, 2, 1, 1, 4, 1, 1, 4, 3, 1, 5, 4, 4, 5, 1, 2, 4, 6, 4, 5, 4, 2, 1, 6, 1, 2, 3, 0, 3, 6, 3, 1, 3, 4, 6, 5, 1, 1, 2, 3, 3, 4, 4, 6, 5, 4, 4, 2, 5, 3, 5, 4, 3, 1, 6, 2, 6, 5, 6, 5, 3, 6, 0, 5, 1, 4, 6, 5, 5, 2, 0, 2, 0, 1, 0, 6, 4, 2, 0, 5, 4, 1, 2, 6, 0, 1, 4, 5, 5, 4, 5, 3, 1, 5, 6, 6, 5, 2, 5, 4, 3, 6, 6, 5, 3, 2, 0, 5, 5, 6, 1, 3, 6, 0, 6, 6, 5, 6, 4, 1, 2, 1, 4, 0, 5, 3, 2, 3, 5, 5, 0, 3, 6, 5, 5, 5, 6, 5, 5, 5, 6, 1, 1, 1, 2, 2, 3, 1, 2, 0, 6, 5, 2, 1, 6, 1, 6, 0, 3, 6, 1, 1, 6, 3, 0, 6, 2, 0, 3, 5, 4, 0, 6, 5, 6, 4, 3, 6, 0, 3, 1, 4, 4, 0, 4, 2, 5, 0, 4, 3, 5, 0, 4, 0, 1, 6, 1, 4, 4, 1, 5, 4, 5, 4, 1, 0, 1, 1, 0, 2, 3, 4, 2, 0, 6, 3, 5, 4, 1, 3, 1, 5, 1, 5, 5, 5, 6, 3, 0, 3, 6, 1, 6, 5, 2, 5, 4, 1, 5, 2, 0, 6, 3, 4, 0, 6, 2, 5, 5, 6, 3, 4, 5, 2, 5, 0, 4, 1, 1, 4, 0, 3, 0, 4, 6, 1, 5, 3, 2, 4, 5, 1, 2, 5, 4, 6, 3, 3, 0, 6, 4, 5, 5, 3, 4, 6, 1, 1, 1, 5, 2, 4, 4, 4, 2, 0, 6, 3, 6, 5, 0, 4, 0, 6, 1, 2, 6, 5, 3, 1, 2, 4, 6, 4, 6, 3, 3, 2, 4, 3, 6, 4, 4, 6, 5, 0, 0, 2, 0, 4, 6, 3, 4, 5, 3, 6, 4, 2, 6, 6, 3, 4, 0, 2, 5, 2, 0, 0, 4, 0, 0, 4, 6, 3, 0, 4, 0, 5, 6, 5, 3, 3, 3, 0, 3, 4, 4, 4, 6, 6, 6, 3, 6, 3, 2, 4, 6, 5, 0, 6, 1, 6, 0, 1, 6, 1, 2, 4, 3, 4, 5, 3, 3, 1, 4, 2, 2, 5, 5, 0, 5, 1, 5, 5, 5, 3, 6, 2, 0, 6, 6, 1, 4, 0, 0, 3, 5, 4, 3, 3, 2, 3, 5, 3, 5, 2, 1, 1, 6, 0, 3, 2, 4, 2, 5, 4, 1, 0, 3, 5, 6, 4, 0, 6, 0, 2, 6, 4, 4, 0, 4, 6, 5, 1, 0, 2, 1, 0, 3, 3, 6, 5, 4, 3, 1, 3, 5, 0, 2, 6, 6, 1, 3, 4, 6, 1, 1, 1, 4, 3, 5, 2, 3, 4, 4, 4, 6, 6, 2, 4, 5, 4, 5, 3, 4, 5, 6, 3, 6, 6, 2, 1, 4, 5, 0, 6, 3, 1, 4, 3, 1, 5, 3, 4, 2, 1, 6, 2, 6, 3, 4, 5, 2, 3, 2, 6, 3, 0, 5, 6, 6, 2, 4, 0, 5, 5, 4, 5, 0, 4, 4, 5, 3, 5, 6, 6, 2, 2, 3, 5, 5, 6, 3, 4, 6, 6, 3, 4, 6, 5, 6, 3, 1, 6, 6, 6, 5, 3, 0, 4, 2, 3, 2, 4, 3, 4, 4, 3, 3, 5, 1, 2, 0, 6, 0, 1, 1, 0, 3, 5, 3, 6, 3, 5, 0, 1, 2, 3, 6, 4, 4, 2, 5, 6, 5, 0, 0, 6, 4, 3, 4, 4, 3, 3, 1, 0, 6, 2, 5, 4, 0, 6, 2, 5, 4, 3, 5, 3, 0, 1, 2, 5, 3, 4, 0, 0, 4, 4, 2, 0, 0, 0, 4, 0, 5, 4, 5, 3, 1, 6, 5, 0, 0, 2, 3, 6, 0, 6, 0, 5, 6, 3, 6, 3, 0, 5, 5, 6, 4, 2, 4, 5, 0, 4, 6, 6, 4, 5, 0, 3, 4, 0, 6, 5, 6, 0, 2, 1, 6, 5, 2, 4, 3, 4, 3, 1, 5, 3, 6, 5, 4, 5, 3, 6, 3, 6, 6, 5, 0, 1, 2, 6, 2, 6, 3, 3, 4, 4, 2, 1, 4, 4, 3, 5, 5, 0, 2, 6, 4, 5, 1, 0, 0, 2, 5, 3, 6, 5, 1, 1, 4, 6, 5, 4, 5, 1, 6, 2, 3, 1, 1, 3, 4, 6, 4, 1, 0, 5, 5, 5, 4, 4, 5, 4, 4, 6, 4, 6, 1, 6, 3, 1, 5, 6, 3, 4, 1, 1, 2, 4, 6, 6, 2, 0, 1, 5, 4, 6, 5, 3, 5, 5, 1, 1, 0, 4, 4, 4, 5, 3, 2, 5, 4, 6, 5, 0, 0, 1, 6, 1, 4, 4, 5, 3, 5, 0, 1, 1, 0, 3, 0, 6, 5, 2, 2, 4, 6, 1, 6, 4, 6, 2, 6, 5, 5, 3, 5, 5, 3, 3, 4, 2, 6, 1, 4, 4, 0, 6, 0, 4, 1, 4, 0, 5, 6, 2, 2, 1, 4, 1, 2, 2, 6, 2, 0, 4, 5, 3, 3, 5, 4, 4, 0, 0, 2, 1, 2, 5, 0, 4, 4, 5, 1, 0, 3, 2, 1, 4, 3, 3, 2, 6, 4, 5, 4, 6, 3, 6, 5, 5, 4, 5, 4, 0, 4, 3, 1, 4, 0, 5, 6, 5, 5, 1, 5, 4, 2, 0, 6, 1, 6, 5, 4, 0, 0, 5, 4, 4, 2, 6, 6, 1, 4, 6, 5, 5, 3, 4, 1, 5, 4, 4, 1, 5, 5, 5, 5, 3, 4, 5, 4, 6, 6, 6, 1, 6, 5, 5, 6, 2, 6, 0, 4, 4, 6, 6, 2, 2, 6, 5, 0, 6, 4, 2, 1, 1, 3, 5, 6, 5, 4, 1, 5, 1, 5, 5, 0, 0, 0, 4, 1, 4, 5, 2, 6, 4, 0, 5, 6, 0, 3, 5, 4, 4, 5, 5, 4, 6, 6, 5, 6, 2, 2, 5, 5, 1, 2, 1, 3, 4, 5, 0, 0, 6, 1, 3, 4, 4, 4, 2, 1, 1, 3, 4, 6, 3, 0, 4, 4, 3, 2, 4, 4, 6, 6, 4, 6, 0, 2, 5, 2, 5, 5, 1, 4, 3, 3, 1, 2, 3, 4, 3, 6, 6, 4, 2, 5, 3, 5, 1, 4, 4, 4, 2, 4, 4, 4, 5, 6, 3, 4, 0, 1, 1, 3, 1, 4, 4, 3, 4, 6, 1, 4, 0, 6, 3, 0, 5, 0, 5, 1, 5, 5, 2, 3, 3, 3, 3, 1, 2, 1, 0, 4, 5, 2, 5, 1, 5, 0, 5, 5, 1, 1, 4, 4, 2, 2, 3, 0, 3, 4, 0, 3, 5, 6, 3, 4, 0, 5, 3, 0, 2, 6, 0, 6, 4, 1, 0, 5, 2, 5, 6, 6, 0, 1, 5, 4, 4, 5, 4, 0, 6, 4, 5, 4, 6, 6, 4, 1, 6, 4, 5, 5, 3, 1, 5, 0, 6, 5, 0, 2, 5, 1, 3, 1, 4, 2, 1, 0, 1, 4, 5, 1, 1, 2, 6, 5, 4, 4, 1, 5, 4, 0, 1, 0, 6, 6, 2, 3, 2, 1, 0, 4, 4, 0, 4, 4, 2, 6, 4, 2, 6, 6, 3, 5, 0, 1, 3, 0, 5, 6, 1, 0, 3, 6, 0, 4, 1, 4, 3, 3, 2, 6, 3, 2, 4, 4, 6, 3, 2, 1, 6, 5, 1, 2, 5, 4, 4, 2, 4, 0, 1, 1, 5, 3, 6, 5, 6, 5, 4, 3, 5, 0, 0, 0, 6, 6, 6, 0, 3, 1, 6, 5, 1, 3, 3, 1, 4, 4, 5, 5, 1, 0, 4, 6, 4, 6, 3, 1, 3, 5, 5, 0, 6, 5, 4, 2, 2, 3, 6, 2, 2, 3, 4, 6, 3, 6, 2, 5, 0, 3, 3, 3, 4, 0, 4, 0, 4, 5, 6, 0, 5, 0, 3, 4, 4, 1, 4, 5, 6, 1, 0, 4, 1, 0, 3, 5, 3, 1, 4, 1, 0, 1, 4, 3, 4, 3, 1, 0, 3, 0, 5, 6, 6, 6, 2, 4, 6, 2, 6, 4, 4, 5, 1, 3, 2, 3, 3, 6, 6, 0, 0, 4, 1, 6, 5, 1, 5, 4, 1, 0, 1, 4, 1, 3, 5, 5, 0, 1, 1, 2, 2, 3, 6, 5, 1, 4, 6, 1, 5, 2, 4, 4, 6, 6, 6, 6, 3, 1, 6, 0, 4, 2, 5, 5, 6, 5, 5, 6, 6, 1, 0, 4, 3, 6, 5, 5, 1, 4, 0, 2, 4, 4, 6, 5, 3, 3, 6, 2, 4, 0, 4, 4, 1, 1, 4, 3, 3, 3, 5, 0, 6, 6, 6, 5, 1, 3, 3, 6, 6, 4, 1, 0, 5, 3, 4, 3, 6, 1, 4, 2, 6, 6, 0, 2, 5, 5, 4, 2, 4, 2, 0, 2, 3, 1, 2, 0, 4, 1, 5, 3, 1, 4, 1, 6, 4, 3, 6, 6, 0, 1, 6, 4, 1, 2, 6, 0, 5, 5, 1, 0, 0, 6, 0, 6, 6, 5, 3, 2, 1, 0, 3, 1, 3, 5, 3, 4, 1, 5, 5, 2, 5, 3, 5, 4, 0, 3, 4, 5, 1, 5, 2, 5, 5, 6, 6, 1, 6, 4, 4, 1, 3, 1, 4, 0, 4, 0, 2, 4, 6, 6, 5, 1, 1, 6, 1, 1, 4, 4, 4, 3, 2, 6, 0, 2, 4, 3, 1, 5, 6, 5, 4, 1, 1, 4, 1, 1, 6, 3, 4, 4, 1, 4, 4, 1, 4, 0, 2, 3, 1, 6, 5, 6, 3, 5, 4, 3, 4, 4, 4, 2, 4, 4, 6, 3, 5, 4, 3, 1, 3, 5, 2, 1, 5, 5, 5, 5, 0, 5, 5, 1, 1, 4, 6, 5, 2, 6, 3, 4, 4, 5, 5, 5, 2, 5, 5, 4, 4, 4, 0, 5, 6, 2, 3, 0, 1, 4, 2, 3, 0, 5, 1, 6, 6, 2, 3, 4, 0, 1, 1, 2, 4, 1, 2, 6, 6, 6, 3, 5, 6, 4, 5, 1, 4, 5, 1, 5, 2, 0, 6, 2, 2, 6, 1, 6, 1, 1, 1, 1, 4, 4, 3, 5, 5, 5, 1, 5, 5, 0, 4, 4, 4, 5, 2, 4, 4, 5, 6, 3, 2, 6, 0, 3, 3, 5, 4, 5, 6, 5, 4, 6, 2, 6, 2, 3, 3, 0, 1, 6, 6, 4, 4, 4, 4, 4, 6, 0, 4, 1, 5, 2, 4, 3, 6, 6, 3, 5, 1, 0, 6, 6, 1, 0, 5, 0, 5, 6, 4, 5, 4, 6, 0, 6, 4, 0, 1, 6, 5, 0, 4, 0, 2, 3, 2, 1, 4, 6, 5, 6, 4, 0, 1, 6, 5, 5, 6, 2, 5, 6, 3, 1, 5, 5, 5, 1, 3, 6, 5, 2, 4, 6, 0, 4, 3, 2, 0, 0, 5, 0, 0, 4, 0, 6, 5, 5, 5, 0, 3, 1, 6, 1, 5, 0, 6, 5, 3, 0, 4, 5, 1, 0, 5, 4, 5, 1, 0, 4, 5, 3, 4, 1, 5, 6, 5, 2, 5, 0, 0, 1, 4, 3, 5, 4, 4, 1, 1, 0, 1, 4, 3, 0, 0, 6, 4, 1, 4, 1, 4, 5, 4, 6, 4, 4, 2, 1, 6, 3, 0, 6, 6, 3, 4, 3, 3, 6, 0, 0, 4, 0, 0, 4, 2, 4, 3, 6, 0, 6, 4, 1, 3, 0, 6, 1, 4, 5, 2, 0, 0, 6, 5, 6, 0, 5, 2, 6, 4, 0, 4, 0, 0, 0, 1, 5, 5, 5, 4, 2, 1, 2, 4, 3, 5, 0, 5, 4, 0, 0, 6, 3, 4, 4, 1, 1, 5, 3, 5, 4, 4, 6, 3, 4, 4, 2, 5, 4, 5, 0, 1, 4, 4, 4, 5, 2, 6, 5, 4, 6, 5, 5, 4, 1, 4, 3, 6, 3, 3, 5, 0, 0, 6, 1, 1, 3, 2, 2, 0, 4, 6, 6, 6, 3, 5, 3, 4, 0, 3, 5, 6, 4, 5, 0, 3, 1, 2, 4, 1, 0, 4, 5, 4, 6, 3, 6, 5, 3, 2, 3, 1, 5, 5, 6, 3, 0, 6, 2, 1, 1, 3, 4, 2, 6, 6, 1, 6, 5, 2, 1, 6, 2, 1, 4, 0, 4, 5, 0, 3, 4, 3, 4, 5, 1, 1, 6, 3, 5, 4, 4, 3, 5, 6, 4, 0, 0, 4, 5, 6, 4, 5, 3, 5, 0, 4, 0, 4, 1, 0, 5, 6, 6, 5, 3, 3, 5, 4, 6, 1, 5, 3, 0, 6, 1, 4, 4, 0, 3, 2, 5, 3, 6, 0, 5, 0, 6, 4, 5, 6, 0, 3, 0, 6, 6, 5, 6, 1, 3, 3, 2, 0, 0, 4, 6, 4, 0, 1, 4, 5, 4, 0, 4, 5, 0, 5, 0, 1, 3, 4, 1, 4, 3, 2, 5, 6, 0, 5, 5, 1, 5, 0, 4, 6, 6, 2, 4, 2, 4, 6, 0, 2, 2, 5, 2, 5, 6, 1, 4, 4, 5, 6, 6, 4, 1, 2, 2, 6, 6, 6, 2, 2, 5, 4, 6, 6, 3, 0, 6, 6, 5, 3, 5, 1, 5, 4, 5, 5, 1, 5, 3, 0, 0, 5, 6, 5, 3, 2, 3, 1, 5, 2, 4, 3, 3, 6, 3, 1, 4, 1, 2, 3, 4, 1, 1, 3, 6, 4, 0, 1, 5, 5, 2, 1, 6, 4, 5, 2, 4, 0, 5, 4, 6, 3, 4, 2, 1, 4, 2, 6, 4, 4, 5, 0, 1, 2, 5, 1, 6, 4, 1, 6, 2, 6, 0, 6, 1, 6, 4, 3, 0, 4, 5, 4, 5, 5, 4, 1, 4, 5, 4, 0, 1, 0, 2, 3, 4, 3, 1, 6, 4, 4, 2, 0, 5, 5, 6, 4, 2, 0, 1, 1, 6, 5, 4, 1, 4, 6, 2, 1, 4, 6, 4, 4, 0, 6, 5, 4, 4, 6, 4, 6, 4, 4, 2, 6, 2, 3, 1, 5, 4, 2, 1, 0, 6, 5, 2, 4, 6, 3, 3, 6, 2, 5, 4, 0, 5, 6, 6, 4, 1, 1, 3, 4, 5, 2, 0, 5, 2, 6, 5, 5, 6, 3, 4, 4, 6, 0, 6, 0, 5, 4, 2, 6, 0, 3, 4, 2, 6, 6, 0, 3, 6, 4, 5, 0, 4, 6, 0, 5, 0, 1, 5, 5, 5, 1, 4, 1, 4, 3, 2, 6, 1, 0, 5, 4, 1, 4, 4, 3, 0, 5, 2, 5, 4, 1, 0, 2, 5, 2, 0, 5, 2, 4, 2, 4, 3, 3, 3, 5, 0, 3, 3, 5, 2, 6, 5, 2, 5, 5, 5, 6, 1, 3, 5, 5, 3, 3, 4, 3, 5, 2, 5, 1, 4, 3, 4, 5, 6, 0, 6, 5, 3, 4, 4, 6, 6, 1, 5, 3, 4, 3, 3, 2, 6, 1, 2, 4, 5, 1, 5, 4, 1, 6, 4, 5, 3, 6, 0, 1, 3, 2, 3, 6, 3, 6, 4, 5, 4, 6, 1, 0, 6, 5, 4, 5, 0, 6, 6, 2, 1, 6, 0, 2, 6, 4, 4, 3, 2, 6, 6, 6, 3, 4, 3, 6, 2, 6, 2, 6, 3, 5, 3, 4, 3, 6, 4, 6, 5, 4, 5, 5, 4, 4, 6, 3, 3, 6, 0, 5, 2, 5, 0, 5, 2, 5, 0, 5, 6, 6, 4, 3, 4, 2, 1, 0, 0, 2, 6, 0, 6, 1, 3, 2, 3, 6, 6, 4, 4, 2, 0, 0, 2, 5, 6, 5, 0, 0, 6, 5, 4, 3, 3, 1, 6, 2, 6, 5, 2, 5, 0, 3, 4, 5, 1, 5, 6, 2, 0, 5, 6, 2, 0, 5, 5, 4, 6, 6, 0, 6, 5, 1, 4, 6, 4, 1, 0, 0, 2, 3, 5, 6, 6, 0, 5, 6, 0, 1, 1, 5, 5, 4, 2, 1, 5, 2, 4, 4, 0, 3, 0, 3, 4, 5, 1, 0, 1, 5, 0, 4, 6, 6, 2, 1, 3, 6, 4, 6, 4, 1, 6, 3, 0, 2, 2, 6, 6, 2, 2, 0, 5, 0, 5, 2, 3, 5, 4, 5, 5, 0, 2, 0, 4, 5, 5, 1, 6, 3, 5, 4, 6, 5, 2, 6, 6, 5, 4, 6, 3, 4, 5, 5, 3, 3, 1, 5, 4, 1, 0, 3, 0, 4, 4, 3, 6, 0, 0, 5, 0, 0, 4, 6, 2, 4, 1, 3, 5, 4, 1, 4, 4, 2, 3, 6, 1, 2, 0, 1, 5, 2, 5, 3, 1, 4, 0, 4, 3, 3, 4, 6, 6, 3, 2, 0, 3, 1, 6, 0, 6, 1, 1, 6, 0, 6, 0, 1, 1, 3, 3, 4, 6, 4, 4, 0, 4, 5, 1, 5, 1, 5, 5, 0, 5, 6, 4, 6, 6, 6, 4, 5, 6, 2, 3, 4, 6, 5, 3, 0, 3, 3, 3, 0, 0, 1, 2, 1, 3, 6, 6, 0, 6, 5, 0, 0, 6, 1, 2, 4, 6, 4, 2, 5, 0, 6, 6, 3, 2, 6, 4, 2, 3, 1, 4, 4, 0, 4, 5, 1, 1, 2, 4, 6, 4, 0, 6, 6, 4, 1, 0, 5, 4, 2, 6, 4, 0, 0, 3, 5, 5, 4, 4, 0, 0, 6, 3, 4, 0, 2, 1, 3, 0, 6, 0, 0, 0, 6, 4, 6, 1, 2, 1, 4, 3, 3, 3, 3, 2, 1, 6, 3, 3, 1, 4, 4, 6, 2, 5, 3, 4, 2, 1, 5, 4, 5, 5, 4, 3, 2, 4, 5, 4, 6, 1, 6, 3, 1, 1, 5, 6, 4, 4, 5, 5, 5, 5, 1, 5, 1, 5, 4, 4, 5, 2, 4, 6, 2, 6, 3, 5, 1, 0, 5, 6, 4, 5, 0, 6, 0, 1, 5, 4, 6, 4, 4, 1, 5, 5, 4, 3, 4, 3, 5, 6, 6, 2, 0, 3, 4, 5, 1, 1, 1, 3, 6, 2, 0, 5, 4, 4, 1, 3, 6, 1, 4, 3, 6, 2, 5, 3, 0, 3, 5, 6, 4, 3, 3, 2, 3, 5, 1, 4, 4, 6, 3, 4, 4, 2, 4, 3, 1, 4, 4, 5, 3, 4, 6, 4, 3, 2, 6, 5, 0, 0, 1, 6, 5, 0, 2, 2, 1, 2, 4, 5, 4, 4, 1, 3, 0, 2, 5, 5, 4, 3, 2, 6, 0, 0, 6, 4, 1, 6, 6, 5, 1, 5, 4, 3, 1, 0, 5, 4, 4, 5, 3, 3, 1, 0, 5, 0, 6, 4, 6, 0, 4, 3, 1, 4, 5, 2, 0, 5, 4, 5, 6, 5, 3, 3, 4, 1, 4, 1, 6, 3, 6, 5, 0, 6, 4, 1, 5, 0, 6, 5, 5, 5, 6, 3, 1, 2, 5, 5, 6, 5, 2, 5, 4, 1, 5, 6, 3, 3, 4, 2, 0, 0, 2, 2, 0, 3, 1, 6, 5, 4, 2, 5, 4, 0, 4, 4, 4, 6, 3, 0, 6, 1, 0, 4, 2, 3, 4, 5, 0, 4, 6, 3, 4, 6, 1, 2, 4, 4, 0, 1, 5, 4, 2, 5, 6, 6, 2, 2, 3, 4, 4, 4, 6, 6, 3, 5, 6, 5, 1, 2, 0, 1, 6, 4, 4, 5, 5, 2, 5, 6, 6, 3, 1, 4, 1, 4, 5, 0, 6, 4, 0, 0, 4, 2, 0, 5, 1, 4, 0, 0, 4, 2, 5, 3, 4, 6, 5, 4, 6, 0, 6, 1, 4, 2, 2, 2, 1, 5, 5, 4, 4, 6, 4, 3, 1, 5, 4, 5, 4, 3, 4, 5, 5, 3, 6, 6, 5, 0, 0, 4, 3, 6, 3, 6, 5, 4, 5, 5, 4, 4, 1, 5, 1, 1, 4, 2, 1, 6, 6, 3, 1, 0, 3, 6, 4, 6, 6, 0, 6, 0, 3, 6, 1, 6, 0, 3, 4, 3, 5, 0, 5, 4, 6, 3, 6, 2, 3, 0, 6, 3, 3, 2, 0, 1, 1, 1, 0, 0, 0, 4, 2, 3, 5, 5, 6, 1, 6, 3, 4, 2, 5, 1, 3, 6, 0, 5, 5, 1, 2, 6, 4, 6, 5, 2, 1, 5, 4, 0, 6, 2, 3, 6, 6, 0, 1, 1, 6, 5, 2, 5, 3, 6, 2, 1, 6, 4, 1, 1, 4, 6, 5, 0, 0, 4, 0, 6, 1, 5, 2, 6, 6, 3, 5, 5, 5, 2, 1, 6, 4, 4, 3, 2, 6, 1, 4, 6, 2, 1, 6, 6, 6, 6, 4, 4, 6, 3, 5, 5, 1, 1, 1, 5, 2, 6, 5, 5, 0, 2, 4, 4, 3, 5, 6, 5, 4, 2, 2, 2, 4, 2, 4, 0, 4, 3, 2, 2, 1, 2, 5, 0, 4, 4, 5, 0, 6, 0, 2, 3, 2, 1, 1, 3, 4, 4, 4, 4, 4, 4, 5, 1, 5, 5, 4, 6, 5, 4, 5, 6, 1, 6, 4, 0, 4, 6, 4, 5, 6, 1, 0, 3, 4, 4, 5, 5, 0, 6, 4, 4, 4, 4, 3, 5, 4, 4, 1, 3, 6, 5, 1, 5, 4, 5, 4, 4, 4, 1, 4, 6, 2, 5, 2, 1, 0, 4, 5, 5, 5, 6, 6, 3, 1, 6, 2, 4, 5, 4, 6, 6, 5, 6, 0, 0, 6, 2, 4, 1, 2, 4, 4, 0, 1, 3, 6, 5, 3, 4, 2, 6, 4, 5, 1, 0, 1, 5, 1, 6, 5, 6, 1, 1, 0, 0, 6, 6, 4, 2, 3, 3, 6, 5, 0, 6, 0, 0, 2, 4, 4, 1, 6, 4, 1, 2, 4, 5, 6, 4, 5, 0, 4, 4, 2, 2, 2, 2, 3, 6, 6, 6, 5, 6, 5, 2, 0, 3, 5, 4, 2, 2, 4, 4, 4, 5, 3, 0, 6, 5, 0, 5, 3, 0, 0, 2, 2, 4, 2, 5, 6, 4, 2, 3, 0, 3, 6, 1, 4, 6, 6, 2, 6, 5, 4, 0, 4, 0, 3, 0, 4, 2, 0, 5, 5, 4, 1, 2, 6, 0, 4, 5, 4, 4, 5, 4, 4, 3, 4, 6, 6, 2, 0, 2, 5, 5, 6, 1, 6, 4, 4, 4, 6, 6, 1, 4, 6, 1, 2, 0, 2, 1, 5, 4, 6, 3, 4, 1, 3, 5, 3, 5, 2, 3, 6, 6, 6, 3, 4, 4, 4, 5, 1, 3, 6, 3, 1, 4, 0, 0, 4, 0, 0, 4, 4, 3, 0, 5, 4, 4, 4, 4, 5, 6, 3, 4, 6, 2, 4, 0, 3, 3, 2, 0, 3, 1, 0, 0, 0, 6, 4, 6, 5, 5, 2, 5, 4, 0, 1, 3, 1, 0, 5, 6, 0, 0, 5, 5, 4, 2, 3, 2, 6, 5, 0, 6, 6, 4, 2, 3, 3, 0, 1, 4, 3, 3, 5, 5, 0, 6, 2, 3, 5, 0, 1, 0, 4, 4, 6, 6, 4, 6, 4, 6, 3, 6, 1, 1, 4, 1, 2, 6, 3, 5, 2, 4, 6, 3, 2, 5, 6, 0, 5, 4, 4, 1, 3, 0, 6, 4, 4, 4, 3, 2, 5, 0, 5, 4, 6, 1, 6, 1, 2, 5, 1, 1, 4, 0, 5, 0, 5, 2, 4, 0, 4, 3, 4, 5, 1, 3, 3, 3, 1, 4, 2, 4, 1, 3, 6, 4, 2, 6, 6, 0, 1, 3, 1, 5, 6, 5, 6, 0, 0, 0, 2, 1, 6, 6, 5, 0, 4, 5, 6, 4, 1, 6, 6, 4, 5, 5, 1, 0, 4, 4, 4, 3, 1, 5, 4, 6, 1, 3, 0, 4, 1, 5, 0, 4, 0, 6, 4, 3, 5, 1, 1, 4, 6, 4, 1, 4, 3, 2, 4, 3, 4, 6, 0, 5, 1, 2, 6, 3, 5, 3, 3, 3, 2, 5, 6, 5, 3, 6, 4, 1, 3, 5, 6, 4, 0, 1, 5, 1, 6, 2, 3, 2, 1, 2, 4, 1, 0, 5, 1, 4, 4, 6, 6, 3, 5, 5, 2, 6, 2, 4, 0, 1, 1, 1, 0, 6, 3, 1, 4, 6, 1, 6, 5, 3, 1, 5, 5, 3, 1, 2, 3, 6, 4, 2, 0, 6, 4, 6, 5, 5, 6, 6, 1, 1, 4, 6, 2, 6, 1, 4, 2, 0, 6, 5, 0, 3, 2, 3, 6, 4, 3, 6, 2, 1, 4, 0, 5, 6, 0, 6, 6, 2, 1, 6, 6, 2, 5, 3, 4, 3, 3, 5, 5, 6, 3, 4, 6, 2, 5, 3, 4, 2, 5, 1, 4, 5, 1, 2, 6, 0, 5, 4, 6, 6, 1, 5, 5, 5, 4, 2, 3, 1, 0, 4, 5, 3, 6, 4, 6, 6, 3, 3, 0, 4, 0, 4, 5, 6, 4, 5, 5, 6, 4, 2, 5, 6, 1, 5, 5, 3, 6, 3, 0, 5, 5, 6, 5, 4, 5, 1, 3, 4, 6, 6, 0, 1, 0, 5, 2, 5, 3, 3, 6, 5, 4, 4, 1, 6, 2, 2, 4, 4, 0, 3, 1, 4, 5, 4, 3, 1, 1, 6, 2, 5, 3, 4, 6, 3, 6, 1, 4, 4, 4, 5, 2, 0, 0, 5, 6, 2, 5, 6, 0, 3, 5, 1, 4, 1, 2, 6, 2, 1, 2, 6, 5, 5, 1, 4, 4, 4, 5, 4, 2, 4, 0, 4, 3, 4, 0, 5, 2, 6, 5, 4, 4, 5, 5, 0, 6, 5, 2, 3, 4, 0, 4, 2, 5, 6, 3, 6, 4, 0, 4, 5, 1, 6, 4, 6, 4, 4, 6, 4, 1, 0, 3, 1, 4, 4, 2, 1, 5, 3, 4, 2, 2, 5, 0, 1, 3, 5, 0, 6, 4, 2, 5, 4, 3, 3, 1, 2, 6, 4, 4, 6, 1, 4, 6, 2, 2, 5, 3, 5, 1, 4, 3, 2, 1, 4, 4, 3, 4, 3, 6, 5, 5, 6, 4, 2, 3, 6, 2, 0, 2, 6, 6, 1, 0, 6, 6, 5, 1, 2, 0, 3, 6, 6, 5, 4, 4, 1, 5, 3, 0, 3, 3, 5, 4, 2, 2, 4, 5, 5, 4, 4, 5, 4, 2, 2, 0, 0, 4, 3, 4, 6, 5, 4, 1, 0, 5, 4, 6, 2, 5, 5, 1, 4, 2, 6, 6, 5, 5, 4, 4, 3, 6, 5, 4, 6, 2, 6, 5, 5, 4, 1, 1, 3, 6, 3, 2, 1, 4, 0, 5, 2, 4, 1, 5, 5, 5, 1, 5, 5, 3, 3, 1, 2, 5, 1, 2, 2, 2, 1, 2, 5, 2, 2, 1, 2, 3, 6, 2, 0, 4, 1, 0, 1, 6, 6, 0, 5, 2, 0, 6, 2, 6, 4, 2, 5, 6, 3, 4, 5, 1, 0, 0, 5, 3, 4, 1, 3, 4, 5, 1, 6, 6, 0, 5, 1, 3, 2, 6, 5, 3, 2, 1, 5, 4, 4, 3, 3, 1, 6, 0, 0, 0, 3, 3, 6, 1, 0, 0, 4, 2, 5, 6, 4, 6, 3, 3, 5, 0, 5, 3, 1, 0, 1, 5, 6, 0, 5, 3, 3, 0, 4, 5, 0, 5, 1, 3, 6, 2, 3, 1, 5, 0, 0, 6, 2, 2, 6, 1, 1, 1, 4, 1, 3, 1, 3, 5, 4, 0, 1, 5, 4, 5, 4, 1, 3, 4, 5, 4, 1, 1, 1, 4, 0, 6, 0, 6, 1, 6, 4, 3, 4, 5, 4, 5, 0, 3, 1, 5, 2, 6, 5, 1, 2, 4, 4, 1, 4, 6, 2, 1, 0, 6, 2, 3, 5, 5, 5, 2, 5, 5, 5, 3, 1, 5, 4, 4, 3, 3, 6, 2, 1, 5, 4, 1, 4, 6, 5, 6, 4, 6, 4, 4, 2, 4, 5, 6, 6, 0, 3, 5, 4, 1, 1, 1, 5, 0, 3, 6, 4, 0, 1, 0, 3, 0, 4, 6, 5, 0, 4, 3, 0, 1, 4, 6, 5, 6, 6, 6, 1, 5, 4, 3, 4, 1, 4, 5, 6, 6, 0, 6, 0, 6, 5, 6, 2, 2, 2, 5, 2, 3, 3, 5, 5, 1, 1, 0, 2, 6, 3, 4, 2, 3, 4, 0, 3, 4, 1, 5, 4, 1, 5, 2, 5, 6, 3, 4, 1, 5, 0, 3, 2, 4, 3, 4, 1, 1, 5, 3, 1, 3, 5, 3, 1, 4, 1, 2, 2, 1, 5, 5, 4, 1, 4, 4, 6, 4, 0, 5, 6, 4, 2, 6, 6, 0, 4, 0, 1, 6, 1, 4, 4, 5, 6, 1, 4, 5, 4, 2, 0, 4, 5, 2, 2, 6, 2, 2, 6, 1, 3, 6, 1, 6, 4, 1, 0, 4, 4, 3, 1, 1, 4, 1, 4, 5, 6, 0, 5, 4, 4, 1, 2, 2, 3, 5, 3, 4, 3, 3, 3, 1, 1, 5, 6, 5, 6, 4, 5, 4, 4, 1, 5, 5, 4, 6, 6, 5, 0, 6, 5, 2, 4, 6, 2, 2, 1, 6, 4, 2, 5, 6, 5, 2, 0, 5, 6, 4, 0, 2, 4, 4, 5, 5, 4, 2, 1, 6, 5, 4, 2, 2, 2, 5, 6, 5, 0, 3, 4, 5, 6, 4, 0, 0, 0, 6, 4, 5, 3, 5, 0, 1, 6, 4, 0, 4, 1, 5, 4, 6, 4, 5, 3, 1, 3, 4, 3, 2, 0, 6, 3, 5, 2, 4, 3, 6, 3, 2, 6, 6, 0, 3, 4, 6, 3, 3, 6, 2, 2, 2, 3, 3, 0, 6, 2, 4, 5, 0, 2, 4, 6, 3, 4, 6, 5, 2, 3, 5, 5, 0, 5, 1, 3, 1, 6, 1, 5, 6, 4, 5, 0, 2, 1, 4, 4, 3, 4, 5, 5, 3, 0, 4, 6, 3, 0, 0, 4, 5, 4, 2, 0, 5, 4, 1, 4, 4, 6, 0, 6, 5, 4, 6, 5, 5, 6, 5, 4, 5, 1, 5, 4, 4, 4, 5, 6, 2, 0, 4, 4, 0, 5, 3, 6, 1, 5, 4, 5, 1, 6, 6, 4, 0, 5, 5, 2, 5, 4, 3, 2, 1, 1, 1, 1, 2, 1, 5, 5, 5, 5, 6, 6, 5, 3, 6, 3, 4, 3, 5, 1, 5, 0, 2, 5, 1, 5, 0, 4, 4, 2, 5, 6, 2, 6, 1, 2, 3, 1, 1, 4, 1, 4, 2, 0, 6, 6, 3, 2, 0, 1, 1, 5, 5, 2, 4, 6, 5, 5, 4, 0, 5, 5, 2, 6, 2, 6, 1, 0, 1, 5, 3, 3, 0, 2, 6, 3, 4, 4, 0, 4, 2, 0, 1, 4, 2, 4, 4, 4, 3, 1, 1, 3, 1, 2, 5, 3, 3, 6, 4, 5, 3, 4, 5, 6, 1, 6, 6, 2, 0, 4, 6, 6, 2, 1, 0, 4, 4, 1, 2, 1, 6, 3, 1, 4, 0, 0, 2, 1, 6, 6, 3, 3, 4, 0, 0, 4, 3, 3, 1, 4, 5, 5, 1, 2, 3, 4, 0, 5, 5, 4, 4, 0, 1, 5, 0, 4, 3, 5, 6, 4, 4, 3, 5, 6, 6, 4, 0, 4, 5, 6, 2, 1, 2, 0, 5, 6, 0, 3, 2, 3, 0, 3, 5, 4, 5, 3, 4, 2, 4, 3, 6, 3, 3, 4, 4, 3, 3, 5, 4, 6, 5, 4, 1, 2, 1, 0, 4, 2, 3, 5, 2, 4, 2, 4, 5, 0, 4, 6, 5, 2, 0, 1, 4, 5, 3, 0, 5, 3, 5, 6, 6, 6, 4, 0, 4, 5, 3, 5, 3, 5, 5, 5, 6, 2, 1, 6, 5, 5, 5, 1, 0, 6, 5, 4, 5, 3, 3, 6, 6, 2, 3, 6, 6, 0, 5, 6, 2, 3, 2, 6, 5, 5, 3, 5, 5, 2, 6, 3, 4, 3, 6, 5, 6, 0, 2, 0, 5, 2, 0, 6, 5, 6, 6, 3, 0, 5, 2, 0, 6, 6, 0, 5, 1, 2, 3, 3, 1, 2, 3, 6, 3, 1, 6, 4, 5, 5, 1, 5, 5, 5, 1, 6, 6, 6, 1, 0, 5, 0, 0, 2, 1, 5, 6, 1, 1, 6, 1, 6, 6, 6, 0, 6, 6, 3, 2, 0, 3, 0, 2, 5, 0, 0, 3, 3, 3, 6, 2, 2, 1, 1, 4, 0, 0, 6, 2, 3, 6, 2, 0, 5, 6, 6, 1, 0, 3, 3, 3, 1, 1, 3, 3, 5, 5, 1, 2, 1, 6, 3, 4, 6, 2, 0, 6, 5, 5, 6, 1, 6, 3, 6, 0, 3, 0, 5, 5, 1, 3, 1, 0, 3, 1, 0, 0, 2, 0, 2, 0, 0, 5, 2, 3, 2, 1, 0, 1, 0, 0, 1, 1, 3, 1, 2, 6, 0, 3, 0, 1, 3, 1, 1, 0, 1, 3, 1, 1, 2, 3, 1, 2, 0, 0, 2, 1, 0, 1, 3, 2, 1, 1, 2, 1, 2, 0, 1, 1, 0, 3, 3, 6, 1, 3, 2, 2, 3, 3, 4, 2, 3, 0, 1, 1, 2, 2, 3, 3, 2, 4, 2, 2, 2, 0, 2, 4, 0, 6, 0, 0, 2, 3, 3, 1, 3, 2, 3, 1, 3, 2, 4, 2, 1, 3, 3, 0, 3, 0, 0, 0, 1, 3, 0, 0, 0, 3, 1, 3, 1, 3, 1, 0, 3, 3, 3, 3, 1, 1, 2, 3, 2, 0, 1, 1, 0, 3, 1, 0, 3, 2, 2, 1, 0, 1, 1, 1, 0, 1, 3, 1, 1, 2, 1, 2, 3, 3, 2, 4, 1, 2, 1, 2, 1, 3, 3, 3, 2, 0, 0, 3, 3, 3, 1, 2, 2, 0, 2, 1, 0, 2, 4, 2, 3, 2, 0, 0, 1, 2, 1, 2, 0, 3, 3, 0, 3, 1, 3, 1, 6, 4, 1, 3, 0, 3, 0, 0, 0, 0, 3, 2, 1, 3, 5, 2, 0, 3, 2, 2, 1, 1, 0, 3, 1, 3, 3, 0, 1, 2, 1, 1, 6, 1, 6, 2, 3, 0, 0, 1, 2, 0, 2, 2, 1, 2, 0, 3, 0, 3, 2, 1, 2, 2, 0, 0, 3, 0, 2, 3, 3, 6, 0, 2, 3, 0, 2, 0, 1, 3, 0, 2, 1, 2, 0, 2, 1, 2, 3, 5, 0, 3, 2, 2, 0, 6, 1, 2, 0, 1, 3, 0, 1, 1, 0, 0, 0, 6, 2, 1, 0, 1, 1, 1, 3, 1, 3, 2, 3, 2, 0, 3, 1, 2, 2, 0, 0, 0, 6, 5, 0, 0, 2, 0, 1, 1, 3, 1, 2, 3, 1, 2, 2, 0, 3, 1, 1, 3, 0, 2, 3, 1, 1, 1, 3, 2, 2, 3, 2, 0, 4, 2, 2, 1, 0, 1, 3, 1, 1, 0, 2, 1, 0, 3, 2, 0, 3, 3, 6, 3, 0, 1, 1, 1, 1, 3, 1, 0, 3, 3, 0, 2, 0, 1, 3, 2, 3, 0, 2, 2, 0, 1, 0, 2, 3, 1, 0, 3, 2, 3, 2, 3, 1, 0, 3, 1, 1, 1, 2, 2, 1, 1, 2, 1, 2, 3, 3, 3, 0, 0, 2, 0, 3, 0, 2, 0, 1, 1, 0, 2, 0, 0, 2, 1, 0, 1, 1, 2, 3, 0, 0, 1, 1, 1, 2, 1, 3, 3, 2, 2, 1, 0, 3, 3, 3, 3, 3, 2, 6, 3, 3, 3, 2, 0, 1, 0, 1, 1, 1, 3, 2, 2, 1, 0, 1, 1, 1, 3, 3, 1, 1, 1, 1, 3, 3, 1, 2, 2, 1, 2, 1, 2, 1, 1, 1, 3, 1, 0, 0, 0, 4, 6, 3, 1, 0, 0, 3, 2, 3, 1, 1, 3, 0, 6, 1, 3, 2, 3, 1, 1, 3, 6, 2, 2, 0, 1, 2, 1, 3, 3, 1, 6, 1, 2, 0, 0, 3, 1, 2, 6, 2, 2, 0, 1, 2, 1, 1, 3, 1, 1, 1, 3, 0, 1, 1, 2, 2, 3, 1, 2, 2, 3, 1, 3, 3, 0, 1, 3, 2, 0, 2, 3, 1, 2, 0, 1, 3, 3, 2, 2, 3, 1, 3, 3, 1, 2, 3, 2, 1, 3, 3, 2, 1, 1, 1, 2, 1, 1, 3, 2, 3, 3, 1, 2, 1, 2, 3, 1, 3, 2, 3, 2, 3, 2, 2, 3, 1, 3, 3, 3, 0, 3, 6, 2, 3, 3, 2, 3, 3, 0, 2, 1, 3, 3, 2, 3, 3, 2, 3, 1, 3, 6, 0, 0, 3, 6, 3, 3, 3, 5, 3, 3, 2, 3, 2, 3, 3, 2, 3, 6, 3, 3, 3, 3, 3, 3, 6, 6, 2, 4, 2, 2, 3, 3, 2, 2, 3, 2, 2, 2, 2, 2, 6, 2, 0, 3, 3, 2, 2, 2, 4, 0, 2, 2, 0, 2, 6, 5, 2, 0, 5, 6, 6, 2, 2, 6, 2, 3, 2, 0, 0, 2, 2, 2, 6, 1, 3, 2, 2, 2, 6, 5, 2, 2, 2, 2, 2, 2, 6, 2, 2, 1, 0, 3, 2, 2, 2, 1, 2, 2, 2, 1, 2, 0, 2, 2, 2, 1, 2, 2, 2, 6, 2, 3, 2, 3, 2, 2, 6, 2, 5, 2, 2, 2, 2, 2, 2, 2, 2, 2, 2, 3, 2, 2, 3, 2, 2, 1, 2, 2, 2, 2, 2, 2, 2, 2, 1, 2, 5, 1, 3, 1, 2, 3, 1, 2, 5, 1, 2, 2, 2, 0, 0, 2, 1, 2, 1, 2, 0, 6, 2, 2, 2, 2, 2, 5, 2, 2, 0, 2, 2, 2, 2, 2, 2, 2, 2, 2, 2, 2, 2, 2, 2, 2, 2, 2, 2, 2, 2, 1, 3, 1, 2, 2, 0, 1, 0, 2, 2, 1, 2, 0, 6, 1, 2, 2, 2, 2, 2, 6, 3, 2, 2, 3, 2, 2, 2, 2, 2, 6, 6, 2, 3, 2, 2, 2, 2, 2, 2, 1, 0, 2, 3, 2, 2, 2, 2, 6, 1, 1, 0, 2, 2, 3, 2, 3, 2, 3, 2, 2]\n"
     ]
    }
   ],
   "source": [
    "print(predictions)"
   ]
  },
  {
   "cell_type": "code",
   "execution_count": 31,
   "id": "51916ea4",
   "metadata": {},
   "outputs": [],
   "source": [
    "submission['topic_idx']= predictions"
   ]
  },
  {
   "cell_type": "code",
   "execution_count": 33,
   "id": "c4e42a8b",
   "metadata": {},
   "outputs": [
    {
     "data": {
      "text/html": [
       "<div>\n",
       "<style scoped>\n",
       "    .dataframe tbody tr th:only-of-type {\n",
       "        vertical-align: middle;\n",
       "    }\n",
       "\n",
       "    .dataframe tbody tr th {\n",
       "        vertical-align: top;\n",
       "    }\n",
       "\n",
       "    .dataframe thead th {\n",
       "        text-align: right;\n",
       "    }\n",
       "</style>\n",
       "<table border=\"1\" class=\"dataframe\">\n",
       "  <thead>\n",
       "    <tr style=\"text-align: right;\">\n",
       "      <th></th>\n",
       "      <th>index</th>\n",
       "      <th>topic_idx</th>\n",
       "    </tr>\n",
       "  </thead>\n",
       "  <tbody>\n",
       "    <tr>\n",
       "      <th>0</th>\n",
       "      <td>45654</td>\n",
       "      <td>2</td>\n",
       "    </tr>\n",
       "    <tr>\n",
       "      <th>1</th>\n",
       "      <td>45655</td>\n",
       "      <td>3</td>\n",
       "    </tr>\n",
       "    <tr>\n",
       "      <th>2</th>\n",
       "      <td>45656</td>\n",
       "      <td>2</td>\n",
       "    </tr>\n",
       "    <tr>\n",
       "      <th>3</th>\n",
       "      <td>45657</td>\n",
       "      <td>0</td>\n",
       "    </tr>\n",
       "    <tr>\n",
       "      <th>4</th>\n",
       "      <td>45658</td>\n",
       "      <td>3</td>\n",
       "    </tr>\n",
       "    <tr>\n",
       "      <th>...</th>\n",
       "      <td>...</td>\n",
       "      <td>...</td>\n",
       "    </tr>\n",
       "    <tr>\n",
       "      <th>9126</th>\n",
       "      <td>54780</td>\n",
       "      <td>3</td>\n",
       "    </tr>\n",
       "    <tr>\n",
       "      <th>9127</th>\n",
       "      <td>54781</td>\n",
       "      <td>2</td>\n",
       "    </tr>\n",
       "    <tr>\n",
       "      <th>9128</th>\n",
       "      <td>54782</td>\n",
       "      <td>3</td>\n",
       "    </tr>\n",
       "    <tr>\n",
       "      <th>9129</th>\n",
       "      <td>54783</td>\n",
       "      <td>2</td>\n",
       "    </tr>\n",
       "    <tr>\n",
       "      <th>9130</th>\n",
       "      <td>54784</td>\n",
       "      <td>2</td>\n",
       "    </tr>\n",
       "  </tbody>\n",
       "</table>\n",
       "<p>9131 rows × 2 columns</p>\n",
       "</div>"
      ],
      "text/plain": [
       "      index  topic_idx\n",
       "0     45654          2\n",
       "1     45655          3\n",
       "2     45656          2\n",
       "3     45657          0\n",
       "4     45658          3\n",
       "...     ...        ...\n",
       "9126  54780          3\n",
       "9127  54781          2\n",
       "9128  54782          3\n",
       "9129  54783          2\n",
       "9130  54784          2\n",
       "\n",
       "[9131 rows x 2 columns]"
      ]
     },
     "execution_count": 33,
     "metadata": {},
     "output_type": "execute_result"
    }
   ],
   "source": [
    "submission"
   ]
  },
  {
   "cell_type": "code",
   "execution_count": 34,
   "id": "5853f268",
   "metadata": {},
   "outputs": [],
   "source": [
    "submission.to_csv('classification_practice_0707.csv', index=False)"
   ]
  },
  {
   "cell_type": "code",
   "execution_count": null,
   "id": "bbd5bbb6",
   "metadata": {},
   "outputs": [],
   "source": []
  }
 ],
 "metadata": {
  "kernelspec": {
   "display_name": "Python 3 (ipykernel)",
   "language": "python",
   "name": "python3"
  },
  "language_info": {
   "codemirror_mode": {
    "name": "ipython",
    "version": 3
   },
   "file_extension": ".py",
   "mimetype": "text/x-python",
   "name": "python",
   "nbconvert_exporter": "python",
   "pygments_lexer": "ipython3",
   "version": "3.8.12"
  }
 },
 "nbformat": 4,
 "nbformat_minor": 5
}
