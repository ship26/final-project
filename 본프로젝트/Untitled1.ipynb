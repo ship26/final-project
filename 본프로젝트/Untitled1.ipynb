{
 "cells": [
  {
   "cell_type": "code",
   "execution_count": null,
   "id": "868823b0",
   "metadata": {},
   "outputs": [],
   "source": [
    ".loc[idx, ['title','emotion']].values"
   ]
  },
  {
   "cell_type": "code",
   "execution_count": 24,
   "id": "0f01d7a0",
   "metadata": {},
   "outputs": [
    {
     "data": {
      "text/plain": [
       "{'부정': 0, '긍정': 1, '중립': 2}"
      ]
     },
     "execution_count": 24,
     "metadata": {},
     "output_type": "execute_result"
    }
   ],
   "source": [
    "import pandas as pd\n",
    "import numpy as np\n",
    "\n",
    "LABELS = ['부정','긍정','중립']\n",
    "LABELS_ID = {key: idx for (idx, key) in enumerate(LABELS)}\n",
    "LABELS_ID\n",
    "\n"
   ]
  },
  {
   "cell_type": "code",
   "execution_count": 55,
   "id": "3968a179",
   "metadata": {},
   "outputs": [],
   "source": [
    "def change(x):\n",
    "    if x == 0:\n",
    "        \n",
    "        x='부정'\n",
    "    elif x==1:\n",
    "        x='긍정'\n",
    "    else:\n",
    "        x='중립'\n",
    "    return x\n",
    "def xey(x):\n",
    "    x+=1\n",
    "    return x\n"
   ]
  },
  {
   "cell_type": "code",
   "execution_count": 62,
   "id": "b02c833b",
   "metadata": {},
   "outputs": [],
   "source": [
    "df=pd.read_csv('testdata.csv',index_col=0)\n",
    "df1=pd.read_csv('traindata.csv',index_col=0)\n"
   ]
  },
  {
   "cell_type": "code",
   "execution_count": 63,
   "id": "6256a72d",
   "metadata": {},
   "outputs": [],
   "source": [
    "df['emotion']=df['emotion'].apply(change)\n",
    "df1['emotion']=df1['emotion'].apply(change)"
   ]
  },
  {
   "cell_type": "code",
   "execution_count": 65,
   "id": "4f34ba0c",
   "metadata": {},
   "outputs": [],
   "source": [
    "df.to_csv('testdata1.csv')\n",
    "df1.to_csv('traindata1.csv')"
   ]
  },
  {
   "cell_type": "code",
   "execution_count": null,
   "id": "973a688e",
   "metadata": {},
   "outputs": [],
   "source": [
    "[k for k, v in LABELS_ID.items() if v == 'CC']"
   ]
  },
  {
   "cell_type": "code",
   "execution_count": 21,
   "id": "9de829af",
   "metadata": {},
   "outputs": [
    {
     "data": {
      "text/plain": [
       "'중립'"
      ]
     },
     "execution_count": 21,
     "metadata": {},
     "output_type": "execute_result"
    }
   ],
   "source": [
    "y = LABELS_ID[]\n",
    "y"
   ]
  },
  {
   "cell_type": "code",
   "execution_count": 13,
   "id": "8c773b62",
   "metadata": {},
   "outputs": [
    {
     "ename": "KeyError",
     "evalue": "1",
     "output_type": "error",
     "traceback": [
      "\u001b[1;31m---------------------------------------------------------------------------\u001b[0m",
      "\u001b[1;31mKeyError\u001b[0m                                  Traceback (most recent call last)",
      "\u001b[1;32m~\\AppData\\Local\\Temp/ipykernel_29692/60122455.py\u001b[0m in \u001b[0;36m<module>\u001b[1;34m\u001b[0m\n\u001b[1;32m----> 1\u001b[1;33m \u001b[0my\u001b[0m \u001b[1;33m=\u001b[0m \u001b[0mLABELS_ID\u001b[0m\u001b[1;33m[\u001b[0m\u001b[1;36m1\u001b[0m\u001b[1;33m]\u001b[0m\u001b[1;33m\u001b[0m\u001b[1;33m\u001b[0m\u001b[0m\n\u001b[0m\u001b[0;32m      2\u001b[0m \u001b[0my\u001b[0m\u001b[1;33m\u001b[0m\u001b[1;33m\u001b[0m\u001b[0m\n",
      "\u001b[1;31mKeyError\u001b[0m: 1"
     ]
    }
   ],
   "source": [
    "y = LABELS_ID[1]\n",
    "y"
   ]
  },
  {
   "cell_type": "code",
   "execution_count": null,
   "id": "76105dfa",
   "metadata": {},
   "outputs": [],
   "source": []
  }
 ],
 "metadata": {
  "kernelspec": {
   "display_name": "Python 3 (ipykernel)",
   "language": "python",
   "name": "python3"
  },
  "language_info": {
   "codemirror_mode": {
    "name": "ipython",
    "version": 3
   },
   "file_extension": ".py",
   "mimetype": "text/x-python",
   "name": "python",
   "nbconvert_exporter": "python",
   "pygments_lexer": "ipython3",
   "version": "3.9.7"
  }
 },
 "nbformat": 4,
 "nbformat_minor": 5
}
