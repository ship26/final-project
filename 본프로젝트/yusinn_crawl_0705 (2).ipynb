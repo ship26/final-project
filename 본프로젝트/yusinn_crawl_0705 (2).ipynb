{
 "cells": [
  {
   "cell_type": "code",
   "execution_count": 1,
   "id": "9d776d0e",
   "metadata": {},
   "outputs": [],
   "source": [
    "import requests\n",
    "from bs4 import BeautifulSoup\n",
    "from tqdm import tqdm\n",
    "import pandas as pd\n",
    "import numpy as np\n",
    "import time"
   ]
  },
  {
   "cell_type": "code",
   "execution_count": 9,
   "id": "9a5ca19f",
   "metadata": {
    "scrolled": true
   },
   "outputs": [
    {
     "name": "stdout",
     "output_type": "stream",
     "text": [
      "크롤링 할 언론사 : 조선일보\n",
      "01월 기사를 크롤링합니다.\n",
      "**************************************\n"
     ]
    },
    {
     "name": "stderr",
     "output_type": "stream",
     "text": [
      "\r",
      "  0%|                                                                                   | 0/31 [00:00<?, ?it/s]"
     ]
    },
    {
     "name": "stdout",
     "output_type": "stream",
     "text": [
      "https://media.naver.com/press/023/newspaper?date=20220101\n",
      "<Response [200]>\n"
     ]
    },
    {
     "name": "stderr",
     "output_type": "stream",
     "text": [
      "\r",
      "  3%|██▍                                                                        | 1/31 [00:00<00:14,  2.07it/s]"
     ]
    },
    {
     "name": "stdout",
     "output_type": "stream",
     "text": [
      "1일자 기사를 크롤링합니다.\n",
      "-------------------------\n",
      "https://media.naver.com/press/023/newspaper?date=20220102\n",
      "<Response [200]>\n"
     ]
    },
    {
     "name": "stderr",
     "output_type": "stream",
     "text": [
      "\r",
      "  6%|████▊                                                                      | 2/31 [00:00<00:10,  2.87it/s]"
     ]
    },
    {
     "name": "stdout",
     "output_type": "stream",
     "text": [
      "2일자는 기사가 없습니다 데헷\n",
      "-------------------------\n",
      "https://media.naver.com/press/023/newspaper?date=20220103\n",
      "<Response [200]>\n"
     ]
    },
    {
     "name": "stderr",
     "output_type": "stream",
     "text": [
      "\r",
      " 10%|███████▎                                                                   | 3/31 [00:01<00:11,  2.46it/s]"
     ]
    },
    {
     "name": "stdout",
     "output_type": "stream",
     "text": [
      "3일자 기사를 크롤링합니다.\n",
      "-------------------------\n",
      "https://media.naver.com/press/023/newspaper?date=20220104\n",
      "<Response [200]>\n"
     ]
    },
    {
     "name": "stderr",
     "output_type": "stream",
     "text": [
      "\r",
      " 13%|█████████▋                                                                 | 4/31 [00:01<00:10,  2.47it/s]"
     ]
    },
    {
     "name": "stdout",
     "output_type": "stream",
     "text": [
      "4일자 기사를 크롤링합니다.\n",
      "-------------------------\n",
      "https://media.naver.com/press/023/newspaper?date=20220105\n",
      "<Response [200]>\n"
     ]
    },
    {
     "name": "stderr",
     "output_type": "stream",
     "text": [
      "\r",
      " 16%|████████████                                                               | 5/31 [00:02<00:10,  2.51it/s]"
     ]
    },
    {
     "name": "stdout",
     "output_type": "stream",
     "text": [
      "5일자 기사를 크롤링합니다.\n",
      "-------------------------\n",
      "https://media.naver.com/press/023/newspaper?date=20220106\n",
      "<Response [200]>\n"
     ]
    },
    {
     "name": "stderr",
     "output_type": "stream",
     "text": [
      "\r",
      " 19%|██████████████▌                                                            | 6/31 [00:02<00:11,  2.15it/s]"
     ]
    },
    {
     "name": "stdout",
     "output_type": "stream",
     "text": [
      "6일자 기사를 크롤링합니다.\n",
      "-------------------------\n",
      "https://media.naver.com/press/023/newspaper?date=20220107\n",
      "<Response [200]>\n"
     ]
    },
    {
     "name": "stderr",
     "output_type": "stream",
     "text": [
      "\r",
      " 23%|████████████████▉                                                          | 7/31 [00:03<00:10,  2.24it/s]"
     ]
    },
    {
     "name": "stdout",
     "output_type": "stream",
     "text": [
      "7일자 기사를 크롤링합니다.\n",
      "-------------------------\n",
      "https://media.naver.com/press/023/newspaper?date=20220108\n",
      "<Response [200]>\n"
     ]
    },
    {
     "name": "stderr",
     "output_type": "stream",
     "text": [
      "\r",
      " 26%|███████████████████▎                                                       | 8/31 [00:03<00:09,  2.34it/s]"
     ]
    },
    {
     "name": "stdout",
     "output_type": "stream",
     "text": [
      "8일자 기사를 크롤링합니다.\n",
      "-------------------------\n",
      "https://media.naver.com/press/023/newspaper?date=20220109\n",
      "<Response [200]>\n"
     ]
    },
    {
     "name": "stderr",
     "output_type": "stream",
     "text": [
      "\r",
      " 29%|█████████████████████▊                                                     | 9/31 [00:03<00:08,  2.67it/s]"
     ]
    },
    {
     "name": "stdout",
     "output_type": "stream",
     "text": [
      "9일자는 기사가 없습니다 데헷\n",
      "-------------------------\n",
      "https://media.naver.com/press/023/newspaper?date=20220110\n",
      "<Response [200]>\n"
     ]
    },
    {
     "name": "stderr",
     "output_type": "stream",
     "text": [
      "\r",
      " 32%|███████████████████████▊                                                  | 10/31 [00:04<00:07,  2.68it/s]"
     ]
    },
    {
     "name": "stdout",
     "output_type": "stream",
     "text": [
      "10일자 기사를 크롤링합니다.\n",
      "-------------------------\n",
      "https://media.naver.com/press/023/newspaper?date=20220111\n",
      "<Response [200]>\n"
     ]
    },
    {
     "name": "stderr",
     "output_type": "stream",
     "text": [
      "\r",
      " 35%|██████████████████████████▎                                               | 11/31 [00:04<00:07,  2.63it/s]"
     ]
    },
    {
     "name": "stdout",
     "output_type": "stream",
     "text": [
      "11일자 기사를 크롤링합니다.\n",
      "-------------------------\n",
      "https://media.naver.com/press/023/newspaper?date=20220112\n",
      "<Response [200]>\n"
     ]
    },
    {
     "name": "stderr",
     "output_type": "stream",
     "text": [
      "\r",
      " 39%|████████████████████████████▋                                             | 12/31 [00:04<00:07,  2.62it/s]"
     ]
    },
    {
     "name": "stdout",
     "output_type": "stream",
     "text": [
      "12일자 기사를 크롤링합니다.\n",
      "-------------------------\n",
      "https://media.naver.com/press/023/newspaper?date=20220113\n",
      "<Response [200]>\n"
     ]
    },
    {
     "name": "stderr",
     "output_type": "stream",
     "text": [
      "\r",
      " 42%|███████████████████████████████                                           | 13/31 [00:05<00:07,  2.55it/s]"
     ]
    },
    {
     "name": "stdout",
     "output_type": "stream",
     "text": [
      "13일자 기사를 크롤링합니다.\n",
      "-------------------------\n",
      "https://media.naver.com/press/023/newspaper?date=20220114\n",
      "<Response [200]>\n"
     ]
    },
    {
     "name": "stderr",
     "output_type": "stream",
     "text": [
      "\r",
      " 45%|█████████████████████████████████▍                                        | 14/31 [00:05<00:06,  2.50it/s]"
     ]
    },
    {
     "name": "stdout",
     "output_type": "stream",
     "text": [
      "14일자 기사를 크롤링합니다.\n",
      "-------------------------\n",
      "https://media.naver.com/press/023/newspaper?date=20220115\n",
      "<Response [200]>\n"
     ]
    },
    {
     "name": "stderr",
     "output_type": "stream",
     "text": [
      "\r",
      " 48%|███████████████████████████████████▊                                      | 15/31 [00:06<00:06,  2.48it/s]"
     ]
    },
    {
     "name": "stdout",
     "output_type": "stream",
     "text": [
      "15일자 기사를 크롤링합니다.\n",
      "-------------------------\n",
      "https://media.naver.com/press/023/newspaper?date=20220116\n",
      "<Response [200]>\n"
     ]
    },
    {
     "name": "stderr",
     "output_type": "stream",
     "text": [
      "\r",
      " 52%|██████████████████████████████████████▏                                   | 16/31 [00:06<00:05,  2.82it/s]"
     ]
    },
    {
     "name": "stdout",
     "output_type": "stream",
     "text": [
      "16일자는 기사가 없습니다 데헷\n",
      "-------------------------\n",
      "https://media.naver.com/press/023/newspaper?date=20220117\n",
      "<Response [200]>\n"
     ]
    },
    {
     "name": "stderr",
     "output_type": "stream",
     "text": [
      "\r",
      " 55%|████████████████████████████████████████▌                                 | 17/31 [00:06<00:05,  2.75it/s]"
     ]
    },
    {
     "name": "stdout",
     "output_type": "stream",
     "text": [
      "17일자 기사를 크롤링합니다.\n",
      "-------------------------\n",
      "https://media.naver.com/press/023/newspaper?date=20220118\n",
      "<Response [200]>\n"
     ]
    },
    {
     "name": "stderr",
     "output_type": "stream",
     "text": [
      "\r",
      " 58%|██████████████████████████████████████████▉                               | 18/31 [00:07<00:04,  2.67it/s]"
     ]
    },
    {
     "name": "stdout",
     "output_type": "stream",
     "text": [
      "18일자 기사를 크롤링합니다.\n",
      "-------------------------\n",
      "https://media.naver.com/press/023/newspaper?date=20220119\n",
      "<Response [200]>\n"
     ]
    },
    {
     "name": "stderr",
     "output_type": "stream",
     "text": [
      "\r",
      " 61%|█████████████████████████████████████████████▎                            | 19/31 [00:07<00:04,  2.65it/s]"
     ]
    },
    {
     "name": "stdout",
     "output_type": "stream",
     "text": [
      "19일자 기사를 크롤링합니다.\n",
      "-------------------------\n",
      "https://media.naver.com/press/023/newspaper?date=20220120\n",
      "<Response [200]>\n"
     ]
    },
    {
     "name": "stderr",
     "output_type": "stream",
     "text": [
      "\r",
      " 65%|███████████████████████████████████████████████▋                          | 20/31 [00:07<00:04,  2.59it/s]"
     ]
    },
    {
     "name": "stdout",
     "output_type": "stream",
     "text": [
      "20일자 기사를 크롤링합니다.\n",
      "-------------------------\n",
      "https://media.naver.com/press/023/newspaper?date=20220121\n",
      "<Response [200]>\n"
     ]
    },
    {
     "name": "stderr",
     "output_type": "stream",
     "text": [
      "\r",
      " 68%|██████████████████████████████████████████████████▏                       | 21/31 [00:08<00:04,  2.27it/s]"
     ]
    },
    {
     "name": "stdout",
     "output_type": "stream",
     "text": [
      "21일자 기사를 크롤링합니다.\n",
      "-------------------------\n",
      "https://media.naver.com/press/023/newspaper?date=20220122\n",
      "<Response [200]>\n"
     ]
    },
    {
     "name": "stderr",
     "output_type": "stream",
     "text": [
      "\r",
      " 71%|████████████████████████████████████████████████████▌                     | 22/31 [00:08<00:03,  2.30it/s]"
     ]
    },
    {
     "name": "stdout",
     "output_type": "stream",
     "text": [
      "22일자 기사를 크롤링합니다.\n",
      "-------------------------\n",
      "https://media.naver.com/press/023/newspaper?date=20220123\n",
      "<Response [200]>\n"
     ]
    },
    {
     "name": "stderr",
     "output_type": "stream",
     "text": [
      "\r",
      " 74%|██████████████████████████████████████████████████████▉                   | 23/31 [00:09<00:03,  2.63it/s]"
     ]
    },
    {
     "name": "stdout",
     "output_type": "stream",
     "text": [
      "23일자는 기사가 없습니다 데헷\n",
      "-------------------------\n",
      "https://media.naver.com/press/023/newspaper?date=20220124\n",
      "<Response [200]>\n"
     ]
    },
    {
     "name": "stderr",
     "output_type": "stream",
     "text": [
      "\r",
      " 77%|█████████████████████████████████████████████████████████▎                | 24/31 [00:09<00:02,  2.61it/s]"
     ]
    },
    {
     "name": "stdout",
     "output_type": "stream",
     "text": [
      "24일자 기사를 크롤링합니다.\n",
      "-------------------------\n",
      "https://media.naver.com/press/023/newspaper?date=20220125\n",
      "<Response [200]>\n"
     ]
    },
    {
     "name": "stderr",
     "output_type": "stream",
     "text": [
      "\r",
      " 81%|███████████████████████████████████████████████████████████▋              | 25/31 [00:09<00:02,  2.53it/s]"
     ]
    },
    {
     "name": "stdout",
     "output_type": "stream",
     "text": [
      "25일자 기사를 크롤링합니다.\n",
      "-------------------------\n",
      "https://media.naver.com/press/023/newspaper?date=20220126\n",
      "<Response [200]>\n"
     ]
    },
    {
     "name": "stderr",
     "output_type": "stream",
     "text": [
      "\r",
      " 84%|██████████████████████████████████████████████████████████████            | 26/31 [00:10<00:01,  2.53it/s]"
     ]
    },
    {
     "name": "stdout",
     "output_type": "stream",
     "text": [
      "26일자 기사를 크롤링합니다.\n",
      "-------------------------\n",
      "https://media.naver.com/press/023/newspaper?date=20220127\n",
      "<Response [200]>\n"
     ]
    },
    {
     "name": "stderr",
     "output_type": "stream",
     "text": [
      "\r",
      " 87%|████████████████████████████████████████████████████████████████▍         | 27/31 [00:10<00:01,  2.53it/s]"
     ]
    },
    {
     "name": "stdout",
     "output_type": "stream",
     "text": [
      "27일자 기사를 크롤링합니다.\n",
      "-------------------------\n",
      "https://media.naver.com/press/023/newspaper?date=20220128\n",
      "<Response [200]>\n"
     ]
    },
    {
     "name": "stderr",
     "output_type": "stream",
     "text": [
      "\r",
      " 90%|██████████████████████████████████████████████████████████████████▊       | 28/31 [00:11<00:01,  2.50it/s]"
     ]
    },
    {
     "name": "stdout",
     "output_type": "stream",
     "text": [
      "28일자 기사를 크롤링합니다.\n",
      "-------------------------\n",
      "https://media.naver.com/press/023/newspaper?date=20220129\n",
      "<Response [200]>\n",
      "29일자 기사를 크롤링합니다.\n",
      "-------------------------\n"
     ]
    },
    {
     "name": "stderr",
     "output_type": "stream",
     "text": [
      "\r",
      " 94%|█████████████████████████████████████████████████████████████████████▏    | 29/31 [00:11<00:00,  2.31it/s]"
     ]
    },
    {
     "name": "stdout",
     "output_type": "stream",
     "text": [
      "https://media.naver.com/press/023/newspaper?date=20220130\n",
      "<Response [200]>\n"
     ]
    },
    {
     "name": "stderr",
     "output_type": "stream",
     "text": [
      "\r",
      " 97%|███████████████████████████████████████████████████████████████████████▌  | 30/31 [00:11<00:00,  2.63it/s]"
     ]
    },
    {
     "name": "stdout",
     "output_type": "stream",
     "text": [
      "30일자는 기사가 없습니다 데헷\n",
      "-------------------------\n",
      "https://media.naver.com/press/023/newspaper?date=20220131\n",
      "<Response [200]>\n"
     ]
    },
    {
     "name": "stderr",
     "output_type": "stream",
     "text": [
      "100%|██████████████████████████████████████████████████████████████████████████| 31/31 [00:12<00:00,  2.55it/s]"
     ]
    },
    {
     "name": "stdout",
     "output_type": "stream",
     "text": [
      "31일자는 기사가 없습니다 데헷\n",
      "-------------------------\n"
     ]
    },
    {
     "name": "stderr",
     "output_type": "stream",
     "text": [
      "\n"
     ]
    }
   ],
   "source": [
    "# 언론사 리스트\n",
    "press_list = {'한국경제':'015', '매일경제':'009', '조선일보':'023', '동아일보':'020', '한겨례신문':'028', '경향신문':'032'}\n",
    "\n",
    "# 크롤링 할 대상 입력\n",
    "to_crawl_press_this_time = input(\"크롤링 할 언론사 : \")\n",
    "presscode = press_list[to_crawl_press_this_time]\n",
    "\n",
    "\n",
    "# 빈 DF 생성\n",
    "\n",
    "\n",
    "# 일년 반복문 \n",
    "for month in range(1,2):\n",
    "    df = pd.DataFrame(columns=[\"press\",\"title\",\"date\"])\n",
    "    monthly_data = []\n",
    "    \n",
    "    if month < 10:\n",
    "        month = f\"0{month}\"\n",
    "    print(f'{month}월 기사를 크롤링합니다.')\n",
    "    print(\"**************************************\")\n",
    "    \n",
    "    for day in tqdm(range(1,32)):   \n",
    "\n",
    "        # URL에 접속 시도\n",
    "\n",
    "        # 1 ~ 9일에 대한 URL 접근\n",
    "        if day < 10:\n",
    "            URL = f'https://media.naver.com/press/{presscode}/newspaper?date=2022{month}0{day}'\n",
    "            print(URL)\n",
    "            response = requests.get(URL)\n",
    "            print(response)\n",
    "        # 10일부터에 대한 URL 접근\n",
    "        else:\n",
    "            URL = f'https://media.naver.com/press/{presscode}/newspaper?date=2022{month}{day}'\n",
    "            print(URL)\n",
    "            response = requests.get(URL)\n",
    "            print(response)\n",
    "        time.sleep(0.2)\n",
    "        # html 파싱 시작\n",
    "        soup = BeautifulSoup(response.text)\n",
    "        page = soup.select('div.newspaper_inner')\n",
    "\n",
    "        # 혹시나 1면도 없으면 신문 없는 날\n",
    "        if len(page) < 1:\n",
    "            print(f'{day}일자는 기사가 없습니다 데헷')\n",
    "            print('-' * 25)\n",
    "            continue\n",
    "\n",
    "        # 신문 지면 발견하면 크롤링\n",
    "        else:\n",
    "            print(f'{day}일자 기사를 크롤링합니다.')\n",
    "            print('-' * 25)\n",
    "\n",
    "            # 하루치 기사를 담을 리스트\n",
    "            oneday_titles = []\n",
    "\n",
    "            # 지면별 헤드라인 탐색\n",
    "            for _ in range(len(page)):\n",
    "                page_titles = []\n",
    "                title = soup.select('div.newspaper_inner')[_]\n",
    "                titles = title.find_all('strong')\n",
    "\n",
    "                # 헤드라인들 page_title 리스트에 담음\n",
    "                for j in titles:\n",
    "                    page_titles.append(j.text)\n",
    "\n",
    "                # 하루치 기사 담아주기\n",
    "                oneday_titles.append(page_titles)\n",
    "\n",
    "\n",
    "            if day < 10:\n",
    "                oneday_dict = {'press':to_crawl_press_this_time,'title':oneday_titles, 'date':f'2022{month}0{day}'}\n",
    "                \n",
    "            else:\n",
    "                oneday_dict = {'press':to_crawl_press_this_time,'title':oneday_titles, 'date':f'2022{month}{day}'}\n",
    "                \n",
    "\n",
    "            monthly_data.append(oneday_dict)\n",
    "            \n",
    "    df = df.append(monthly_data)\n",
    "    df.to_csv(f'{to_crawl_press_this_time}_2022_{month}.csv', encoding=\"CP949\")"
   ]
  }
 ],
 "metadata": {
  "kernelspec": {
   "display_name": "Python 3 (ipykernel)",
   "language": "python",
   "name": "python3"
  },
  "language_info": {
   "codemirror_mode": {
    "name": "ipython",
    "version": 3
   },
   "file_extension": ".py",
   "mimetype": "text/x-python",
   "name": "python",
   "nbconvert_exporter": "python",
   "pygments_lexer": "ipython3",
   "version": "3.9.7"
  }
 },
 "nbformat": 4,
 "nbformat_minor": 5
}
