{
 "cells": [
  {
   "cell_type": "code",
   "execution_count": 1,
   "id": "d751383a",
   "metadata": {},
   "outputs": [
    {
     "name": "stdout",
     "output_type": "stream",
     "text": [
      "\u001b[33mWARNING: Ignoring invalid distribution -okenizers (/home/ubuntu/anaconda3/envs/python3/lib/python3.8/site-packages)\u001b[0m\u001b[33m\n",
      "\u001b[0m\u001b[33mWARNING: Ignoring invalid distribution -eras (/home/ubuntu/anaconda3/envs/python3/lib/python3.8/site-packages)\u001b[0m\u001b[33m\n",
      "\u001b[0m\u001b[33mWARNING: Ignoring invalid distribution -entencepiece (/home/ubuntu/anaconda3/envs/python3/lib/python3.8/site-packages)\u001b[0m\u001b[33m\n",
      "\u001b[0m\u001b[33mWARNING: Ignoring invalid distribution -ensorflow (/home/ubuntu/anaconda3/envs/python3/lib/python3.8/site-packages)\u001b[0m\u001b[33m\n",
      "\u001b[0m\u001b[33mWARNING: Ignoring invalid distribution -okenizers (/home/ubuntu/anaconda3/envs/python3/lib/python3.8/site-packages)\u001b[0m\u001b[33m\n",
      "\u001b[0m\u001b[33mWARNING: Ignoring invalid distribution -eras (/home/ubuntu/anaconda3/envs/python3/lib/python3.8/site-packages)\u001b[0m\u001b[33m\n",
      "\u001b[0m\u001b[33mWARNING: Ignoring invalid distribution -entencepiece (/home/ubuntu/anaconda3/envs/python3/lib/python3.8/site-packages)\u001b[0m\u001b[33m\n",
      "\u001b[0m\u001b[33mWARNING: Ignoring invalid distribution -ensorflow (/home/ubuntu/anaconda3/envs/python3/lib/python3.8/site-packages)\u001b[0m\u001b[33m\n",
      "\u001b[0mRequirement already satisfied: mxnet in /home/ubuntu/anaconda3/envs/python3/lib/python3.8/site-packages (1.9.1)\n",
      "Requirement already satisfied: requests<3,>=2.20.0 in /home/ubuntu/anaconda3/envs/python3/lib/python3.8/site-packages (from mxnet) (2.26.0)\n",
      "Requirement already satisfied: graphviz<0.9.0,>=0.8.1 in /home/ubuntu/anaconda3/envs/python3/lib/python3.8/site-packages (from mxnet) (0.8.4)\n",
      "Requirement already satisfied: numpy<2.0.0,>1.16.0 in /home/ubuntu/anaconda3/envs/python3/lib/python3.8/site-packages (from mxnet) (1.20.3)\n",
      "Requirement already satisfied: charset-normalizer~=2.0.0 in /home/ubuntu/anaconda3/envs/python3/lib/python3.8/site-packages (from requests<3,>=2.20.0->mxnet) (2.0.8)\n",
      "Requirement already satisfied: certifi>=2017.4.17 in /home/ubuntu/anaconda3/envs/python3/lib/python3.8/site-packages (from requests<3,>=2.20.0->mxnet) (2022.5.18.1)\n",
      "Requirement already satisfied: urllib3<1.27,>=1.21.1 in /home/ubuntu/anaconda3/envs/python3/lib/python3.8/site-packages (from requests<3,>=2.20.0->mxnet) (1.26.7)\n",
      "Requirement already satisfied: idna<4,>=2.5 in /home/ubuntu/anaconda3/envs/python3/lib/python3.8/site-packages (from requests<3,>=2.20.0->mxnet) (3.1)\n",
      "\u001b[33mWARNING: Ignoring invalid distribution -okenizers (/home/ubuntu/anaconda3/envs/python3/lib/python3.8/site-packages)\u001b[0m\u001b[33m\n",
      "\u001b[0m\u001b[33mWARNING: Ignoring invalid distribution -eras (/home/ubuntu/anaconda3/envs/python3/lib/python3.8/site-packages)\u001b[0m\u001b[33m\n",
      "\u001b[0m\u001b[33mWARNING: Ignoring invalid distribution -entencepiece (/home/ubuntu/anaconda3/envs/python3/lib/python3.8/site-packages)\u001b[0m\u001b[33m\n",
      "\u001b[0m\u001b[33mWARNING: Ignoring invalid distribution -ensorflow (/home/ubuntu/anaconda3/envs/python3/lib/python3.8/site-packages)\u001b[0m\u001b[33m\n",
      "\u001b[0m\u001b[33mWARNING: Ignoring invalid distribution -okenizers (/home/ubuntu/anaconda3/envs/python3/lib/python3.8/site-packages)\u001b[0m\u001b[33m\n",
      "\u001b[0m\u001b[33mWARNING: Ignoring invalid distribution -eras (/home/ubuntu/anaconda3/envs/python3/lib/python3.8/site-packages)\u001b[0m\u001b[33m\n",
      "\u001b[0m\u001b[33mWARNING: Ignoring invalid distribution -entencepiece (/home/ubuntu/anaconda3/envs/python3/lib/python3.8/site-packages)\u001b[0m\u001b[33m\n",
      "\u001b[0m\u001b[33mWARNING: Ignoring invalid distribution -ensorflow (/home/ubuntu/anaconda3/envs/python3/lib/python3.8/site-packages)\u001b[0m\u001b[33m\n",
      "\u001b[0m\u001b[33mWARNING: Ignoring invalid distribution -okenizers (/home/ubuntu/anaconda3/envs/python3/lib/python3.8/site-packages)\u001b[0m\u001b[33m\n",
      "\u001b[0m\u001b[33mWARNING: Ignoring invalid distribution -eras (/home/ubuntu/anaconda3/envs/python3/lib/python3.8/site-packages)\u001b[0m\u001b[33m\n",
      "\u001b[0m\u001b[33mWARNING: Ignoring invalid distribution -entencepiece (/home/ubuntu/anaconda3/envs/python3/lib/python3.8/site-packages)\u001b[0m\u001b[33m\n",
      "\u001b[0m\u001b[33mWARNING: Ignoring invalid distribution -ensorflow (/home/ubuntu/anaconda3/envs/python3/lib/python3.8/site-packages)\u001b[0m\u001b[33m\n",
      "\u001b[0m\u001b[33mWARNING: Ignoring invalid distribution -okenizers (/home/ubuntu/anaconda3/envs/python3/lib/python3.8/site-packages)\u001b[0m\u001b[33m\n",
      "\u001b[0m\u001b[33mWARNING: Ignoring invalid distribution -eras (/home/ubuntu/anaconda3/envs/python3/lib/python3.8/site-packages)\u001b[0m\u001b[33m\n",
      "\u001b[0m\u001b[33mWARNING: Ignoring invalid distribution -entencepiece (/home/ubuntu/anaconda3/envs/python3/lib/python3.8/site-packages)\u001b[0m\u001b[33m\n",
      "\u001b[0m\u001b[33mWARNING: Ignoring invalid distribution -ensorflow (/home/ubuntu/anaconda3/envs/python3/lib/python3.8/site-packages)\u001b[0m\u001b[33m\n",
      "\u001b[0m\u001b[33mWARNING: Ignoring invalid distribution -okenizers (/home/ubuntu/anaconda3/envs/python3/lib/python3.8/site-packages)\u001b[0m\u001b[33m\n",
      "\u001b[0m\u001b[33mWARNING: Ignoring invalid distribution -eras (/home/ubuntu/anaconda3/envs/python3/lib/python3.8/site-packages)\u001b[0m\u001b[33m\n",
      "\u001b[0m\u001b[33mWARNING: Ignoring invalid distribution -entencepiece (/home/ubuntu/anaconda3/envs/python3/lib/python3.8/site-packages)\u001b[0m\u001b[33m\n",
      "\u001b[0m\u001b[33mWARNING: Ignoring invalid distribution -ensorflow (/home/ubuntu/anaconda3/envs/python3/lib/python3.8/site-packages)\u001b[0m\u001b[33m\n",
      "\u001b[0m\u001b[33mWARNING: Ignoring invalid distribution -okenizers (/home/ubuntu/anaconda3/envs/python3/lib/python3.8/site-packages)\u001b[0m\u001b[33m\n",
      "\u001b[0m\u001b[33mWARNING: Ignoring invalid distribution -eras (/home/ubuntu/anaconda3/envs/python3/lib/python3.8/site-packages)\u001b[0m\u001b[33m\n",
      "\u001b[0m\u001b[33mWARNING: Ignoring invalid distribution -entencepiece (/home/ubuntu/anaconda3/envs/python3/lib/python3.8/site-packages)\u001b[0m\u001b[33m\n",
      "\u001b[0m\u001b[33mWARNING: Ignoring invalid distribution -ensorflow (/home/ubuntu/anaconda3/envs/python3/lib/python3.8/site-packages)\u001b[0m\u001b[33m\n",
      "\u001b[0mRequirement already satisfied: gluonnlp in /home/ubuntu/anaconda3/envs/python3/lib/python3.8/site-packages (0.10.0)\n",
      "Requirement already satisfied: pandas in /home/ubuntu/anaconda3/envs/python3/lib/python3.8/site-packages (1.3.4)\n",
      "Requirement already satisfied: tqdm in /home/ubuntu/anaconda3/envs/python3/lib/python3.8/site-packages (4.62.3)\n",
      "Requirement already satisfied: numpy>=1.16.0 in /home/ubuntu/anaconda3/envs/python3/lib/python3.8/site-packages (from gluonnlp) (1.20.3)\n",
      "Requirement already satisfied: packaging in /home/ubuntu/anaconda3/envs/python3/lib/python3.8/site-packages (from gluonnlp) (21.3)\n",
      "Requirement already satisfied: cython in /home/ubuntu/anaconda3/envs/python3/lib/python3.8/site-packages (from gluonnlp) (0.29.24)\n",
      "Requirement already satisfied: python-dateutil>=2.7.3 in /home/ubuntu/anaconda3/envs/python3/lib/python3.8/site-packages (from pandas) (2.8.2)\n",
      "Requirement already satisfied: pytz>=2017.3 in /home/ubuntu/anaconda3/envs/python3/lib/python3.8/site-packages (from pandas) (2021.3)\n",
      "Requirement already satisfied: six>=1.5 in /home/ubuntu/anaconda3/envs/python3/lib/python3.8/site-packages (from python-dateutil>=2.7.3->pandas) (1.16.0)\n",
      "Requirement already satisfied: pyparsing!=3.0.5,>=2.0.2 in /home/ubuntu/anaconda3/envs/python3/lib/python3.8/site-packages (from packaging->gluonnlp) (3.0.6)\n",
      "\u001b[33mWARNING: Ignoring invalid distribution -okenizers (/home/ubuntu/anaconda3/envs/python3/lib/python3.8/site-packages)\u001b[0m\u001b[33m\n",
      "\u001b[0m\u001b[33mWARNING: Ignoring invalid distribution -eras (/home/ubuntu/anaconda3/envs/python3/lib/python3.8/site-packages)\u001b[0m\u001b[33m\n",
      "\u001b[0m\u001b[33mWARNING: Ignoring invalid distribution -entencepiece (/home/ubuntu/anaconda3/envs/python3/lib/python3.8/site-packages)\u001b[0m\u001b[33m\n",
      "\u001b[0m\u001b[33mWARNING: Ignoring invalid distribution -ensorflow (/home/ubuntu/anaconda3/envs/python3/lib/python3.8/site-packages)\u001b[0m\u001b[33m\n",
      "\u001b[0m\u001b[33mWARNING: Ignoring invalid distribution -okenizers (/home/ubuntu/anaconda3/envs/python3/lib/python3.8/site-packages)\u001b[0m\u001b[33m\n",
      "\u001b[0m\u001b[33mWARNING: Ignoring invalid distribution -eras (/home/ubuntu/anaconda3/envs/python3/lib/python3.8/site-packages)\u001b[0m\u001b[33m\n",
      "\u001b[0m\u001b[33mWARNING: Ignoring invalid distribution -entencepiece (/home/ubuntu/anaconda3/envs/python3/lib/python3.8/site-packages)\u001b[0m\u001b[33m\n",
      "\u001b[0m\u001b[33mWARNING: Ignoring invalid distribution -ensorflow (/home/ubuntu/anaconda3/envs/python3/lib/python3.8/site-packages)\u001b[0m\u001b[33m\n",
      "\u001b[0m\u001b[33mWARNING: Ignoring invalid distribution -okenizers (/home/ubuntu/anaconda3/envs/python3/lib/python3.8/site-packages)\u001b[0m\u001b[33m\n",
      "\u001b[0m\u001b[33mWARNING: Ignoring invalid distribution -eras (/home/ubuntu/anaconda3/envs/python3/lib/python3.8/site-packages)\u001b[0m\u001b[33m\n",
      "\u001b[0m\u001b[33mWARNING: Ignoring invalid distribution -entencepiece (/home/ubuntu/anaconda3/envs/python3/lib/python3.8/site-packages)\u001b[0m\u001b[33m\n",
      "\u001b[0m\u001b[33mWARNING: Ignoring invalid distribution -ensorflow (/home/ubuntu/anaconda3/envs/python3/lib/python3.8/site-packages)\u001b[0m\u001b[33m\n",
      "\u001b[0m\u001b[33mWARNING: Ignoring invalid distribution -okenizers (/home/ubuntu/anaconda3/envs/python3/lib/python3.8/site-packages)\u001b[0m\u001b[33m\n",
      "\u001b[0m\u001b[33mWARNING: Ignoring invalid distribution -eras (/home/ubuntu/anaconda3/envs/python3/lib/python3.8/site-packages)\u001b[0m\u001b[33m\n",
      "\u001b[0m\u001b[33mWARNING: Ignoring invalid distribution -entencepiece (/home/ubuntu/anaconda3/envs/python3/lib/python3.8/site-packages)\u001b[0m\u001b[33m\n",
      "\u001b[0m\u001b[33mWARNING: Ignoring invalid distribution -ensorflow (/home/ubuntu/anaconda3/envs/python3/lib/python3.8/site-packages)\u001b[0m\u001b[33m\n"
     ]
    },
    {
     "name": "stdout",
     "output_type": "stream",
     "text": [
      "\u001b[0m\u001b[33mWARNING: Ignoring invalid distribution -okenizers (/home/ubuntu/anaconda3/envs/python3/lib/python3.8/site-packages)\u001b[0m\u001b[33m\n",
      "\u001b[0m\u001b[33mWARNING: Ignoring invalid distribution -eras (/home/ubuntu/anaconda3/envs/python3/lib/python3.8/site-packages)\u001b[0m\u001b[33m\n",
      "\u001b[0m\u001b[33mWARNING: Ignoring invalid distribution -entencepiece (/home/ubuntu/anaconda3/envs/python3/lib/python3.8/site-packages)\u001b[0m\u001b[33m\n",
      "\u001b[0m\u001b[33mWARNING: Ignoring invalid distribution -ensorflow (/home/ubuntu/anaconda3/envs/python3/lib/python3.8/site-packages)\u001b[0m\u001b[33m\n",
      "\u001b[0m\u001b[33mWARNING: Ignoring invalid distribution -okenizers (/home/ubuntu/anaconda3/envs/python3/lib/python3.8/site-packages)\u001b[0m\u001b[33m\n",
      "\u001b[0m\u001b[33mWARNING: Ignoring invalid distribution -eras (/home/ubuntu/anaconda3/envs/python3/lib/python3.8/site-packages)\u001b[0m\u001b[33m\n",
      "\u001b[0m\u001b[33mWARNING: Ignoring invalid distribution -entencepiece (/home/ubuntu/anaconda3/envs/python3/lib/python3.8/site-packages)\u001b[0m\u001b[33m\n",
      "\u001b[0m\u001b[33mWARNING: Ignoring invalid distribution -ensorflow (/home/ubuntu/anaconda3/envs/python3/lib/python3.8/site-packages)\u001b[0m\u001b[33m\n",
      "\u001b[0mRequirement already satisfied: sentencepiece in /home/ubuntu/anaconda3/envs/python3/lib/python3.8/site-packages (0.1.91)\n",
      "\u001b[33mWARNING: Ignoring invalid distribution -okenizers (/home/ubuntu/anaconda3/envs/python3/lib/python3.8/site-packages)\u001b[0m\u001b[33m\n",
      "\u001b[0m\u001b[33mWARNING: Ignoring invalid distribution -eras (/home/ubuntu/anaconda3/envs/python3/lib/python3.8/site-packages)\u001b[0m\u001b[33m\n",
      "\u001b[0m\u001b[33mWARNING: Ignoring invalid distribution -entencepiece (/home/ubuntu/anaconda3/envs/python3/lib/python3.8/site-packages)\u001b[0m\u001b[33m\n",
      "\u001b[0m\u001b[33mWARNING: Ignoring invalid distribution -ensorflow (/home/ubuntu/anaconda3/envs/python3/lib/python3.8/site-packages)\u001b[0m\u001b[33m\n",
      "\u001b[0m\u001b[33mWARNING: Ignoring invalid distribution -okenizers (/home/ubuntu/anaconda3/envs/python3/lib/python3.8/site-packages)\u001b[0m\u001b[33m\n",
      "\u001b[0m\u001b[33mWARNING: Ignoring invalid distribution -eras (/home/ubuntu/anaconda3/envs/python3/lib/python3.8/site-packages)\u001b[0m\u001b[33m\n",
      "\u001b[0m\u001b[33mWARNING: Ignoring invalid distribution -entencepiece (/home/ubuntu/anaconda3/envs/python3/lib/python3.8/site-packages)\u001b[0m\u001b[33m\n",
      "\u001b[0m\u001b[33mWARNING: Ignoring invalid distribution -ensorflow (/home/ubuntu/anaconda3/envs/python3/lib/python3.8/site-packages)\u001b[0m\u001b[33m\n",
      "\u001b[0m\u001b[33mWARNING: Ignoring invalid distribution -okenizers (/home/ubuntu/anaconda3/envs/python3/lib/python3.8/site-packages)\u001b[0m\u001b[33m\n",
      "\u001b[0m\u001b[33mWARNING: Ignoring invalid distribution -eras (/home/ubuntu/anaconda3/envs/python3/lib/python3.8/site-packages)\u001b[0m\u001b[33m\n",
      "\u001b[0m\u001b[33mWARNING: Ignoring invalid distribution -entencepiece (/home/ubuntu/anaconda3/envs/python3/lib/python3.8/site-packages)\u001b[0m\u001b[33m\n",
      "\u001b[0m\u001b[33mWARNING: Ignoring invalid distribution -ensorflow (/home/ubuntu/anaconda3/envs/python3/lib/python3.8/site-packages)\u001b[0m\u001b[33m\n",
      "\u001b[0m\u001b[33mWARNING: Ignoring invalid distribution -okenizers (/home/ubuntu/anaconda3/envs/python3/lib/python3.8/site-packages)\u001b[0m\u001b[33m\n",
      "\u001b[0m\u001b[33mWARNING: Ignoring invalid distribution -eras (/home/ubuntu/anaconda3/envs/python3/lib/python3.8/site-packages)\u001b[0m\u001b[33m\n",
      "\u001b[0m\u001b[33mWARNING: Ignoring invalid distribution -entencepiece (/home/ubuntu/anaconda3/envs/python3/lib/python3.8/site-packages)\u001b[0m\u001b[33m\n",
      "\u001b[0m\u001b[33mWARNING: Ignoring invalid distribution -ensorflow (/home/ubuntu/anaconda3/envs/python3/lib/python3.8/site-packages)\u001b[0m\u001b[33m\n",
      "\u001b[0m\u001b[33mWARNING: Ignoring invalid distribution -okenizers (/home/ubuntu/anaconda3/envs/python3/lib/python3.8/site-packages)\u001b[0m\u001b[33m\n",
      "\u001b[0m\u001b[33mWARNING: Ignoring invalid distribution -eras (/home/ubuntu/anaconda3/envs/python3/lib/python3.8/site-packages)\u001b[0m\u001b[33m\n",
      "\u001b[0m\u001b[33mWARNING: Ignoring invalid distribution -entencepiece (/home/ubuntu/anaconda3/envs/python3/lib/python3.8/site-packages)\u001b[0m\u001b[33m\n",
      "\u001b[0m\u001b[33mWARNING: Ignoring invalid distribution -ensorflow (/home/ubuntu/anaconda3/envs/python3/lib/python3.8/site-packages)\u001b[0m\u001b[33m\n",
      "\u001b[0m\u001b[33mWARNING: Ignoring invalid distribution -okenizers (/home/ubuntu/anaconda3/envs/python3/lib/python3.8/site-packages)\u001b[0m\u001b[33m\n",
      "\u001b[0m\u001b[33mWARNING: Ignoring invalid distribution -eras (/home/ubuntu/anaconda3/envs/python3/lib/python3.8/site-packages)\u001b[0m\u001b[33m\n",
      "\u001b[0m\u001b[33mWARNING: Ignoring invalid distribution -entencepiece (/home/ubuntu/anaconda3/envs/python3/lib/python3.8/site-packages)\u001b[0m\u001b[33m\n",
      "\u001b[0m\u001b[33mWARNING: Ignoring invalid distribution -ensorflow (/home/ubuntu/anaconda3/envs/python3/lib/python3.8/site-packages)\u001b[0m\u001b[33m\n",
      "\u001b[0mCollecting transformers==3.0.2\n",
      "  Using cached transformers-3.0.2-py3-none-any.whl (769 kB)\n",
      "Requirement already satisfied: sacremoses in /home/ubuntu/anaconda3/envs/python3/lib/python3.8/site-packages (from transformers==3.0.2) (0.0.53)\n",
      "Requirement already satisfied: filelock in /home/ubuntu/anaconda3/envs/python3/lib/python3.8/site-packages (from transformers==3.0.2) (3.4.0)\n",
      "Requirement already satisfied: tqdm>=4.27 in /home/ubuntu/anaconda3/envs/python3/lib/python3.8/site-packages (from transformers==3.0.2) (4.62.3)\n",
      "Requirement already satisfied: regex!=2019.12.17 in /home/ubuntu/anaconda3/envs/python3/lib/python3.8/site-packages (from transformers==3.0.2) (2021.11.10)\n",
      "Requirement already satisfied: requests in /home/ubuntu/anaconda3/envs/python3/lib/python3.8/site-packages (from transformers==3.0.2) (2.26.0)\n",
      "Requirement already satisfied: numpy in /home/ubuntu/anaconda3/envs/python3/lib/python3.8/site-packages (from transformers==3.0.2) (1.20.3)\n",
      "Requirement already satisfied: packaging in /home/ubuntu/anaconda3/envs/python3/lib/python3.8/site-packages (from transformers==3.0.2) (21.3)\n",
      "Requirement already satisfied: sentencepiece!=0.1.92 in /home/ubuntu/anaconda3/envs/python3/lib/python3.8/site-packages (from transformers==3.0.2) (0.1.91)\n",
      "Collecting tokenizers==0.8.1.rc1\n",
      "  Using cached tokenizers-0.8.1rc1-cp38-cp38-manylinux1_x86_64.whl (3.0 MB)\n",
      "Requirement already satisfied: pyparsing!=3.0.5,>=2.0.2 in /home/ubuntu/anaconda3/envs/python3/lib/python3.8/site-packages (from packaging->transformers==3.0.2) (3.0.6)\n",
      "Requirement already satisfied: charset-normalizer~=2.0.0 in /home/ubuntu/anaconda3/envs/python3/lib/python3.8/site-packages (from requests->transformers==3.0.2) (2.0.8)\n",
      "Requirement already satisfied: idna<4,>=2.5 in /home/ubuntu/anaconda3/envs/python3/lib/python3.8/site-packages (from requests->transformers==3.0.2) (3.1)\n",
      "Requirement already satisfied: urllib3<1.27,>=1.21.1 in /home/ubuntu/anaconda3/envs/python3/lib/python3.8/site-packages (from requests->transformers==3.0.2) (1.26.7)\n",
      "Requirement already satisfied: certifi>=2017.4.17 in /home/ubuntu/anaconda3/envs/python3/lib/python3.8/site-packages (from requests->transformers==3.0.2) (2022.5.18.1)\n",
      "Requirement already satisfied: joblib in /home/ubuntu/anaconda3/envs/python3/lib/python3.8/site-packages (from sacremoses->transformers==3.0.2) (1.1.0)\n",
      "Requirement already satisfied: six in /home/ubuntu/anaconda3/envs/python3/lib/python3.8/site-packages (from sacremoses->transformers==3.0.2) (1.16.0)\n",
      "Requirement already satisfied: click in /home/ubuntu/anaconda3/envs/python3/lib/python3.8/site-packages (from sacremoses->transformers==3.0.2) (7.1.2)\n",
      "\u001b[33mWARNING: Ignoring invalid distribution -okenizers (/home/ubuntu/anaconda3/envs/python3/lib/python3.8/site-packages)\u001b[0m\u001b[33m\n",
      "\u001b[0m\u001b[33mWARNING: Ignoring invalid distribution -eras (/home/ubuntu/anaconda3/envs/python3/lib/python3.8/site-packages)\u001b[0m\u001b[33m\n",
      "\u001b[0m\u001b[33mWARNING: Ignoring invalid distribution -entencepiece (/home/ubuntu/anaconda3/envs/python3/lib/python3.8/site-packages)\u001b[0m\u001b[33m\n",
      "\u001b[0m\u001b[33mWARNING: Ignoring invalid distribution -ensorflow (/home/ubuntu/anaconda3/envs/python3/lib/python3.8/site-packages)\u001b[0m\u001b[33m\n",
      "\u001b[0mInstalling collected packages: tokenizers, transformers\n",
      "  Attempting uninstall: tokenizers\n",
      "\u001b[33m    WARNING: Ignoring invalid distribution -okenizers (/home/ubuntu/anaconda3/envs/python3/lib/python3.8/site-packages)\u001b[0m\u001b[33m\n",
      "\u001b[0m\u001b[33m    WARNING: Ignoring invalid distribution -eras (/home/ubuntu/anaconda3/envs/python3/lib/python3.8/site-packages)\u001b[0m\u001b[33m\n",
      "\u001b[0m\u001b[33m    WARNING: Ignoring invalid distribution -entencepiece (/home/ubuntu/anaconda3/envs/python3/lib/python3.8/site-packages)\u001b[0m\u001b[33m\n",
      "\u001b[0m\u001b[33m    WARNING: Ignoring invalid distribution -ensorflow (/home/ubuntu/anaconda3/envs/python3/lib/python3.8/site-packages)\u001b[0m\u001b[33m\n",
      "\u001b[0m    Found existing installation: tokenizers 0.12.1\n",
      "    Uninstalling tokenizers-0.12.1:\n",
      "      Successfully uninstalled tokenizers-0.12.1\n"
     ]
    },
    {
     "name": "stdout",
     "output_type": "stream",
     "text": [
      "\u001b[31mERROR: Could not install packages due to an OSError: [Errno 13] Permission denied: 'INSTALLER'\n",
      "Consider using the `--user` option or check the permissions.\n",
      "\u001b[0m\u001b[31m\n",
      "\u001b[0m\u001b[33mWARNING: Ignoring invalid distribution -okenizers (/home/ubuntu/anaconda3/envs/python3/lib/python3.8/site-packages)\u001b[0m\u001b[33m\n",
      "\u001b[0m\u001b[33mWARNING: Ignoring invalid distribution -eras (/home/ubuntu/anaconda3/envs/python3/lib/python3.8/site-packages)\u001b[0m\u001b[33m\n",
      "\u001b[0m\u001b[33mWARNING: Ignoring invalid distribution -entencepiece (/home/ubuntu/anaconda3/envs/python3/lib/python3.8/site-packages)\u001b[0m\u001b[33m\n",
      "\u001b[0m\u001b[33mWARNING: Ignoring invalid distribution -ensorflow (/home/ubuntu/anaconda3/envs/python3/lib/python3.8/site-packages)\u001b[0m\u001b[33m\n",
      "\u001b[0m\u001b[33mWARNING: Ignoring invalid distribution -okenizers (/home/ubuntu/anaconda3/envs/python3/lib/python3.8/site-packages)\u001b[0m\u001b[33m\n",
      "\u001b[0m\u001b[33mWARNING: Ignoring invalid distribution -eras (/home/ubuntu/anaconda3/envs/python3/lib/python3.8/site-packages)\u001b[0m\u001b[33m\n",
      "\u001b[0m\u001b[33mWARNING: Ignoring invalid distribution -entencepiece (/home/ubuntu/anaconda3/envs/python3/lib/python3.8/site-packages)\u001b[0m\u001b[33m\n",
      "\u001b[0m\u001b[33mWARNING: Ignoring invalid distribution -ensorflow (/home/ubuntu/anaconda3/envs/python3/lib/python3.8/site-packages)\u001b[0m\u001b[33m\n",
      "\u001b[0m\u001b[33mWARNING: Ignoring invalid distribution -okenizers (/home/ubuntu/anaconda3/envs/python3/lib/python3.8/site-packages)\u001b[0m\u001b[33m\n",
      "\u001b[0m\u001b[33mWARNING: Ignoring invalid distribution -eras (/home/ubuntu/anaconda3/envs/python3/lib/python3.8/site-packages)\u001b[0m\u001b[33m\n",
      "\u001b[0m\u001b[33mWARNING: Ignoring invalid distribution -entencepiece (/home/ubuntu/anaconda3/envs/python3/lib/python3.8/site-packages)\u001b[0m\u001b[33m\n",
      "\u001b[0m\u001b[33mWARNING: Ignoring invalid distribution -ensorflow (/home/ubuntu/anaconda3/envs/python3/lib/python3.8/site-packages)\u001b[0m\u001b[33m\n",
      "\u001b[0m\u001b[33mWARNING: Ignoring invalid distribution -okenizers (/home/ubuntu/anaconda3/envs/python3/lib/python3.8/site-packages)\u001b[0m\u001b[33m\n",
      "\u001b[0m\u001b[33mWARNING: Ignoring invalid distribution - (/home/ubuntu/anaconda3/envs/python3/lib/python3.8/site-packages)\u001b[0m\u001b[33m\n",
      "\u001b[0m\u001b[33mWARNING: Ignoring invalid distribution -eras (/home/ubuntu/anaconda3/envs/python3/lib/python3.8/site-packages)\u001b[0m\u001b[33m\n",
      "\u001b[0m\u001b[33mWARNING: Ignoring invalid distribution -entencepiece (/home/ubuntu/anaconda3/envs/python3/lib/python3.8/site-packages)\u001b[0m\u001b[33m\n",
      "\u001b[0m\u001b[33mWARNING: Ignoring invalid distribution -ensorflow (/home/ubuntu/anaconda3/envs/python3/lib/python3.8/site-packages)\u001b[0m\u001b[33m\n",
      "\u001b[0m\u001b[33mWARNING: Ignoring invalid distribution -okenizers (/home/ubuntu/anaconda3/envs/python3/lib/python3.8/site-packages)\u001b[0m\u001b[33m\n",
      "\u001b[0m\u001b[33mWARNING: Ignoring invalid distribution - (/home/ubuntu/anaconda3/envs/python3/lib/python3.8/site-packages)\u001b[0m\u001b[33m\n",
      "\u001b[0m\u001b[33mWARNING: Ignoring invalid distribution -eras (/home/ubuntu/anaconda3/envs/python3/lib/python3.8/site-packages)\u001b[0m\u001b[33m\n",
      "\u001b[0m\u001b[33mWARNING: Ignoring invalid distribution -entencepiece (/home/ubuntu/anaconda3/envs/python3/lib/python3.8/site-packages)\u001b[0m\u001b[33m\n",
      "\u001b[0m\u001b[33mWARNING: Ignoring invalid distribution -ensorflow (/home/ubuntu/anaconda3/envs/python3/lib/python3.8/site-packages)\u001b[0m\u001b[33m\n",
      "\u001b[0mRequirement already satisfied: torch in /home/ubuntu/anaconda3/envs/python3/lib/python3.8/site-packages (1.12.0)\n",
      "Requirement already satisfied: typing-extensions in /home/ubuntu/anaconda3/envs/python3/lib/python3.8/site-packages (from torch) (4.0.0)\n",
      "\u001b[33mWARNING: Ignoring invalid distribution -okenizers (/home/ubuntu/anaconda3/envs/python3/lib/python3.8/site-packages)\u001b[0m\u001b[33m\n",
      "\u001b[0m\u001b[33mWARNING: Ignoring invalid distribution - (/home/ubuntu/anaconda3/envs/python3/lib/python3.8/site-packages)\u001b[0m\u001b[33m\n",
      "\u001b[0m\u001b[33mWARNING: Ignoring invalid distribution -eras (/home/ubuntu/anaconda3/envs/python3/lib/python3.8/site-packages)\u001b[0m\u001b[33m\n",
      "\u001b[0m\u001b[33mWARNING: Ignoring invalid distribution -entencepiece (/home/ubuntu/anaconda3/envs/python3/lib/python3.8/site-packages)\u001b[0m\u001b[33m\n",
      "\u001b[0m\u001b[33mWARNING: Ignoring invalid distribution -ensorflow (/home/ubuntu/anaconda3/envs/python3/lib/python3.8/site-packages)\u001b[0m\u001b[33m\n",
      "\u001b[0m\u001b[33mWARNING: Ignoring invalid distribution -okenizers (/home/ubuntu/anaconda3/envs/python3/lib/python3.8/site-packages)\u001b[0m\u001b[33m\n",
      "\u001b[0m\u001b[33mWARNING: Ignoring invalid distribution - (/home/ubuntu/anaconda3/envs/python3/lib/python3.8/site-packages)\u001b[0m\u001b[33m\n",
      "\u001b[0m\u001b[33mWARNING: Ignoring invalid distribution -eras (/home/ubuntu/anaconda3/envs/python3/lib/python3.8/site-packages)\u001b[0m\u001b[33m\n",
      "\u001b[0m\u001b[33mWARNING: Ignoring invalid distribution -entencepiece (/home/ubuntu/anaconda3/envs/python3/lib/python3.8/site-packages)\u001b[0m\u001b[33m\n",
      "\u001b[0m\u001b[33mWARNING: Ignoring invalid distribution -ensorflow (/home/ubuntu/anaconda3/envs/python3/lib/python3.8/site-packages)\u001b[0m\u001b[33m\n",
      "\u001b[0m\u001b[33mWARNING: Ignoring invalid distribution -okenizers (/home/ubuntu/anaconda3/envs/python3/lib/python3.8/site-packages)\u001b[0m\u001b[33m\n",
      "\u001b[0m\u001b[33mWARNING: Ignoring invalid distribution - (/home/ubuntu/anaconda3/envs/python3/lib/python3.8/site-packages)\u001b[0m\u001b[33m\n",
      "\u001b[0m\u001b[33mWARNING: Ignoring invalid distribution -eras (/home/ubuntu/anaconda3/envs/python3/lib/python3.8/site-packages)\u001b[0m\u001b[33m\n",
      "\u001b[0m\u001b[33mWARNING: Ignoring invalid distribution -entencepiece (/home/ubuntu/anaconda3/envs/python3/lib/python3.8/site-packages)\u001b[0m\u001b[33m\n",
      "\u001b[0m\u001b[33mWARNING: Ignoring invalid distribution -ensorflow (/home/ubuntu/anaconda3/envs/python3/lib/python3.8/site-packages)\u001b[0m\u001b[33m\n",
      "\u001b[0m\u001b[33mWARNING: Ignoring invalid distribution -okenizers (/home/ubuntu/anaconda3/envs/python3/lib/python3.8/site-packages)\u001b[0m\u001b[33m\n",
      "\u001b[0m\u001b[33mWARNING: Ignoring invalid distribution - (/home/ubuntu/anaconda3/envs/python3/lib/python3.8/site-packages)\u001b[0m\u001b[33m\n",
      "\u001b[0m\u001b[33mWARNING: Ignoring invalid distribution -eras (/home/ubuntu/anaconda3/envs/python3/lib/python3.8/site-packages)\u001b[0m\u001b[33m\n",
      "\u001b[0m\u001b[33mWARNING: Ignoring invalid distribution -entencepiece (/home/ubuntu/anaconda3/envs/python3/lib/python3.8/site-packages)\u001b[0m\u001b[33m\n",
      "\u001b[0m\u001b[33mWARNING: Ignoring invalid distribution -ensorflow (/home/ubuntu/anaconda3/envs/python3/lib/python3.8/site-packages)\u001b[0m\u001b[33m\n",
      "\u001b[0m"
     ]
    }
   ],
   "source": [
    "!pip install mxnet # 코랩 환경이기 때문에 앞에 !를 붙여야 한다.\n",
    "!pip install gluonnlp pandas tqdm\n",
    "!pip install sentencepiece\n",
    "!pip install transformers==3.0.2\n",
    "!pip install torch"
   ]
  },
  {
   "cell_type": "code",
   "execution_count": 2,
   "id": "54477178",
   "metadata": {},
   "outputs": [
    {
     "name": "stdout",
     "output_type": "stream",
     "text": [
      "\u001b[33mWARNING: Ignoring invalid distribution -okenizers (/home/ubuntu/anaconda3/envs/python3/lib/python3.8/site-packages)\u001b[0m\u001b[33m\n",
      "\u001b[0m\u001b[33mWARNING: Ignoring invalid distribution - (/home/ubuntu/anaconda3/envs/python3/lib/python3.8/site-packages)\u001b[0m\u001b[33m\n",
      "\u001b[0m\u001b[33mWARNING: Ignoring invalid distribution -eras (/home/ubuntu/anaconda3/envs/python3/lib/python3.8/site-packages)\u001b[0m\u001b[33m\n",
      "\u001b[0m\u001b[33mWARNING: Ignoring invalid distribution -entencepiece (/home/ubuntu/anaconda3/envs/python3/lib/python3.8/site-packages)\u001b[0m\u001b[33m\n",
      "\u001b[0m\u001b[33mWARNING: Ignoring invalid distribution -ensorflow (/home/ubuntu/anaconda3/envs/python3/lib/python3.8/site-packages)\u001b[0m\u001b[33m\n",
      "\u001b[0m\u001b[33mWARNING: Ignoring invalid distribution -okenizers (/home/ubuntu/anaconda3/envs/python3/lib/python3.8/site-packages)\u001b[0m\u001b[33m\n",
      "\u001b[0m\u001b[33mWARNING: Ignoring invalid distribution - (/home/ubuntu/anaconda3/envs/python3/lib/python3.8/site-packages)\u001b[0m\u001b[33m\n",
      "\u001b[0m\u001b[33mWARNING: Ignoring invalid distribution -eras (/home/ubuntu/anaconda3/envs/python3/lib/python3.8/site-packages)\u001b[0m\u001b[33m\n",
      "\u001b[0m\u001b[33mWARNING: Ignoring invalid distribution -entencepiece (/home/ubuntu/anaconda3/envs/python3/lib/python3.8/site-packages)\u001b[0m\u001b[33m\n",
      "\u001b[0m\u001b[33mWARNING: Ignoring invalid distribution -ensorflow (/home/ubuntu/anaconda3/envs/python3/lib/python3.8/site-packages)\u001b[0m\u001b[33m\n",
      "\u001b[0mCollecting git+https://****@github.com/SKTBrain/KoBERT.git@master\n",
      "  Cloning https://****@github.com/SKTBrain/KoBERT.git (to revision master) to /tmp/pip-req-build-yvy2hmpv\n",
      "  Running command git clone --filter=blob:none --quiet 'https://****@github.com/SKTBrain/KoBERT.git' /tmp/pip-req-build-yvy2hmpv\n",
      "  Resolved https://****@github.com/SKTBrain/KoBERT.git to commit e1f2f37055e7460d8427f6912579c0162cb69831\n",
      "  Preparing metadata (setup.py) ... \u001b[?25ldone\n",
      "\u001b[?25hRequirement already satisfied: boto3 in /home/ubuntu/anaconda3/envs/python3/lib/python3.8/site-packages (from kobert==0.2.3) (1.23.8)\n",
      "Requirement already satisfied: gluonnlp>=0.6.0 in /home/ubuntu/anaconda3/envs/python3/lib/python3.8/site-packages (from kobert==0.2.3) (0.10.0)\n",
      "Requirement already satisfied: mxnet>=1.4.0 in /home/ubuntu/anaconda3/envs/python3/lib/python3.8/site-packages (from kobert==0.2.3) (1.9.1)\n",
      "Requirement already satisfied: onnxruntime==1.8.0 in /home/ubuntu/anaconda3/envs/python3/lib/python3.8/site-packages (from kobert==0.2.3) (1.8.0)\n",
      "Requirement already satisfied: sentencepiece>=0.1.6 in /home/ubuntu/anaconda3/envs/python3/lib/python3.8/site-packages (from kobert==0.2.3) (0.1.91)\n",
      "Requirement already satisfied: torch>=1.7.0 in /home/ubuntu/anaconda3/envs/python3/lib/python3.8/site-packages (from kobert==0.2.3) (1.12.0)\n",
      "Requirement already satisfied: transformers>=4.8.1 in /home/ubuntu/anaconda3/envs/python3/lib/python3.8/site-packages (from kobert==0.2.3) (4.20.1)\n",
      "Requirement already satisfied: numpy>=1.16.6 in /home/ubuntu/anaconda3/envs/python3/lib/python3.8/site-packages (from onnxruntime==1.8.0->kobert==0.2.3) (1.20.3)\n",
      "Requirement already satisfied: protobuf in /home/ubuntu/anaconda3/envs/python3/lib/python3.8/site-packages (from onnxruntime==1.8.0->kobert==0.2.3) (3.19.1)\n",
      "Requirement already satisfied: flatbuffers in /home/ubuntu/anaconda3/envs/python3/lib/python3.8/site-packages (from onnxruntime==1.8.0->kobert==0.2.3) (1.12)\n",
      "Requirement already satisfied: cython in /home/ubuntu/anaconda3/envs/python3/lib/python3.8/site-packages (from gluonnlp>=0.6.0->kobert==0.2.3) (0.29.24)\n",
      "Requirement already satisfied: packaging in /home/ubuntu/anaconda3/envs/python3/lib/python3.8/site-packages (from gluonnlp>=0.6.0->kobert==0.2.3) (21.3)\n",
      "Requirement already satisfied: graphviz<0.9.0,>=0.8.1 in /home/ubuntu/anaconda3/envs/python3/lib/python3.8/site-packages (from mxnet>=1.4.0->kobert==0.2.3) (0.8.4)\n",
      "Requirement already satisfied: requests<3,>=2.20.0 in /home/ubuntu/anaconda3/envs/python3/lib/python3.8/site-packages (from mxnet>=1.4.0->kobert==0.2.3) (2.26.0)\n",
      "Requirement already satisfied: typing-extensions in /home/ubuntu/anaconda3/envs/python3/lib/python3.8/site-packages (from torch>=1.7.0->kobert==0.2.3) (4.0.0)\n",
      "Requirement already satisfied: huggingface-hub<1.0,>=0.1.0 in /home/ubuntu/anaconda3/envs/python3/lib/python3.8/site-packages (from transformers>=4.8.1->kobert==0.2.3) (0.8.1)\n",
      "Requirement already satisfied: filelock in /home/ubuntu/anaconda3/envs/python3/lib/python3.8/site-packages (from transformers>=4.8.1->kobert==0.2.3) (3.4.0)\n",
      "Requirement already satisfied: regex!=2019.12.17 in /home/ubuntu/anaconda3/envs/python3/lib/python3.8/site-packages (from transformers>=4.8.1->kobert==0.2.3) (2021.11.10)\n",
      "Requirement already satisfied: tqdm>=4.27 in /home/ubuntu/anaconda3/envs/python3/lib/python3.8/site-packages (from transformers>=4.8.1->kobert==0.2.3) (4.62.3)\n",
      "Requirement already satisfied: pyyaml>=5.1 in /home/ubuntu/anaconda3/envs/python3/lib/python3.8/site-packages (from transformers>=4.8.1->kobert==0.2.3) (6.0)\n",
      "Collecting tokenizers!=0.11.3,<0.13,>=0.11.1\n",
      "  Using cached tokenizers-0.12.1-cp38-cp38-manylinux_2_12_x86_64.manylinux2010_x86_64.whl (6.6 MB)\n",
      "Requirement already satisfied: botocore<1.27.0,>=1.26.8 in /home/ubuntu/anaconda3/envs/python3/lib/python3.8/site-packages (from boto3->kobert==0.2.3) (1.26.8)\n",
      "Requirement already satisfied: jmespath<2.0.0,>=0.7.1 in /home/ubuntu/anaconda3/envs/python3/lib/python3.8/site-packages (from boto3->kobert==0.2.3) (0.10.0)\n",
      "Requirement already satisfied: s3transfer<0.6.0,>=0.5.0 in /home/ubuntu/anaconda3/envs/python3/lib/python3.8/site-packages (from boto3->kobert==0.2.3) (0.5.2)\n",
      "Requirement already satisfied: python-dateutil<3.0.0,>=2.1 in /home/ubuntu/anaconda3/envs/python3/lib/python3.8/site-packages (from botocore<1.27.0,>=1.26.8->boto3->kobert==0.2.3) (2.8.2)\n",
      "Requirement already satisfied: urllib3<1.27,>=1.25.4 in /home/ubuntu/anaconda3/envs/python3/lib/python3.8/site-packages (from botocore<1.27.0,>=1.26.8->boto3->kobert==0.2.3) (1.26.7)\n",
      "Requirement already satisfied: pyparsing!=3.0.5,>=2.0.2 in /home/ubuntu/anaconda3/envs/python3/lib/python3.8/site-packages (from packaging->gluonnlp>=0.6.0->kobert==0.2.3) (3.0.6)\n",
      "Requirement already satisfied: idna<4,>=2.5 in /home/ubuntu/anaconda3/envs/python3/lib/python3.8/site-packages (from requests<3,>=2.20.0->mxnet>=1.4.0->kobert==0.2.3) (3.1)\n",
      "Requirement already satisfied: certifi>=2017.4.17 in /home/ubuntu/anaconda3/envs/python3/lib/python3.8/site-packages (from requests<3,>=2.20.0->mxnet>=1.4.0->kobert==0.2.3) (2022.5.18.1)\n",
      "Requirement already satisfied: charset-normalizer~=2.0.0 in /home/ubuntu/anaconda3/envs/python3/lib/python3.8/site-packages (from requests<3,>=2.20.0->mxnet>=1.4.0->kobert==0.2.3) (2.0.8)\n",
      "Requirement already satisfied: six>=1.5 in /home/ubuntu/anaconda3/envs/python3/lib/python3.8/site-packages (from python-dateutil<3.0.0,>=2.1->botocore<1.27.0,>=1.26.8->boto3->kobert==0.2.3) (1.16.0)\n",
      "\u001b[33mWARNING: Ignoring invalid distribution -okenizers (/home/ubuntu/anaconda3/envs/python3/lib/python3.8/site-packages)\u001b[0m\u001b[33m\n",
      "\u001b[0m\u001b[33mWARNING: Ignoring invalid distribution - (/home/ubuntu/anaconda3/envs/python3/lib/python3.8/site-packages)\u001b[0m\u001b[33m\n",
      "\u001b[0m\u001b[33mWARNING: Ignoring invalid distribution -eras (/home/ubuntu/anaconda3/envs/python3/lib/python3.8/site-packages)\u001b[0m\u001b[33m\n",
      "\u001b[0m\u001b[33mWARNING: Ignoring invalid distribution -entencepiece (/home/ubuntu/anaconda3/envs/python3/lib/python3.8/site-packages)\u001b[0m\u001b[33m\n",
      "\u001b[0m\u001b[33mWARNING: Ignoring invalid distribution -ensorflow (/home/ubuntu/anaconda3/envs/python3/lib/python3.8/site-packages)\u001b[0m\u001b[33m\n",
      "\u001b[0mInstalling collected packages: tokenizers\n",
      "  Attempting uninstall: tokenizers\n",
      "\u001b[33m    WARNING: Ignoring invalid distribution -okenizers (/home/ubuntu/anaconda3/envs/python3/lib/python3.8/site-packages)\u001b[0m\u001b[33m\n",
      "\u001b[0m\u001b[33m    WARNING: Ignoring invalid distribution - (/home/ubuntu/anaconda3/envs/python3/lib/python3.8/site-packages)\u001b[0m\u001b[33m\n",
      "\u001b[0m\u001b[33m    WARNING: Ignoring invalid distribution -eras (/home/ubuntu/anaconda3/envs/python3/lib/python3.8/site-packages)\u001b[0m\u001b[33m\n",
      "\u001b[0m\u001b[33m    WARNING: Ignoring invalid distribution -entencepiece (/home/ubuntu/anaconda3/envs/python3/lib/python3.8/site-packages)\u001b[0m\u001b[33m\n",
      "\u001b[0m\u001b[33m    WARNING: Ignoring invalid distribution -ensorflow (/home/ubuntu/anaconda3/envs/python3/lib/python3.8/site-packages)\u001b[0m\u001b[33m\n"
     ]
    },
    {
     "name": "stdout",
     "output_type": "stream",
     "text": [
      "\u001b[0m    Found existing installation: tokenizers 0.8.1rc1\n",
      "    Uninstalling tokenizers-0.8.1rc1:\n",
      "      Successfully uninstalled tokenizers-0.8.1rc1\n",
      "\u001b[33mWARNING: Ignoring invalid distribution -okenizers (/home/ubuntu/anaconda3/envs/python3/lib/python3.8/site-packages)\u001b[0m\u001b[33m\n",
      "\u001b[0m\u001b[33mWARNING: Ignoring invalid distribution - (/home/ubuntu/anaconda3/envs/python3/lib/python3.8/site-packages)\u001b[0m\u001b[33m\n",
      "\u001b[0m\u001b[33mWARNING: Ignoring invalid distribution -eras (/home/ubuntu/anaconda3/envs/python3/lib/python3.8/site-packages)\u001b[0m\u001b[33m\n",
      "\u001b[0m\u001b[33mWARNING: Ignoring invalid distribution -entencepiece (/home/ubuntu/anaconda3/envs/python3/lib/python3.8/site-packages)\u001b[0m\u001b[33m\n",
      "\u001b[0m\u001b[33mWARNING: Ignoring invalid distribution -ensorflow (/home/ubuntu/anaconda3/envs/python3/lib/python3.8/site-packages)\u001b[0m\u001b[33m\n",
      "\u001b[0mSuccessfully installed tokenizers-0.12.1\n",
      "\u001b[33mWARNING: Ignoring invalid distribution -okenizers (/home/ubuntu/anaconda3/envs/python3/lib/python3.8/site-packages)\u001b[0m\u001b[33m\n",
      "\u001b[0m\u001b[33mWARNING: Ignoring invalid distribution - (/home/ubuntu/anaconda3/envs/python3/lib/python3.8/site-packages)\u001b[0m\u001b[33m\n",
      "\u001b[0m\u001b[33mWARNING: Ignoring invalid distribution -eras (/home/ubuntu/anaconda3/envs/python3/lib/python3.8/site-packages)\u001b[0m\u001b[33m\n",
      "\u001b[0m\u001b[33mWARNING: Ignoring invalid distribution -entencepiece (/home/ubuntu/anaconda3/envs/python3/lib/python3.8/site-packages)\u001b[0m\u001b[33m\n",
      "\u001b[0m\u001b[33mWARNING: Ignoring invalid distribution -ensorflow (/home/ubuntu/anaconda3/envs/python3/lib/python3.8/site-packages)\u001b[0m\u001b[33m\n",
      "\u001b[0m\u001b[33mWARNING: Ignoring invalid distribution -okenizers (/home/ubuntu/anaconda3/envs/python3/lib/python3.8/site-packages)\u001b[0m\u001b[33m\n",
      "\u001b[0m\u001b[33mWARNING: Ignoring invalid distribution - (/home/ubuntu/anaconda3/envs/python3/lib/python3.8/site-packages)\u001b[0m\u001b[33m\n",
      "\u001b[0m\u001b[33mWARNING: Ignoring invalid distribution -eras (/home/ubuntu/anaconda3/envs/python3/lib/python3.8/site-packages)\u001b[0m\u001b[33m\n",
      "\u001b[0m\u001b[33mWARNING: Ignoring invalid distribution -entencepiece (/home/ubuntu/anaconda3/envs/python3/lib/python3.8/site-packages)\u001b[0m\u001b[33m\n",
      "\u001b[0m\u001b[33mWARNING: Ignoring invalid distribution -ensorflow (/home/ubuntu/anaconda3/envs/python3/lib/python3.8/site-packages)\u001b[0m\u001b[33m\n",
      "\u001b[0m\u001b[33mWARNING: Ignoring invalid distribution -okenizers (/home/ubuntu/anaconda3/envs/python3/lib/python3.8/site-packages)\u001b[0m\u001b[33m\n",
      "\u001b[0m\u001b[33mWARNING: Ignoring invalid distribution - (/home/ubuntu/anaconda3/envs/python3/lib/python3.8/site-packages)\u001b[0m\u001b[33m\n",
      "\u001b[0m\u001b[33mWARNING: Ignoring invalid distribution -eras (/home/ubuntu/anaconda3/envs/python3/lib/python3.8/site-packages)\u001b[0m\u001b[33m\n",
      "\u001b[0m\u001b[33mWARNING: Ignoring invalid distribution -entencepiece (/home/ubuntu/anaconda3/envs/python3/lib/python3.8/site-packages)\u001b[0m\u001b[33m\n",
      "\u001b[0m\u001b[33mWARNING: Ignoring invalid distribution -ensorflow (/home/ubuntu/anaconda3/envs/python3/lib/python3.8/site-packages)\u001b[0m\u001b[33m\n",
      "\u001b[0m"
     ]
    }
   ],
   "source": [
    "!pip install git+https://git@github.com/SKTBrain/KoBERT.git@master"
   ]
  },
  {
   "cell_type": "code",
   "execution_count": 3,
   "id": "e2a9f2b9",
   "metadata": {},
   "outputs": [],
   "source": [
    "import torch\n",
    "from torch import nn\n",
    "import torch.nn.functional as F\n",
    "import torch.optim as optim\n",
    "from torch.utils.data import Dataset, DataLoader\n",
    "import gluonnlp as nlp\n",
    "import numpy as np\n",
    "from tqdm import tqdm, tqdm_notebook"
   ]
  },
  {
   "cell_type": "code",
   "execution_count": 4,
   "id": "2b56dff9",
   "metadata": {},
   "outputs": [],
   "source": [
    "#kobert\n",
    "from kobert.utils import get_tokenizer\n",
    "from kobert.pytorch_kobert import get_pytorch_kobert_model\n",
    "\n",
    "#transformers\n",
    "from transformers import AdamW # 인공지능 모델의 초기값 지정 함수를 아담으로 지정한다.\n",
    "from transformers.optimization import get_cosine_schedule_with_warmup"
   ]
  },
  {
   "cell_type": "code",
   "execution_count": 5,
   "id": "d9527364",
   "metadata": {},
   "outputs": [
    {
     "name": "stdout",
     "output_type": "stream",
     "text": [
      "1\n",
      "Tesla T4\n"
     ]
    }
   ],
   "source": [
    "import os\n",
    "\n",
    "n_devices = torch.cuda.device_count()\n",
    "print(n_devices)\n",
    "\n",
    "for i in range(n_devices):\n",
    "    print(torch.cuda.get_device_name(i))"
   ]
  },
  {
   "cell_type": "code",
   "execution_count": 6,
   "id": "6a9ed54b",
   "metadata": {},
   "outputs": [
    {
     "name": "stdout",
     "output_type": "stream",
     "text": [
      "There are 1 GPU(s) available.\n",
      "We will use the GPU: Tesla T4\n"
     ]
    }
   ],
   "source": [
    "if torch.cuda.is_available():    \n",
    "    device = torch.device(\"cuda\")\n",
    "    print('There are %d GPU(s) available.' % torch.cuda.device_count())\n",
    "    print('We will use the GPU:', torch.cuda.get_device_name(0))\n",
    "else:\n",
    "    device = torch.device(\"cpu\")\n",
    "    print('No GPU available, using the CPU instead.')"
   ]
  },
  {
   "cell_type": "code",
   "execution_count": 7,
   "id": "0d4db3d5",
   "metadata": {},
   "outputs": [
    {
     "name": "stdout",
     "output_type": "stream",
     "text": [
      "using cached model. /home/lab09/.cache/kobert_v1.zip\n",
      "using cached model. /home/lab09/.cache/kobert_news_wiki_ko_cased-1087f8699e.spiece\n"
     ]
    }
   ],
   "source": [
    "#BERT 모델, Vocabulary 불러오기\n",
    "bertmodel, vocab = get_pytorch_kobert_model()"
   ]
  },
  {
   "cell_type": "code",
   "execution_count": 8,
   "id": "c725fa86",
   "metadata": {},
   "outputs": [],
   "source": [
    "import pandas as pd\n",
    "naturalTraining_data = pd.read_csv('테스트.csv',encoding='utf-8',index_col=0)\n"
   ]
  },
  {
   "cell_type": "code",
   "execution_count": 9,
   "id": "21d1ea04",
   "metadata": {},
   "outputs": [],
   "source": [
    "def emote_change(x):\n",
    "    if x==0:\n",
    "        x='부정'\n",
    "    elif x==1:\n",
    "        x='긍정'\n",
    "    else:\n",
    "        x='중립'\n",
    "    return x"
   ]
  },
  {
   "cell_type": "code",
   "execution_count": 10,
   "id": "7a2d150c",
   "metadata": {},
   "outputs": [
    {
     "data": {
      "text/html": [
       "<div>\n",
       "<style scoped>\n",
       "    .dataframe tbody tr th:only-of-type {\n",
       "        vertical-align: middle;\n",
       "    }\n",
       "\n",
       "    .dataframe tbody tr th {\n",
       "        vertical-align: top;\n",
       "    }\n",
       "\n",
       "    .dataframe thead th {\n",
       "        text-align: right;\n",
       "    }\n",
       "</style>\n",
       "<table border=\"1\" class=\"dataframe\">\n",
       "  <thead>\n",
       "    <tr style=\"text-align: right;\">\n",
       "      <th></th>\n",
       "      <th>press</th>\n",
       "      <th>title</th>\n",
       "      <th>emote</th>\n",
       "      <th>date</th>\n",
       "    </tr>\n",
       "  </thead>\n",
       "  <tbody>\n",
       "    <tr>\n",
       "      <th>0</th>\n",
       "      <td>조선일보</td>\n",
       "      <td>코로나 이겨내고 엄마는 ‘희망’을 낳았다</td>\n",
       "      <td>긍정</td>\n",
       "      <td>20210101</td>\n",
       "    </tr>\n",
       "    <tr>\n",
       "      <th>1</th>\n",
       "      <td>조선일보</td>\n",
       "      <td>靑비서실장 유영민, 민정수석에 신현수</td>\n",
       "      <td>중립</td>\n",
       "      <td>20210101</td>\n",
       "    </tr>\n",
       "    <tr>\n",
       "      <th>2</th>\n",
       "      <td>조선일보</td>\n",
       "      <td>이재명 18.2%, 이낙연 16.2%, 윤석열 15.1%..오차범위 내 3강 구도</td>\n",
       "      <td>중립</td>\n",
       "      <td>20210101</td>\n",
       "    </tr>\n",
       "    <tr>\n",
       "      <th>3</th>\n",
       "      <td>조선일보</td>\n",
       "      <td>난 그래도 낙관한다, 눈에도 바람에도 지지않기를</td>\n",
       "      <td>긍정</td>\n",
       "      <td>20210101</td>\n",
       "    </tr>\n",
       "    <tr>\n",
       "      <th>4</th>\n",
       "      <td>조선일보</td>\n",
       "      <td>유영민, 두달 전 비서실장 되나 묻자 “풀 뜯고 사는데 무슨...</td>\n",
       "      <td>중립</td>\n",
       "      <td>20210101</td>\n",
       "    </tr>\n",
       "    <tr>\n",
       "      <th>5</th>\n",
       "      <td>조선일보</td>\n",
       "      <td>노영민 “대통령 제대로 보필 못해 죄송”', '김상조 사의 반려한 文대통령 “현안 ...</td>\n",
       "      <td>중립</td>\n",
       "      <td>20210101</td>\n",
       "    </tr>\n",
       "    <tr>\n",
       "      <th>6</th>\n",
       "      <td>조선일보</td>\n",
       "      <td>與후보 적합도, 이재명·이낙연 順… 野선 윤석열·홍준표 順</td>\n",
       "      <td>중립</td>\n",
       "      <td>20210101</td>\n",
       "    </tr>\n",
       "    <tr>\n",
       "      <th>7</th>\n",
       "      <td>조선일보</td>\n",
       "      <td>野후보 찍어 정권교체” 49.9%, “與후보 뽑아 정권유지</td>\n",
       "      <td>중립</td>\n",
       "      <td>20210101</td>\n",
       "    </tr>\n",
       "    <tr>\n",
       "      <th>8</th>\n",
       "      <td>조선일보</td>\n",
       "      <td>4개월 의식불명 끝에 깨어난 美간호사…', '아가들아, 버텨줘서 고마워</td>\n",
       "      <td>긍정</td>\n",
       "      <td>20210101</td>\n",
       "    </tr>\n",
       "    <tr>\n",
       "      <th>9</th>\n",
       "      <td>조선일보</td>\n",
       "      <td>코로나 사망 하루 1000명… ‘방역 우등생’ 독일의 추락</td>\n",
       "      <td>부정</td>\n",
       "      <td>20210101</td>\n",
       "    </tr>\n",
       "    <tr>\n",
       "      <th>10</th>\n",
       "      <td>조선일보</td>\n",
       "      <td>중국 “美, 홍콩부동산 팔려면 우리 동의 받아라</td>\n",
       "      <td>부정</td>\n",
       "      <td>20210101</td>\n",
       "    </tr>\n",
       "  </tbody>\n",
       "</table>\n",
       "</div>"
      ],
      "text/plain": [
       "   press                                              title emote      date\n",
       "0   조선일보                             코로나 이겨내고 엄마는 ‘희망’을 낳았다    긍정  20210101\n",
       "1   조선일보                               靑비서실장 유영민, 민정수석에 신현수    중립  20210101\n",
       "2   조선일보      이재명 18.2%, 이낙연 16.2%, 윤석열 15.1%..오차범위 내 3강 구도    중립  20210101\n",
       "3   조선일보                         난 그래도 낙관한다, 눈에도 바람에도 지지않기를    긍정  20210101\n",
       "4   조선일보               유영민, 두달 전 비서실장 되나 묻자 “풀 뜯고 사는데 무슨...    중립  20210101\n",
       "5   조선일보  노영민 “대통령 제대로 보필 못해 죄송”', '김상조 사의 반려한 文대통령 “현안 ...    중립  20210101\n",
       "6   조선일보                   與후보 적합도, 이재명·이낙연 順… 野선 윤석열·홍준표 順    중립  20210101\n",
       "7   조선일보                   野후보 찍어 정권교체” 49.9%, “與후보 뽑아 정권유지    중립  20210101\n",
       "8   조선일보            4개월 의식불명 끝에 깨어난 美간호사…', '아가들아, 버텨줘서 고마워    긍정  20210101\n",
       "9   조선일보                   코로나 사망 하루 1000명… ‘방역 우등생’ 독일의 추락    부정  20210101\n",
       "10  조선일보                         중국 “美, 홍콩부동산 팔려면 우리 동의 받아라    부정  20210101"
      ]
     },
     "execution_count": 10,
     "metadata": {},
     "output_type": "execute_result"
    }
   ],
   "source": [
    "data1=naturalTraining_data\n",
    "data1['emote']=data1['emote'].apply(emote_change)\n",
    "data1"
   ]
  },
  {
   "cell_type": "code",
   "execution_count": 11,
   "id": "dc9f5833",
   "metadata": {},
   "outputs": [
    {
     "data": {
      "text/html": [
       "<div>\n",
       "<style scoped>\n",
       "    .dataframe tbody tr th:only-of-type {\n",
       "        vertical-align: middle;\n",
       "    }\n",
       "\n",
       "    .dataframe tbody tr th {\n",
       "        vertical-align: top;\n",
       "    }\n",
       "\n",
       "    .dataframe thead th {\n",
       "        text-align: right;\n",
       "    }\n",
       "</style>\n",
       "<table border=\"1\" class=\"dataframe\">\n",
       "  <thead>\n",
       "    <tr style=\"text-align: right;\">\n",
       "      <th></th>\n",
       "      <th>press</th>\n",
       "      <th>title</th>\n",
       "      <th>emote</th>\n",
       "      <th>date</th>\n",
       "    </tr>\n",
       "  </thead>\n",
       "  <tbody>\n",
       "    <tr>\n",
       "      <th>0</th>\n",
       "      <td>조선일보</td>\n",
       "      <td>코로나 이겨내고 엄마는 ‘희망’을 낳았다</td>\n",
       "      <td>0</td>\n",
       "      <td>20210101</td>\n",
       "    </tr>\n",
       "    <tr>\n",
       "      <th>1</th>\n",
       "      <td>조선일보</td>\n",
       "      <td>靑비서실장 유영민, 민정수석에 신현수</td>\n",
       "      <td>2</td>\n",
       "      <td>20210101</td>\n",
       "    </tr>\n",
       "    <tr>\n",
       "      <th>2</th>\n",
       "      <td>조선일보</td>\n",
       "      <td>이재명 18.2%, 이낙연 16.2%, 윤석열 15.1%..오차범위 내 3강 구도</td>\n",
       "      <td>2</td>\n",
       "      <td>20210101</td>\n",
       "    </tr>\n",
       "    <tr>\n",
       "      <th>3</th>\n",
       "      <td>조선일보</td>\n",
       "      <td>난 그래도 낙관한다, 눈에도 바람에도 지지않기를</td>\n",
       "      <td>0</td>\n",
       "      <td>20210101</td>\n",
       "    </tr>\n",
       "    <tr>\n",
       "      <th>4</th>\n",
       "      <td>조선일보</td>\n",
       "      <td>유영민, 두달 전 비서실장 되나 묻자 “풀 뜯고 사는데 무슨...</td>\n",
       "      <td>2</td>\n",
       "      <td>20210101</td>\n",
       "    </tr>\n",
       "    <tr>\n",
       "      <th>5</th>\n",
       "      <td>조선일보</td>\n",
       "      <td>노영민 “대통령 제대로 보필 못해 죄송”', '김상조 사의 반려한 文대통령 “현안 ...</td>\n",
       "      <td>2</td>\n",
       "      <td>20210101</td>\n",
       "    </tr>\n",
       "    <tr>\n",
       "      <th>6</th>\n",
       "      <td>조선일보</td>\n",
       "      <td>與후보 적합도, 이재명·이낙연 順… 野선 윤석열·홍준표 順</td>\n",
       "      <td>2</td>\n",
       "      <td>20210101</td>\n",
       "    </tr>\n",
       "    <tr>\n",
       "      <th>7</th>\n",
       "      <td>조선일보</td>\n",
       "      <td>野후보 찍어 정권교체” 49.9%, “與후보 뽑아 정권유지</td>\n",
       "      <td>2</td>\n",
       "      <td>20210101</td>\n",
       "    </tr>\n",
       "    <tr>\n",
       "      <th>8</th>\n",
       "      <td>조선일보</td>\n",
       "      <td>4개월 의식불명 끝에 깨어난 美간호사…', '아가들아, 버텨줘서 고마워</td>\n",
       "      <td>0</td>\n",
       "      <td>20210101</td>\n",
       "    </tr>\n",
       "    <tr>\n",
       "      <th>9</th>\n",
       "      <td>조선일보</td>\n",
       "      <td>코로나 사망 하루 1000명… ‘방역 우등생’ 독일의 추락</td>\n",
       "      <td>1</td>\n",
       "      <td>20210101</td>\n",
       "    </tr>\n",
       "  </tbody>\n",
       "</table>\n",
       "</div>"
      ],
      "text/plain": [
       "  press                                              title  emote      date\n",
       "0  조선일보                             코로나 이겨내고 엄마는 ‘희망’을 낳았다      0  20210101\n",
       "1  조선일보                               靑비서실장 유영민, 민정수석에 신현수      2  20210101\n",
       "2  조선일보      이재명 18.2%, 이낙연 16.2%, 윤석열 15.1%..오차범위 내 3강 구도      2  20210101\n",
       "3  조선일보                         난 그래도 낙관한다, 눈에도 바람에도 지지않기를      0  20210101\n",
       "4  조선일보               유영민, 두달 전 비서실장 되나 묻자 “풀 뜯고 사는데 무슨...      2  20210101\n",
       "5  조선일보  노영민 “대통령 제대로 보필 못해 죄송”', '김상조 사의 반려한 文대통령 “현안 ...      2  20210101\n",
       "6  조선일보                   與후보 적합도, 이재명·이낙연 順… 野선 윤석열·홍준표 順      2  20210101\n",
       "7  조선일보                   野후보 찍어 정권교체” 49.9%, “與후보 뽑아 정권유지      2  20210101\n",
       "8  조선일보            4개월 의식불명 끝에 깨어난 美간호사…', '아가들아, 버텨줘서 고마워      0  20210101\n",
       "9  조선일보                   코로나 사망 하루 1000명… ‘방역 우등생’ 독일의 추락      1  20210101"
      ]
     },
     "execution_count": 11,
     "metadata": {},
     "output_type": "execute_result"
    }
   ],
   "source": [
    "from sklearn.preprocessing import LabelEncoder\n",
    "\n",
    "encoder = LabelEncoder()\n",
    "encoder.fit(data1['emote'])\n",
    "data1['emote'] = encoder.transform(data1['emote'])\n",
    "data1.head(10)"
   ]
  },
  {
   "cell_type": "code",
   "execution_count": 12,
   "id": "5640d3f4",
   "metadata": {},
   "outputs": [
    {
     "data": {
      "text/plain": [
       "{0: '긍정', 1: '부정', 2: '중립'}"
      ]
     },
     "execution_count": 12,
     "metadata": {},
     "output_type": "execute_result"
    }
   ],
   "source": [
    "mapping = dict(zip(range(len(encoder.classes_)), encoder.classes_))\n",
    "mapping"
   ]
  },
  {
   "cell_type": "code",
   "execution_count": 13,
   "id": "3999536d",
   "metadata": {},
   "outputs": [
    {
     "name": "stdout",
     "output_type": "stream",
     "text": [
      "train shape is: 8\n",
      "test shape is: 3\n"
     ]
    }
   ],
   "source": [
    "from sklearn.model_selection import train_test_split\n",
    "train, test = train_test_split(data1, test_size=0.2, random_state=42) # new_df 오탈자 수정\n",
    "print(\"train shape is:\", len(train))\n",
    "print(\"test shape is:\", len(test))"
   ]
  },
  {
   "cell_type": "code",
   "execution_count": 14,
   "id": "c2ad75b0",
   "metadata": {},
   "outputs": [
    {
     "name": "stdout",
     "output_type": "stream",
     "text": [
      "using cached model. /home/lab09/.cache/kobert_news_wiki_ko_cased-1087f8699e.spiece\n"
     ]
    }
   ],
   "source": [
    "tokenizer = get_tokenizer()\n",
    "tok = nlp.data.BERTSPTokenizer(tokenizer, vocab, lower=False)"
   ]
  },
  {
   "cell_type": "code",
   "execution_count": 15,
   "id": "f6e29e55",
   "metadata": {},
   "outputs": [
    {
     "data": {
      "text/html": [
       "<div>\n",
       "<style scoped>\n",
       "    .dataframe tbody tr th:only-of-type {\n",
       "        vertical-align: middle;\n",
       "    }\n",
       "\n",
       "    .dataframe tbody tr th {\n",
       "        vertical-align: top;\n",
       "    }\n",
       "\n",
       "    .dataframe thead th {\n",
       "        text-align: right;\n",
       "    }\n",
       "</style>\n",
       "<table border=\"1\" class=\"dataframe\">\n",
       "  <thead>\n",
       "    <tr style=\"text-align: right;\">\n",
       "      <th></th>\n",
       "      <th>press</th>\n",
       "      <th>title</th>\n",
       "      <th>emote</th>\n",
       "      <th>date</th>\n",
       "    </tr>\n",
       "  </thead>\n",
       "  <tbody>\n",
       "    <tr>\n",
       "      <th>5</th>\n",
       "      <td>조선일보</td>\n",
       "      <td>노영민 “대통령 제대로 보필 못해 죄송”', '김상조 사의 반려한 文대통령 “현안 ...</td>\n",
       "      <td>2</td>\n",
       "      <td>20210101</td>\n",
       "    </tr>\n",
       "    <tr>\n",
       "      <th>0</th>\n",
       "      <td>조선일보</td>\n",
       "      <td>코로나 이겨내고 엄마는 ‘희망’을 낳았다</td>\n",
       "      <td>0</td>\n",
       "      <td>20210101</td>\n",
       "    </tr>\n",
       "    <tr>\n",
       "      <th>9</th>\n",
       "      <td>조선일보</td>\n",
       "      <td>코로나 사망 하루 1000명… ‘방역 우등생’ 독일의 추락</td>\n",
       "      <td>1</td>\n",
       "      <td>20210101</td>\n",
       "    </tr>\n",
       "  </tbody>\n",
       "</table>\n",
       "</div>"
      ],
      "text/plain": [
       "  press                                              title  emote      date\n",
       "5  조선일보  노영민 “대통령 제대로 보필 못해 죄송”', '김상조 사의 반려한 文대통령 “현안 ...      2  20210101\n",
       "0  조선일보                             코로나 이겨내고 엄마는 ‘희망’을 낳았다      0  20210101\n",
       "9  조선일보                   코로나 사망 하루 1000명… ‘방역 우등생’ 독일의 추락      1  20210101"
      ]
     },
     "execution_count": 15,
     "metadata": {},
     "output_type": "execute_result"
    }
   ],
   "source": [
    "test"
   ]
  },
  {
   "cell_type": "code",
   "execution_count": 16,
   "id": "99baaafc",
   "metadata": {},
   "outputs": [
    {
     "name": "stdout",
     "output_type": "stream",
     "text": [
      "노영민 “대통령 제대로 보필 못해 죄송”', '김상조 사의 반려한 文대통령 “현안 많아 교체할 때 아니다\n",
      "코로나 이겨내고 엄마는 ‘희망’을 낳았다\n",
      "코로나 사망 하루 1000명… ‘방역 우등생’ 독일의 추락\n"
     ]
    }
   ],
   "source": [
    "transform = nlp.data.BERTSentenceTransform(\n",
    "            tok, max_seq_length=64, pad=True, pair=False) \n",
    "for i in range(len(test)):\n",
    "    print(test.iloc[i][1])"
   ]
  },
  {
   "cell_type": "code",
   "execution_count": 17,
   "id": "2a51f1d1",
   "metadata": {},
   "outputs": [],
   "source": [
    "class BERTDataset(Dataset):\n",
    "    def __init__(self, dataset, sent_idx, label_idx, bert_tokenizer, max_len,\n",
    "                 pad, pair):\n",
    "        transform = nlp.data.BERTSentenceTransform(\n",
    "            bert_tokenizer, max_seq_length=max_len, pad=pad, pair=pair) \n",
    "\n",
    "        self.sentences = [transform([dataset.iloc[i][sent_idx]]) for i in range(len(dataset))]\n",
    "        self.labels = [np.int32(dataset.iloc[i][label_idx]) for i in range(len(dataset))]\n",
    "\n",
    "    def __getitem__(self, i):\n",
    "        return (self.sentences[i] + (self.labels[i], ))\n",
    "\n",
    "    def __len__(self):\n",
    "        return (len(self.labels))"
   ]
  },
  {
   "cell_type": "code",
   "execution_count": 18,
   "id": "ddecebd0",
   "metadata": {},
   "outputs": [],
   "source": [
    "# Setting parameters\n",
    "max_len = 64 # 해당 길이를 초과하는 단어에 대해선 bert가 학습하지 않음\n",
    "batch_size = 64\n",
    "warmup_ratio = 0.1\n",
    "num_epochs = 5\n",
    "max_grad_norm = 1\n",
    "log_interval = 200\n",
    "learning_rate = 5e-5"
   ]
  },
  {
   "cell_type": "code",
   "execution_count": 19,
   "id": "e19271ff",
   "metadata": {},
   "outputs": [],
   "source": [
    "data_train = BERTDataset(train, 1, 2, tok, max_len, True, False)\n",
    "data_test = BERTDataset(test, 1, 2, tok, max_len, True, False)"
   ]
  },
  {
   "cell_type": "code",
   "execution_count": 20,
   "id": "559779b4",
   "metadata": {},
   "outputs": [
    {
     "name": "stderr",
     "output_type": "stream",
     "text": [
      "/home/ubuntu/anaconda3/envs/python3/lib/python3.8/site-packages/torch/utils/data/dataloader.py:557: UserWarning: This DataLoader will create 5 worker processes in total. Our suggested max number of worker in current system is 4, which is smaller than what this DataLoader is going to create. Please be aware that excessive worker creation might get DataLoader running slow or even freeze, lower the worker number to avoid potential slowness/freeze if necessary.\n",
      "  warnings.warn(_create_warning_msg(\n"
     ]
    }
   ],
   "source": [
    "# pytorch용 DataLoader 사용\n",
    "train_dataloader = torch.utils.data.DataLoader(data_train, batch_size=batch_size, num_workers=5)\n",
    "test_dataloader = torch.utils.data.DataLoader(data_test, batch_size=batch_size, num_workers=5)"
   ]
  },
  {
   "cell_type": "code",
   "execution_count": 21,
   "id": "e45a38ca",
   "metadata": {},
   "outputs": [],
   "source": [
    "class BERTClassifier(nn.Module):\n",
    "    def __init__(self,\n",
    "                 bert,\n",
    "                 hidden_size = 768,\n",
    "                 num_classes = 3, # softmax 사용 <- binary일 경우는 2\n",
    "                 dr_rate=None,\n",
    "                 params=None):\n",
    "        super(BERTClassifier, self).__init__()\n",
    "        self.bert = bert\n",
    "        self.dr_rate = dr_rate\n",
    "                 \n",
    "        self.classifier = nn.Linear(hidden_size , num_classes)\n",
    "        if dr_rate:\n",
    "            self.dropout = nn.Dropout(p=dr_rate)\n",
    "    \n",
    "    def gen_attention_mask(self, token_ids, valid_length):\n",
    "        attention_mask = torch.zeros_like(token_ids)\n",
    "        for i, v in enumerate(valid_length):\n",
    "            attention_mask[i][:v] = 1\n",
    "        return attention_mask.float()\n",
    "\n",
    "    def forward(self, token_ids, valid_length, segment_ids):\n",
    "        attention_mask = self.gen_attention_mask(token_ids, valid_length)\n",
    "        \n",
    "        _, pooler = self.bert(input_ids = token_ids, token_type_ids = segment_ids.long(), attention_mask = attention_mask.float().to(token_ids.device))\n",
    "        if self.dr_rate:\n",
    "            out = self.dropout(pooler)\n",
    "        return self.classifier(out)"
   ]
  },
  {
   "cell_type": "code",
   "execution_count": 22,
   "id": "4f589232",
   "metadata": {},
   "outputs": [],
   "source": [
    "model = BERTClassifier(bertmodel, dr_rate=0.5).to(device)"
   ]
  },
  {
   "cell_type": "code",
   "execution_count": 23,
   "id": "059f4def",
   "metadata": {},
   "outputs": [],
   "source": [
    "# Prepare optimizer and schedule (linear warmup and decay)\n",
    "no_decay = ['bias', 'LayerNorm.weight']\n",
    "optimizer_grouped_parameters = [\n",
    "    {'params': [p for n, p in model.named_parameters() if not any(nd in n for nd in no_decay)], 'weight_decay': 0.01},\n",
    "    {'params': [p for n, p in model.named_parameters() if any(nd in n for nd in no_decay)], 'weight_decay': 0.0}\n",
    "]"
   ]
  },
  {
   "cell_type": "code",
   "execution_count": 24,
   "id": "bed799fa",
   "metadata": {},
   "outputs": [
    {
     "name": "stderr",
     "output_type": "stream",
     "text": [
      "/home/ubuntu/anaconda3/envs/python3/lib/python3.8/site-packages/transformers/optimization.py:306: FutureWarning: This implementation of AdamW is deprecated and will be removed in a future version. Use the PyTorch implementation torch.optim.AdamW instead, or set `no_deprecation_warning=True` to disable this warning\n",
      "  warnings.warn(\n"
     ]
    }
   ],
   "source": [
    "# 옵티마이저 선언\n",
    "optimizer = AdamW(optimizer_grouped_parameters, lr=learning_rate)\n",
    "loss_fn = nn.CrossEntropyLoss() # softmax용 Loss Function 정하기 <- binary classification도 해당 loss function 사용 가능\n",
    "\n",
    "t_total = len(train_dataloader) * num_epochs\n",
    "warmup_step = int(t_total * warmup_ratio)\n",
    "\n",
    "scheduler = get_cosine_schedule_with_warmup(optimizer, num_warmup_steps=warmup_step, num_training_steps=t_total)"
   ]
  },
  {
   "cell_type": "code",
   "execution_count": 25,
   "id": "d19001d7",
   "metadata": {},
   "outputs": [
    {
     "name": "stderr",
     "output_type": "stream",
     "text": [
      "/tmp/ipykernel_6094/1806958373.py:13: TqdmDeprecationWarning: This function will be removed in tqdm==5.0.0\n",
      "Please use `tqdm.notebook.tqdm` instead of `tqdm.tqdm_notebook`\n",
      "  for batch_id, (token_ids, valid_length, segment_ids, label) in enumerate(tqdm_notebook(train_dataloader)):\n"
     ]
    },
    {
     "data": {
      "application/vnd.jupyter.widget-view+json": {
       "model_id": "1d42025721ab46deb51d1ece1fdbb5bd",
       "version_major": 2,
       "version_minor": 0
      },
      "text/plain": [
       "  0%|          | 0/1 [00:00<?, ?it/s]"
      ]
     },
     "metadata": {},
     "output_type": "display_data"
    },
    {
     "name": "stdout",
     "output_type": "stream",
     "text": [
      "epoch 1 batch id 1 loss 1.1809074878692627 train acc 0.25\n",
      "epoch 1 train acc 0.25\n"
     ]
    },
    {
     "name": "stderr",
     "output_type": "stream",
     "text": [
      "/tmp/ipykernel_6094/1806958373.py:32: TqdmDeprecationWarning: This function will be removed in tqdm==5.0.0\n",
      "Please use `tqdm.notebook.tqdm` instead of `tqdm.tqdm_notebook`\n",
      "  for batch_id, (token_ids, valid_length, segment_ids, label) in enumerate(tqdm_notebook(test_dataloader)):\n"
     ]
    },
    {
     "data": {
      "application/vnd.jupyter.widget-view+json": {
       "model_id": "588dfe091a074ae0a1d96d824131edaa",
       "version_major": 2,
       "version_minor": 0
      },
      "text/plain": [
       "  0%|          | 0/1 [00:00<?, ?it/s]"
      ]
     },
     "metadata": {},
     "output_type": "display_data"
    },
    {
     "name": "stdout",
     "output_type": "stream",
     "text": [
      "epoch 1 test acc 0.3333333333333333\n"
     ]
    },
    {
     "data": {
      "application/vnd.jupyter.widget-view+json": {
       "model_id": "7b987f167f724861ab29f1292a080c43",
       "version_major": 2,
       "version_minor": 0
      },
      "text/plain": [
       "  0%|          | 0/1 [00:00<?, ?it/s]"
      ]
     },
     "metadata": {},
     "output_type": "display_data"
    },
    {
     "name": "stdout",
     "output_type": "stream",
     "text": [
      "epoch 2 batch id 1 loss 1.1631168127059937 train acc 0.375\n",
      "epoch 2 train acc 0.375\n"
     ]
    },
    {
     "data": {
      "application/vnd.jupyter.widget-view+json": {
       "model_id": "24c42441635b4685acb3c14832fbf553",
       "version_major": 2,
       "version_minor": 0
      },
      "text/plain": [
       "  0%|          | 0/1 [00:00<?, ?it/s]"
      ]
     },
     "metadata": {},
     "output_type": "display_data"
    },
    {
     "name": "stdout",
     "output_type": "stream",
     "text": [
      "epoch 2 test acc 0.6666666666666666\n"
     ]
    },
    {
     "data": {
      "application/vnd.jupyter.widget-view+json": {
       "model_id": "2f8c6350543049a989bafe9b160dc4af",
       "version_major": 2,
       "version_minor": 0
      },
      "text/plain": [
       "  0%|          | 0/1 [00:00<?, ?it/s]"
      ]
     },
     "metadata": {},
     "output_type": "display_data"
    },
    {
     "name": "stdout",
     "output_type": "stream",
     "text": [
      "epoch 3 batch id 1 loss 1.023180365562439 train acc 0.375\n",
      "epoch 3 train acc 0.375\n"
     ]
    },
    {
     "data": {
      "application/vnd.jupyter.widget-view+json": {
       "model_id": "2788b0b7eef54395b7e120e97e3f2883",
       "version_major": 2,
       "version_minor": 0
      },
      "text/plain": [
       "  0%|          | 0/1 [00:00<?, ?it/s]"
      ]
     },
     "metadata": {},
     "output_type": "display_data"
    },
    {
     "name": "stdout",
     "output_type": "stream",
     "text": [
      "epoch 3 test acc 0.3333333333333333\n"
     ]
    },
    {
     "data": {
      "application/vnd.jupyter.widget-view+json": {
       "model_id": "d11b9cd66f3c436fba3a8eeda52afaa0",
       "version_major": 2,
       "version_minor": 0
      },
      "text/plain": [
       "  0%|          | 0/1 [00:00<?, ?it/s]"
      ]
     },
     "metadata": {},
     "output_type": "display_data"
    },
    {
     "name": "stdout",
     "output_type": "stream",
     "text": [
      "epoch 4 batch id 1 loss 1.0904552936553955 train acc 0.5\n",
      "epoch 4 train acc 0.5\n"
     ]
    },
    {
     "data": {
      "application/vnd.jupyter.widget-view+json": {
       "model_id": "197351e5785c43cc876591547abe68cd",
       "version_major": 2,
       "version_minor": 0
      },
      "text/plain": [
       "  0%|          | 0/1 [00:00<?, ?it/s]"
      ]
     },
     "metadata": {},
     "output_type": "display_data"
    },
    {
     "name": "stdout",
     "output_type": "stream",
     "text": [
      "epoch 4 test acc 0.3333333333333333\n"
     ]
    },
    {
     "data": {
      "application/vnd.jupyter.widget-view+json": {
       "model_id": "623435674997422083da0547f591cd6a",
       "version_major": 2,
       "version_minor": 0
      },
      "text/plain": [
       "  0%|          | 0/1 [00:00<?, ?it/s]"
      ]
     },
     "metadata": {},
     "output_type": "display_data"
    },
    {
     "name": "stdout",
     "output_type": "stream",
     "text": [
      "epoch 5 batch id 1 loss 0.9980216026306152 train acc 0.875\n",
      "epoch 5 train acc 0.875\n"
     ]
    },
    {
     "data": {
      "application/vnd.jupyter.widget-view+json": {
       "model_id": "fabce838737c44e5b5391acacf4ad1d6",
       "version_major": 2,
       "version_minor": 0
      },
      "text/plain": [
       "  0%|          | 0/1 [00:00<?, ?it/s]"
      ]
     },
     "metadata": {},
     "output_type": "display_data"
    },
    {
     "name": "stdout",
     "output_type": "stream",
     "text": [
      "epoch 5 test acc 0.3333333333333333\n"
     ]
    }
   ],
   "source": [
    "# 학습 평가 지표인 accuracy 계산 -> 얼마나 타겟값을 많이 맞추었는가\n",
    "def calc_accuracy(X,Y):\n",
    "    max_vals, max_indices = torch.max(X, 1)\n",
    "    train_acc = (max_indices == Y).sum().data.cpu().numpy()/max_indices.size()[0]\n",
    "    return train_acc\n",
    "  \n",
    "# 모델 학습 시작\n",
    "for e in range(num_epochs):\n",
    "    train_acc = 0.0\n",
    "    test_acc = 0.0\n",
    "    \n",
    "    model.train()\n",
    "    for batch_id, (token_ids, valid_length, segment_ids, label) in enumerate(tqdm_notebook(train_dataloader)):\n",
    "        optimizer.zero_grad()\n",
    "        token_ids = token_ids.long().to(device)\n",
    "        segment_ids = segment_ids.long().to(device)\n",
    "        valid_length= valid_length\n",
    "        label = label.long().to(device)\n",
    "        out = model(token_ids, valid_length, segment_ids)\n",
    "        loss = loss_fn(out, label)\n",
    "        loss.backward()\n",
    "        torch.nn.utils.clip_grad_norm_(model.parameters(), max_grad_norm) # gradient clipping\n",
    "        optimizer.step()\n",
    "        scheduler.step()  # Update learning rate schedule\n",
    "        train_acc += calc_accuracy(out, label)\n",
    "        if batch_id % log_interval == 0:\n",
    "            print(\"epoch {} batch id {} loss {} train acc {}\".format(e+1, batch_id+1, loss.data.cpu().numpy(), train_acc / (batch_id+1)))\n",
    "    print(\"epoch {} train acc {}\".format(e+1, train_acc / (batch_id+1)))\n",
    "    \n",
    "    model.eval() # 평가 모드로 변경\n",
    "    \n",
    "    for batch_id, (token_ids, valid_length, segment_ids, label) in enumerate(tqdm_notebook(test_dataloader)):\n",
    "        token_ids = token_ids.long().to(device)\n",
    "        segment_ids = segment_ids.long().to(device)\n",
    "        valid_length= valid_length\n",
    "        label = label.long().to(device)\n",
    "        out = model(token_ids, valid_length, segment_ids)\n",
    "        test_acc += calc_accuracy(out, label)\n",
    "    print(\"epoch {} test acc {}\".format(e+1, test_acc / (batch_id+1)))"
   ]
  },
  {
   "cell_type": "code",
   "execution_count": 48,
   "id": "00f6be8c",
   "metadata": {},
   "outputs": [
    {
     "name": "stderr",
     "output_type": "stream",
     "text": [
      "/tmp/ipykernel_6094/4193419368.py:11: TqdmDeprecationWarning: This function will be removed in tqdm==5.0.0\n",
      "Please use `tqdm.notebook.tqdm` instead of `tqdm.tqdm_notebook`\n",
      "  for batch_id, (token_ids, valid_length, segment_ids, label) in enumerate(tqdm_notebook(test_input)):\n"
     ]
    },
    {
     "data": {
      "application/vnd.jupyter.widget-view+json": {
       "model_id": "d055f72c52c54de0b81db196dd629ef0",
       "version_major": 2,
       "version_minor": 0
      },
      "text/plain": [
       "  0%|          | 0/1 [00:00<?, ?it/s]"
      ]
     },
     "metadata": {},
     "output_type": "display_data"
    },
    {
     "name": "stdout",
     "output_type": "stream",
     "text": [
      "중립\n"
     ]
    }
   ],
   "source": [
    "# 테스트 문장 예측\n",
    "test_sentence = '이재명 당선.'\n",
    "test_label = 0 # 감성 라벨\n",
    "\n",
    "unseen_test = pd.DataFrame([[test_sentence, test_label]], columns = [['뉴스 타이틀', '감성']])\n",
    "unseen_values = unseen_test.values\n",
    "\n",
    "test_set = BERTDataset(unseen_test, 0, 1, tok, max_len, True, False)\n",
    "test_input = torch.utils.data.DataLoader(test_set, batch_size=1, num_workers=5)\n",
    "\n",
    "for batch_id, (token_ids, valid_length, segment_ids, label) in enumerate(tqdm_notebook(test_input)):\n",
    "  token_ids = token_ids.long().to(device)\n",
    "  segment_ids = segment_ids.long().to(device)\n",
    "  valid_length= valid_length\n",
    "  out = model(token_ids, valid_length, segment_ids)\n",
    "    \n",
    "test_eval=[]\n",
    "for i in out:\n",
    "        logits=i\n",
    "        logits = logits.detach().cpu().numpy()\n",
    "\n",
    "        if np.argmax(logits) == 0:\n",
    "            test_eval.append(\"부정\")\n",
    "        elif np.argmax(logits) == 1:\n",
    "            test_eval.append(\"긍정\")\n",
    "        elif np.argmax(logits) == 2:\n",
    "            test_eval.append(\"중립\")\n",
    "\n",
    "print(test_eval[0])\n",
    "\n",
    "  "
   ]
  },
  {
   "cell_type": "code",
   "execution_count": null,
   "id": "224c792c",
   "metadata": {},
   "outputs": [],
   "source": []
  }
 ],
 "metadata": {
  "kernelspec": {
   "display_name": "Python 3 (ipykernel)",
   "language": "python",
   "name": "python3"
  },
  "language_info": {
   "codemirror_mode": {
    "name": "ipython",
    "version": 3
   },
   "file_extension": ".py",
   "mimetype": "text/x-python",
   "name": "python",
   "nbconvert_exporter": "python",
   "pygments_lexer": "ipython3",
   "version": "3.9.7"
  }
 },
 "nbformat": 4,
 "nbformat_minor": 5
}
