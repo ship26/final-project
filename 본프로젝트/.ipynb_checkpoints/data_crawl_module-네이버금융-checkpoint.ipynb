{
 "cells": [
  {
   "cell_type": "code",
   "execution_count": 3,
   "id": "eefb3e2d",
   "metadata": {},
   "outputs": [
    {
     "name": "stdout",
     "output_type": "stream",
     "text": [
      "Collecting schedule\n",
      "  Downloading schedule-1.1.0-py2.py3-none-any.whl (10 kB)\n",
      "Installing collected packages: schedule\n",
      "Successfully installed schedule-1.1.0\n",
      "\n",
      "[notice] A new release of pip available: 22.1.2 -> 22.2.1\n",
      "[notice] To update, run: python.exe -m pip install --upgrade pip\n"
     ]
    }
   ],
   "source": [
    "!pip install schedule"
   ]
  },
  {
   "cell_type": "code",
   "execution_count": 12,
   "id": "72fa8c86",
   "metadata": {},
   "outputs": [],
   "source": [
    "# requirements\n",
    "import schedule\n",
    "import requests\n",
    "from bs4 import BeautifulSoup\n",
    "from tqdm import tqdm\n",
    "import pandas as pd\n",
    "import numpy as np\n",
    "import time\n",
    "import random\n",
    "import os\n",
    "import datetime\n",
    "import re\n",
    "from datetime import timedelta,datetime\n",
    "from pytz import timezone"
   ]
  },
  {
   "cell_type": "code",
   "execution_count": 20,
   "id": "878b0cd5",
   "metadata": {},
   "outputs": [],
   "source": [
    "class Crawler:   \n",
    "\n",
    "\n",
    "    formatting = '%Y-%m-%d'\n",
    "\n",
    "    now = datetime.now(timezone('Asia/Seoul'))\n",
    "    str_now = datetime.strftime(now,formatting)\n",
    "    #now_yymmdd = str_now.split('-')\n",
    "    #now_yymmdd = [int (i) for i in now_yymmdd]\n",
    "\n",
    "    yesterday = now - timedelta(1)\n",
    "    str_yesterday = datetime.strftime(yesterday,formatting)\n",
    "    condition = \"\\[.*\\]|\\s-\\s.*\" \n",
    "    #yesterday_yymmdd = str_yesterday.split('-')\n",
    "    #yesterday_yymmdd = [int(i) for i in yesterday_yymmdd] \n",
    "    \n",
    "    def __init__(self):\n",
    "        pass\n",
    "    \n",
    "    \n",
    "    def crawling_yesterday(self):\n",
    "        # 크롤링 할 대상 입력\n",
    "        \n",
    "        yesterday_date = self.str_yesterday\n",
    "        \n",
    "        df = pd.DataFrame(columns=[\"press\",\"title\",\"date\"])\n",
    "        yesterday_data = []  #데이터 담을 빈 리스트\n",
    "        print(f'네이버금융뉴스의 {yesterday_date}날짜 기사를 크롤링합니다.')\n",
    "        print(\"**************************************\")\n",
    "\n",
    "\n",
    "        url = f'https://finance.naver.com/news/mainnews.naver?date={yesterday_date}'\n",
    "        print(url)\n",
    "        response = requests.get(url)\n",
    "        \n",
    "        time.sleep(1)\n",
    "\n",
    "\n",
    "\n",
    "\n",
    "        # html 파싱 시작\n",
    "        soup = BeautifulSoup(response.text)\n",
    "        타이틀제목들 = soup.find_all('li', class_='block1')\n",
    "\n",
    "        if 타이틀제목들:\n",
    "            for i in 타이틀제목들:\n",
    "                temp=i.find_all('a')\n",
    "                #썸네일있는 기사와 없는기사 구분해서 크롤링\n",
    "                if len(temp)==2:\n",
    "                    title=temp[1].text\n",
    "                    text = re.sub(self.condition, '',title)\n",
    "                    news = {'press':'네이버금융','title':text, 'date':yesterday_date}\n",
    "                    yesterday_data.append(news)\n",
    "                else:\n",
    "                    title=temp[0].text\n",
    "                    text = re.sub(self.condition, '',title)\n",
    "                    news = {'press':'네이버금융','title':text, 'date':yesterday_date}\n",
    "                    yesterday_data.append(news)\n",
    "        else:\n",
    "            print('기사가 없습니다.')\n",
    "\n",
    "        df = df.append(yesterday_data)\n",
    "        df.to_csv(f'data/네이버금융_{yesterday_date}.csv', encoding=\"UTF-8-sig\")\n",
    "        return print(\"어제 뉴스 크롤링 및 저장 완료\")\n",
    "\n",
    "    \n",
    "    def crawling_today(self):\n",
    "        # 크롤링 할 대상 입력\n",
    "        today_date = self.str_now\n",
    "        \n",
    "        df = pd.DataFrame(columns=[\"press\",\"title\",\"date\"])\n",
    "        today_data = []  #데이터 담을 빈 리스트\n",
    "        print(f'네이버금융뉴스의 {today_date}날짜 기사를 크롤링합니다.')\n",
    "        print(\"**************************************\")\n",
    "\n",
    "\n",
    "        url = f'https://finance.naver.com/news/mainnews.naver?date={today_date}'\n",
    "        print(url)\n",
    "        response = requests.get(url)\n",
    "        \n",
    "        time.sleep(1)\n",
    "\n",
    "\n",
    "\n",
    "\n",
    "        # html 파싱 시작\n",
    "        soup = BeautifulSoup(response.text)\n",
    "        타이틀제목들 = soup.find_all('li', class_='block1')\n",
    "\n",
    "        if 타이틀제목들:\n",
    "            for i in 타이틀제목들:\n",
    "                temp=i.find_all('a')\n",
    "                #썸네일있는 기사와 없는기사 구분해서 크롤링\n",
    "                if len(temp)==2:\n",
    "                    title=temp[1].text\n",
    "                    text = re.sub(self.condition, '',title)\n",
    "                    news = {'press':'네이버금융','title':text, 'date':today_date}\n",
    "                    today_data.append(news)\n",
    "                else:\n",
    "                    title=temp[0].text\n",
    "                    text = re.sub(self.condition, '',title)\n",
    "                    news = {'press':'네이버금융','title':text, 'date':today_date}\n",
    "                    today_data.append(news)\n",
    "        else:\n",
    "            print('기사가 없습니다.')\n",
    "\n",
    "        df = df.append(today_data)\n",
    "        df.to_csv(f'data/네이버금융_{today_date}.csv', encoding=\"UTF-8-sig\")\n",
    "        return print(\"오늘 뉴스 크롤링 및 저장 완료\")\n",
    "\n",
    "            \n",
    "    def merge(self):\n",
    "        \n",
    "        df_all = pd.DataFrame()\n",
    "        path_of_this_file = os.getcwd()\n",
    "        \n",
    "        folder = os.listdir(f\"{path_of_this_file}\\\\data\")# 파일들이 있는 폴더명으로 폴더내 파일 목록 확인\n",
    "        print(folder)\n",
    "        \n",
    "        for file in folder:\n",
    "            file = f'{path_of_this_file}\\\\data\\\\{file}'\n",
    "            df = pd.read_csv(file, encoding='utf-8-sig', index_col=0)\n",
    "            print(df)\n",
    "            df_all = pd.concat([df_all, df])\n",
    "        \n",
    "        print(df_all)\n",
    "        \n",
    "        df_all.to_csv(f'{path_of_this_file}\\\\merged_data\\\\{self.str_yesterday}_{self.str_now}.csv', encoding=\"utf-8-sig\")   \n",
    "        \n",
    "        return print(\"어제와 오늘 파일 병합 및 저장 완료.\")"
   ]
  },
  {
   "cell_type": "code",
   "execution_count": 21,
   "id": "ae13ebf6",
   "metadata": {},
   "outputs": [],
   "source": [
    "a = Crawler()"
   ]
  },
  {
   "cell_type": "code",
   "execution_count": 22,
   "id": "7e44fe58",
   "metadata": {
    "scrolled": false
   },
   "outputs": [
    {
     "name": "stdout",
     "output_type": "stream",
     "text": [
      "네이버금융뉴스의 2022-07-28날짜 기사를 크롤링합니다.\n",
      "**************************************\n",
      "https://finance.naver.com/news/mainnews.naver?date=2022-07-28\n",
      "오늘 뉴스 크롤링 및 저장 완료\n"
     ]
    }
   ],
   "source": [
    "\n",
    "a.crawling_today()"
   ]
  },
  {
   "cell_type": "code",
   "execution_count": 6,
   "id": "94799164",
   "metadata": {},
   "outputs": [
    {
     "name": "stdout",
     "output_type": "stream",
     "text": [
      "한국경제의 07월 27일 기사를 크롤링합니다.\n",
      "**************************************\n"
     ]
    },
    {
     "name": "stderr",
     "output_type": "stream",
     "text": [
      " 84%|██████████████████████████████████████████████████████████████████▎            | 26/31 [00:00<00:00, 26001.88it/s]"
     ]
    },
    {
     "name": "stdout",
     "output_type": "stream",
     "text": [
      "https://media.naver.com/press/015/newspaper?date=20220727\n",
      "<Response [200]>\n"
     ]
    },
    {
     "name": "stderr",
     "output_type": "stream",
     "text": [
      "\n"
     ]
    },
    {
     "name": "stdout",
     "output_type": "stream",
     "text": [
      "27일자 기사를 크롤링합니다.\n",
      "-------------------------\n",
      "매일경제의 07월 27일 기사를 크롤링합니다.\n",
      "**************************************\n"
     ]
    },
    {
     "name": "stderr",
     "output_type": "stream",
     "text": [
      " 84%|███████████████████████████████████████████████████████████████████████████▍              | 26/31 [00:00<?, ?it/s]\n"
     ]
    },
    {
     "name": "stdout",
     "output_type": "stream",
     "text": [
      "https://media.naver.com/press/009/newspaper?date=20220727\n",
      "<Response [200]>\n",
      "27일자 기사를 크롤링합니다.\n",
      "-------------------------\n",
      "조선일보의 07월 27일 기사를 크롤링합니다.\n",
      "**************************************\n"
     ]
    },
    {
     "name": "stderr",
     "output_type": "stream",
     "text": [
      " 84%|███████████████████████████████████████████████████████████████████████████▍              | 26/31 [00:00<?, ?it/s]"
     ]
    },
    {
     "name": "stdout",
     "output_type": "stream",
     "text": [
      "https://media.naver.com/press/023/newspaper?date=20220727\n"
     ]
    },
    {
     "name": "stderr",
     "output_type": "stream",
     "text": [
      "\n"
     ]
    },
    {
     "name": "stdout",
     "output_type": "stream",
     "text": [
      "<Response [200]>\n",
      "27일자 기사를 크롤링합니다.\n",
      "-------------------------\n",
      "동아일보의 07월 27일 기사를 크롤링합니다.\n",
      "**************************************\n"
     ]
    },
    {
     "name": "stderr",
     "output_type": "stream",
     "text": [
      " 84%|███████████████████████████████████████████████████████████████████████████▍              | 26/31 [00:00<?, ?it/s]"
     ]
    },
    {
     "name": "stdout",
     "output_type": "stream",
     "text": [
      "https://media.naver.com/press/020/newspaper?date=20220727\n",
      "<Response [200]>\n"
     ]
    },
    {
     "name": "stderr",
     "output_type": "stream",
     "text": [
      "\n"
     ]
    },
    {
     "name": "stdout",
     "output_type": "stream",
     "text": [
      "27일자 기사를 크롤링합니다.\n",
      "-------------------------\n",
      "한겨레신문의 07월 27일 기사를 크롤링합니다.\n",
      "**************************************\n"
     ]
    },
    {
     "name": "stderr",
     "output_type": "stream",
     "text": [
      " 84%|███████████████████████████████████████████████████████████████████████████▍              | 26/31 [00:00<?, ?it/s]"
     ]
    },
    {
     "name": "stdout",
     "output_type": "stream",
     "text": [
      "https://media.naver.com/press/028/newspaper?date=20220727\n",
      "<Response [200]>\n"
     ]
    },
    {
     "name": "stderr",
     "output_type": "stream",
     "text": [
      "\n"
     ]
    },
    {
     "name": "stdout",
     "output_type": "stream",
     "text": [
      "27일자 기사를 크롤링합니다.\n",
      "-------------------------\n",
      "경향신문의 07월 27일 기사를 크롤링합니다.\n",
      "**************************************\n"
     ]
    },
    {
     "name": "stderr",
     "output_type": "stream",
     "text": [
      " 84%|██████████████████████████████████████████████████████████████████▎            | 26/31 [00:00<00:00, 27154.36it/s]"
     ]
    },
    {
     "name": "stdout",
     "output_type": "stream",
     "text": [
      "https://media.naver.com/press/032/newspaper?date=20220727\n",
      "<Response [200]>\n"
     ]
    },
    {
     "name": "stderr",
     "output_type": "stream",
     "text": [
      "\n"
     ]
    },
    {
     "name": "stdout",
     "output_type": "stream",
     "text": [
      "27일자 기사를 크롤링합니다.\n",
      "-------------------------\n"
     ]
    }
   ],
   "source": [
    "#a.crawling_today_day()"
   ]
  },
  {
   "cell_type": "code",
   "execution_count": 37,
   "id": "1c580fbe",
   "metadata": {},
   "outputs": [
    {
     "name": "stdout",
     "output_type": "stream",
     "text": [
      "['경향신문_2022_07_26.csv', '경향신문_2022_07_27.csv', '동아일보_2022_07_26.csv', '동아일보_2022_07_27.csv', '매일경제_2022_07_26.csv', '매일경제_2022_07_27.csv', '조선일보_2022_07_26.csv', '조선일보_2022_07_27.csv', '한겨레신문_2022_07_26.csv', '한겨레신문_2022_07_27.csv', '한국경제_2022_07_26.csv', '한국경제_2022_07_27.csv']\n",
      "   press                                         title      date\n",
      "0   경향신문                     “총경 회의는 쿠데타”…갈등에 기름 붓는 정부  20220726\n",
      "1   경향신문              야 ‘경찰국·사적 채용’ 맹공…여 ‘탈북 어민 북송’ 공박  20220726\n",
      "2   경향신문                       윤 대통령 “여가부 폐지안 조속히 만들라”  20220726\n",
      "3   경향신문                        삼성 ‘3나노 반도체’ 세계 공략 출정식  20220726\n",
      "4   경향신문  이준구 교수, 세제개편 비판 “다주택자 종부세 부담 대폭 경감은 졸책 중 졸책”  20220726\n",
      "..   ...                                           ...       ...\n",
      "81  경향신문                        [정동칼럼] 코로나 시대? 코호트 시대!  20220726\n",
      "82  경향신문            [사설] 경찰서장 회의를 “쿠데타” 비유한 이상민 장관의 궤변  20220726\n",
      "83  경향신문          [사설] 윤 대통령, 지지율 떨어지자 ‘여가부 폐지’ 다시 꺼냈나  20220726\n",
      "84  경향신문            [사설] 조선업 하청구조 개선하겠다는 노동부, 말보다 실천이다  20220726\n",
      "85  경향신문                         [세상읽기] 노동자에게 지옥 같은 나라  20220726\n",
      "\n",
      "[86 rows x 3 columns]\n",
      "   press                                   title      date\n",
      "0   경향신문                윤 대통령 “국기문란”…경찰 반발 직접 압박  20220727\n",
      "1   경향신문             윤 대통령 “기업 활동 위축 안 되게 형벌 개선”  20220727\n",
      "2   경향신문           딱 걸린 윤 대통령·권성동의 ‘사적 대화’[포토뉴스]  20220727\n",
      "3   경향신문          기재부 ‘법인세 감세 효과’ 판단, 정권 따라 180도  20220727\n",
      "4   경향신문      이상민, 이번엔 경찰대 비판 “졸업 후 경위 되는 건 불공정”  20220727\n",
      "..   ...                                     ...       ...\n",
      "83  경향신문               [경제직필] 가계부채 위기와 위험천만한 역주행  20220727\n",
      "84  경향신문  [사설] 국무회의 통과한 ‘행안부 경찰국’, 역사를 31년 후퇴시켰다  20220727\n",
      "85  경향신문        [사설] 반성도 없이 검찰개혁 원점으로 되돌리겠다는 법무부  20220727\n",
      "86  경향신문      [사설] 기준 중위소득, 취약계층 부축하려면 원칙대로 인상해야  20220727\n",
      "87  경향신문                 [공감] 퀼트를 만드는데 조각천이 모자란다  20220727\n",
      "\n",
      "[88 rows x 3 columns]\n",
      "    press                                    title      date\n",
      "0    동아일보                  하루 확진 10만명 안팎… 3개월만에 최다  20220726\n",
      "1    동아일보                서로 “쿠데타” 비난… 정부-일선경찰 극한대립  20220726\n",
      "2    동아일보     3억이하 지방 주택, 양도세-종부세 산정때 주택 수에 포함 안한다  20220726\n",
      "3    동아일보                    피겨퀸의 사랑, 성악가와 함께 ‘점프’  20220726\n",
      "4    동아일보  이상민 “무기 소지 가능 경찰이 명령 불복… 12·12도 이렇게 시작”  20220726\n",
      "..    ...                                      ...       ...\n",
      "118  동아일보               [단신]HDC현대산업개발, 하반기 신입사원 모집  20220726\n",
      "119  동아일보             [단신]부영그룹, 협력사에 삼계탕 6000세트 전달  20220726\n",
      "120  동아일보             [부동산 캘린더]전국 19개 단지 1만193채 분양  20220726\n",
      "121  동아일보                 내달 2만8000여채 입주예정… 두달째 증가  20220726\n",
      "122  동아일보              토지도 ‘거래 절벽’… 상반기 거래량 27% 급감  20220726\n",
      "\n",
      "[123 rows x 3 columns]\n",
      "    press                                  title      date\n",
      "0    동아일보        [단독]서울 아파트 월세 부담, 2년새 年348만원 껑충  20220727\n",
      "1    동아일보        ‘경찰국’ 국무회의 의결… 일선경찰 “14만명 전체회의”  20220727\n",
      "2    동아일보         정황근 “청년 스마트팜 대출 상환 10년→25년 연장”  20220727\n",
      "3    동아일보               IMF, 한국 올해 성장률 2.3%로 낮췄다  20220727\n",
      "4    동아일보       아파치 헬기 줄지어 출격… 육군 역대 최대규모 항공기동훈련  20220727\n",
      "..    ...                                    ...       ...\n",
      "140  동아일보  기초연구 특화 오픈이노베이션 가동… 산학협력 신약개발 활성화에 기여  20220727\n",
      "141  동아일보       피서객 몰리는 휴가철 “물놀이 주의사항 반드시 알고가세요”  20220727\n",
      "142  동아일보     [여기, 이슈!]“엉뚱한 행동이라도 편견없는 눈으로 봐주세요”  20220727\n",
      "143  동아일보             [오늘의 먹거리]맛-영양 뛰어난 여름 과일의 왕  20220727\n",
      "144  동아일보            여름철 식중독 예방하려면 건강한 장 환경 조성해야  20220727\n",
      "\n",
      "[145 rows x 3 columns]\n",
      "    press                                    title      date\n",
      "0    매일경제     \"美 경기침체 아냐\" \"연착륙 가능성 희박\"…옐런·서머스 정면충돌  20220726\n",
      "1    매일경제        LG엔솔, 996만주 '물량폭탄' 맞을라…기관은 공매도 베팅  20220726\n",
      "2    매일경제               與 권성동, 대우조선에 '文정권 알박기' 책임론  20220726\n",
      "3    매일경제       초유의 경찰 저항에 이상민 \"쿠테타 수준\"…경찰국 신설 후폭풍  20220726\n",
      "4    매일경제          국내 전기버스 50%가 중국산…정부 보조금에 '무임승차'  20220726\n",
      "..    ...                                      ...       ...\n",
      "121  매일경제             [매경이코노미스트] 너무 많은걸 결정하는 ESG점수  20220726\n",
      "122  매일경제           치안 책임지는 파출소장까지 경거망동해선 안된다 [사설]  20220726\n",
      "123  매일경제       재건축부담금 7억…주택 공급막는 걸림돌 제대로 손보라 [사설]  20220726\n",
      "124  매일경제                     [필동정담] 이탈리아 잃어버린 15년  20220726\n",
      "125  매일경제  [사설] 현대차 미국선 파격적 稅감면, 민주당 법인세 뒷다리 잡을 땐가  20220726\n",
      "\n",
      "[126 rows x 3 columns]\n",
      "    press                                  title      date\n",
      "0    매일경제         용산을 '아시아 실리콘밸리'로…롯데타워급 빌딩 들어선다  20220727\n",
      "1    매일경제      [단독] 주총 통지서 카톡으로 받고…내년부턴 전자주총 열려요  20220727\n",
      "2    매일경제             파업 불씨 임금 이중구조에…韓총리 \"개선 착수\"  20220727\n",
      "3    매일경제         2분기 0.7% '불안한 성장'…수출·투자 나란히 부진  20220727\n",
      "4    매일경제             UAM 띄우고 지하에 환승거점…미래교통 중심으로  20220727\n",
      "..    ...                                    ...       ...\n",
      "126  매일경제              [글로벌포커스] 북핵 문제, 플랜B가 필요하다  20220727\n",
      "127  매일경제      현대제철 사장실 87일 무단점거는 방치해도 괜찮은가 [사설]  20220727\n",
      "128  매일경제                        [필동정담] 또 열돔의 계절  20220727\n",
      "129  매일경제    [사설] 모두가 알면서도 해결 못하는 OECD 1위 한국 자살률  20220727\n",
      "130  매일경제  [사설] 10년만에 다시 시동건 용산개발, 세계적 랜드마크 기대한다  20220727\n",
      "\n",
      "[131 rows x 3 columns]\n",
      "   press                                    title      date\n",
      "0   조선일보    AI도 우주항공도 방산도… 中, 한국 미래 먹거리 7개중 5개 추월  20220726\n",
      "1   조선일보  [단독] 사장부터 본부장… LH 주요간부 전원, 금요일 오후 ‘부재중’  20220726\n",
      "2   조선일보               중앙지검 ‘2조원대 수상한 해외송금’ 수사 착수  20220726\n",
      "3   조선일보            “쿠데타 준하는 상황” vs “경찰은 회의도 못하나”  20220726\n",
      "4   조선일보   교황 ‘속죄의 순례’... 캐나다 찾아 100년전 아동 집단학살 사과  20220726\n",
      "..   ...                                      ...       ...\n",
      "91  조선일보       중국 ‘톈치리튬’, 지난 한달 개미들이 순매수한 해외주식 1위  20220726\n",
      "92  조선일보               위기의 넷플릭스, 8개월새 주가 68% 떨어졌다  20220726\n",
      "93  조선일보   ‘육만전자’ ‘팔백슬라’ 복귀했지만… 얼마 더 올라야 개미들 본전될까  20220726\n",
      "94  조선일보                     8월 땅집고 아카데미 수강 신청하세요  20220726\n",
      "95  조선일보              부동산 트렌드쇼서 한국 젊은 작가 작품 감상하세요  20220726\n",
      "\n",
      "[96 rows x 3 columns]\n",
      "   press                                  title      date\n",
      "0   조선일보     기업들, 아세안·유럽行…‘수출 리모델링’으로 中 의존도 낮춘다  20220727\n",
      "1   조선일보  SK, 미국에 29조원 추가 투자… 반도체·바이오·수소 산업에 집중  20220727\n",
      "2   조선일보     KB도 수상한 해외송금 정황… 검찰 이어 국정원서도 조사 나서  20220727\n",
      "3   조선일보             尹대통령 “경찰 인사, 공정한 방향으로 바꿔라”  20220727\n",
      "4   조선일보         “교권 사라진 교실… 교사를 아동학대범 취급하고 있다”  20220727\n",
      "..   ...                                    ...       ...\n",
      "94  조선일보             알리바바, 홍콩서 중국인 투자 가능한 상장 추진  20220727\n",
      "95  조선일보      상반기 땅값 가장 많이 오른 곳은… 서울 성동구·부산 해운대  20220727\n",
      "96  조선일보  “영끌로 집 사는 시대는 끝났어요 1~2년 기다리면 저가매수 기회”  20220727\n",
      "97  조선일보                3~4인가구에 딱, 강남 한복판의 오피스텔  20220727\n",
      "98  조선일보  [부동산 100자 정보] 서울 송파 문정현대아파트 리모델링 수주 외  20220727\n",
      "\n",
      "[99 rows x 3 columns]\n",
      "    press                                              title      date\n",
      "0   한겨레신문                   이상민의 궤변과 갈라치기…경찰들 “부끄러운 줄 알라” 반발  20220726\n",
      "1   한겨레신문  국힘 “어민 북송, 유엔사 동의 없이 판문점 출입” 주장에…통일·국방장관 “승인 있었다”  20220726\n",
      "2   한겨레신문                    윤 대통령, 지지율 때문?…돌연 여가부 폐지 속도전 주문  20220726\n",
      "3   한겨레신문                재벌 일감 몰아주기 1천억여원 감세…“정부가 총수 이익 챙겨줘”  20220726\n",
      "4   한겨레신문                        내년 종부세 공정가액 비율 2018년 수준 낮추나  20220726\n",
      "..    ...                                                ...       ...\n",
      "60  한겨레신문                청와대를 베르사유 궁처럼…한국이 부르봉 왕가도 아니고 / 이주현  20220726\n",
      "61  한겨레신문               [사설] 반발만 키운 ‘쿠데타’ 궤변, ‘경찰국안’ 폐기가 답이다  20220726\n",
      "62  한겨레신문                    [사설] 전태일·박종철·이한열도 아직 유공자가 아닌 현실  20220726\n",
      "63  한겨레신문                          ‘빵플레이션’이 경고하는 미래 [제정임 칼럼]  20220726\n",
      "64  한겨레신문                     [사설] 기어이 성평등 컨트롤타워 없애겠다는 윤 대통령  20220726\n",
      "\n",
      "[65 rows x 3 columns]\n",
      "    press                                       title      date\n",
      "0   한겨레신문              법치에 먹칠한 윤석열 정부…위법적 ‘경찰국 밀어붙이기’  20220727\n",
      "1   한겨레신문                  코로나 재감염자 늘고 있다…100명 중 3.7명  20220727\n",
      "2   한겨레신문       ‘0.7% 성장률’ 내수가 떠받쳤지만…하반기엔 내수·수출 ‘빨간불’  20220727\n",
      "3   한겨레신문        ‘무증상 PCR’ 12만원…학교 감염 느는데, 검사비 부담 어쩌나  20220727\n",
      "4   한겨레신문  [Q＆A] BA.5 확산하는데…‘네버 코비드’ ‘슈퍼항체’ 버틸 수 있을까?  20220727\n",
      "..    ...                                         ...       ...\n",
      "58  한겨레신문    [사설] 미얀마 군부의 민주운동가들 전격 처형, 그래도 저항은 못 꺾는다  20220727\n",
      "59  한겨레신문     [아침햇발] 사적 채용, ‘용궁’으로 가는 그들만의 하이웨이 / 손원제  20220727\n",
      "60  한겨레신문            [사설] 부의 편법증여 조장 ‘일감몰아주기 감세’ 철회해야  20220727\n",
      "61  한겨레신문                             비전 없는 보수 정치의 민낯  20220727\n",
      "62  한겨레신문       [사설] “국기문란” “반미투쟁” 들먹이며 경찰국 강행한 오기 정권  20220727\n",
      "\n",
      "[63 rows x 3 columns]\n",
      "    press                                  title      date\n",
      "0    한국경제     타당성 평가 없이 현금 쏴줬다…文정부 5년간 '120조 펑펑'  20220726\n",
      "1    한국경제       [포토] 삼성 ‘3나노’ 세계 첫 출하…파운드리 판 바꾼다  20220726\n",
      "2    한국경제             \"원전경쟁력 35% 후퇴…복구하는데 4년 걸려\"  20220726\n",
      "3    한국경제          회사채 금리 年 6~7%…'A급 기업'도 돈줄 마른다  20220726\n",
      "4    한국경제                   '의원 입법' 90%…재원대책 없었다  20220726\n",
      "..    ...                                    ...       ...\n",
      "119  한국경제  3년 뒤 100조원 시장…'AI 반도체' 두각 나타낸 한국 스타트업  20220726\n",
      "120  한국경제         亞·太 주요기업들, DX투자 늘렸지만 속도는 기대 이하  20220726\n",
      "121  한국경제    지역 소상공인에 무료 홍보 영상…ESG경영 특화나선 LG헬로비전  20220726\n",
      "122  한국경제            휴가철 해외여행 북적…통신 3社, 로밍서비스 경쟁  20220726\n",
      "123  한국경제    비즈니스로 진화하는 랜섬웨어…\"보안 솔루션으로 방어체제 갖춰라\"  20220726\n",
      "\n",
      "[124 rows x 3 columns]\n",
      "    press                                title      date\n",
      "0    한국경제              2분기 성장률 0.7%…소비로 겨우 버텼다  20220727\n",
      "1    한국경제        689조 vs 285조…규제가 부른 '투자 엑소더스'  20220727\n",
      "2    한국경제       SK, 美에 29조 추가 투자…반도체·배터리 공장 조성  20220727\n",
      "3    한국경제                 용산정비창에 초고층 복합단지 들어선다  20220727\n",
      "4    한국경제      한은 새 금통위원에 신성환 \"경제 안정에 최선 다할 것\"  20220727\n",
      "..    ...                                  ...       ...\n",
      "125  한국경제      포르쉐·렉서스·벤츠, 수입차 서비스 만족도 평가 1~3위  20220727\n",
      "126  한국경제                   자동차 무상점검 받고 휴가 가세요  20220727\n",
      "127  한국경제                  전기차 장밋빛 전망과 제조사의 주름  20220727\n",
      "128  한국경제    \"서울은 중요한 '모터 마켓'…런던·뉴욕에 뒤질 것 없어요\"  20220727\n",
      "129  한국경제  침수된 車, 속아 샀다간 낭패?…실내 악취·엔진룸 꼼꼼히 확인을  20220727\n",
      "\n",
      "[130 rows x 3 columns]\n",
      "    press                                         title      date\n",
      "0    경향신문                     “총경 회의는 쿠데타”…갈등에 기름 붓는 정부  20220726\n",
      "1    경향신문              야 ‘경찰국·사적 채용’ 맹공…여 ‘탈북 어민 북송’ 공박  20220726\n",
      "2    경향신문                       윤 대통령 “여가부 폐지안 조속히 만들라”  20220726\n",
      "3    경향신문                        삼성 ‘3나노 반도체’ 세계 공략 출정식  20220726\n",
      "4    경향신문  이준구 교수, 세제개편 비판 “다주택자 종부세 부담 대폭 경감은 졸책 중 졸책”  20220726\n",
      "..    ...                                           ...       ...\n",
      "125  한국경제               포르쉐·렉서스·벤츠, 수입차 서비스 만족도 평가 1~3위  20220727\n",
      "126  한국경제                            자동차 무상점검 받고 휴가 가세요  20220727\n",
      "127  한국경제                           전기차 장밋빛 전망과 제조사의 주름  20220727\n",
      "128  한국경제             \"서울은 중요한 '모터 마켓'…런던·뉴욕에 뒤질 것 없어요\"  20220727\n",
      "129  한국경제           침수된 車, 속아 샀다간 낭패?…실내 악취·엔진룸 꼼꼼히 확인을  20220727\n",
      "\n",
      "[1276 rows x 3 columns]\n"
     ]
    }
   ],
   "source": [
    "#a.merge()"
   ]
  },
  {
   "cell_type": "code",
   "execution_count": null,
   "id": "d5912783",
   "metadata": {},
   "outputs": [],
   "source": []
  }
 ],
 "metadata": {
  "kernelspec": {
   "display_name": "Python 3 (ipykernel)",
   "language": "python",
   "name": "python3"
  },
  "language_info": {
   "codemirror_mode": {
    "name": "ipython",
    "version": 3
   },
   "file_extension": ".py",
   "mimetype": "text/x-python",
   "name": "python",
   "nbconvert_exporter": "python",
   "pygments_lexer": "ipython3",
   "version": "3.9.7"
  }
 },
 "nbformat": 4,
 "nbformat_minor": 5
}
