{
 "cells": [
  {
   "cell_type": "code",
   "execution_count": 1,
   "id": "aa9a187e",
   "metadata": {},
   "outputs": [],
   "source": [
    "import pandas as pd\n",
    "import numpy as np"
   ]
  },
  {
   "cell_type": "code",
   "execution_count": 48,
   "id": "09455a21",
   "metadata": {},
   "outputs": [
    {
     "data": {
      "text/html": [
       "<div>\n",
       "<style scoped>\n",
       "    .dataframe tbody tr th:only-of-type {\n",
       "        vertical-align: middle;\n",
       "    }\n",
       "\n",
       "    .dataframe tbody tr th {\n",
       "        vertical-align: top;\n",
       "    }\n",
       "\n",
       "    .dataframe thead th {\n",
       "        text-align: right;\n",
       "    }\n",
       "</style>\n",
       "<table border=\"1\" class=\"dataframe\">\n",
       "  <thead>\n",
       "    <tr style=\"text-align: right;\">\n",
       "      <th></th>\n",
       "      <th>press</th>\n",
       "      <th>title</th>\n",
       "      <th>date</th>\n",
       "      <th>emotion</th>\n",
       "    </tr>\n",
       "  </thead>\n",
       "  <tbody>\n",
       "    <tr>\n",
       "      <th>0</th>\n",
       "      <td>동아일보</td>\n",
       "      <td>원전수사팀 “경제성 조작, 수천억 피해”… 대검 “배임 적용 신중”</td>\n",
       "      <td>20210601</td>\n",
       "      <td>0.0</td>\n",
       "    </tr>\n",
       "    <tr>\n",
       "      <th>1</th>\n",
       "      <td>동아일보</td>\n",
       "      <td>CJ ENM “5년간 5조원 투자해 오리지널 콘텐츠 제작”</td>\n",
       "      <td>20210601</td>\n",
       "      <td>2.0</td>\n",
       "    </tr>\n",
       "    <tr>\n",
       "      <th>2</th>\n",
       "      <td>동아일보</td>\n",
       "      <td>한은 “국내 증시, 실물경제 제대로 반영 못해”</td>\n",
       "      <td>20210601</td>\n",
       "      <td>0.0</td>\n",
       "    </tr>\n",
       "    <tr>\n",
       "      <th>3</th>\n",
       "      <td>동아일보</td>\n",
       "      <td>SSG닷컴 “모든 고객에 한달간 ‘VIP급’ 혜택”</td>\n",
       "      <td>20210601</td>\n",
       "      <td>2.0</td>\n",
       "    </tr>\n",
       "    <tr>\n",
       "      <th>4</th>\n",
       "      <td>동아일보</td>\n",
       "      <td>“신나게 두드려요”</td>\n",
       "      <td>20210601</td>\n",
       "      <td>1.0</td>\n",
       "    </tr>\n",
       "    <tr>\n",
       "      <th>...</th>\n",
       "      <td>...</td>\n",
       "      <td>...</td>\n",
       "      <td>...</td>\n",
       "      <td>...</td>\n",
       "    </tr>\n",
       "    <tr>\n",
       "      <th>5057</th>\n",
       "      <td>한국경제</td>\n",
       "      <td>\"휴일에도 온라인 배송 가능\"…당정, 대형마트 족쇄 풀기 나섰다</td>\n",
       "      <td>20220630</td>\n",
       "      <td>1.0</td>\n",
       "    </tr>\n",
       "    <tr>\n",
       "      <th>5058</th>\n",
       "      <td>한국경제</td>\n",
       "      <td>美 1분기 성장률 연율 -1.6%로 확정</td>\n",
       "      <td>20220630</td>\n",
       "      <td>0.0</td>\n",
       "    </tr>\n",
       "    <tr>\n",
       "      <th>5059</th>\n",
       "      <td>한겨레신문</td>\n",
       "      <td>내년 최저임금 시급 9620원 확정…5.0% 올랐다</td>\n",
       "      <td>20220630</td>\n",
       "      <td>2.0</td>\n",
       "    </tr>\n",
       "    <tr>\n",
       "      <th>5060</th>\n",
       "      <td>한겨레신문</td>\n",
       "      <td>“월세 됐고, 관리비 100만원”…자영업자 울리는 건물주 꼼수</td>\n",
       "      <td>20220630</td>\n",
       "      <td>0.0</td>\n",
       "    </tr>\n",
       "    <tr>\n",
       "      <th>5061</th>\n",
       "      <td>한겨레신문</td>\n",
       "      <td>누가 ‘임금발 인플레이션’을 죽였나…살인 미스터리</td>\n",
       "      <td>20220630</td>\n",
       "      <td>0.0</td>\n",
       "    </tr>\n",
       "  </tbody>\n",
       "</table>\n",
       "<p>5062 rows × 4 columns</p>\n",
       "</div>"
      ],
      "text/plain": [
       "      press                                  title      date  emotion\n",
       "0      동아일보  원전수사팀 “경제성 조작, 수천억 피해”… 대검 “배임 적용 신중”  20210601      0.0\n",
       "1      동아일보       CJ ENM “5년간 5조원 투자해 오리지널 콘텐츠 제작”  20210601      2.0\n",
       "2      동아일보             한은 “국내 증시, 실물경제 제대로 반영 못해”  20210601      0.0\n",
       "3      동아일보           SSG닷컴 “모든 고객에 한달간 ‘VIP급’ 혜택”  20210601      2.0\n",
       "4      동아일보                             “신나게 두드려요”  20210601      1.0\n",
       "...     ...                                    ...       ...      ...\n",
       "5057   한국경제    \"휴일에도 온라인 배송 가능\"…당정, 대형마트 족쇄 풀기 나섰다  20220630      1.0\n",
       "5058   한국경제                 美 1분기 성장률 연율 -1.6%로 확정  20220630      0.0\n",
       "5059  한겨레신문           내년 최저임금 시급 9620원 확정…5.0% 올랐다  20220630      2.0\n",
       "5060  한겨레신문     “월세 됐고, 관리비 100만원”…자영업자 울리는 건물주 꼼수  20220630      0.0\n",
       "5061  한겨레신문            누가 ‘임금발 인플레이션’을 죽였나…살인 미스터리  20220630      0.0\n",
       "\n",
       "[5062 rows x 4 columns]"
      ]
     },
     "execution_count": 48,
     "metadata": {},
     "output_type": "execute_result"
    }
   ],
   "source": [
    "df = pd.read_csv('data/202106-202206.csv',encoding='utf-8-sig',index_col = 0)\n",
    "df.reset_index(inplace=True,drop=True)\n",
    "df"
   ]
  },
  {
   "cell_type": "code",
   "execution_count": 49,
   "id": "239d241f",
   "metadata": {},
   "outputs": [
    {
     "data": {
      "text/plain": [
       "0.4407348873962861"
      ]
     },
     "execution_count": 49,
     "metadata": {},
     "output_type": "execute_result"
    }
   ],
   "source": [
    "len(df[df.emotion==0])/len(df)"
   ]
  },
  {
   "cell_type": "code",
   "execution_count": 50,
   "id": "ad2b91f4",
   "metadata": {},
   "outputs": [
    {
     "name": "stdout",
     "output_type": "stream",
     "text": [
      "<class 'pandas.core.indexes.numeric.Int64Index'>\n"
     ]
    }
   ],
   "source": [
    "긍정인덱스=df[(df.emotion==0)].index\n",
    "len(긍정인덱스)\n",
    "\n",
    "print(type(긍정인덱스))"
   ]
  },
  {
   "cell_type": "code",
   "execution_count": 67,
   "id": "653ac6e7",
   "metadata": {},
   "outputs": [
    {
     "data": {
      "text/html": [
       "<div>\n",
       "<style scoped>\n",
       "    .dataframe tbody tr th:only-of-type {\n",
       "        vertical-align: middle;\n",
       "    }\n",
       "\n",
       "    .dataframe tbody tr th {\n",
       "        vertical-align: top;\n",
       "    }\n",
       "\n",
       "    .dataframe thead th {\n",
       "        text-align: right;\n",
       "    }\n",
       "</style>\n",
       "<table border=\"1\" class=\"dataframe\">\n",
       "  <thead>\n",
       "    <tr style=\"text-align: right;\">\n",
       "      <th></th>\n",
       "      <th>press</th>\n",
       "      <th>title</th>\n",
       "      <th>date</th>\n",
       "      <th>emotion</th>\n",
       "    </tr>\n",
       "  </thead>\n",
       "  <tbody>\n",
       "    <tr>\n",
       "      <th>0</th>\n",
       "      <td>동아일보</td>\n",
       "      <td>원전수사팀 “경제성 조작, 수천억 피해”… 대검 “배임 적용 신중”</td>\n",
       "      <td>20210601</td>\n",
       "      <td>0.0</td>\n",
       "    </tr>\n",
       "    <tr>\n",
       "      <th>2</th>\n",
       "      <td>동아일보</td>\n",
       "      <td>한은 “국내 증시, 실물경제 제대로 반영 못해”</td>\n",
       "      <td>20210601</td>\n",
       "      <td>0.0</td>\n",
       "    </tr>\n",
       "    <tr>\n",
       "      <th>5</th>\n",
       "      <td>동아일보</td>\n",
       "      <td>“집값-가계빚-고령화가 한국의 불안요소”</td>\n",
       "      <td>20210601</td>\n",
       "      <td>0.0</td>\n",
       "    </tr>\n",
       "    <tr>\n",
       "      <th>30</th>\n",
       "      <td>동아일보</td>\n",
       "      <td>기업 기밀 ‘인질’로 “몸값내라”…안내면 디도스 공격 협박까지</td>\n",
       "      <td>20210601</td>\n",
       "      <td>0.0</td>\n",
       "    </tr>\n",
       "    <tr>\n",
       "      <th>34</th>\n",
       "      <td>동아일보</td>\n",
       "      <td>檢, 이용구 수사 경찰간부 불러 ‘외압 여부’ 추궁</td>\n",
       "      <td>20210601</td>\n",
       "      <td>0.0</td>\n",
       "    </tr>\n",
       "    <tr>\n",
       "      <th>...</th>\n",
       "      <td>...</td>\n",
       "      <td>...</td>\n",
       "      <td>...</td>\n",
       "      <td>...</td>\n",
       "    </tr>\n",
       "    <tr>\n",
       "      <th>5055</th>\n",
       "      <td>한국경제</td>\n",
       "      <td>세계 증시 '돈 가뭄'…닷컴버블 이후 최악</td>\n",
       "      <td>20220630</td>\n",
       "      <td>0.0</td>\n",
       "    </tr>\n",
       "    <tr>\n",
       "      <th>5056</th>\n",
       "      <td>한겨레신문</td>\n",
       "      <td>6월 가계소비자 ‘기대인플레이션’ 3.9%…10년만에 최고</td>\n",
       "      <td>20220630</td>\n",
       "      <td>0.0</td>\n",
       "    </tr>\n",
       "    <tr>\n",
       "      <th>5058</th>\n",
       "      <td>한국경제</td>\n",
       "      <td>美 1분기 성장률 연율 -1.6%로 확정</td>\n",
       "      <td>20220630</td>\n",
       "      <td>0.0</td>\n",
       "    </tr>\n",
       "    <tr>\n",
       "      <th>5060</th>\n",
       "      <td>한겨레신문</td>\n",
       "      <td>“월세 됐고, 관리비 100만원”…자영업자 울리는 건물주 꼼수</td>\n",
       "      <td>20220630</td>\n",
       "      <td>0.0</td>\n",
       "    </tr>\n",
       "    <tr>\n",
       "      <th>5061</th>\n",
       "      <td>한겨레신문</td>\n",
       "      <td>누가 ‘임금발 인플레이션’을 죽였나…살인 미스터리</td>\n",
       "      <td>20220630</td>\n",
       "      <td>0.0</td>\n",
       "    </tr>\n",
       "  </tbody>\n",
       "</table>\n",
       "<p>2231 rows × 4 columns</p>\n",
       "</div>"
      ],
      "text/plain": [
       "      press                                  title      date  emotion\n",
       "0      동아일보  원전수사팀 “경제성 조작, 수천억 피해”… 대검 “배임 적용 신중”  20210601      0.0\n",
       "2      동아일보             한은 “국내 증시, 실물경제 제대로 반영 못해”  20210601      0.0\n",
       "5      동아일보                 “집값-가계빚-고령화가 한국의 불안요소”  20210601      0.0\n",
       "30     동아일보     기업 기밀 ‘인질’로 “몸값내라”…안내면 디도스 공격 협박까지  20210601      0.0\n",
       "34     동아일보           檢, 이용구 수사 경찰간부 불러 ‘외압 여부’ 추궁  20210601      0.0\n",
       "...     ...                                    ...       ...      ...\n",
       "5055   한국경제                세계 증시 '돈 가뭄'…닷컴버블 이후 최악  20220630      0.0\n",
       "5056  한겨레신문       6월 가계소비자 ‘기대인플레이션’ 3.9%…10년만에 최고  20220630      0.0\n",
       "5058   한국경제                 美 1분기 성장률 연율 -1.6%로 확정  20220630      0.0\n",
       "5060  한겨레신문     “월세 됐고, 관리비 100만원”…자영업자 울리는 건물주 꼼수  20220630      0.0\n",
       "5061  한겨레신문            누가 ‘임금발 인플레이션’을 죽였나…살인 미스터리  20220630      0.0\n",
       "\n",
       "[2231 rows x 4 columns]"
      ]
     },
     "execution_count": 67,
     "metadata": {},
     "output_type": "execute_result"
    }
   ],
   "source": [
    "A=df.loc[긍정인덱스]\n",
    "A"
   ]
  },
  {
   "cell_type": "code",
   "execution_count": 79,
   "id": "eb67a408",
   "metadata": {},
   "outputs": [
    {
     "data": {
      "text/plain": [
       "0       원전수사팀 “경제성 조작, 수천억 피해”… 대검 “배임 적용 신중”\n",
       "2                  한은 “국내 증시, 실물경제 제대로 반영 못해”\n",
       "5                      “집값-가계빚-고령화가 한국의 불안요소”\n",
       "30         기업 기밀 ‘인질’로 “몸값내라”…안내면 디도스 공격 협박까지\n",
       "34               檢, 이용구 수사 경찰간부 불러 ‘외압 여부’ 추궁\n",
       "                        ...                  \n",
       "5055                  세계 증시 '돈 가뭄'…닷컴버블 이후 최악\n",
       "5056         6월 가계소비자 ‘기대인플레이션’ 3.9%…10년만에 최고\n",
       "5058                   美 1분기 성장률 연율 -1.6%로 확정\n",
       "5060       “월세 됐고, 관리비 100만원”…자영업자 울리는 건물주 꼼수\n",
       "5061              누가 ‘임금발 인플레이션’을 죽였나…살인 미스터리\n",
       "Name: title, Length: 2231, dtype: object"
      ]
     },
     "execution_count": 79,
     "metadata": {},
     "output_type": "execute_result"
    }
   ],
   "source": [
    "li=[]\n",
    "li.append(A.title)\n",
    "A.title"
   ]
  },
  {
   "cell_type": "code",
   "execution_count": 52,
   "id": "f4eed78e",
   "metadata": {},
   "outputs": [],
   "source": [
    "percent_0=len(df[df.emotion==0])/len(df)\n",
    "percent_1=len(df[df.emotion==1])/len(df)\n",
    "percent_2=len(df[df.emotion==2])/len(df)\n",
    "max_percent=max(percent_0,percent_1,percent_2)  "
   ]
  },
  {
   "cell_type": "code",
   "execution_count": 59,
   "id": "2c9df4e2",
   "metadata": {},
   "outputs": [
    {
     "data": {
      "text/plain": [
       "<function float.as_integer_ratio()>"
      ]
     },
     "execution_count": 59,
     "metadata": {},
     "output_type": "execute_result"
    }
   ],
   "source": [
    "max_percent.as_integer_ratio"
   ]
  },
  {
   "cell_type": "code",
   "execution_count": 60,
   "id": "54e3dcce",
   "metadata": {},
   "outputs": [],
   "source": [
    "count_0 = len(df[df.emotion == 0])\n",
    "count_1 = len(df[df.emotion == 1])\n",
    "count_2 = len(df[df.emotion == 2])"
   ]
  },
  {
   "cell_type": "code",
   "execution_count": 66,
   "id": "19b31f3a",
   "metadata": {},
   "outputs": [
    {
     "name": "stdout",
     "output_type": "stream",
     "text": [
      "부정\n"
     ]
    }
   ],
   "source": [
    "max_percent=max(percent_0,percent_1,percent_2)  \n",
    "if percent_0 > percent_1 :\n",
    "    if percent_2 > percent_0:\n",
    "        v= '중립'\n",
    "    else:\n",
    "        v='부정'\n",
    "else:\n",
    "    if percent_1 > percent_2:\n",
    "        v='긍정'\n",
    "    else:\n",
    "        v='중립'\n"
   ]
  },
  {
   "cell_type": "code",
   "execution_count": null,
   "id": "b2b4f989",
   "metadata": {},
   "outputs": [],
   "source": []
  }
 ],
 "metadata": {
  "kernelspec": {
   "display_name": "Python 3 (ipykernel)",
   "language": "python",
   "name": "python3"
  },
  "language_info": {
   "codemirror_mode": {
    "name": "ipython",
    "version": 3
   },
   "file_extension": ".py",
   "mimetype": "text/x-python",
   "name": "python",
   "nbconvert_exporter": "python",
   "pygments_lexer": "ipython3",
   "version": "3.9.7"
  }
 },
 "nbformat": 4,
 "nbformat_minor": 5
}
