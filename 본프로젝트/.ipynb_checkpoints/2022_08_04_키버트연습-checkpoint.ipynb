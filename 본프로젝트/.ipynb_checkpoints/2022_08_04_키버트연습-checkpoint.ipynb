{
 "cells": [
  {
   "cell_type": "markdown",
   "id": "19fe31c5",
   "metadata": {},
   "source": [
    "## 라이브러리 임포트"
   ]
  },
  {
   "cell_type": "code",
   "execution_count": 1,
   "id": "d14b232f",
   "metadata": {},
   "outputs": [
    {
     "name": "stderr",
     "output_type": "stream",
     "text": [
      "C:\\Users\\ship2\\anaconda3\\lib\\site-packages\\scipy\\__init__.py:146: UserWarning: A NumPy version >=1.16.5 and <1.23.0 is required for this version of SciPy (detected version 1.23.1\n",
      "  warnings.warn(f\"A NumPy version >={np_minversion} and <{np_maxversion}\"\n"
     ]
    }
   ],
   "source": [
    "import numpy as np\n",
    "import itertools\n",
    "\n",
    "from konlpy.tag import Okt\n",
    "from sklearn.feature_extraction.text import CountVectorizer\n",
    "from sklearn.metrics.pairwise import cosine_similarity\n",
    "from sentence_transformers import SentenceTransformer\n",
    "\n"
   ]
  },
  {
   "cell_type": "code",
   "execution_count": 23,
   "id": "c7181495",
   "metadata": {},
   "outputs": [],
   "source": [
    "doc = \"\"\"\n",
    "15% 매출 증가 1~2월 사이에 사람들 붐벼.\n",
    "\"\"\""
   ]
  },
  {
   "cell_type": "markdown",
   "id": "31c15b5e",
   "metadata": {},
   "source": [
    "## 형태소 분석기를 통해 명사만 추출한 문서를 만듭니다."
   ]
  },
  {
   "cell_type": "code",
   "execution_count": 24,
   "id": "51ea1312",
   "metadata": {},
   "outputs": [
    {
     "name": "stdout",
     "output_type": "stream",
     "text": [
      "품사 태깅 10개만 출력 : [('\\n', 'Foreign'), ('15%', 'Number'), ('매출', 'Noun'), ('증가', 'Noun'), ('1~2월', 'Number'), ('사이', 'Noun'), ('에', 'Josa'), ('사람', 'Noun'), ('들', 'Suffix'), ('붐벼', 'Verb')]\n",
      "명사 추출 : 매출 증가 사이 사람\n"
     ]
    }
   ],
   "source": [
    "okt = Okt()\n",
    "\n",
    "tokenized_doc = okt.pos(doc)\n",
    "tokenized_nouns = ' '.join([word[0] for word in tokenized_doc if word[1] == 'Noun'])\n",
    "\n",
    "print('품사 태깅 10개만 출력 :',tokenized_doc[:10])\n",
    "print('명사 추출 :',tokenized_nouns)"
   ]
  },
  {
   "cell_type": "markdown",
   "id": "c54127d4",
   "metadata": {},
   "source": [
    "## 사이킷런의 CountVectorizer를 사용하여 단어를 추출합니다. CountVectorizer를 사용하는 이유는 n_gram_range의 인자를 사용하면 쉽게 n-gram을 추출할 수 있기 때문입니다. 예를 들어, (2, 3)으로 설정하면 결과 후보는 2개의 단어를 한 묶음으로 간주하는 bigram과 3개의 단어를 한 묶음으로 간주하는 trigram을 추출"
   ]
  },
  {
   "cell_type": "code",
   "execution_count": 4,
   "id": "bdbd5b87",
   "metadata": {},
   "outputs": [
    {
     "name": "stdout",
     "output_type": "stream",
     "text": [
      "trigram 개수 : 222\n",
      "trigram 다섯개만 출력 : ['가동 업체', '가동 업체 무허가', '가장 적극', '가장 적극 소방청', '경우 실기']\n"
     ]
    }
   ],
   "source": [
    "n_gram_range = (2, 3)\n",
    "\n",
    "count = CountVectorizer(ngram_range=n_gram_range).fit([tokenized_nouns])\n",
    "candidates = count.get_feature_names()\n",
    "\n",
    "print('trigram 개수 :',len(candidates))\n",
    "print('trigram 다섯개만 출력 :',candidates[:5])"
   ]
  },
  {
   "cell_type": "markdown",
   "id": "71178081",
   "metadata": {},
   "source": [
    " ## 문서와 문서로부터 추출한 키워드들을 SBERT를 통해서 수치화"
   ]
  },
  {
   "cell_type": "code",
   "execution_count": 5,
   "id": "e9f41cc7",
   "metadata": {},
   "outputs": [],
   "source": [
    "model = SentenceTransformer('sentence-transformers/xlm-r-100langs-bert-base-nli-stsb-mean-tokens')\n",
    "doc_embedding = model.encode([doc])\n",
    "candidate_embeddings = model.encode(candidates)"
   ]
  },
  {
   "cell_type": "markdown",
   "id": "467e76e8",
   "metadata": {},
   "source": [
    "## 이제 문서와 가장 유사한 키워드들을 추출합니다. 여기서는 문서와 가장 유사한 키워드들은 문서를 대표하기 위한 좋은 키워드라고 가정합니다. 상위 5개의 키워드를 출력합니다."
   ]
  },
  {
   "cell_type": "code",
   "execution_count": 6,
   "id": "2a8c0d98",
   "metadata": {},
   "outputs": [
    {
     "name": "stdout",
     "output_type": "stream",
     "text": [
      "['드론 산업', '드론 드론 조종', '실시 드론 산업', '관리 드론 활용', '미세먼지 관리 드론']\n"
     ]
    }
   ],
   "source": [
    "top_n = 5\n",
    "distances = cosine_similarity(doc_embedding, candidate_embeddings)\n",
    "keywords = [candidates[index] for index in distances.argsort()[0][-top_n:]]\n",
    "print(keywords)"
   ]
  },
  {
   "cell_type": "markdown",
   "id": "e41c96bf",
   "metadata": {},
   "source": [
    "# Max Sum Similarity"
   ]
  },
  {
   "cell_type": "markdown",
   "id": "c99a7bc5",
   "metadata": {},
   "source": [
    "## 데이터 쌍 사이의 최대 합 거리는 데이터 쌍 간의 거리가 최대화되는 데이터 쌍으로 정의됩니다. 여기서의 의도는 후보 간의 유사성을 최소화하면서 문서와의 후보 유사성을 극대화하고자 하는 것입니다."
   ]
  },
  {
   "cell_type": "code",
   "execution_count": 7,
   "id": "1bb6b35c",
   "metadata": {},
   "outputs": [],
   "source": [
    "def max_sum_sim(doc_embedding, candidate_embeddings, words, top_n, nr_candidates):\n",
    "    # 문서와 각 키워드들 간의 유사도\n",
    "    distances = cosine_similarity(doc_embedding, candidate_embeddings)\n",
    "\n",
    "    # 각 키워드들 간의 유사도\n",
    "    distances_candidates = cosine_similarity(candidate_embeddings, \n",
    "                                            candidate_embeddings)\n",
    "\n",
    "    # 코사인 유사도에 기반하여 키워드들 중 상위 top_n개의 단어를 pick.\n",
    "    words_idx = list(distances.argsort()[0][-nr_candidates:])\n",
    "    words_vals = [candidates[index] for index in words_idx]\n",
    "    distances_candidates = distances_candidates[np.ix_(words_idx, words_idx)]\n",
    "\n",
    "    # 각 키워드들 중에서 가장 덜 유사한 키워드들간의 조합을 계산\n",
    "    min_sim = np.inf\n",
    "    candidate = None\n",
    "    for combination in itertools.combinations(range(len(words_idx)), top_n):\n",
    "        sim = sum([distances_candidates[i][j] for i in combination for j in combination if i != j])\n",
    "        if sim < min_sim:\n",
    "            candidate = combination\n",
    "            min_sim = sim\n",
    "\n",
    "    return [words_vals[idx] for idx in candidate]"
   ]
  },
  {
   "cell_type": "markdown",
   "id": "86c54559",
   "metadata": {},
   "source": [
    "## 이를 위해 상위 10개의 키워드를 선택하고 이 10개 중에서 서로 가장 유사성이 낮은 5개를 선택합니다. 낮은 nr_candidates를 설정하면 결과는 출력된 키워드 5개는 기존의 코사인 유사도만 사용한 것과 매우 유사한 것으로 보입니다."
   ]
  },
  {
   "cell_type": "code",
   "execution_count": 8,
   "id": "846eb009",
   "metadata": {},
   "outputs": [
    {
     "data": {
      "text/plain": [
       "['드론 산업 단지', '전망 드론 활용', '드론 산업', '관리 드론 활용', '미세먼지 관리 드론']"
      ]
     },
     "execution_count": 8,
     "metadata": {},
     "output_type": "execute_result"
    }
   ],
   "source": [
    "max_sum_sim(doc_embedding, candidate_embeddings, candidates, top_n=5, nr_candidates=10)"
   ]
  },
  {
   "cell_type": "markdown",
   "id": "5ae9124e",
   "metadata": {},
   "source": [
    "## 그러나 상대적으로 높은 nr_candidates는 더 다양한 키워드 5개를 만듭니다."
   ]
  },
  {
   "cell_type": "code",
   "execution_count": 9,
   "id": "bd86cfff",
   "metadata": {},
   "outputs": [
    {
     "data": {
      "text/plain": [
       "['소방 드론 재난', '자격증 드론 전문가', '월간 드론 측정', '전망 드론 활용', '미세먼지 관리 드론']"
      ]
     },
     "execution_count": 9,
     "metadata": {},
     "output_type": "execute_result"
    }
   ],
   "source": [
    "max_sum_sim(doc_embedding, candidate_embeddings, candidates, top_n=5, nr_candidates=30)"
   ]
  },
  {
   "cell_type": "markdown",
   "id": "37933c52",
   "metadata": {},
   "source": [
    "# Maximal Marginal Relevance"
   ]
  },
  {
   "cell_type": "markdown",
   "id": "88ec0d8e",
   "metadata": {},
   "source": [
    "### 결과를 다양화하는 마지막 방법은 MMR(Maximum Limit Relegance)입니다. MMR은 텍스트 요약 작업에서 중복을 최소화하고 결과의 다양성을 극대화하기 위해 노력합니다. 참고 할 수 있는 자료로 EmbedRank(https://arxiv.org/pdf/1801.04470.pdf) 라는 키워드 추출 알고리즘은 키워드/키프레이즈를 다양화하는 데 사용할 수 있는 MMR을 구현했습니다. 먼저 문서와 가장 유사한 키워드/키프레이즈를 선택합니다. 그런 다음 문서와 유사하고 이미 선택된 키워드/키프레이즈와 유사하지 않은 새로운 후보를 반복적으로 선택합니다."
   ]
  },
  {
   "cell_type": "code",
   "execution_count": 10,
   "id": "ae0ed9ad",
   "metadata": {},
   "outputs": [],
   "source": [
    "def mmr(doc_embedding, candidate_embeddings, words, top_n, diversity):\n",
    "\n",
    "    # 문서와 각 키워드들 간의 유사도가 적혀있는 리스트\n",
    "    word_doc_similarity = cosine_similarity(candidate_embeddings, doc_embedding)\n",
    "\n",
    "    # 각 키워드들 간의 유사도\n",
    "    word_similarity = cosine_similarity(candidate_embeddings)\n",
    "\n",
    "    # 문서와 가장 높은 유사도를 가진 키워드의 인덱스를 추출.\n",
    "    # 만약, 2번 문서가 가장 유사도가 높았다면\n",
    "    # keywords_idx = [2]\n",
    "    keywords_idx = [np.argmax(word_doc_similarity)]\n",
    "\n",
    "    # 가장 높은 유사도를 가진 키워드의 인덱스를 제외한 문서의 인덱스들\n",
    "    # 만약, 2번 문서가 가장 유사도가 높았다면\n",
    "    # ==> candidates_idx = [0, 1, 3, 4, 5, 6, 7, 8, 9, 10 ... 중략 ...]\n",
    "    candidates_idx = [i for i in range(len(words)) if i != keywords_idx[0]]\n",
    "\n",
    "    # 최고의 키워드는 이미 추출했으므로 top_n-1번만큼 아래를 반복.\n",
    "    # ex) top_n = 5라면, 아래의 loop는 4번 반복됨.\n",
    "    for _ in range(top_n - 1):\n",
    "        candidate_similarities = word_doc_similarity[candidates_idx, :]\n",
    "        target_similarities = np.max(word_similarity[candidates_idx][:, keywords_idx], axis=1)\n",
    "\n",
    "        # MMR을 계산\n",
    "        mmr = (1-diversity) * candidate_similarities - diversity * target_similarities.reshape(-1, 1)\n",
    "        mmr_idx = candidates_idx[np.argmax(mmr)]\n",
    "\n",
    "        # keywords & candidates를 업데이트\n",
    "        keywords_idx.append(mmr_idx)\n",
    "        candidates_idx.remove(mmr_idx)\n",
    "\n",
    "    return [words[idx] for idx in keywords_idx]"
   ]
  },
  {
   "cell_type": "markdown",
   "id": "398dad49",
   "metadata": {},
   "source": [
    "### 만약 상대적으로 낮은 diversity 값을 설정한다면, 결과는 기존의 코사인 유사도만 사용한 것과 매우 유사한 것으로 보입니다.\n",
    "\n"
   ]
  },
  {
   "cell_type": "code",
   "execution_count": 11,
   "id": "79a14f7f",
   "metadata": {},
   "outputs": [
    {
     "data": {
      "text/plain": [
       "['미세먼지 관리 드론', '실시 드론 산업', '관리 드론 활용', '월간 드론 측정', '전망 드론 활용']"
      ]
     },
     "execution_count": 11,
     "metadata": {},
     "output_type": "execute_result"
    }
   ],
   "source": [
    "mmr(doc_embedding, candidate_embeddings, candidates, top_n=5, diversity=0.2)"
   ]
  },
  {
   "cell_type": "markdown",
   "id": "b3ab74af",
   "metadata": {},
   "source": [
    "### 그러나 상대적으로 높은 diversity값은 다양한 키워드 5개를 만들어냅니다."
   ]
  },
  {
   "cell_type": "code",
   "execution_count": 12,
   "id": "2f1ba835",
   "metadata": {},
   "outputs": [
    {
     "data": {
      "text/plain": [
       "['미세먼지 관리 드론', '사업 밀집', '재난 현장 영상', '산악 수난', '수치 점검']"
      ]
     },
     "execution_count": 12,
     "metadata": {},
     "output_type": "execute_result"
    }
   ],
   "source": [
    "mmr(doc_embedding, candidate_embeddings, candidates, top_n=5, diversity=0.7)"
   ]
  },
  {
   "cell_type": "markdown",
   "id": "0817f668",
   "metadata": {},
   "source": [
    "## ---------------------워드크라우드--------------------"
   ]
  },
  {
   "cell_type": "markdown",
   "id": "d679b629",
   "metadata": {},
   "source": [
    "# 패키지 임포트\n"
   ]
  },
  {
   "cell_type": "code",
   "execution_count": 13,
   "id": "4d74cb95",
   "metadata": {},
   "outputs": [],
   "source": [
    "from wordcloud import WordCloud\n",
    "import matplotlib.pyplot as plt\n",
    "from collections import Counter\n",
    "from konlpy.tag import Okt\n",
    "from PIL import Image\n",
    "import numpy as np"
   ]
  },
  {
   "cell_type": "code",
   "execution_count": 14,
   "id": "372ae2b3",
   "metadata": {},
   "outputs": [],
   "source": [
    "text=doc\n",
    "\n",
    "okt = Okt()\n",
    "nouns = okt.nouns(text) # 명사만 추출\n",
    "\n",
    "words = [n for n in nouns if len(n) > 1] # 단어의 길이가 1개인 것은 제외\n",
    "\n",
    "c = Counter(words) # 위에서 얻은 words를 처리하여 단어별 빈도수 형태의 딕셔너리 데이터를 구함"
   ]
  },
  {
   "cell_type": "code",
   "execution_count": 16,
   "id": "a8391af6",
   "metadata": {},
   "outputs": [
    {
     "data": {
      "text/plain": [
       "Counter({'드론': 11,\n",
       "         '활용': 5,\n",
       "         '범위': 1,\n",
       "         '점차': 1,\n",
       "         '확대': 1,\n",
       "         '최근': 1,\n",
       "         '미세먼지': 5,\n",
       "         '관리': 2,\n",
       "         '서울시': 1,\n",
       "         '계절': 1,\n",
       "         '관리제': 1,\n",
       "         '기간': 1,\n",
       "         '지난달': 1,\n",
       "         '월간': 1,\n",
       "         '측정': 1,\n",
       "         '장치': 1,\n",
       "         '집중': 1,\n",
       "         '실시': 1,\n",
       "         '산업': 1,\n",
       "         '단지': 1,\n",
       "         '사업': 1,\n",
       "         '밀집': 1,\n",
       "         '지역': 1,\n",
       "         '배출': 1,\n",
       "         '수치': 1,\n",
       "         '점검': 1,\n",
       "         '현장': 2,\n",
       "         '모습': 1,\n",
       "         '영상': 3,\n",
       "         '통해': 1,\n",
       "         '방지': 1,\n",
       "         '시설': 2,\n",
       "         '제대로': 1,\n",
       "         '가동': 1,\n",
       "         '업체': 1,\n",
       "         '무허가': 1,\n",
       "         '대한': 1,\n",
       "         '단속': 1,\n",
       "         '한층': 1,\n",
       "         '전망': 1,\n",
       "         '가장': 1,\n",
       "         '적극': 1,\n",
       "         '소방청': 3,\n",
       "         '복합': 1,\n",
       "         '재난': 2,\n",
       "         '대응': 1,\n",
       "         '차원': 1,\n",
       "         '관련': 1,\n",
       "         '전문': 1,\n",
       "         '인력': 1,\n",
       "         '보강': 1,\n",
       "         '어가': 1,\n",
       "         '지난해': 1,\n",
       "         '기준': 1,\n",
       "         '보유': 1,\n",
       "         '조종': 1,\n",
       "         '자격증': 2,\n",
       "         '소방대': 1,\n",
       "         '경우': 1,\n",
       "         '실기': 1,\n",
       "         '평가': 1,\n",
       "         '지도': 1,\n",
       "         '전문가': 1,\n",
       "         '명도': 1,\n",
       "         '배치': 1,\n",
       "         '관계자': 1,\n",
       "         '소방': 1,\n",
       "         '정보': 1,\n",
       "         '수집': 1,\n",
       "         '산악': 1,\n",
       "         '수난': 1,\n",
       "         '사고': 1,\n",
       "         '인명': 1,\n",
       "         '수색': 1,\n",
       "         '구조': 1,\n",
       "         '활동': 1,\n",
       "         '유독가스': 1,\n",
       "         '폭발사고': 1,\n",
       "         '대원': 1,\n",
       "         '안전': 1,\n",
       "         '확보': 1,\n",
       "         '향후': 1,\n",
       "         '화재': 1,\n",
       "         '진압': 1,\n",
       "         '인명구조': 1,\n",
       "         '위해': 1,\n",
       "         '연구개발': 1})"
      ]
     },
     "execution_count": 16,
     "metadata": {},
     "output_type": "execute_result"
    }
   ],
   "source": [
    "c"
   ]
  },
  {
   "cell_type": "markdown",
   "id": "8e389d17",
   "metadata": {},
   "source": [
    "### 한글로 워드크라우드 시각화"
   ]
  },
  {
   "cell_type": "code",
   "execution_count": 21,
   "id": "b6812396",
   "metadata": {},
   "outputs": [
    {
     "data": {
      "image/png": "[encoded data removed]",
      "text/plain": [
       "<Figure size 432x288 with 1 Axes>"
      ]
     },
     "metadata": {
      "needs_background": "light"
     },
     "output_type": "display_data"
    }
   ],
   "source": [
    "def tt(x):\n",
    "    plt.figure()\n",
    "    plt.imshow(x)\n",
    "wc = WordCloud(font_path='malgun', width=400, height=400, scale=2.0, max_font_size=250)\n",
    "gen = wc.generate_from_frequencies(c)\n",
    "#plt.figure()\n",
    "#plt.imshow(gen)\n",
    "tt(gen)"
   ]
  },
  {
   "cell_type": "code",
   "execution_count": 27,
   "id": "35ccc259",
   "metadata": {},
   "outputs": [],
   "source": [
    "from PIL import Image\n",
    "import cv2"
   ]
  },
  {
   "cell_type": "code",
   "execution_count": 1,
   "id": "ff468d05",
   "metadata": {},
   "outputs": [],
   "source": [
    "import cv2\n",
    " \n",
    "\n",
    " \n",
    "img = cv2.imread(\"캡처2.png\")\n",
    "\n",
    "\n",
    "if img is not None:\n",
    "    cv2.imshow('IMG', img) # 읽은 이미지를 화면에 표시\n",
    "    cv2.waitKey() # 키가 입력될 때까지 대기\n",
    "    cv2.destroyAllWindows() # 창 모두 닫기"
   ]
  },
  {
   "cell_type": "code",
   "execution_count": null,
   "id": "a8313917",
   "metadata": {},
   "outputs": [],
   "source": []
  }
 ],
 "metadata": {
  "kernelspec": {
   "display_name": "Python 3 (ipykernel)",
   "language": "python",
   "name": "python3"
  },
  "language_info": {
   "codemirror_mode": {
    "name": "ipython",
    "version": 3
   },
   "file_extension": ".py",
   "mimetype": "text/x-python",
   "name": "python",
   "nbconvert_exporter": "python",
   "pygments_lexer": "ipython3",
   "version": "3.9.7"
  }
 },
 "nbformat": 4,
 "nbformat_minor": 5
}
