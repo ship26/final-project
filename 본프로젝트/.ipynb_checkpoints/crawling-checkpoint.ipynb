{
 "cells": [
  {
   "cell_type": "code",
   "execution_count": 1,
   "metadata": {
    "id": "7xv3fmy62PUD"
   },
   "outputs": [],
   "source": [
    "import urllib.request\n",
    "with urllib.request.urlopen('http://python.org/') as response:\n",
    "        html = response.read()"
   ]
  },
  {
   "cell_type": "code",
   "execution_count": 2,
   "metadata": {
    "id": "lS3Dyc2N2Ikm"
   },
   "outputs": [],
   "source": [
    "stock_cd = '263750'\n",
    "page_n = '1'\n",
    "news_url = f\"https://finance.naver.com/item/news_news.nhn?code={stock_cd}&page={page_n}&sm=title_entity_id.basic&clusterId=\"\n",
    "source =urllib.request.urlopen(news_url).read()"
   ]
  },
  {
   "cell_type": "code",
   "execution_count": 3,
   "metadata": {
    "id": "02KfT_302aBe"
   },
   "outputs": [],
   "source": [
    "import pandas as pd\n",
    "import numpy as np\n",
    "import requests\n",
    "from bs4 import BeautifulSoup\n",
    "from tqdm import tqdm\n",
    "import time"
   ]
  },
  {
   "cell_type": "code",
   "execution_count": null,
   "metadata": {
    "id": "MsvftF03abOL"
   },
   "outputs": [],
   "source": []
  },
  {
   "cell_type": "code",
   "execution_count": 4,
   "metadata": {
    "id": "Yt4znDxk2Juj"
   },
   "outputs": [],
   "source": [
    "src = BeautifulSoup(source, 'lxml')"
   ]
  },
  {
   "cell_type": "code",
   "execution_count": 5,
   "metadata": {
    "colab": {
     "base_uri": "https://localhost:8080/"
    },
    "id": "CQ-iwBtU2M1x",
    "outputId": "ffea7740-16aa-4e5e-dca5-1abdd23c462d"
   },
   "outputs": [
    {
     "data": {
      "text/plain": [
       "[<td class=\"title\">\n",
       " <a class=\"tit\" href=\"/item/news_read.naver?article_id=0005282876&amp;office_id=018&amp;code=263750&amp;page=1&amp;sm=title_entity_id.basic\" onclick=\"clickcr(this,'stn.ntitclust','','',event);\" target=\"_top\">[특징주]펄어비스, 삼성디스플레이와 협업 소식에…강세</a>\n",
       " </td>,\n",
       " <td class=\"info\">이데일리</td>,\n",
       " <td class=\"date\"> 2022.08.03 09:47</td>,\n",
       " <td class=\"title\">\n",
       " <a class=\"tit\" href=\"/item/news_read.naver?article_id=0005277202&amp;office_id=018&amp;code=263750&amp;page=1&amp;sm=title_entity_id.basic\" onclick=\"clickcr(this,'stn.ntitclust','','',event);\" target=\"_top\">보폭 넓히는 펄어비스 ESG 경영, ‘등급도 상향’</a>\n",
       " </td>,\n",
       " <td class=\"info\">이데일리</td>,\n",
       " <td class=\"date\"> 2022.07.26 11:15</td>,\n",
       " <td class=\"title\">\n",
       " <a class=\"tit\" href=\"/item/news_read.naver?article_id=0004775010&amp;office_id=008&amp;code=263750&amp;page=1&amp;sm=title_entity_id.basic\" onclick=\"clickcr(this,'stn.ntitclust','','',event);\" target=\"_top\">게임 업데이트만큼 신속한 펄어비스의 'ESG 업그레이드'</a>\n",
       " </td>,\n",
       " <td class=\"info\">머니투데이</td>,\n",
       " <td class=\"date\"> 2022.07.25 17:10</td>,\n",
       " <td class=\"title\">\n",
       " <a class=\"tit\" href=\"/item/news_read.naver?article_id=0000009223&amp;office_id=648&amp;code=263750&amp;page=1&amp;sm=title_entity_id.basic\" onclick=\"clickcr(this,'stn.ntitclust','','',event);\" target=\"_top\">펄어비스·게임유저, 오프라인 모임 열광하는 이유</a>\n",
       " </td>,\n",
       " <td class=\"info\">비즈니스워치</td>,\n",
       " <td class=\"date\"> 2022.07.19 15:41</td>,\n",
       " <td class=\"title\">\n",
       " <a class=\"tit\" href=\"/item/news_read.naver?article_id=0005116022&amp;office_id=277&amp;code=263750&amp;page=1&amp;sm=title_entity_id.basic\" onclick=\"clickcr(this,'stn.ntitclust','','',event);\" target=\"_top\">펄어비스, 한국적인 IP '도깨비'를 준비하다[기업탐구]</a>\n",
       " </td>,\n",
       " <td class=\"info\">아시아경제</td>,\n",
       " <td class=\"date\"> 2022.07.11 14:50</td>,\n",
       " <td class=\"title\">\n",
       " <a class=\"tit\" href=\"/item/news_read.naver?article_id=0004074726&amp;office_id=011&amp;code=263750&amp;page=1&amp;sm=title_entity_id.basic\" onclick=\"clickcr(this,'stn.ntitclust','','',event);\" target=\"_top\">[단독] 펄어비스, 네이버 '크림'에 뭉칫돈 투자…대박 예감</a>\n",
       " </td>,\n",
       " <td class=\"info\">서울경제</td>,\n",
       " <td class=\"date\"> 2022.07.11 10:02</td>,\n",
       " <td class=\"title\">\n",
       " <a class=\"tit\" href=\"/item/news_read.naver?article_id=0004074685&amp;office_id=011&amp;code=263750&amp;page=1&amp;sm=title_entity_id.basic\" onclick=\"clickcr(this,'stn.ntitclust','','',event);\" target=\"_top\">[특징주] 펄어비스, 신작 발표 연기에 5% 약세</a>\n",
       " </td>,\n",
       " <td class=\"info\">서울경제</td>,\n",
       " <td class=\"date\"> 2022.07.11 09:23</td>,\n",
       " <td colspan=\"3\">\n",
       " <table class=\"type5\">\n",
       " <caption>연관기사 목록</caption>\n",
       " <colgroup>\n",
       " <col/>\n",
       " <col width=\"130px\"/>\n",
       " <col width=\"110px\"/>\n",
       " </colgroup>\n",
       " <tbody>\n",
       " <tr>\n",
       " <td class=\"title\">\n",
       " <a class=\"tit\" href=\"/item/news_read.naver?article_id=0005264166&amp;office_id=018&amp;code=263750&amp;page=1&amp;sm=title_entity_id.basic\" onclick=\"clickcr(this,'stn.ntitclustsub','','',event);\" target=\"_top\"><span class=\"ico_reply\"></span>[특징주]펄어비스, 신작 공백 우려 속 3%대 약세</a>\n",
       " </td>\n",
       " <td class=\"info\">이데일리</td>\n",
       " <td class=\"date\"> 2022.07.11 09:06</td>\n",
       " </tr>\n",
       " </tbody>\n",
       " </table>\n",
       " </td>,\n",
       " <td class=\"title\">\n",
       " <a class=\"tit\" href=\"/item/news_read.naver?article_id=0005264166&amp;office_id=018&amp;code=263750&amp;page=1&amp;sm=title_entity_id.basic\" onclick=\"clickcr(this,'stn.ntitclustsub','','',event);\" target=\"_top\"><span class=\"ico_reply\"></span>[특징주]펄어비스, 신작 공백 우려 속 3%대 약세</a>\n",
       " </td>,\n",
       " <td class=\"info\">이데일리</td>,\n",
       " <td class=\"date\"> 2022.07.11 09:06</td>,\n",
       " <td class=\"title\">\n",
       " <a class=\"tit\" href=\"/item/news_read.naver?article_id=0004769080&amp;office_id=008&amp;code=263750&amp;page=1&amp;sm=title_entity_id.basic\" onclick=\"clickcr(this,'stn.ntitclust','','',event);\" target=\"_top\">펄어비스, 신작 론칭 일정 연기로 매출 전망치 하향…목표주가↓</a>\n",
       " </td>,\n",
       " <td class=\"info\">머니투데이</td>,\n",
       " <td class=\"date\"> 2022.07.11 08:32</td>,\n",
       " <td colspan=\"3\">\n",
       " <table class=\"type5\">\n",
       " <caption>연관기사 목록</caption>\n",
       " <colgroup>\n",
       " <col/>\n",
       " <col width=\"130px\"/>\n",
       " <col width=\"110px\"/>\n",
       " </colgroup>\n",
       " <tbody>\n",
       " <tr>\n",
       " <td class=\"title\">\n",
       " <a class=\"tit\" href=\"/item/news_read.naver?article_id=0004722417&amp;office_id=015&amp;code=263750&amp;page=1&amp;sm=title_entity_id.basic\" onclick=\"clickcr(this,'stn.ntitclustsub','','',event);\" target=\"_top\"><span class=\"ico_reply\"></span>\"펄어비스, 한동안 모멘텀 공백의 터널…투자의견·목표가↓\"-이베스트</a>\n",
       " </td>\n",
       " <td class=\"info\">한국경제</td>\n",
       " <td class=\"date\"> 2022.07.11 07:52</td>\n",
       " </tr>\n",
       " <tr class=\"hide_news none\">\n",
       " <td class=\"title\">\n",
       " <a class=\"tit\" href=\"/item/news_read.naver?article_id=0005115647&amp;office_id=277&amp;code=263750&amp;page=1&amp;sm=title_entity_id.basic\" onclick=\"clickcr(this,'stn.ntitclustsub','','',event);\" target=\"_top\"><span class=\"ico_reply\"></span>[클릭 e종목] \"펄어비스, 적자전환 예상…투자의견·목표가 하향\"</a>\n",
       " </td>\n",
       " <td class=\"info\">아시아경제</td>\n",
       " <td class=\"date\"> 2022.07.11 07:49</td>\n",
       " </tr>\n",
       " </tbody>\n",
       " </table>\n",
       " <div class=\"link_area\">\n",
       " <a class=\"_moreBtn\" data-count=\"1\" href=\"#\" onclick=\"toggleList(this, '0080004769080'); return false;\">관련뉴스 <em>1</em>건 더보기<span class=\"ico_down\"></span></a>\n",
       " </div>\n",
       " </td>,\n",
       " <td class=\"title\">\n",
       " <a class=\"tit\" href=\"/item/news_read.naver?article_id=0004722417&amp;office_id=015&amp;code=263750&amp;page=1&amp;sm=title_entity_id.basic\" onclick=\"clickcr(this,'stn.ntitclustsub','','',event);\" target=\"_top\"><span class=\"ico_reply\"></span>\"펄어비스, 한동안 모멘텀 공백의 터널…투자의견·목표가↓\"-이베스트</a>\n",
       " </td>,\n",
       " <td class=\"info\">한국경제</td>,\n",
       " <td class=\"date\"> 2022.07.11 07:52</td>,\n",
       " <td class=\"title\">\n",
       " <a class=\"tit\" href=\"/item/news_read.naver?article_id=0005115647&amp;office_id=277&amp;code=263750&amp;page=1&amp;sm=title_entity_id.basic\" onclick=\"clickcr(this,'stn.ntitclustsub','','',event);\" target=\"_top\"><span class=\"ico_reply\"></span>[클릭 e종목] \"펄어비스, 적자전환 예상…투자의견·목표가 하향\"</a>\n",
       " </td>,\n",
       " <td class=\"info\">아시아경제</td>,\n",
       " <td class=\"date\"> 2022.07.11 07:49</td>,\n",
       " <td class=\"title\">\n",
       " <a class=\"tit\" href=\"/item/news_read.naver?article_id=0000028535&amp;office_id=243&amp;code=263750&amp;page=1&amp;sm=title_entity_id.basic\" onclick=\"clickcr(this,'stn.ntitclust','','',event);\" target=\"_top\">[단독]펄어비스, ‘섀도우 아레나’ 오는 8월 얼리억세스 종료</a>\n",
       " </td>,\n",
       " <td class=\"info\">이코노미스트</td>,\n",
       " <td class=\"date\"> 2022.07.08 17:56</td>,\n",
       " <td class=\"title\">\n",
       " <a class=\"tit\" href=\"/item/news_read.naver?article_id=0000028407&amp;office_id=243&amp;code=263750&amp;page=1&amp;sm=title_entity_id.basic\" onclick=\"clickcr(this,'stn.ntitclust','','',event);\" target=\"_top\">펄어비스의 변신…유저 소통 강화·이색 협업 마케팅 활발</a>\n",
       " </td>,\n",
       " <td class=\"info\">이코노미스트</td>,\n",
       " <td class=\"date\"> 2022.07.05 19:01</td>,\n",
       " <td class=\"on\">\n",
       " <a href=\"/item/news_news.nhn?code=263750&amp;page=1&amp;sm=title_entity_id.basic&amp;clusterId=\" onclick=\"clickcr(this,'stn.npag','','',event);\">1</a>\n",
       " </td>,\n",
       " <td>\n",
       " <a href=\"/item/news_news.nhn?code=263750&amp;page=2&amp;sm=title_entity_id.basic&amp;clusterId=\" onclick=\"clickcr(this,'stn.npag','','',event);\">2</a>\n",
       " </td>,\n",
       " <td>\n",
       " <a href=\"/item/news_news.nhn?code=263750&amp;page=3&amp;sm=title_entity_id.basic&amp;clusterId=\" onclick=\"clickcr(this,'stn.npag','','',event);\">3</a>\n",
       " </td>,\n",
       " <td>\n",
       " <a href=\"/item/news_news.nhn?code=263750&amp;page=4&amp;sm=title_entity_id.basic&amp;clusterId=\" onclick=\"clickcr(this,'stn.npag','','',event);\">4</a>\n",
       " </td>,\n",
       " <td>\n",
       " <a href=\"/item/news_news.nhn?code=263750&amp;page=5&amp;sm=title_entity_id.basic&amp;clusterId=\" onclick=\"clickcr(this,'stn.npag','','',event);\">5</a>\n",
       " </td>,\n",
       " <td>\n",
       " <a href=\"/item/news_news.nhn?code=263750&amp;page=6&amp;sm=title_entity_id.basic&amp;clusterId=\" onclick=\"clickcr(this,'stn.npag','','',event);\">6</a>\n",
       " </td>,\n",
       " <td>\n",
       " <a href=\"/item/news_news.nhn?code=263750&amp;page=7&amp;sm=title_entity_id.basic&amp;clusterId=\" onclick=\"clickcr(this,'stn.npag','','',event);\">7</a>\n",
       " </td>,\n",
       " <td>\n",
       " <a href=\"/item/news_news.nhn?code=263750&amp;page=8&amp;sm=title_entity_id.basic&amp;clusterId=\" onclick=\"clickcr(this,'stn.npag','','',event);\">8</a>\n",
       " </td>,\n",
       " <td>\n",
       " <a href=\"/item/news_news.nhn?code=263750&amp;page=9&amp;sm=title_entity_id.basic&amp;clusterId=\" onclick=\"clickcr(this,'stn.npag','','',event);\">9</a>\n",
       " </td>,\n",
       " <td>\n",
       " <a href=\"/item/news_news.nhn?code=263750&amp;page=10&amp;sm=title_entity_id.basic&amp;clusterId=\" onclick=\"clickcr(this,'stn.npag','','',event);\">10</a>\n",
       " </td>,\n",
       " <td class=\"pgR\">\n",
       " <a href=\"/item/news_news.nhn?code=263750&amp;page=11&amp;sm=title_entity_id.basic&amp;clusterId=\" onclick=\"clickcr(this,'stn.npag','','',event);\">\n",
       " \t\t\t\t다음<img alt=\"\" border=\"0\" height=\"5\" src=\"https://ssl.pstatic.net/static/n/cmn/bu_pgarR.gif\" width=\"3\"/>\n",
       " </a>\n",
       " </td>,\n",
       " <td class=\"pgRR\">\n",
       " <a href=\"/item/news_news.nhn?code=263750&amp;page=40&amp;sm=title_entity_id.basic&amp;clusterId=\" onclick=\"clickcr(this,'stn.npag','','',event);\">맨뒤\n",
       " \t\t\t\t<img alt=\"\" border=\"0\" height=\"5\" src=\"https://ssl.pstatic.net/static/n/cmn/bu_pgarRR.gif\" width=\"8\"/>\n",
       " </a>\n",
       " </td>]"
      ]
     },
     "execution_count": 5,
     "metadata": {},
     "output_type": "execute_result"
    }
   ],
   "source": [
    "td = src.find_all('td')\n",
    "td"
   ]
  },
  {
   "cell_type": "code",
   "execution_count": 6,
   "metadata": {
    "id": "4R3Lzp2K3ojC"
   },
   "outputs": [],
   "source": [
    "import datetime as dt\n",
    "\n",
    "def date_format(date):\n",
    "    yyyy, mm, dd = [int(x) for x in date.split('.')]\n",
    "    return dt.date(yyyy, mm, dd)"
   ]
  },
  {
   "cell_type": "code",
   "execution_count": 7,
   "metadata": {
    "colab": {
     "base_uri": "https://localhost:8080/"
    },
    "id": "uQh9PVTI5Qm8",
    "outputId": "27e631bd-ba95-4df9-cf08-149c23a845d2"
   },
   "outputs": [
    {
     "data": {
      "text/plain": [
       "<a class=\"tit\" href=\"/item/news_read.naver?article_id=0005282876&amp;office_id=018&amp;code=263750&amp;page=1&amp;sm=title_entity_id.basic\" onclick=\"clickcr(this,'stn.ntitclust','','',event);\" target=\"_top\">[특징주]펄어비스, 삼성디스플레이와 협업 소식에…강세</a>"
      ]
     },
     "execution_count": 7,
     "metadata": {},
     "output_type": "execute_result"
    }
   ],
   "source": [
    "art = src.find_all('td', class_='title')[0].find_all('a', class_='tit')[0]\n",
    "type(art)\n",
    "art"
   ]
  },
  {
   "cell_type": "code",
   "execution_count": 8,
   "metadata": {
    "colab": {
     "base_uri": "https://localhost:8080/"
    },
    "id": "NXQeG9Z9_8zV",
    "outputId": "42df80a1-ac40-4759-9937-e777a9577d88"
   },
   "outputs": [
    {
     "data": {
      "text/plain": [
       "<a class=\"tit\" href=\"/item/news_read.naver?article_id=0005282876&amp;office_id=018&amp;code=263750&amp;page=1&amp;sm=title_entity_id.basic\" onclick=\"clickcr(this,'stn.ntitclust','','',event);\" target=\"_top\">[특징주]펄어비스, 삼성디스플레이와 협업 소식에…강세</a>"
      ]
     },
     "execution_count": 8,
     "metadata": {},
     "output_type": "execute_result"
    }
   ],
   "source": [
    "art"
   ]
  },
  {
   "cell_type": "code",
   "execution_count": 9,
   "metadata": {
    "colab": {
     "base_uri": "https://localhost:8080/",
     "height": 36
    },
    "id": "OOJ820BS5Qvm",
    "outputId": "1c8d95eb-939a-4a00-d814-8285400df8ac"
   },
   "outputs": [
    {
     "data": {
      "application/vnd.google.colaboratory.intrinsic+json": {
       "type": "string"
      },
      "text/plain": [
       "'/item/news_read.naver?article_id=0005282876&office_id=018&code=263750&page=1&sm=title_entity_id.basic'"
      ]
     },
     "execution_count": 9,
     "metadata": {},
     "output_type": "execute_result"
    }
   ],
   "source": [
    "art[\"href\"]"
   ]
  },
  {
   "cell_type": "code",
   "execution_count": 10,
   "metadata": {
    "colab": {
     "base_uri": "https://localhost:8080/",
     "height": 36
    },
    "id": "EH5F8Kch5Q2-",
    "outputId": "291b1f87-18d3-4f6d-e2f9-a110602e9047"
   },
   "outputs": [
    {
     "data": {
      "application/vnd.google.colaboratory.intrinsic+json": {
       "type": "string"
      },
      "text/plain": [
       "'/item/news_read.naver?article_id=0005277202&office_id=018&code=263750&page=1&sm=title_entity_id.basic'"
      ]
     },
     "execution_count": 10,
     "metadata": {},
     "output_type": "execute_result"
    }
   ],
   "source": [
    "art = src.find_all('td', class_='title')[1].find_all('a', class_='tit')[0]\n",
    "type(art)\n",
    "art[\"href\"]"
   ]
  },
  {
   "cell_type": "code",
   "execution_count": 11,
   "metadata": {
    "colab": {
     "base_uri": "https://localhost:8080/",
     "height": 36
    },
    "id": "qmhyas8b5Q9K",
    "outputId": "65e83460-9394-4891-8f05-51614a6be4e6"
   },
   "outputs": [
    {
     "data": {
      "application/vnd.google.colaboratory.intrinsic+json": {
       "type": "string"
      },
      "text/plain": [
       "'/item/news_read.naver?article_id=0005277202&office_id=018&code=263750&page=1&sm=title_entity_id.basic'"
      ]
     },
     "execution_count": 11,
     "metadata": {},
     "output_type": "execute_result"
    }
   ],
   "source": [
    "src.find_all('td', class_='title')[1].find_all('a', class_='tit')[0][\"href\"]"
   ]
  },
  {
   "cell_type": "code",
   "execution_count": 12,
   "metadata": {
    "colab": {
     "base_uri": "https://localhost:8080/",
     "height": 36
    },
    "id": "PJh2QJON5fAw",
    "outputId": "0aaf6092-647a-4eef-9f4f-ad9920da9609"
   },
   "outputs": [
    {
     "data": {
      "application/vnd.google.colaboratory.intrinsic+json": {
       "type": "string"
      },
      "text/plain": [
       "'https://finance.naver.com/item/news_read.naver?article_id=0005282876&office_id=018&code=263750&page=1&sm=title_entity_id.basic'"
      ]
     },
     "execution_count": 12,
     "metadata": {},
     "output_type": "execute_result"
    }
   ],
   "source": [
    "news_link = \"https://finance.naver.com\" + src.find_all('td', class_='title')[0].find_all('a', class_='tit')[0][\"href\"]\n",
    "\n",
    "news_link"
   ]
  },
  {
   "cell_type": "code",
   "execution_count": 24,
   "metadata": {
    "colab": {
     "base_uri": "https://localhost:8080/",
     "height": 72
    },
    "id": "BcAmMctp5fDE",
    "outputId": "c6ffef42-afd0-481c-8b9e-1425e70fc5de"
   },
   "outputs": [
    {
     "data": {
      "application/vnd.google.colaboratory.intrinsic+json": {
       "type": "string"
      },
      "text/plain": [
       "'\\n[특징주][이데일리 김인경 기자] 펄어비스(263750)가 삼성디스플레이와 협업 소식에 3일 5%대 강세를 타고 있다.마켓포인트에 따르면 오전 9시 37분 펄어비스(263750)는 전 거래일보다 2700원(5.15%) 오른 5만5100원에 거래되고 있다. 메릴린치가 매수 상위창구에 이름을 올리고 있다. 한 매체에 따르면 삼성디스플레이는 8월 독일 쾰른멧세에서 열리는 게임쇼 ‘게임스컴 2022’에 참여하는데 펄어비스, 대만 제조사 MSI와 손을 잡았다. 게임스컴은  독일연방인터랙티브엔터테인먼트소프트웨어협회(BIU)가 주관하는 행사로 신작 소개는 물론이고 시연까지 가능해 세계 3대 게임쇼로 손꼽히고 있다. 이데일리 '"
      ]
     },
     "execution_count": 24,
     "metadata": {},
     "output_type": "execute_result"
    }
   ],
   "source": [
    "res = requests.get(news_link)\n",
    "art_source = res.text\n",
    "art_src = BeautifulSoup(art_source, 'lxml')\n",
    "art = art_src.find('div', class_= 'scr01', id='news_read')\n",
    "#art.text\n",
    "tt = art.text\n",
    "ttt = tt.split('관련뉴스')\n",
    "ttt[0]"
   ]
  },
  {
   "cell_type": "code",
   "execution_count": 29,
   "metadata": {
    "colab": {
     "base_uri": "https://localhost:8080/"
    },
    "id": "LTU8-WtLencN",
    "outputId": "ea66fea8-c01e-4eff-9a00-a0cf6a74713f"
   },
   "outputs": [
    {
     "data": {
      "text/plain": [
       "{'Brokerage': ['005940', '016360', '008560', '039490'],\n",
       " 'Chemical': ['051910', '096770', '010950', '051900', '090430'],\n",
       " 'Clothing': ['093050', '020000', '105630', '001070'],\n",
       " 'Construction': ['000720', '006360', '047040', '051600'],\n",
       " 'Distribution': ['028260', '023530', '282330', '139480', '004170'],\n",
       " 'Electronic': ['005930', '000660', '006400', '066570'],\n",
       " 'Finance': ['003550', '000810', '006800'],\n",
       " 'Food': ['097950', '271560', '000080', '004370', '005300'],\n",
       " 'Insurer': ['032830', '005830', '000060', '001450'],\n",
       " 'Machine': ['034020', '018880', '241560', '112610'],\n",
       " 'Manufacturer': ['005380', '000270', '012330', '033780', '009150'],\n",
       " 'Medicine': ['207940', '068270', '000100', '128940'],\n",
       " 'Metal': ['005490', '010130', '004020', '016380', '001230'],\n",
       " 'Non_Metal': ['003670', '003410', '010780'],\n",
       " 'Power': ['015760', '036460', '017390'],\n",
       " 'Service': ['035420', '035720', '018260', '036570'],\n",
       " 'Tele': ['017670', '030200', '032640'],\n",
       " 'Transport': ['011200', '003490', '086280', '180640', '028670']}"
      ]
     },
     "execution_count": 29,
     "metadata": {},
     "output_type": "execute_result"
    }
   ],
   "source": [
    "{'Food': ['097950', '271560', '000080', '004370', '005300'],\n",
    " 'Clothing': ['093050', '020000', '105630', '001070'],\n",
    " 'Chemical': ['051910', '096770', '010950', '051900', '090430'],\n",
    " 'Medicine': ['207940', '068270', '000100', '128940'],\n",
    " 'Non_Metal': ['003670', '003410', '010780'],\n",
    " 'Metal': ['005490', '010130', '004020', '016380', '001230'],\n",
    " 'Machine': ['034020', '018880', '241560', '112610'],\n",
    " 'Electronic': ['005930', '000660', '006400', '066570'],\n",
    " 'Construction': ['000720', '006360', '047040', '051600'],\n",
    " 'Transport': ['011200', '003490', '086280', '180640', '028670'],\n",
    " 'Distribution': ['028260', '023530', '282330', '139480', '004170'],\n",
    " 'Power': ['015760', '036460', '017390'],\n",
    " 'Tele': ['017670', '030200', '032640'],\n",
    " 'Finance': ['003550', '000810', '006800'],\n",
    " 'Brokerage': ['005940', '016360', '008560', '039490'],\n",
    " 'Insurer': ['032830', '005830', '000060', '001450'],\n",
    " 'Service': ['035420', '035720', '018260', '036570'],\n",
    " 'Manufacturer': ['005380', '000270', '012330', '033780', '009150']}"
   ]
  },
  {
   "cell_type": "code",
   "execution_count": 48,
   "metadata": {
    "id": "Kk9NNi3U2iRS"
   },
   "outputs": [],
   "source": [
    "def crawl_news_data(stock_cd, end_page):\n",
    "    all_data = []\n",
    "    date_list = []\n",
    "    title_list = []\n",
    "    info_list = []\n",
    "    article_list = []\n",
    "    URL_list=[]\n",
    "    for i in range(1, end_page+1):\n",
    "        page_n = i\n",
    "        news_url = f\"https://finance.naver.com/item/news_news.nhn?code={stock_cd}&page={page_n}&sm=title_entity_id.basic&clusterId=\"\n",
    "        source = urllib.request.urlopen(news_url).read()\n",
    "        src = BeautifulSoup(source, 'lxml')\n",
    "        dates = src.find_all('td', class_='date')\n",
    "        titles = src.find_all('td', class_='title')\n",
    "        infos = src.find_all('td', class_='info')\n",
    "        for i in range(len(dates)):\n",
    "            news_date = dates[i].text.strip().split()[0]\n",
    "            news_date = date_format(news_date)\n",
    "            news_title = titles[i].text.replace('\\n','')\n",
    "            news_info = infos[i].text\n",
    "            news_link = \"https://finance.naver.com\" + src.find_all('td', class_='title')[i].find_all('a', class_='tit')[0][\"href\"]\n",
    "            news_source = urllib.request.urlopen(news_link).read()\n",
    "            news_src = BeautifulSoup(news_source)\n",
    "            news_art = news_src.find('div', class_= 'scr01',id='news_read').text.split('관련뉴스')\n",
    "            news_art = news_art[0]\n",
    "            date_list.append(news_date)\n",
    "            article_list.append(news_art)\n",
    "            title_list.append(news_title)\n",
    "            info_list.append(news_info)\n",
    "            URL_list.append(news_link)\n",
    "    df = pd.DataFrame({\"날짜\" : date_list, \"뉴스 제목\" : title_list, \"제공\" : info_list, \"내용\" : article_list , \"URL\" : URL_list})\n",
    "    df = df.append(all_data)\n",
    "\n",
    "    df.to_csv(f'test.csv', encoding=\"UTF-8-sig\")\n",
    "\n",
    "\n",
    "\n",
    "\n",
    "#crawl_news_data(263750, 1)"
   ]
  },
  {
   "cell_type": "code",
   "execution_count": 49,
   "metadata": {
    "colab": {
     "base_uri": "https://localhost:8080/",
     "height": 400
    },
    "id": "xBg6YgIoflwO",
    "outputId": "aa591dc4-cfb2-4341-d8d3-433309c5580b"
   },
   "outputs": [
    {
     "ename": "KeyboardInterrupt",
     "evalue": "ignored",
     "output_type": "error",
     "traceback": [
      "\u001b[0;31m---------------------------------------------------------------------------\u001b[0m",
      "\u001b[0;31mKeyboardInterrupt\u001b[0m                         Traceback (most recent call last)",
      "\u001b[0;32m<ipython-input-49-779992896cf4>\u001b[0m in \u001b[0;36m<module>\u001b[0;34m()\u001b[0m\n\u001b[1;32m      7\u001b[0m \u001b[0;34m\u001b[0m\u001b[0m\n\u001b[1;32m      8\u001b[0m \u001b[0;32mfor\u001b[0m \u001b[0mStock\u001b[0m \u001b[0;32min\u001b[0m \u001b[0mstocks\u001b[0m\u001b[0;34m:\u001b[0m\u001b[0;34m\u001b[0m\u001b[0;34m\u001b[0m\u001b[0m\n\u001b[0;32m----> 9\u001b[0;31m   \u001b[0mcrawl_news_data\u001b[0m\u001b[0;34m(\u001b[0m\u001b[0mStock\u001b[0m\u001b[0;34m,\u001b[0m \u001b[0;36m1\u001b[0m\u001b[0;34m)\u001b[0m\u001b[0;34m\u001b[0m\u001b[0;34m\u001b[0m\u001b[0m\n\u001b[0m\u001b[1;32m     10\u001b[0m \u001b[0;34m\u001b[0m\u001b[0m\n\u001b[1;32m     11\u001b[0m \u001b[0;34m\u001b[0m\u001b[0m\n",
      "\u001b[0;32m<ipython-input-48-6f8b6bcdd500>\u001b[0m in \u001b[0;36mcrawl_news_data\u001b[0;34m(stock_cd, end_page)\u001b[0m\n\u001b[1;32m     21\u001b[0m             \u001b[0mnews_link\u001b[0m \u001b[0;34m=\u001b[0m \u001b[0;34m\"https://finance.naver.com\"\u001b[0m \u001b[0;34m+\u001b[0m \u001b[0msrc\u001b[0m\u001b[0;34m.\u001b[0m\u001b[0mfind_all\u001b[0m\u001b[0;34m(\u001b[0m\u001b[0;34m'td'\u001b[0m\u001b[0;34m,\u001b[0m \u001b[0mclass_\u001b[0m\u001b[0;34m=\u001b[0m\u001b[0;34m'title'\u001b[0m\u001b[0;34m)\u001b[0m\u001b[0;34m[\u001b[0m\u001b[0mi\u001b[0m\u001b[0;34m]\u001b[0m\u001b[0;34m.\u001b[0m\u001b[0mfind_all\u001b[0m\u001b[0;34m(\u001b[0m\u001b[0;34m'a'\u001b[0m\u001b[0;34m,\u001b[0m \u001b[0mclass_\u001b[0m\u001b[0;34m=\u001b[0m\u001b[0;34m'tit'\u001b[0m\u001b[0;34m)\u001b[0m\u001b[0;34m[\u001b[0m\u001b[0;36m0\u001b[0m\u001b[0;34m]\u001b[0m\u001b[0;34m[\u001b[0m\u001b[0;34m\"href\"\u001b[0m\u001b[0;34m]\u001b[0m\u001b[0;34m\u001b[0m\u001b[0;34m\u001b[0m\u001b[0m\n\u001b[1;32m     22\u001b[0m             \u001b[0mnews_source\u001b[0m \u001b[0;34m=\u001b[0m \u001b[0murllib\u001b[0m\u001b[0;34m.\u001b[0m\u001b[0mrequest\u001b[0m\u001b[0;34m.\u001b[0m\u001b[0murlopen\u001b[0m\u001b[0;34m(\u001b[0m\u001b[0mnews_link\u001b[0m\u001b[0;34m)\u001b[0m\u001b[0;34m.\u001b[0m\u001b[0mread\u001b[0m\u001b[0;34m(\u001b[0m\u001b[0;34m)\u001b[0m\u001b[0;34m\u001b[0m\u001b[0;34m\u001b[0m\u001b[0m\n\u001b[0;32m---> 23\u001b[0;31m             \u001b[0mnews_src\u001b[0m \u001b[0;34m=\u001b[0m \u001b[0mBeautifulSoup\u001b[0m\u001b[0;34m(\u001b[0m\u001b[0mnews_source\u001b[0m\u001b[0;34m)\u001b[0m\u001b[0;34m\u001b[0m\u001b[0;34m\u001b[0m\u001b[0m\n\u001b[0m\u001b[1;32m     24\u001b[0m             \u001b[0mnews_art\u001b[0m \u001b[0;34m=\u001b[0m \u001b[0mnews_src\u001b[0m\u001b[0;34m.\u001b[0m\u001b[0mfind\u001b[0m\u001b[0;34m(\u001b[0m\u001b[0;34m'div'\u001b[0m\u001b[0;34m,\u001b[0m \u001b[0mclass_\u001b[0m\u001b[0;34m=\u001b[0m \u001b[0;34m'scr01'\u001b[0m\u001b[0;34m,\u001b[0m\u001b[0mid\u001b[0m\u001b[0;34m=\u001b[0m\u001b[0;34m'news_read'\u001b[0m\u001b[0;34m)\u001b[0m\u001b[0;34m.\u001b[0m\u001b[0mtext\u001b[0m\u001b[0;34m.\u001b[0m\u001b[0msplit\u001b[0m\u001b[0;34m(\u001b[0m\u001b[0;34m'관련뉴스'\u001b[0m\u001b[0;34m)\u001b[0m\u001b[0;34m\u001b[0m\u001b[0;34m\u001b[0m\u001b[0m\n\u001b[1;32m     25\u001b[0m             \u001b[0mnews_art\u001b[0m \u001b[0;34m=\u001b[0m \u001b[0mnews_art\u001b[0m\u001b[0;34m[\u001b[0m\u001b[0;36m0\u001b[0m\u001b[0;34m]\u001b[0m\u001b[0;34m\u001b[0m\u001b[0;34m\u001b[0m\u001b[0m\n",
      "\u001b[0;32m/usr/local/lib/python3.7/dist-packages/bs4/__init__.py\u001b[0m in \u001b[0;36m__init__\u001b[0;34m(self, markup, features, builder, parse_only, from_encoding, exclude_encodings, **kwargs)\u001b[0m\n\u001b[1;32m    277\u001b[0m          \u001b[0mself\u001b[0m\u001b[0;34m.\u001b[0m\u001b[0mcontains_replacement_characters\u001b[0m\u001b[0;34m)\u001b[0m \u001b[0;32min\u001b[0m \u001b[0;34m(\u001b[0m\u001b[0;34m\u001b[0m\u001b[0;34m\u001b[0m\u001b[0m\n\u001b[1;32m    278\u001b[0m              self.builder.prepare_markup(\n\u001b[0;32m--> 279\u001b[0;31m                  markup, from_encoding, exclude_encodings=exclude_encodings)):\n\u001b[0m\u001b[1;32m    280\u001b[0m             \u001b[0mself\u001b[0m\u001b[0;34m.\u001b[0m\u001b[0mreset\u001b[0m\u001b[0;34m(\u001b[0m\u001b[0;34m)\u001b[0m\u001b[0;34m\u001b[0m\u001b[0;34m\u001b[0m\u001b[0m\n\u001b[1;32m    281\u001b[0m             \u001b[0;32mtry\u001b[0m\u001b[0;34m:\u001b[0m\u001b[0;34m\u001b[0m\u001b[0;34m\u001b[0m\u001b[0m\n",
      "\u001b[0;32m/usr/local/lib/python3.7/dist-packages/bs4/builder/_lxml.py\u001b[0m in \u001b[0;36mprepare_markup\u001b[0;34m(self, markup, user_specified_encoding, exclude_encodings, document_declared_encoding)\u001b[0m\n\u001b[1;32m    120\u001b[0m         detector = EncodingDetector(\n\u001b[1;32m    121\u001b[0m             markup, try_encodings, is_html, exclude_encodings)\n\u001b[0;32m--> 122\u001b[0;31m         \u001b[0;32mfor\u001b[0m \u001b[0mencoding\u001b[0m \u001b[0;32min\u001b[0m \u001b[0mdetector\u001b[0m\u001b[0;34m.\u001b[0m\u001b[0mencodings\u001b[0m\u001b[0;34m:\u001b[0m\u001b[0;34m\u001b[0m\u001b[0;34m\u001b[0m\u001b[0m\n\u001b[0m\u001b[1;32m    123\u001b[0m             \u001b[0;32myield\u001b[0m \u001b[0;34m(\u001b[0m\u001b[0mdetector\u001b[0m\u001b[0;34m.\u001b[0m\u001b[0mmarkup\u001b[0m\u001b[0;34m,\u001b[0m \u001b[0mencoding\u001b[0m\u001b[0;34m,\u001b[0m \u001b[0mdocument_declared_encoding\u001b[0m\u001b[0;34m,\u001b[0m \u001b[0;32mFalse\u001b[0m\u001b[0;34m)\u001b[0m\u001b[0;34m\u001b[0m\u001b[0;34m\u001b[0m\u001b[0m\n\u001b[1;32m    124\u001b[0m \u001b[0;34m\u001b[0m\u001b[0m\n",
      "\u001b[0;32m/usr/local/lib/python3.7/dist-packages/bs4/dammit.py\u001b[0m in \u001b[0;36mencodings\u001b[0;34m(self)\u001b[0m\n\u001b[1;32m    262\u001b[0m         \u001b[0;31m# encoding.\u001b[0m\u001b[0;34m\u001b[0m\u001b[0;34m\u001b[0m\u001b[0;34m\u001b[0m\u001b[0m\n\u001b[1;32m    263\u001b[0m         \u001b[0;32mif\u001b[0m \u001b[0mself\u001b[0m\u001b[0;34m.\u001b[0m\u001b[0mchardet_encoding\u001b[0m \u001b[0;32mis\u001b[0m \u001b[0;32mNone\u001b[0m\u001b[0;34m:\u001b[0m\u001b[0;34m\u001b[0m\u001b[0;34m\u001b[0m\u001b[0m\n\u001b[0;32m--> 264\u001b[0;31m             \u001b[0mself\u001b[0m\u001b[0;34m.\u001b[0m\u001b[0mchardet_encoding\u001b[0m \u001b[0;34m=\u001b[0m \u001b[0mchardet_dammit\u001b[0m\u001b[0;34m(\u001b[0m\u001b[0mself\u001b[0m\u001b[0;34m.\u001b[0m\u001b[0mmarkup\u001b[0m\u001b[0;34m)\u001b[0m\u001b[0;34m\u001b[0m\u001b[0;34m\u001b[0m\u001b[0m\n\u001b[0m\u001b[1;32m    265\u001b[0m         \u001b[0;32mif\u001b[0m \u001b[0mself\u001b[0m\u001b[0;34m.\u001b[0m\u001b[0m_usable\u001b[0m\u001b[0;34m(\u001b[0m\u001b[0mself\u001b[0m\u001b[0;34m.\u001b[0m\u001b[0mchardet_encoding\u001b[0m\u001b[0;34m,\u001b[0m \u001b[0mtried\u001b[0m\u001b[0;34m)\u001b[0m\u001b[0;34m:\u001b[0m\u001b[0;34m\u001b[0m\u001b[0;34m\u001b[0m\u001b[0m\n\u001b[1;32m    266\u001b[0m             \u001b[0;32myield\u001b[0m \u001b[0mself\u001b[0m\u001b[0;34m.\u001b[0m\u001b[0mchardet_encoding\u001b[0m\u001b[0;34m\u001b[0m\u001b[0;34m\u001b[0m\u001b[0m\n",
      "\u001b[0;32m/usr/local/lib/python3.7/dist-packages/bs4/dammit.py\u001b[0m in \u001b[0;36mchardet_dammit\u001b[0;34m(s)\u001b[0m\n\u001b[1;32m     32\u001b[0m         \u001b[0;32mimport\u001b[0m \u001b[0mchardet\u001b[0m\u001b[0;34m\u001b[0m\u001b[0;34m\u001b[0m\u001b[0m\n\u001b[1;32m     33\u001b[0m         \u001b[0;32mdef\u001b[0m \u001b[0mchardet_dammit\u001b[0m\u001b[0;34m(\u001b[0m\u001b[0ms\u001b[0m\u001b[0;34m)\u001b[0m\u001b[0;34m:\u001b[0m\u001b[0;34m\u001b[0m\u001b[0;34m\u001b[0m\u001b[0m\n\u001b[0;32m---> 34\u001b[0;31m             \u001b[0;32mreturn\u001b[0m \u001b[0mchardet\u001b[0m\u001b[0;34m.\u001b[0m\u001b[0mdetect\u001b[0m\u001b[0;34m(\u001b[0m\u001b[0ms\u001b[0m\u001b[0;34m)\u001b[0m\u001b[0;34m[\u001b[0m\u001b[0;34m'encoding'\u001b[0m\u001b[0;34m]\u001b[0m\u001b[0;34m\u001b[0m\u001b[0;34m\u001b[0m\u001b[0m\n\u001b[0m\u001b[1;32m     35\u001b[0m         \u001b[0;31m#import chardet.constants\u001b[0m\u001b[0;34m\u001b[0m\u001b[0;34m\u001b[0m\u001b[0;34m\u001b[0m\u001b[0m\n\u001b[1;32m     36\u001b[0m         \u001b[0;31m#chardet.constants._debug = 1\u001b[0m\u001b[0;34m\u001b[0m\u001b[0;34m\u001b[0m\u001b[0;34m\u001b[0m\u001b[0m\n",
      "\u001b[0;32m/usr/local/lib/python3.7/dist-packages/chardet/__init__.py\u001b[0m in \u001b[0;36mdetect\u001b[0;34m(byte_str)\u001b[0m\n\u001b[1;32m     36\u001b[0m             \u001b[0mbyte_str\u001b[0m \u001b[0;34m=\u001b[0m \u001b[0mbytearray\u001b[0m\u001b[0;34m(\u001b[0m\u001b[0mbyte_str\u001b[0m\u001b[0;34m)\u001b[0m\u001b[0;34m\u001b[0m\u001b[0;34m\u001b[0m\u001b[0m\n\u001b[1;32m     37\u001b[0m     \u001b[0mdetector\u001b[0m \u001b[0;34m=\u001b[0m \u001b[0mUniversalDetector\u001b[0m\u001b[0;34m(\u001b[0m\u001b[0;34m)\u001b[0m\u001b[0;34m\u001b[0m\u001b[0;34m\u001b[0m\u001b[0m\n\u001b[0;32m---> 38\u001b[0;31m     \u001b[0mdetector\u001b[0m\u001b[0;34m.\u001b[0m\u001b[0mfeed\u001b[0m\u001b[0;34m(\u001b[0m\u001b[0mbyte_str\u001b[0m\u001b[0;34m)\u001b[0m\u001b[0;34m\u001b[0m\u001b[0;34m\u001b[0m\u001b[0m\n\u001b[0m\u001b[1;32m     39\u001b[0m     \u001b[0;32mreturn\u001b[0m \u001b[0mdetector\u001b[0m\u001b[0;34m.\u001b[0m\u001b[0mclose\u001b[0m\u001b[0;34m(\u001b[0m\u001b[0;34m)\u001b[0m\u001b[0;34m\u001b[0m\u001b[0;34m\u001b[0m\u001b[0m\n",
      "\u001b[0;32m/usr/local/lib/python3.7/dist-packages/chardet/universaldetector.py\u001b[0m in \u001b[0;36mfeed\u001b[0;34m(self, byte_str)\u001b[0m\n\u001b[1;32m    209\u001b[0m                 \u001b[0mself\u001b[0m\u001b[0;34m.\u001b[0m\u001b[0m_charset_probers\u001b[0m\u001b[0;34m.\u001b[0m\u001b[0mappend\u001b[0m\u001b[0;34m(\u001b[0m\u001b[0mLatin1Prober\u001b[0m\u001b[0;34m(\u001b[0m\u001b[0;34m)\u001b[0m\u001b[0;34m)\u001b[0m\u001b[0;34m\u001b[0m\u001b[0;34m\u001b[0m\u001b[0m\n\u001b[1;32m    210\u001b[0m             \u001b[0;32mfor\u001b[0m \u001b[0mprober\u001b[0m \u001b[0;32min\u001b[0m \u001b[0mself\u001b[0m\u001b[0;34m.\u001b[0m\u001b[0m_charset_probers\u001b[0m\u001b[0;34m:\u001b[0m\u001b[0;34m\u001b[0m\u001b[0;34m\u001b[0m\u001b[0m\n\u001b[0;32m--> 211\u001b[0;31m                 \u001b[0;32mif\u001b[0m \u001b[0mprober\u001b[0m\u001b[0;34m.\u001b[0m\u001b[0mfeed\u001b[0m\u001b[0;34m(\u001b[0m\u001b[0mbyte_str\u001b[0m\u001b[0;34m)\u001b[0m \u001b[0;34m==\u001b[0m \u001b[0mProbingState\u001b[0m\u001b[0;34m.\u001b[0m\u001b[0mFOUND_IT\u001b[0m\u001b[0;34m:\u001b[0m\u001b[0;34m\u001b[0m\u001b[0;34m\u001b[0m\u001b[0m\n\u001b[0m\u001b[1;32m    212\u001b[0m                     self.result = {'encoding': prober.charset_name,\n\u001b[1;32m    213\u001b[0m                                    \u001b[0;34m'confidence'\u001b[0m\u001b[0;34m:\u001b[0m \u001b[0mprober\u001b[0m\u001b[0;34m.\u001b[0m\u001b[0mget_confidence\u001b[0m\u001b[0;34m(\u001b[0m\u001b[0;34m)\u001b[0m\u001b[0;34m,\u001b[0m\u001b[0;34m\u001b[0m\u001b[0;34m\u001b[0m\u001b[0m\n",
      "\u001b[0;32m/usr/local/lib/python3.7/dist-packages/chardet/charsetgroupprober.py\u001b[0m in \u001b[0;36mfeed\u001b[0;34m(self, byte_str)\u001b[0m\n\u001b[1;32m     69\u001b[0m             \u001b[0;32mif\u001b[0m \u001b[0;32mnot\u001b[0m \u001b[0mprober\u001b[0m\u001b[0;34m.\u001b[0m\u001b[0mactive\u001b[0m\u001b[0;34m:\u001b[0m\u001b[0;34m\u001b[0m\u001b[0;34m\u001b[0m\u001b[0m\n\u001b[1;32m     70\u001b[0m                 \u001b[0;32mcontinue\u001b[0m\u001b[0;34m\u001b[0m\u001b[0;34m\u001b[0m\u001b[0m\n\u001b[0;32m---> 71\u001b[0;31m             \u001b[0mstate\u001b[0m \u001b[0;34m=\u001b[0m \u001b[0mprober\u001b[0m\u001b[0;34m.\u001b[0m\u001b[0mfeed\u001b[0m\u001b[0;34m(\u001b[0m\u001b[0mbyte_str\u001b[0m\u001b[0;34m)\u001b[0m\u001b[0;34m\u001b[0m\u001b[0;34m\u001b[0m\u001b[0m\n\u001b[0m\u001b[1;32m     72\u001b[0m             \u001b[0;32mif\u001b[0m \u001b[0;32mnot\u001b[0m \u001b[0mstate\u001b[0m\u001b[0;34m:\u001b[0m\u001b[0;34m\u001b[0m\u001b[0;34m\u001b[0m\u001b[0m\n\u001b[1;32m     73\u001b[0m                 \u001b[0;32mcontinue\u001b[0m\u001b[0;34m\u001b[0m\u001b[0;34m\u001b[0m\u001b[0m\n",
      "\u001b[0;32m/usr/local/lib/python3.7/dist-packages/chardet/eucjpprober.py\u001b[0m in \u001b[0;36mfeed\u001b[0;34m(self, byte_str)\u001b[0m\n\u001b[1;32m     67\u001b[0m                 \u001b[0;32mbreak\u001b[0m\u001b[0;34m\u001b[0m\u001b[0;34m\u001b[0m\u001b[0m\n\u001b[1;32m     68\u001b[0m             \u001b[0;32melif\u001b[0m \u001b[0mcoding_state\u001b[0m \u001b[0;34m==\u001b[0m \u001b[0mMachineState\u001b[0m\u001b[0;34m.\u001b[0m\u001b[0mSTART\u001b[0m\u001b[0;34m:\u001b[0m\u001b[0;34m\u001b[0m\u001b[0;34m\u001b[0m\u001b[0m\n\u001b[0;32m---> 69\u001b[0;31m                 \u001b[0mchar_len\u001b[0m \u001b[0;34m=\u001b[0m \u001b[0mself\u001b[0m\u001b[0;34m.\u001b[0m\u001b[0mcoding_sm\u001b[0m\u001b[0;34m.\u001b[0m\u001b[0mget_current_charlen\u001b[0m\u001b[0;34m(\u001b[0m\u001b[0;34m)\u001b[0m\u001b[0;34m\u001b[0m\u001b[0;34m\u001b[0m\u001b[0m\n\u001b[0m\u001b[1;32m     70\u001b[0m                 \u001b[0;32mif\u001b[0m \u001b[0mi\u001b[0m \u001b[0;34m==\u001b[0m \u001b[0;36m0\u001b[0m\u001b[0;34m:\u001b[0m\u001b[0;34m\u001b[0m\u001b[0;34m\u001b[0m\u001b[0m\n\u001b[1;32m     71\u001b[0m                     \u001b[0mself\u001b[0m\u001b[0;34m.\u001b[0m\u001b[0m_last_char\u001b[0m\u001b[0;34m[\u001b[0m\u001b[0;36m1\u001b[0m\u001b[0;34m]\u001b[0m \u001b[0;34m=\u001b[0m \u001b[0mbyte_str\u001b[0m\u001b[0;34m[\u001b[0m\u001b[0;36m0\u001b[0m\u001b[0;34m]\u001b[0m\u001b[0;34m\u001b[0m\u001b[0;34m\u001b[0m\u001b[0m\n",
      "\u001b[0;31mKeyboardInterrupt\u001b[0m: "
     ]
    }
   ],
   "source": [
    "stocks = ['097950','271560' ,'000080', '004370', '005300']\n",
    "#stock_list = list((stocks).keys())\n",
    "#code_list = list(stocks.values())\n",
    "\n",
    "#code_list\n",
    "\n",
    "\n",
    "for Stock in stocks:\n",
    "  crawl_news_data(Stock, 1)\n",
    "  \n",
    "\n"
   ]
  },
  {
   "cell_type": "code",
   "execution_count": null,
   "metadata": {
    "id": "J5ubL57Q2qFR"
   },
   "outputs": [],
   "source": []
  }
 ],
 "metadata": {
  "colab": {
   "collapsed_sections": [],
   "name": "crawling(수정).ipynb",
   "provenance": []
  },
  "kernelspec": {
   "display_name": "Python 3 (ipykernel)",
   "language": "python",
   "name": "python3"
  },
  "language_info": {
   "codemirror_mode": {
    "name": "ipython",
    "version": 3
   },
   "file_extension": ".py",
   "mimetype": "text/x-python",
   "name": "python",
   "nbconvert_exporter": "python",
   "pygments_lexer": "ipython3",
   "version": "3.9.7"
  }
 },
 "nbformat": 4,
 "nbformat_minor": 1
}
