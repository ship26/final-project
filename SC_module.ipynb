{
 "cells": [
  {
   "cell_type": "code",
   "execution_count": 5,
   "metadata": {
    "id": "mDvBAAHdPkNM"
   },
   "outputs": [
    {
     "name": "stdout",
     "output_type": "stream",
     "text": [
      "your device is running on cpu now.\n"
     ]
    }
   ],
   "source": [
    "# Package Load and CUDA Setting\n",
    "import pandas as pd\n",
    "pd.options.mode.chained_assignment = None\n",
    "\n",
    "from tqdm.notebook import tqdm\n",
    "\n",
    "# Torch\n",
    "import torch \n",
    "from torch.utils.data import DataLoader, Dataset\n",
    "import torch.optim as optim\n",
    "from torchmetrics import F1Score\n",
    "\n",
    "# Pre-trained ELECTRA\n",
    "from transformers import (ElectraTokenizerFast,\n",
    "                          AutoTokenizer,\n",
    "                          ElectraModel, \n",
    "                          ElectraForSequenceClassification,\n",
    "                          AdamW)\n",
    "                          \n",
    "if torch.cuda.is_available():\n",
    "    device = torch.device(\"cuda\")\n",
    "else:\n",
    "    device = torch.device(\"cpu\")\n",
    "    map_location=torch.device('cpu')\n"
   ]
  },
  {
   "cell_type": "code",
   "execution_count": 6,
   "metadata": {
    "id": "WyeU53t7PPMa"
   },
   "outputs": [],
   "source": [
    "class SentimentClassifier:\n",
    "\n",
    "  LABELS = ['부정', '긍정', '중립',]\n",
    "  ID_LABELS = {idx: key for (idx, key) in enumerate(LABELS)}\n",
    "  DataFrame = pd.DataFrame()\n",
    "\n",
    "  def __init__(self):\n",
    "    #self.df=pd.read_csv(PATH,index_col=0) #추가\n",
    "    self.model = ElectraForSequenceClassification.from_pretrained(\"kykim/electra-kor-base\", problem_type=\"multi_label_classification\", num_labels=3).to(device)\n",
    "    self.model.load_state_dict(torch.load(\"model/0727_koelectra_batch32_lr3e-5.pt\", map_location=device))\n",
    "    self.tokenizer = ElectraTokenizerFast.from_pretrained(\"kykim/electra-kor-base\")\n",
    "    \n",
    "    # print(self.dataset.describe())\n",
    "    return print(f\"Your device is running on {device} now.\")\n",
    "    \n",
    "    \n",
    "  def help(self):\n",
    "    \n",
    "    return print(\"\"\"\n",
    "    1. 클래스 객체 설명 \n",
    "    클래스 객체를 생성하면 transformers로부터 electra-kor-base 모델을 불러온 뒤, 저장된 파일로부터 파라미터 값을 불러옵니다. 또한, 이에 맞는 토크나이저를 함께 불러옵니다. 이 모델과 토크나이저는 클래스 객체 내부에 저장됩니다.\n",
    "    하위폴더 /model에 올바른 이름의 모델이 위치해야 합니다. \n",
    "\n",
    "    2. 클래스 내부 함수 설명\n",
    "      2-1. predict(text) : 문자열 형태로 전달하면 긍정/부정/중립 중 하나의 결과를 제공합니다.\n",
    "      2-2. labeling(DataFrame) : INPUT DATA는 판다스 데이터프레임 형태로 전달합니다. 데이터프레임의 title 컬럼의 문자열들을 감성분석한 결과를 emotion 컬럼에 담아 제공합니다.\n",
    "      2-3. get_DataFrame() : 이 객체를 통해 변환된 데이터프레임을 전달합니다.\n",
    "\n",
    "    \"\"\")\n",
    "\n",
    "  def _get_prediction_input(self, text):\n",
    "    inputs = self.tokenizer(\n",
    "        text, \n",
    "        return_tensors = 'pt',\n",
    "        truncation = True,\n",
    "        #max_length = MAX_LEN,\n",
    "        padding = 'longest',\n",
    "        #pad_to_max_length = True,\n",
    "        add_special_tokens = True\n",
    "        )\n",
    "    \n",
    "    input_ids = inputs['input_ids'][0]\n",
    "    attention_mask = inputs['attention_mask'][0]\n",
    "\n",
    "    return input_ids, attention_mask\n",
    "\n",
    "  def predict(self, text):\n",
    "    input_ids, attention_mask = self._get_prediction_input(text)\n",
    "    y_pred = self.model(input_ids.unsqueeze(0).to(device), attention_mask=attention_mask.unsqueeze(0).to(device))[0]\n",
    "    _, predicted = torch.max(y_pred, 1)\n",
    "    return SentimentClassifier.ID_LABELS[predicted.item()]\n",
    "\n",
    "  def labeling(self, DataFrame):\n",
    "    self.DataFrame = DataFrame\n",
    "    self.DataFrame['emotion'] = self.DataFrame['title'].apply(self.predict)\n",
    "    return self.DataFrame\n",
    "\n",
    "  def get_DataFrame(self):\n",
    "    return self.DataFrame"
   ]
  },
  {
   "cell_type": "code",
   "execution_count": null,
   "metadata": {
    "id": "QnQBZixbX4Ty"
   },
   "outputs": [],
   "source": []
  }
 ],
 "metadata": {
  "accelerator": "GPU",
  "colab": {
   "authorship_tag": "ABX9TyPMkreZDtJouCsll9boxAiK",
   "collapsed_sections": [],
   "mount_file_id": "1tAhvtayQ0hVYXEqMhe2x7f1bB3Tgx1hy",
   "name": "SentimentClassifier.ipynb",
   "provenance": []
  },
  "gpuClass": "standard",
  "kernelspec": {
   "display_name": "Python 3 (ipykernel)",
   "language": "python",
   "name": "python3"
  },
  "language_info": {
   "codemirror_mode": {
    "name": "ipython",
    "version": 3
   },
   "file_extension": ".py",
   "mimetype": "text/x-python",
   "name": "python",
   "nbconvert_exporter": "python",
   "pygments_lexer": "ipython3",
   "version": "3.9.7"
  }
 },
 "nbformat": 4,
 "nbformat_minor": 1
}
